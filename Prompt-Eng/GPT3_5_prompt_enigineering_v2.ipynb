{
  "cells": [
    {
      "cell_type": "markdown",
      "metadata": {
        "id": "tzppSH1PWpCi"
      },
      "source": [
        "# Installing packages"
      ]
    },
    {
      "cell_type": "code",
      "execution_count": null,
      "metadata": {
        "colab": {
          "base_uri": "https://localhost:8080/"
        },
        "id": "yIIFZGgOWkCL",
        "outputId": "0d439560-201e-4ccd-97a1-a523db404ed0"
      },
      "outputs": [
        {
          "name": "stdout",
          "output_type": "stream",
          "text": [
            "\u001b[2K     \u001b[90m━━━━━━━━━━━━━━━━━━━━━━━━━━━━━━━━━━━━━━━━\u001b[0m \u001b[32m220.8/220.8 kB\u001b[0m \u001b[31m2.7 MB/s\u001b[0m eta \u001b[36m0:00:00\u001b[0m\n",
            "\u001b[2K     \u001b[90m━━━━━━━━━━━━━━━━━━━━━━━━━━━━━━━━━━━━━━━━\u001b[0m \u001b[32m75.0/75.0 kB\u001b[0m \u001b[31m4.9 MB/s\u001b[0m eta \u001b[36m0:00:00\u001b[0m\n",
            "\u001b[2K     \u001b[90m━━━━━━━━━━━━━━━━━━━━━━━━━━━━━━━━━━━━━━━━\u001b[0m \u001b[32m76.9/76.9 kB\u001b[0m \u001b[31m4.4 MB/s\u001b[0m eta \u001b[36m0:00:00\u001b[0m\n",
            "\u001b[2K     \u001b[90m━━━━━━━━━━━━━━━━━━━━━━━━━━━━━━━━━━━━━━━━\u001b[0m \u001b[32m58.3/58.3 kB\u001b[0m \u001b[31m4.7 MB/s\u001b[0m eta \u001b[36m0:00:00\u001b[0m\n",
            "\u001b[?25h\u001b[31mERROR: pip's legacy dependency resolver does not consider dependency conflicts when selecting packages. This behaviour is the source of the following dependency conflicts.\n",
            "llmx 0.0.15a0 requires cohere, which is not installed.\n",
            "llmx 0.0.15a0 requires tiktoken, which is not installed.\u001b[0m\u001b[31m\n",
            "\u001b[0m"
          ]
        }
      ],
      "source": [
        "!pip install -q openai --use-deprecated=legacy-resolver"
      ]
    },
    {
      "cell_type": "markdown",
      "metadata": {
        "id": "90URIKTxXSU5"
      },
      "source": [
        "# Importing modules"
      ]
    },
    {
      "cell_type": "code",
      "execution_count": null,
      "metadata": {
        "id": "-O9QmL17XS7w"
      },
      "outputs": [],
      "source": [
        "from openai import OpenAI\n",
        "import time\n",
        "import pandas as pd\n",
        "import os\n",
        "import json\n",
        "from google.colab import drive\n",
        "from tqdm import tqdm\n",
        "from sklearn.metrics import accuracy_score, precision_score, recall_score, f1_score"
      ]
    },
    {
      "cell_type": "code",
      "execution_count": null,
      "metadata": {
        "id": "drrGW5baXV14"
      },
      "outputs": [],
      "source": [
        "client = OpenAI(\n",
        "    # defaults to os.environ.get(\"OPENAI_API_KEY\")\n",
        "    api_key=\"API_KEY\",\n",
        ")"
      ]
    },
    {
      "cell_type": "markdown",
      "metadata": {
        "id": "NcZ4SQjnPtrr"
      },
      "source": [
        "# Google Mounting"
      ]
    },
    {
      "cell_type": "code",
      "execution_count": null,
      "metadata": {
        "colab": {
          "base_uri": "https://localhost:8080/"
        },
        "id": "4V5JUm0vXYdw",
        "outputId": "3a8d3ba1-5407-47a3-ebbd-eaa23fbe5fc1"
      },
      "outputs": [
        {
          "name": "stdout",
          "output_type": "stream",
          "text": [
            "Mounted at /content/drive\n"
          ]
        }
      ],
      "source": [
        "drive.mount('/content/drive')"
      ]
    },
    {
      "cell_type": "code",
      "execution_count": null,
      "metadata": {
        "id": "Na1j8TmwXZ8A"
      },
      "outputs": [],
      "source": [
        "primate_input_df = pd.read_csv('/content/drive/MyDrive/primate_data.csv')"
      ]
    },
    {
      "cell_type": "code",
      "execution_count": null,
      "metadata": {
        "colab": {
          "base_uri": "https://localhost:8080/",
          "height": 831
        },
        "id": "HcSssD4yXlUy",
        "outputId": "1b148358-cc7f-487a-aac6-3e3854dcd7c8"
      },
      "outputs": [
        {
          "data": {
            "text/html": [
              "\n",
              "  <div id=\"df-b40a96a2-ee68-4bca-aca4-f12ebac24612\" class=\"colab-df-container\">\n",
              "    <div>\n",
              "<style scoped>\n",
              "    .dataframe tbody tr th:only-of-type {\n",
              "        vertical-align: middle;\n",
              "    }\n",
              "\n",
              "    .dataframe tbody tr th {\n",
              "        vertical-align: top;\n",
              "    }\n",
              "\n",
              "    .dataframe thead th {\n",
              "        text-align: right;\n",
              "    }\n",
              "</style>\n",
              "<table border=\"1\" class=\"dataframe\">\n",
              "  <thead>\n",
              "    <tr style=\"text-align: right;\">\n",
              "      <th></th>\n",
              "      <th>post_title</th>\n",
              "      <th>post_text</th>\n",
              "      <th>Feeling-bad-about-yourself-or-that-you-are-a-failure-or-have-let-yourself-or-your-family-down</th>\n",
              "      <th>Feeling-down-depressed-or-hopeless</th>\n",
              "      <th>Feeling-tired-or-having-little-energy</th>\n",
              "      <th>Little-interest-or-pleasure-in-doing</th>\n",
              "      <th>Moving-or-speaking-so-slowly-that-other-people-could-have-noticed-Or-the-opposite-being-so-fidgety-or-restless-that-you-have-been-moving-around-a-lot-more-than-usual</th>\n",
              "      <th>Poor-appetite-or-overeating</th>\n",
              "      <th>Thoughts-that-you-would-be-better-off-dead-or-of-hurting-yourself-in-some-way</th>\n",
              "      <th>Trouble-concentrating-on-things-such-as-reading-the-newspaper-or-watching-television</th>\n",
              "      <th>Trouble-falling-or-staying-asleep-or-sleeping-too-much</th>\n",
              "    </tr>\n",
              "  </thead>\n",
              "  <tbody>\n",
              "    <tr>\n",
              "      <th>0</th>\n",
              "      <td>I don't feel original anymore.</td>\n",
              "      <td>When I was in high school a few years back, I ...</td>\n",
              "      <td>1</td>\n",
              "      <td>0.0</td>\n",
              "      <td>1</td>\n",
              "      <td>1</td>\n",
              "      <td>0</td>\n",
              "      <td>0.0</td>\n",
              "      <td>0.0</td>\n",
              "      <td>0.0</td>\n",
              "      <td>0</td>\n",
              "    </tr>\n",
              "    <tr>\n",
              "      <th>1</th>\n",
              "      <td>I don’t have anyone to talk to and I don’t kno...</td>\n",
              "      <td>Nine years ago I was diagnosed with depression...</td>\n",
              "      <td>1</td>\n",
              "      <td>1.0</td>\n",
              "      <td>0</td>\n",
              "      <td>0</td>\n",
              "      <td>1</td>\n",
              "      <td>0.0</td>\n",
              "      <td>0.0</td>\n",
              "      <td>0.0</td>\n",
              "      <td>0</td>\n",
              "    </tr>\n",
              "    <tr>\n",
              "      <th>2</th>\n",
              "      <td>Stuck between moving forward and killing myself</td>\n",
              "      <td>Some background information: My GF of almost 3...</td>\n",
              "      <td>1</td>\n",
              "      <td>1.0</td>\n",
              "      <td>1</td>\n",
              "      <td>1</td>\n",
              "      <td>0</td>\n",
              "      <td>0.0</td>\n",
              "      <td>1.0</td>\n",
              "      <td>0.0</td>\n",
              "      <td>0</td>\n",
              "    </tr>\n",
              "    <tr>\n",
              "      <th>3</th>\n",
              "      <td>I need help on how to help my girlfriend.</td>\n",
              "      <td>My girlfriend ,of about 3 months now ,has been...</td>\n",
              "      <td>1</td>\n",
              "      <td>1.0</td>\n",
              "      <td>0</td>\n",
              "      <td>0</td>\n",
              "      <td>0</td>\n",
              "      <td>0.0</td>\n",
              "      <td>1.0</td>\n",
              "      <td>0.0</td>\n",
              "      <td>0</td>\n",
              "    </tr>\n",
              "    <tr>\n",
              "      <th>4</th>\n",
              "      <td>I've been feeling this way for some tine</td>\n",
              "      <td>I'm alway feeling like this. It doesn't even m...</td>\n",
              "      <td>1</td>\n",
              "      <td>1.0</td>\n",
              "      <td>0</td>\n",
              "      <td>0</td>\n",
              "      <td>0</td>\n",
              "      <td>0.0</td>\n",
              "      <td>0.0</td>\n",
              "      <td>0.0</td>\n",
              "      <td>0</td>\n",
              "    </tr>\n",
              "  </tbody>\n",
              "</table>\n",
              "</div>\n",
              "    <div class=\"colab-df-buttons\">\n",
              "\n",
              "  <div class=\"colab-df-container\">\n",
              "    <button class=\"colab-df-convert\" onclick=\"convertToInteractive('df-b40a96a2-ee68-4bca-aca4-f12ebac24612')\"\n",
              "            title=\"Convert this dataframe to an interactive table.\"\n",
              "            style=\"display:none;\">\n",
              "\n",
              "  <svg xmlns=\"http://www.w3.org/2000/svg\" height=\"24px\" viewBox=\"0 -960 960 960\">\n",
              "    <path d=\"M120-120v-720h720v720H120Zm60-500h600v-160H180v160Zm220 220h160v-160H400v160Zm0 220h160v-160H400v160ZM180-400h160v-160H180v160Zm440 0h160v-160H620v160ZM180-180h160v-160H180v160Zm440 0h160v-160H620v160Z\"/>\n",
              "  </svg>\n",
              "    </button>\n",
              "\n",
              "  <style>\n",
              "    .colab-df-container {\n",
              "      display:flex;\n",
              "      gap: 12px;\n",
              "    }\n",
              "\n",
              "    .colab-df-convert {\n",
              "      background-color: #E8F0FE;\n",
              "      border: none;\n",
              "      border-radius: 50%;\n",
              "      cursor: pointer;\n",
              "      display: none;\n",
              "      fill: #1967D2;\n",
              "      height: 32px;\n",
              "      padding: 0 0 0 0;\n",
              "      width: 32px;\n",
              "    }\n",
              "\n",
              "    .colab-df-convert:hover {\n",
              "      background-color: #E2EBFA;\n",
              "      box-shadow: 0px 1px 2px rgba(60, 64, 67, 0.3), 0px 1px 3px 1px rgba(60, 64, 67, 0.15);\n",
              "      fill: #174EA6;\n",
              "    }\n",
              "\n",
              "    .colab-df-buttons div {\n",
              "      margin-bottom: 4px;\n",
              "    }\n",
              "\n",
              "    [theme=dark] .colab-df-convert {\n",
              "      background-color: #3B4455;\n",
              "      fill: #D2E3FC;\n",
              "    }\n",
              "\n",
              "    [theme=dark] .colab-df-convert:hover {\n",
              "      background-color: #434B5C;\n",
              "      box-shadow: 0px 1px 3px 1px rgba(0, 0, 0, 0.15);\n",
              "      filter: drop-shadow(0px 1px 2px rgba(0, 0, 0, 0.3));\n",
              "      fill: #FFFFFF;\n",
              "    }\n",
              "  </style>\n",
              "\n",
              "    <script>\n",
              "      const buttonEl =\n",
              "        document.querySelector('#df-b40a96a2-ee68-4bca-aca4-f12ebac24612 button.colab-df-convert');\n",
              "      buttonEl.style.display =\n",
              "        google.colab.kernel.accessAllowed ? 'block' : 'none';\n",
              "\n",
              "      async function convertToInteractive(key) {\n",
              "        const element = document.querySelector('#df-b40a96a2-ee68-4bca-aca4-f12ebac24612');\n",
              "        const dataTable =\n",
              "          await google.colab.kernel.invokeFunction('convertToInteractive',\n",
              "                                                    [key], {});\n",
              "        if (!dataTable) return;\n",
              "\n",
              "        const docLinkHtml = 'Like what you see? Visit the ' +\n",
              "          '<a target=\"_blank\" href=https://colab.research.google.com/notebooks/data_table.ipynb>data table notebook</a>'\n",
              "          + ' to learn more about interactive tables.';\n",
              "        element.innerHTML = '';\n",
              "        dataTable['output_type'] = 'display_data';\n",
              "        await google.colab.output.renderOutput(dataTable, element);\n",
              "        const docLink = document.createElement('div');\n",
              "        docLink.innerHTML = docLinkHtml;\n",
              "        element.appendChild(docLink);\n",
              "      }\n",
              "    </script>\n",
              "  </div>\n",
              "\n",
              "\n",
              "<div id=\"df-12633269-d50d-439b-91ff-74eb824a4cf9\">\n",
              "  <button class=\"colab-df-quickchart\" onclick=\"quickchart('df-12633269-d50d-439b-91ff-74eb824a4cf9')\"\n",
              "            title=\"Suggest charts\"\n",
              "            style=\"display:none;\">\n",
              "\n",
              "<svg xmlns=\"http://www.w3.org/2000/svg\" height=\"24px\"viewBox=\"0 0 24 24\"\n",
              "     width=\"24px\">\n",
              "    <g>\n",
              "        <path d=\"M19 3H5c-1.1 0-2 .9-2 2v14c0 1.1.9 2 2 2h14c1.1 0 2-.9 2-2V5c0-1.1-.9-2-2-2zM9 17H7v-7h2v7zm4 0h-2V7h2v10zm4 0h-2v-4h2v4z\"/>\n",
              "    </g>\n",
              "</svg>\n",
              "  </button>\n",
              "\n",
              "<style>\n",
              "  .colab-df-quickchart {\n",
              "      --bg-color: #E8F0FE;\n",
              "      --fill-color: #1967D2;\n",
              "      --hover-bg-color: #E2EBFA;\n",
              "      --hover-fill-color: #174EA6;\n",
              "      --disabled-fill-color: #AAA;\n",
              "      --disabled-bg-color: #DDD;\n",
              "  }\n",
              "\n",
              "  [theme=dark] .colab-df-quickchart {\n",
              "      --bg-color: #3B4455;\n",
              "      --fill-color: #D2E3FC;\n",
              "      --hover-bg-color: #434B5C;\n",
              "      --hover-fill-color: #FFFFFF;\n",
              "      --disabled-bg-color: #3B4455;\n",
              "      --disabled-fill-color: #666;\n",
              "  }\n",
              "\n",
              "  .colab-df-quickchart {\n",
              "    background-color: var(--bg-color);\n",
              "    border: none;\n",
              "    border-radius: 50%;\n",
              "    cursor: pointer;\n",
              "    display: none;\n",
              "    fill: var(--fill-color);\n",
              "    height: 32px;\n",
              "    padding: 0;\n",
              "    width: 32px;\n",
              "  }\n",
              "\n",
              "  .colab-df-quickchart:hover {\n",
              "    background-color: var(--hover-bg-color);\n",
              "    box-shadow: 0 1px 2px rgba(60, 64, 67, 0.3), 0 1px 3px 1px rgba(60, 64, 67, 0.15);\n",
              "    fill: var(--button-hover-fill-color);\n",
              "  }\n",
              "\n",
              "  .colab-df-quickchart-complete:disabled,\n",
              "  .colab-df-quickchart-complete:disabled:hover {\n",
              "    background-color: var(--disabled-bg-color);\n",
              "    fill: var(--disabled-fill-color);\n",
              "    box-shadow: none;\n",
              "  }\n",
              "\n",
              "  .colab-df-spinner {\n",
              "    border: 2px solid var(--fill-color);\n",
              "    border-color: transparent;\n",
              "    border-bottom-color: var(--fill-color);\n",
              "    animation:\n",
              "      spin 1s steps(1) infinite;\n",
              "  }\n",
              "\n",
              "  @keyframes spin {\n",
              "    0% {\n",
              "      border-color: transparent;\n",
              "      border-bottom-color: var(--fill-color);\n",
              "      border-left-color: var(--fill-color);\n",
              "    }\n",
              "    20% {\n",
              "      border-color: transparent;\n",
              "      border-left-color: var(--fill-color);\n",
              "      border-top-color: var(--fill-color);\n",
              "    }\n",
              "    30% {\n",
              "      border-color: transparent;\n",
              "      border-left-color: var(--fill-color);\n",
              "      border-top-color: var(--fill-color);\n",
              "      border-right-color: var(--fill-color);\n",
              "    }\n",
              "    40% {\n",
              "      border-color: transparent;\n",
              "      border-right-color: var(--fill-color);\n",
              "      border-top-color: var(--fill-color);\n",
              "    }\n",
              "    60% {\n",
              "      border-color: transparent;\n",
              "      border-right-color: var(--fill-color);\n",
              "    }\n",
              "    80% {\n",
              "      border-color: transparent;\n",
              "      border-right-color: var(--fill-color);\n",
              "      border-bottom-color: var(--fill-color);\n",
              "    }\n",
              "    90% {\n",
              "      border-color: transparent;\n",
              "      border-bottom-color: var(--fill-color);\n",
              "    }\n",
              "  }\n",
              "</style>\n",
              "\n",
              "  <script>\n",
              "    async function quickchart(key) {\n",
              "      const quickchartButtonEl =\n",
              "        document.querySelector('#' + key + ' button');\n",
              "      quickchartButtonEl.disabled = true;  // To prevent multiple clicks.\n",
              "      quickchartButtonEl.classList.add('colab-df-spinner');\n",
              "      try {\n",
              "        const charts = await google.colab.kernel.invokeFunction(\n",
              "            'suggestCharts', [key], {});\n",
              "      } catch (error) {\n",
              "        console.error('Error during call to suggestCharts:', error);\n",
              "      }\n",
              "      quickchartButtonEl.classList.remove('colab-df-spinner');\n",
              "      quickchartButtonEl.classList.add('colab-df-quickchart-complete');\n",
              "    }\n",
              "    (() => {\n",
              "      let quickchartButtonEl =\n",
              "        document.querySelector('#df-12633269-d50d-439b-91ff-74eb824a4cf9 button');\n",
              "      quickchartButtonEl.style.display =\n",
              "        google.colab.kernel.accessAllowed ? 'block' : 'none';\n",
              "    })();\n",
              "  </script>\n",
              "</div>\n",
              "    </div>\n",
              "  </div>\n"
            ],
            "text/plain": [
              "                                          post_title  \\\n",
              "0                     I don't feel original anymore.   \n",
              "1  I don’t have anyone to talk to and I don’t kno...   \n",
              "2    Stuck between moving forward and killing myself   \n",
              "3          I need help on how to help my girlfriend.   \n",
              "4           I've been feeling this way for some tine   \n",
              "\n",
              "                                           post_text  \\\n",
              "0  When I was in high school a few years back, I ...   \n",
              "1  Nine years ago I was diagnosed with depression...   \n",
              "2  Some background information: My GF of almost 3...   \n",
              "3  My girlfriend ,of about 3 months now ,has been...   \n",
              "4  I'm alway feeling like this. It doesn't even m...   \n",
              "\n",
              "   Feeling-bad-about-yourself-or-that-you-are-a-failure-or-have-let-yourself-or-your-family-down  \\\n",
              "0                                                  1                                               \n",
              "1                                                  1                                               \n",
              "2                                                  1                                               \n",
              "3                                                  1                                               \n",
              "4                                                  1                                               \n",
              "\n",
              "   Feeling-down-depressed-or-hopeless  Feeling-tired-or-having-little-energy  \\\n",
              "0                                 0.0                                      1   \n",
              "1                                 1.0                                      0   \n",
              "2                                 1.0                                      1   \n",
              "3                                 1.0                                      0   \n",
              "4                                 1.0                                      0   \n",
              "\n",
              "   Little-interest-or-pleasure-in-doing   \\\n",
              "0                                      1   \n",
              "1                                      0   \n",
              "2                                      1   \n",
              "3                                      0   \n",
              "4                                      0   \n",
              "\n",
              "   Moving-or-speaking-so-slowly-that-other-people-could-have-noticed-Or-the-opposite-being-so-fidgety-or-restless-that-you-have-been-moving-around-a-lot-more-than-usual  \\\n",
              "0                                                  0                                                                                                                       \n",
              "1                                                  1                                                                                                                       \n",
              "2                                                  0                                                                                                                       \n",
              "3                                                  0                                                                                                                       \n",
              "4                                                  0                                                                                                                       \n",
              "\n",
              "   Poor-appetite-or-overeating  \\\n",
              "0                          0.0   \n",
              "1                          0.0   \n",
              "2                          0.0   \n",
              "3                          0.0   \n",
              "4                          0.0   \n",
              "\n",
              "   Thoughts-that-you-would-be-better-off-dead-or-of-hurting-yourself-in-some-way  \\\n",
              "0                                                0.0                               \n",
              "1                                                0.0                               \n",
              "2                                                1.0                               \n",
              "3                                                1.0                               \n",
              "4                                                0.0                               \n",
              "\n",
              "   Trouble-concentrating-on-things-such-as-reading-the-newspaper-or-watching-television  \\\n",
              "0                                                0.0                                      \n",
              "1                                                0.0                                      \n",
              "2                                                0.0                                      \n",
              "3                                                0.0                                      \n",
              "4                                                0.0                                      \n",
              "\n",
              "   Trouble-falling-or-staying-asleep-or-sleeping-too-much  \n",
              "0                                                  0       \n",
              "1                                                  0       \n",
              "2                                                  0       \n",
              "3                                                  0       \n",
              "4                                                  0       "
            ]
          },
          "execution_count": 9,
          "metadata": {},
          "output_type": "execute_result"
        }
      ],
      "source": [
        "primate_input_df.head()"
      ]
    },
    {
      "cell_type": "markdown",
      "metadata": {
        "id": "sLxvVIwiPx4T"
      },
      "source": [
        "# Task\n",
        "Note: Not all the cells must be runned!"
      ]
    },
    {
      "cell_type": "code",
      "execution_count": null,
      "metadata": {
        "id": "KVnJ9VceXlOf"
      },
      "outputs": [],
      "source": [
        "pre_processed_labels = {\n",
        "    \"Q1\": \"Feeling bad about yourself or that you are a failure or have let yourself or your family down\",\n",
        "    \"Q2\": \"Feeling down depressed or hopeless\",\n",
        "    \"Q3\": \"Feeling tired or having little energy\",\n",
        "    \"Q4\": \"Little interest or pleasure in doing\",\n",
        "    \"Q5\": \"Moving or speaking so slowly that other people could have noticed Or the opposite being so fidgety or restless that you have been moving around a lot more than usual\",\n",
        "    \"Q6\": \"Poor appetite or overeating\",\n",
        "    \"Q7\": \"Thoughts that you would be better off dead or of hurting yourself in some way\",\n",
        "    \"Q8\": \"Trouble concentrating on things such as reading the newspaper or watching television\",\n",
        "    \"Q9\": \"Trouble falling or staying asleep or sleeping too much\"\n",
        "\n",
        "}\n"
      ]
    },
    {
      "cell_type": "code",
      "execution_count": null,
      "metadata": {
        "id": "nEZ272XoXlHO"
      },
      "outputs": [],
      "source": [
        "def get_answer(post_title, post_text, label):\n",
        "  try:\n",
        "    messages = [ {\"role\": \"system\", \"content\": \"You are a intelligent assistant.\"} ]\n",
        "    intro_message = f\"\"\"\n",
        "    I want to collect a dataset for my machine learning task which is related to mental health issues. \\\n",
        "    I have found the PRIMATE dataset which was collected in 2022. \\\n",
        "    The dataset contains 2003 records, of which every record has the below structure: \\\n",
        "      post_title - post_text - Q1 - Q2 - Q3 - Q4 - Q5 - Q6 - Q7 - Q8 - Q9 \\\n",
        "      The post_titles, and post_texts were collected from the Reddit website, \\\n",
        "      and the Q1 to Q9 were some matrices based on the PHQ-9(Patient Health Questionnaire ). \\\n",
        "      The value of the Q1 to Q9 questions can be deduced/known using the content present in the post text and its title. \\\n",
        "      The matrices in order are: \\\n",
        "      1. Feeling bad about yourself or that you are a failure or have let yourself or your family down \\\n",
        "      2. Feeling down depressed or hopeless \\\n",
        "      3. Feeling tired or having little energy \\\n",
        "      4. Little interest or pleasure in doing \\\n",
        "      5. Moving or speaking so slowly that other people could have noticed Or the opposite being so fidgety or restless that you have been moving around a lot more than usual \\\n",
        "      6. Poor appetite or overeating \\\n",
        "      7. Thoughts that you would be better off dead or of hurting yourself in some way \\\n",
        "      8. Trouble concentrating on things such as reading the newspaper or watching television \\\n",
        "      9. Trouble falling or staying asleep or sleeping too much \\\n",
        "\n",
        "      I will give the post title with its post text and a label which are delimited by triple backticks. \\\n",
        "      But I want from you to tell me whether the given label(question) would be yes or no by your own inferring. \\\n",
        "      For inferring, and generating the appropriate reason please also take a glance through post title. \\\n",
        "      If the post text does not contain enought information about one of this metrices just label it with \"no\". \\\n",
        "      If the post text or post title contains some ilegal problems please ignore them as you can. \\\n",
        "      Since I am just trying to compare your outputs with the output of downloaded dataset. \\\n",
        "      Provide your answer for the given data in JSON format with the following keys: \\\n",
        "      label, value, post_title, reason.\n",
        "\n",
        "      This is the given post title: ```{post_title}```, this is the post text: ```{post_text}```, and this is the label: ```{label}```.\n",
        "    \"\"\"\n",
        "    messages.append( {\"role\": \"user\", \"content\": intro_message}, )\n",
        "    chat = client.chat.completions.create( model=\"gpt-3.5-turbo-0613\", messages=messages )\n",
        "    reply = chat.choices[0].message.content\n",
        "    return True, reply\n",
        "\n",
        "  except Exception as e:\n",
        "    return False, e"
      ]
    },
    {
      "cell_type": "code",
      "execution_count": null,
      "metadata": {
        "id": "RkEiYtbFZnEQ"
      },
      "outputs": [],
      "source": [
        "def get_answer_2305_08377(post_title, post_text, label):\n",
        "  try:\n",
        "    messages = [\n",
        "                {\"role\": \"system\", \"content\": \"You are a helpful assistant.\"},\n",
        "                {\"role\": \"user\", \"content\": \"Hello, assistant.\"},\n",
        "                {\"role\": \"assistant\", \"content\": \"Hello! How can I assist you today?\"},\n",
        "                {\"role\": \"user\", \"content\": \"Classify this post for the given post label. Your answer must be only a JSON object with no further explanations.\"}\n",
        "              ]\n",
        "    intro_message = f\"\"\"\n",
        "    This is a text classification task.\n",
        "    I have collected a dataset for my machine learning task which is related to mental health issues. \\\n",
        "    I have found the PRIMATE dataset which was collected in 2022. \\\n",
        "    The dataset contains 2003 records, of which every record has the below structure: \\\n",
        "      post_title - post_text - Q1 - Q2 - Q3 - Q4 - Q5 - Q6 - Q7 - Q8 - Q9 \\\n",
        "      The post_titles, and post_texts were collected from the Reddit website, \\\n",
        "      and the Q1 to Q9 were some matrices based on the PHQ-9(Patient Health Questionnaire ). \\\n",
        "      The value of the Q1 to Q9 questions can be deduced/known using the content present in the post text and its title. \\\n",
        "      The matrices in order are: \\\n",
        "      1. Feeling bad about yourself or that you are a failure or have let yourself or your family down \\\n",
        "      2. Feeling down depressed or hopeless \\\n",
        "      3. Feeling tired or having little energy \\\n",
        "      4. Little interest or pleasure in doing \\\n",
        "      5. Moving or speaking so slowly that other people could have noticed Or the opposite being so fidgety or restless that you have been moving around a lot more than usual \\\n",
        "      6. Poor appetite or overeating \\\n",
        "      7. Thoughts that you would be better off dead or of hurting yourself in some way \\\n",
        "      8. Trouble concentrating on things such as reading the newspaper or watching television \\\n",
        "      9. Trouble falling or staying asleep or sleeping too much \\\n",
        "\n",
        "      I will give the post title with its post text and a label which are delimited by triple backticks. \\\n",
        "      But I want from you to tell me whether the given label(question) would be yes or no by your own inferring. \\\n",
        "\n",
        "      First, detect CLUES (i.e., keywords, phrases, contextual informations) that support the label determination of input.\n",
        "      Second, deduce the diagnostic REASONING process from premises (i.e., clues, post text, post title, label) that supports the INPUT\n",
        "      label determination (Limit the number of words to 100).\n",
        "      Third, based on clues, reasoning and input, determine whether the given label(question) would be yes or no for the given inputs.\n",
        "      If the post text or post title contains some ilegal problems please ignore them as you can. \\\n",
        "      Since I am just trying to compare your outputs with the output of downloaded dataset. \\\n",
        "      Provide your answer for the given data in JSON format with the following keys: \\\n",
        "      label, value(yes/no), post_title, CLUEs.\n",
        "\n",
        "      This is the given post title: ```{post_title}```, this is the post text: ```{post_text}```, and this is the label: ```{label}```.\n",
        "    \"\"\"\n",
        "    messages.append( {\"role\": \"user\", \"content\": intro_message}, )\n",
        "    chat = client.chat.completions.create( model=\"gpt-3.5-turbo-0613\", messages=messages )\n",
        "    reply = chat.choices[0].message.content\n",
        "    return True, reply\n",
        "\n",
        "  except Exception as e:\n",
        "    return False, e"
      ]
    },
    {
      "cell_type": "markdown",
      "metadata": {
        "id": "xb1cX72gWU0u"
      },
      "source": [
        "Only for one sample, and one label"
      ]
    },
    {
      "cell_type": "code",
      "execution_count": null,
      "metadata": {
        "colab": {
          "base_uri": "https://localhost:8080/"
        },
        "id": "QDZuVJwBcYPl",
        "outputId": "f2847890-888c-4b22-90dd-ec78aabf0ee4"
      },
      "outputs": [
        {
          "name": "stdout",
          "output_type": "stream",
          "text": [
            "The result is: True and {\n",
            "  \"label\": \"Feeling bad about yourself or that you are a failure or have let yourself or your family down\",\n",
            "  \"value\": \"yes\",\n",
            "  \"post_title\": \"I don't feel original anymore.\",\n",
            "  \"CLUEs\": [\"high school band\", \"highest competitors\", \"straight academics\", \"exercised daily\", \"enlisted in the military\", \"worst decisions\", \"motivated\", \"patriot\", \"set myself up for success\", \"set myself up financially\", \"no happiness\", \"no honor\", \"not progressing anywhere\", \"replaceable\", \"going back home\", \"closer to my family\", \"nothing here satisfies me\", \"tried everything to be happy\", \"wish somebody could help\"]\n",
            "}\n",
            "{'label': 'Feeling bad about yourself or that you are a failure or have let yourself or your family down', 'value': 'yes', 'post_title': \"I don't feel original anymore.\", 'CLUEs': ['high school band', 'highest competitors', 'straight academics', 'exercised daily', 'enlisted in the military', 'worst decisions', 'motivated', 'patriot', 'set myself up for success', 'set myself up financially', 'no happiness', 'no honor', 'not progressing anywhere', 'replaceable', 'going back home', 'closer to my family', 'nothing here satisfies me', 'tried everything to be happy', 'wish somebody could help']}\n"
          ]
        }
      ],
      "source": [
        "first_row = df.iloc[0]\n",
        "boolean, gpt_answer = get_answer_2305_08377(first_row['post_title'], first_row['post_text'], pre_processed_labels[0])\n",
        "print(f\"The result is: {boolean} and {gpt_answer}\")\n",
        "if boolean:\n",
        "  load_gpt_ans_to_json = json.loads(gpt_answer)\n",
        "  print(load_gpt_ans_to_json)\n",
        "  # dump_gpt_ans = json.dumps(load_gpt_ans, indent=2)\n",
        "  # print(dump_gpt_ans)\n",
        "  result = {\n",
        "      \"bool\": boolean,\n",
        "      \"json\": load_gpt_ans_to_json\n",
        "  }\n",
        "\n",
        "if not boolean:\n",
        "  result = {\n",
        "      \"bool\": boolean,\n",
        "      \"error\": gpt_answer\n",
        "  }\n",
        "# Create a new JSON file for each iteration\n",
        "file_path = f\"gpt_result_1:21.json\"  # Customize the file name as desired\n",
        "\n",
        "with open(file_path, \"w\") as json_file:\n",
        "    json.dump(result, json_file, indent=2)"
      ]
    },
    {
      "cell_type": "markdown",
      "metadata": {
        "id": "T8mcoSfQnUyL"
      },
      "source": [
        "## First 10 rows"
      ]
    },
    {
      "cell_type": "code",
      "execution_count": null,
      "metadata": {
        "id": "_OkOpoz1oSTV"
      },
      "outputs": [],
      "source": [
        "columns = ['post_title', 'label', 'value']\n",
        "\n",
        "# Create an empty DataFrame\n",
        "first_ten_df = pd.DataFrame(columns=columns)"
      ]
    },
    {
      "cell_type": "code",
      "execution_count": null,
      "metadata": {
        "colab": {
          "base_uri": "https://localhost:8080/"
        },
        "id": "KDDNKjyDrtCk",
        "outputId": "a88e608a-523c-4d46-a310-5ea8a57e101d"
      },
      "outputs": [
        {
          "name": "stdout",
          "output_type": "stream",
          "text": [
            "Empty DataFrame\n",
            "Columns: [post_title, label, value]\n",
            "Index: []\n"
          ]
        }
      ],
      "source": [
        "print(first_ten_df)"
      ]
    },
    {
      "cell_type": "code",
      "execution_count": null,
      "metadata": {
        "colab": {
          "base_uri": "https://localhost:8080/"
        },
        "id": "6AGePyVVnGzw",
        "outputId": "5f295a3e-9bc5-4f21-a3c2-18374422e672"
      },
      "outputs": [
        {
          "name": "stderr",
          "output_type": "stream",
          "text": [
            "Processing Rows:   0%|          | 0/36 [00:09<?, ?it/s]\n",
            "<ipython-input-13-bd1d209dfd18>:22: FutureWarning: The frame.append method is deprecated and will be removed from pandas in a future version. Use pandas.concat instead.\n",
            "  first_ten_df = first_ten_df.append({\n",
            "Processing Rows:   3%|▎         | 1/36 [00:14<08:21, 14.33s/it]"
          ]
        },
        {
          "name": "stdout",
          "output_type": "stream",
          "text": [
            "The result is: True and {\n",
            "  \"label\": \"Feeling bad about yourself or that you are a failure or have let yourself or your family down\",\n",
            "  \"value\": \"yes\",\n",
            "  \"post_title\": \"This is me finally talking about “it”.\",\n",
            "  \"CLUEs\": [\n",
            "    \"wish he could open up and tell me how he’s feeling\",\n",
            "    \"wish he could cry with me\",\n",
            "    \"We make love and make memories and we shine\",\n",
            "    \"depression isn’t something that can just be fixed\"\n",
            "  ]\n",
            "}\n",
            "{'label': 'Feeling bad about yourself or that you are a failure or have let yourself or your family down', 'value': 'yes', 'post_title': 'This is me finally talking about “it”.', 'CLUEs': ['wish he could open up and tell me how he’s feeling', 'wish he could cry with me', 'We make love and make memories and we shine', 'depression isn’t something that can just be fixed']}\n"
          ]
        },
        {
          "name": "stderr",
          "output_type": "stream",
          "text": [
            "<ipython-input-13-bd1d209dfd18>:22: FutureWarning: The frame.append method is deprecated and will be removed from pandas in a future version. Use pandas.concat instead.\n",
            "  first_ten_df = first_ten_df.append({\n",
            "\rProcessing Rows:   6%|▌         | 2/36 [00:21<05:36,  9.91s/it]"
          ]
        },
        {
          "name": "stdout",
          "output_type": "stream",
          "text": [
            "The result is: True and {\n",
            "  \"label\": \"Feeling down depressed or hopeless\",\n",
            "  \"value\": \"Yes\",\n",
            "  \"post_title\": \"This is me finally talking about \\\"it\\\".\",\n",
            "  \"CLUEs\": [\n",
            "    \"dark days\",\n",
            "    \"mood is self-described as \\\"blah\\\"\",\n",
            "    \"not feeling well\",\n",
            "    \"house feels tight\",\n",
            "    \"fight them\"\n",
            "  ]\n",
            "}\n",
            "{'label': 'Feeling down depressed or hopeless', 'value': 'Yes', 'post_title': 'This is me finally talking about \"it\".', 'CLUEs': ['dark days', 'mood is self-described as \"blah\"', 'not feeling well', 'house feels tight', 'fight them']}\n"
          ]
        },
        {
          "name": "stderr",
          "output_type": "stream",
          "text": [
            "<ipython-input-13-bd1d209dfd18>:22: FutureWarning: The frame.append method is deprecated and will be removed from pandas in a future version. Use pandas.concat instead.\n",
            "  first_ten_df = first_ten_df.append({\n",
            "\rProcessing Rows:   8%|▊         | 3/36 [00:32<05:56, 10.80s/it]"
          ]
        },
        {
          "name": "stdout",
          "output_type": "stream",
          "text": [
            "The result is: True and {\"label\": \"Feeling tired or having little energy\", \"value\": \"yes\", \"post_title\": \"This is me finally talking about “it”.\", \"CLUEs\": [\"dark days\", \"self-described as “blah”\", \"depression\", \"mood\", \"not feeling well\", \"rest\", \"house feels tight\", \"broken emotions\", \"iron love\", \"dark, cold days\"]}\n",
            "{'label': 'Feeling tired or having little energy', 'value': 'yes', 'post_title': 'This is me finally talking about “it”.', 'CLUEs': ['dark days', 'self-described as “blah”', 'depression', 'mood', 'not feeling well', 'rest', 'house feels tight', 'broken emotions', 'iron love', 'dark, cold days']}\n"
          ]
        },
        {
          "name": "stderr",
          "output_type": "stream",
          "text": [
            "<ipython-input-13-bd1d209dfd18>:22: FutureWarning: The frame.append method is deprecated and will be removed from pandas in a future version. Use pandas.concat instead.\n",
            "  first_ten_df = first_ten_df.append({\n",
            "\rProcessing Rows:  11%|█         | 4/36 [00:44<05:48, 10.88s/it]"
          ]
        },
        {
          "name": "stdout",
          "output_type": "stream",
          "text": [
            "The result is: True and {\n",
            "  \"label\": \"Little interest or pleasure in doing\",\n",
            "  \"value\": \"yes\",\n",
            "  \"post_title\": \"This is me finally talking about “it”.\",\n",
            "  \"CLUEs\": [\"dark days\", \"blah\", \"not feeling well\", \"house feels tight\", \"fight through\", \"broken emotions\", \"iron love\", \"dark, cold days\"]\n",
            "}\n",
            "{'label': 'Little interest or pleasure in doing', 'value': 'yes', 'post_title': 'This is me finally talking about “it”.', 'CLUEs': ['dark days', 'blah', 'not feeling well', 'house feels tight', 'fight through', 'broken emotions', 'iron love', 'dark, cold days']}\n"
          ]
        },
        {
          "name": "stderr",
          "output_type": "stream",
          "text": [
            "<ipython-input-13-bd1d209dfd18>:22: FutureWarning: The frame.append method is deprecated and will be removed from pandas in a future version. Use pandas.concat instead.\n",
            "  first_ten_df = first_ten_df.append({\n",
            "\rProcessing Rows:  14%|█▍        | 5/36 [00:54<05:38, 10.91s/it]"
          ]
        },
        {
          "name": "stdout",
          "output_type": "stream",
          "text": [
            "The result is: True and {\n",
            "  \"label\": \"Moving or speaking so slowly that other people could have noticed Or the opposite being so fidgety or restless that you have been moving around a lot more than usual\",\n",
            "  \"value\": \"no\",\n",
            "  \"post_title\": \"This is me finally talking about 'it'.\",\n",
            "  \"CLUEs\": [\"husband has depression\", \"we don't talk about it\"]\n",
            "}\n",
            "{'label': 'Moving or speaking so slowly that other people could have noticed Or the opposite being so fidgety or restless that you have been moving around a lot more than usual', 'value': 'no', 'post_title': \"This is me finally talking about 'it'.\", 'CLUEs': ['husband has depression', \"we don't talk about it\"]}\n"
          ]
        },
        {
          "name": "stderr",
          "output_type": "stream",
          "text": [
            "<ipython-input-13-bd1d209dfd18>:22: FutureWarning: The frame.append method is deprecated and will be removed from pandas in a future version. Use pandas.concat instead.\n",
            "  first_ten_df = first_ten_df.append({\n",
            "\rProcessing Rows:  17%|█▋        | 6/36 [01:05<05:19, 10.66s/it]"
          ]
        },
        {
          "name": "stdout",
          "output_type": "stream",
          "text": [
            "The result is: True and {\n",
            "  \"label\": \"Poor appetite or overeating\",\n",
            "  \"value\": \"no\",\n",
            "  \"post_title\": \"This is me finally talking about “it”.\",\n",
            "  \"CLUEs\": [\"dark days\", \"blah\", \"he isn't feeling well\", \"rest\", \"good days\", \"great months\", \"broken emotions\", \"iron love\", \"dark, cold days\", \"fairytale\"]\n",
            "}\n",
            "{'label': 'Poor appetite or overeating', 'value': 'no', 'post_title': 'This is me finally talking about “it”.', 'CLUEs': ['dark days', 'blah', \"he isn't feeling well\", 'rest', 'good days', 'great months', 'broken emotions', 'iron love', 'dark, cold days', 'fairytale']}\n"
          ]
        },
        {
          "name": "stderr",
          "output_type": "stream",
          "text": [
            "<ipython-input-13-bd1d209dfd18>:22: FutureWarning: The frame.append method is deprecated and will be removed from pandas in a future version. Use pandas.concat instead.\n",
            "  first_ten_df = first_ten_df.append({\n",
            "\rProcessing Rows:  19%|█▉        | 7/36 [01:16<05:15, 10.87s/it]"
          ]
        },
        {
          "name": "stdout",
          "output_type": "stream",
          "text": [
            "The result is: True and {\n",
            "  \"label\": \"Thoughts that you would be better off dead or of hurting yourself in some way\",\n",
            "  \"value\": \"No\",\n",
            "  \"post_title\": \"This is me finally talking about “it”.\",\n",
            "  \"CLUEs\": [\"dark days\", \"blah\", \"rest\", \"fight\", \"good days\", \"great months\", \"make love\", \"make memories\", \"shine\", \"hero\", \"fairytale\"]\n",
            "}\n",
            "{'label': 'Thoughts that you would be better off dead or of hurting yourself in some way', 'value': 'No', 'post_title': 'This is me finally talking about “it”.', 'CLUEs': ['dark days', 'blah', 'rest', 'fight', 'good days', 'great months', 'make love', 'make memories', 'shine', 'hero', 'fairytale']}\n"
          ]
        },
        {
          "name": "stderr",
          "output_type": "stream",
          "text": [
            "<ipython-input-13-bd1d209dfd18>:22: FutureWarning: The frame.append method is deprecated and will be removed from pandas in a future version. Use pandas.concat instead.\n",
            "  first_ten_df = first_ten_df.append({\n",
            "\rProcessing Rows:  22%|██▏       | 8/36 [01:24<04:35,  9.84s/it]"
          ]
        },
        {
          "name": "stdout",
          "output_type": "stream",
          "text": [
            "The result is: True and {\n",
            "  \"label\": \"Trouble concentrating on things such as reading the newspaper or watching television\",\n",
            "  \"value\": \"Yes\",\n",
            "  \"post_title\": \"This is me finally talking about “it”.\",\n",
            "  \"CLUEs\": [\"reading\", \"newspaper\", \"watching television\"]\n",
            "}\n",
            "{'label': 'Trouble concentrating on things such as reading the newspaper or watching television', 'value': 'Yes', 'post_title': 'This is me finally talking about “it”.', 'CLUEs': ['reading', 'newspaper', 'watching television']}\n"
          ]
        },
        {
          "name": "stderr",
          "output_type": "stream",
          "text": [
            "<ipython-input-13-bd1d209dfd18>:22: FutureWarning: The frame.append method is deprecated and will be removed from pandas in a future version. Use pandas.concat instead.\n",
            "  first_ten_df = first_ten_df.append({\n",
            "\rProcessing Rows:  25%|██▌       | 9/36 [01:35<04:35, 10.20s/it]"
          ]
        },
        {
          "name": "stdout",
          "output_type": "stream",
          "text": [
            "The result is: True and {\n",
            "  \"label\": \"Trouble falling or staying asleep or sleeping too much\",\n",
            "  \"value\": \"yes\",\n",
            "  \"post_title\": \"This is me finally talking about “it”.\",\n",
            "  \"CLUEs\": [\n",
            "    \"dark days\",\n",
            "    \"rest\",\n",
            "    \"sleep\",\n",
            "    \"asleep\",\n",
            "    \"staying\",\n",
            "    \"too much\"\n",
            "  ]\n",
            "}\n",
            "{'label': 'Trouble falling or staying asleep or sleeping too much', 'value': 'yes', 'post_title': 'This is me finally talking about “it”.', 'CLUEs': ['dark days', 'rest', 'sleep', 'asleep', 'staying', 'too much']}\n"
          ]
        },
        {
          "name": "stderr",
          "output_type": "stream",
          "text": [
            "<ipython-input-13-bd1d209dfd18>:22: FutureWarning: The frame.append method is deprecated and will be removed from pandas in a future version. Use pandas.concat instead.\n",
            "  first_ten_df = first_ten_df.append({\n",
            "\rProcessing Rows:  28%|██▊       | 10/36 [01:42<04:04,  9.42s/it]"
          ]
        },
        {
          "name": "stdout",
          "output_type": "stream",
          "text": [
            "The result is: True and {\n",
            "  \"label\": \"Feeling bad about yourself or that you are a failure or have let yourself or your family down\",\n",
            "  \"value\": \"yes\",\n",
            "  \"post_title\": \"Things to say to ppl\",\n",
            "  \"CLUEs\": [\"depressive episode\", \"ignored all messages\", \"no work\", \"everyone thinks I'm dead\", \"never told anyone about my depression\", \"get into any classes\", \"make a fuss\", \"what to do\"]\n",
            "}\n",
            "{'label': 'Feeling bad about yourself or that you are a failure or have let yourself or your family down', 'value': 'yes', 'post_title': 'Things to say to ppl', 'CLUEs': ['depressive episode', 'ignored all messages', 'no work', \"everyone thinks I'm dead\", 'never told anyone about my depression', 'get into any classes', 'make a fuss', 'what to do']}\n"
          ]
        },
        {
          "name": "stderr",
          "output_type": "stream",
          "text": [
            "<ipython-input-13-bd1d209dfd18>:22: FutureWarning: The frame.append method is deprecated and will be removed from pandas in a future version. Use pandas.concat instead.\n",
            "  first_ten_df = first_ten_df.append({\n",
            "\rProcessing Rows:  31%|███       | 11/36 [01:50<03:42,  8.92s/it]"
          ]
        },
        {
          "name": "stdout",
          "output_type": "stream",
          "text": [
            "The result is: True and {\n",
            "  \"label\": \"Feeling down depressed or hopeless\",\n",
            "  \"value\": \"yes\",\n",
            "  \"post_title\": \"Things to say to ppl\",\n",
            "  \"CLUEs\": [\"depressive episode\", \"ignored all messages\", \"no work\", \"depression\"]\n",
            "}\n",
            "{'label': 'Feeling down depressed or hopeless', 'value': 'yes', 'post_title': 'Things to say to ppl', 'CLUEs': ['depressive episode', 'ignored all messages', 'no work', 'depression']}\n"
          ]
        },
        {
          "name": "stderr",
          "output_type": "stream",
          "text": [
            "<ipython-input-13-bd1d209dfd18>:22: FutureWarning: The frame.append method is deprecated and will be removed from pandas in a future version. Use pandas.concat instead.\n",
            "  first_ten_df = first_ten_df.append({\n",
            "\rProcessing Rows:  33%|███▎      | 12/36 [02:01<03:49,  9.58s/it]"
          ]
        },
        {
          "name": "stdout",
          "output_type": "stream",
          "text": [
            "The result is: True and {\n",
            "  \"label\": \"Feeling tired or having little energy\",\n",
            "  \"value\": \"yes\",\n",
            "  \"post_title\": \"Things to say to ppl\",\n",
            "  \"CLUEs\": [\"month long depressive episode\", \"not been to college\", \"ignored all messages\", \"done no work\", \"everyone thinks I'm dead\", \"haven't told anyone about my depression\", \"don't know how to get into classes\", \"thinking of saying I was ill\"]\n",
            "}\n",
            "{'label': 'Feeling tired or having little energy', 'value': 'yes', 'post_title': 'Things to say to ppl', 'CLUEs': ['month long depressive episode', 'not been to college', 'ignored all messages', 'done no work', \"everyone thinks I'm dead\", \"haven't told anyone about my depression\", \"don't know how to get into classes\", 'thinking of saying I was ill']}\n"
          ]
        },
        {
          "name": "stderr",
          "output_type": "stream",
          "text": [
            "<ipython-input-13-bd1d209dfd18>:22: FutureWarning: The frame.append method is deprecated and will be removed from pandas in a future version. Use pandas.concat instead.\n",
            "  first_ten_df = first_ten_df.append({\n",
            "\rProcessing Rows:  36%|███▌      | 13/36 [02:09<03:31,  9.21s/it]"
          ]
        },
        {
          "name": "stdout",
          "output_type": "stream",
          "text": [
            "The result is: True and {\n",
            "   \"label\": \"Little interest or pleasure in doing\",\n",
            "   \"value\": \"yes\",\n",
            "   \"post_title\": \"Things to say to ppl\",\n",
            "   \"CLUEs\": [\"month long depressive episode\", \"not been to college since it started\", \"ignored all messages\", \"done no work\", \"everyone thinks I'm dead\", \"never told anyone about my depression\", \"don't know how to get into any classes\"]\n",
            "}\n",
            "{'label': 'Little interest or pleasure in doing', 'value': 'yes', 'post_title': 'Things to say to ppl', 'CLUEs': ['month long depressive episode', 'not been to college since it started', 'ignored all messages', 'done no work', \"everyone thinks I'm dead\", 'never told anyone about my depression', \"don't know how to get into any classes\"]}\n"
          ]
        },
        {
          "name": "stderr",
          "output_type": "stream",
          "text": [
            "<ipython-input-13-bd1d209dfd18>:22: FutureWarning: The frame.append method is deprecated and will be removed from pandas in a future version. Use pandas.concat instead.\n",
            "  first_ten_df = first_ten_df.append({\n",
            "\rProcessing Rows:  39%|███▉      | 14/36 [02:25<04:04, 11.10s/it]"
          ]
        },
        {
          "name": "stdout",
          "output_type": "stream",
          "text": [
            "The result is: True and {\n",
            "  \"label\": \"Moving or speaking so slowly that other people could have noticed Or the opposite being so fidgety or restless that you have been moving around a lot more than usual\",\n",
            "  \"value\": \"yes\",\n",
            "  \"post_title\": \"Things to say to ppl\",\n",
            "  \"CLUEs\": [\"month long depressive episode\", \"not been to college since it started\", \"ignored all messages\", \"no work\", \"everyone thinks I'm dead\", \"never told anyone about my depression\", \"how to get into any classes\", \"hate most of them\", \"used that so many times\", \"don't know what to say\"]\n",
            "}\n",
            "{'label': 'Moving or speaking so slowly that other people could have noticed Or the opposite being so fidgety or restless that you have been moving around a lot more than usual', 'value': 'yes', 'post_title': 'Things to say to ppl', 'CLUEs': ['month long depressive episode', 'not been to college since it started', 'ignored all messages', 'no work', \"everyone thinks I'm dead\", 'never told anyone about my depression', 'how to get into any classes', 'hate most of them', 'used that so many times', \"don't know what to say\"]}\n"
          ]
        },
        {
          "name": "stderr",
          "output_type": "stream",
          "text": [
            "<ipython-input-13-bd1d209dfd18>:22: FutureWarning: The frame.append method is deprecated and will be removed from pandas in a future version. Use pandas.concat instead.\n",
            "  first_ten_df = first_ten_df.append({\n",
            "\rProcessing Rows:  42%|████▏     | 15/36 [02:31<03:21,  9.60s/it]"
          ]
        },
        {
          "name": "stdout",
          "output_type": "stream",
          "text": [
            "The result is: True and {\n",
            "  \"label\": \"Poor appetite or overeating\",\n",
            "  \"value\": \"no\",\n",
            "  \"post_title\": \"Things to say to ppl\",\n",
            "  \"CLUEs\": [\"ill\", \"used that so many times\", \"what to say\"]\n",
            "}\n",
            "{'label': 'Poor appetite or overeating', 'value': 'no', 'post_title': 'Things to say to ppl', 'CLUEs': ['ill', 'used that so many times', 'what to say']}\n"
          ]
        },
        {
          "name": "stderr",
          "output_type": "stream",
          "text": [
            "<ipython-input-13-bd1d209dfd18>:22: FutureWarning: The frame.append method is deprecated and will be removed from pandas in a future version. Use pandas.concat instead.\n",
            "  first_ten_df = first_ten_df.append({\n",
            "\rProcessing Rows:  44%|████▍     | 16/36 [02:42<03:19,  9.97s/it]"
          ]
        },
        {
          "name": "stdout",
          "output_type": "stream",
          "text": [
            "The result is: True and {\n",
            "  \"label\": \"Thoughts that you would be better off dead or of hurting yourself in some way\",\n",
            "  \"value\": \"no\",\n",
            "  \"post_title\": \"Things to say to ppl\",\n",
            "  \"CLUEs\": [\"month long depressive episode\", \"ignored all messages\", \"done no work\", \"everyone thinks I'm dead\", \"never told anyone about my depression\", \"hate most of the classes\", \"what to say\"]\n",
            "}\n",
            "{'label': 'Thoughts that you would be better off dead or of hurting yourself in some way', 'value': 'no', 'post_title': 'Things to say to ppl', 'CLUEs': ['month long depressive episode', 'ignored all messages', 'done no work', \"everyone thinks I'm dead\", 'never told anyone about my depression', 'hate most of the classes', 'what to say']}\n"
          ]
        },
        {
          "name": "stderr",
          "output_type": "stream",
          "text": [
            "<ipython-input-13-bd1d209dfd18>:22: FutureWarning: The frame.append method is deprecated and will be removed from pandas in a future version. Use pandas.concat instead.\n",
            "  first_ten_df = first_ten_df.append({\n",
            "\rProcessing Rows:  47%|████▋     | 17/36 [02:48<02:44,  8.66s/it]"
          ]
        },
        {
          "name": "stdout",
          "output_type": "stream",
          "text": [
            "The result is: True and {\n",
            "  \"label\": \"Trouble concentrating on things such as reading the newspaper or watching television\",\n",
            "  \"value\": \"yes\",\n",
            "  \"post_title\": \"Things to say to ppl\",\n",
            "  \"CLUEs\": [\"ignored all messages\", \"done no work\", \"never told anyone about my depression\", \"don't know what to say\"]\n",
            "}\n",
            "{'label': 'Trouble concentrating on things such as reading the newspaper or watching television', 'value': 'yes', 'post_title': 'Things to say to ppl', 'CLUEs': ['ignored all messages', 'done no work', 'never told anyone about my depression', \"don't know what to say\"]}\n"
          ]
        },
        {
          "name": "stderr",
          "output_type": "stream",
          "text": [
            "<ipython-input-13-bd1d209dfd18>:22: FutureWarning: The frame.append method is deprecated and will be removed from pandas in a future version. Use pandas.concat instead.\n",
            "  first_ten_df = first_ten_df.append({\n",
            "\rProcessing Rows:  50%|█████     | 18/36 [02:52<02:12,  7.38s/it]"
          ]
        },
        {
          "name": "stdout",
          "output_type": "stream",
          "text": [
            "The result is: True and {\n",
            "  \"label\": \"Trouble falling or staying asleep or sleeping too much\",\n",
            "  \"value\": \"no\",\n",
            "  \"post_title\": \"Things to say to ppl\",\n",
            "  \"CLUEs\": [\"ill\", \"times\"]\n",
            "}\n",
            "{'label': 'Trouble falling or staying asleep or sleeping too much', 'value': 'no', 'post_title': 'Things to say to ppl', 'CLUEs': ['ill', 'times']}\n"
          ]
        },
        {
          "name": "stderr",
          "output_type": "stream",
          "text": [
            "<ipython-input-13-bd1d209dfd18>:22: FutureWarning: The frame.append method is deprecated and will be removed from pandas in a future version. Use pandas.concat instead.\n",
            "  first_ten_df = first_ten_df.append({\n",
            "\rProcessing Rows:  53%|█████▎    | 19/36 [03:03<02:25,  8.54s/it]"
          ]
        },
        {
          "name": "stdout",
          "output_type": "stream",
          "text": [
            "The result is: True and {\n",
            "  \"label\": \"Feeling bad about yourself or that you are a failure or have let yourself or your family down\",\n",
            "  \"value\": \"yes\",\n",
            "  \"post_title\": \"Why do I have sudden \\\"bursts\\\" of depression\",\n",
            "  \"CLUEs\": [\"stopped working\", \"business idea failed\", \"feel lost\", \"failed my family and friends\", \"dedicated my life to it\", \"nervous about getting a job again\"]\n",
            "}\n",
            "{'label': 'Feeling bad about yourself or that you are a failure or have let yourself or your family down', 'value': 'yes', 'post_title': 'Why do I have sudden \"bursts\" of depression', 'CLUEs': ['stopped working', 'business idea failed', 'feel lost', 'failed my family and friends', 'dedicated my life to it', 'nervous about getting a job again']}\n"
          ]
        },
        {
          "name": "stderr",
          "output_type": "stream",
          "text": [
            "<ipython-input-13-bd1d209dfd18>:22: FutureWarning: The frame.append method is deprecated and will be removed from pandas in a future version. Use pandas.concat instead.\n",
            "  first_ten_df = first_ten_df.append({\n",
            "\rProcessing Rows:  56%|█████▌    | 20/36 [03:08<02:00,  7.56s/it]"
          ]
        },
        {
          "name": "stdout",
          "output_type": "stream",
          "text": [
            "The result is: True and {\n",
            "  \"label\": \"Feeling down depressed or hopeless\",\n",
            "  \"value\": \"yes\",\n",
            "  \"post_title\": \"Why do I have sudden \\\"bursts\\\" of depression\",\n",
            "  \"CLUEs\": [\"lost\", \"failed\", \"nervous\", \"overthinking\"]\n",
            "}\n",
            "{'label': 'Feeling down depressed or hopeless', 'value': 'yes', 'post_title': 'Why do I have sudden \"bursts\" of depression', 'CLUEs': ['lost', 'failed', 'nervous', 'overthinking']}\n"
          ]
        },
        {
          "name": "stderr",
          "output_type": "stream",
          "text": [
            "<ipython-input-13-bd1d209dfd18>:22: FutureWarning: The frame.append method is deprecated and will be removed from pandas in a future version. Use pandas.concat instead.\n",
            "  first_ten_df = first_ten_df.append({\n",
            "\rProcessing Rows:  58%|█████▊    | 21/36 [03:15<01:48,  7.26s/it]"
          ]
        },
        {
          "name": "stdout",
          "output_type": "stream",
          "text": [
            "The result is: True and {\n",
            "\"label\": \"Feeling tired or having little energy\",\n",
            "\"value\": \"no\",\n",
            "\"post_title\": \"Why do I have sudden \\\"bursts\\\" of depression\",\n",
            "\"CLUEs\": [\"stopped working\", \"failed business idea\", \"feel lost\", \"failed family and friends\", \"dedicated my life\", \"nervous about getting a job\", \"overthinking\"]\n",
            "}\n",
            "{'label': 'Feeling tired or having little energy', 'value': 'no', 'post_title': 'Why do I have sudden \"bursts\" of depression', 'CLUEs': ['stopped working', 'failed business idea', 'feel lost', 'failed family and friends', 'dedicated my life', 'nervous about getting a job', 'overthinking']}\n"
          ]
        },
        {
          "name": "stderr",
          "output_type": "stream",
          "text": [
            "<ipython-input-13-bd1d209dfd18>:22: FutureWarning: The frame.append method is deprecated and will be removed from pandas in a future version. Use pandas.concat instead.\n",
            "  first_ten_df = first_ten_df.append({\n",
            "\rProcessing Rows:  61%|██████    | 22/36 [03:22<01:38,  7.04s/it]"
          ]
        },
        {
          "name": "stdout",
          "output_type": "stream",
          "text": [
            "The result is: True and {\n",
            "  \"label\": \"Little interest or pleasure in doing\",\n",
            "  \"value\": \"yes\",\n",
            "  \"post_title\": \"Why do I have sudden \\\"bursts\\\" of depression\",\n",
            "  \"CLUEs\": [\"feel lost\", \"failed my family and friends\", \"dedicated my life to business\", \"most of the time sitting in room\", \"nervous about getting a job\", \"haven't had a real job for a long time\", \"overthinking\"]\n",
            "}\n",
            "{'label': 'Little interest or pleasure in doing', 'value': 'yes', 'post_title': 'Why do I have sudden \"bursts\" of depression', 'CLUEs': ['feel lost', 'failed my family and friends', 'dedicated my life to business', 'most of the time sitting in room', 'nervous about getting a job', \"haven't had a real job for a long time\", 'overthinking']}\n"
          ]
        },
        {
          "name": "stderr",
          "output_type": "stream",
          "text": [
            "<ipython-input-13-bd1d209dfd18>:22: FutureWarning: The frame.append method is deprecated and will be removed from pandas in a future version. Use pandas.concat instead.\n",
            "  first_ten_df = first_ten_df.append({\n",
            "\rProcessing Rows:  64%|██████▍   | 23/36 [03:31<01:42,  7.87s/it]"
          ]
        },
        {
          "name": "stdout",
          "output_type": "stream",
          "text": [
            "The result is: True and {\n",
            "  \"label\": \"Moving or speaking so slowly that other people could have noticed Or the opposite being so fidgety or restless that you have been moving around a lot more than usual\",\n",
            "  \"value\": \"no\",\n",
            "  \"post_title\": \"Why do I have sudden \\\"bursts\\\" of depression\",\n",
            "  \"CLUEs\": [\"moments\", \"feel lost\", \"failed\", \"nervous\", \"overthinking\"]\n",
            "}\n",
            "{'label': 'Moving or speaking so slowly that other people could have noticed Or the opposite being so fidgety or restless that you have been moving around a lot more than usual', 'value': 'no', 'post_title': 'Why do I have sudden \"bursts\" of depression', 'CLUEs': ['moments', 'feel lost', 'failed', 'nervous', 'overthinking']}\n"
          ]
        },
        {
          "name": "stderr",
          "output_type": "stream",
          "text": [
            "<ipython-input-13-bd1d209dfd18>:22: FutureWarning: The frame.append method is deprecated and will be removed from pandas in a future version. Use pandas.concat instead.\n",
            "  first_ten_df = first_ten_df.append({\n",
            "\rProcessing Rows:  67%|██████▋   | 24/36 [03:38<01:28,  7.41s/it]"
          ]
        },
        {
          "name": "stdout",
          "output_type": "stream",
          "text": [
            "The result is: True and {\n",
            "  \"label\": \"Poor appetite or overeating\",\n",
            "  \"value\": \"No\",\n",
            "  \"post_title\": \"Why do I have sudden bursts of depression\",\n",
            "  \"CLUEs\": [\"lost\", \"failed\", \"nervous\", \"overthinking\"]\n",
            "}\n",
            "{'label': 'Poor appetite or overeating', 'value': 'No', 'post_title': 'Why do I have sudden bursts of depression', 'CLUEs': ['lost', 'failed', 'nervous', 'overthinking']}\n"
          ]
        },
        {
          "name": "stderr",
          "output_type": "stream",
          "text": [
            "<ipython-input-13-bd1d209dfd18>:22: FutureWarning: The frame.append method is deprecated and will be removed from pandas in a future version. Use pandas.concat instead.\n",
            "  first_ten_df = first_ten_df.append({\n",
            "\rProcessing Rows:  69%|██████▉   | 25/36 [03:44<01:17,  7.01s/it]"
          ]
        },
        {
          "name": "stdout",
          "output_type": "stream",
          "text": [
            "The result is: True and {\n",
            "  \"label\": \"Thoughts that you would be better off dead or of hurting yourself in some way\",\n",
            "  \"value\": \"no\",\n",
            "  \"post_title\": \"Why do I have sudden 'bursts' of depression\",\n",
            "  \"CLUEs\": [\"lost\", \"failed\", \"dedicated my life\", \"nervous\", \"overthinking\"]\n",
            "}\n",
            "{'label': 'Thoughts that you would be better off dead or of hurting yourself in some way', 'value': 'no', 'post_title': \"Why do I have sudden 'bursts' of depression\", 'CLUEs': ['lost', 'failed', 'dedicated my life', 'nervous', 'overthinking']}\n"
          ]
        },
        {
          "name": "stderr",
          "output_type": "stream",
          "text": [
            "<ipython-input-13-bd1d209dfd18>:22: FutureWarning: The frame.append method is deprecated and will be removed from pandas in a future version. Use pandas.concat instead.\n",
            "  first_ten_df = first_ten_df.append({\n",
            "\rProcessing Rows:  72%|███████▏  | 26/36 [03:48<01:02,  6.24s/it]"
          ]
        },
        {
          "name": "stdout",
          "output_type": "stream",
          "text": [
            "The result is: True and {\n",
            "  \"label\": \"Trouble concentrating on things such as reading the newspaper or watching television\",\n",
            "  \"value\": \"no\",\n",
            "  \"post_title\": \"Why do I have sudden bursts of depression\",\n",
            "  \"CLUEs\": [\"lost\", \"failed\", \"nervous\", \"overthinking\"]\n",
            "}\n",
            "{'label': 'Trouble concentrating on things such as reading the newspaper or watching television', 'value': 'no', 'post_title': 'Why do I have sudden bursts of depression', 'CLUEs': ['lost', 'failed', 'nervous', 'overthinking']}\n"
          ]
        },
        {
          "name": "stderr",
          "output_type": "stream",
          "text": [
            "<ipython-input-13-bd1d209dfd18>:22: FutureWarning: The frame.append method is deprecated and will be removed from pandas in a future version. Use pandas.concat instead.\n",
            "  first_ten_df = first_ten_df.append({\n",
            "\rProcessing Rows:  75%|███████▌  | 27/36 [03:57<01:02,  6.96s/it]"
          ]
        },
        {
          "name": "stdout",
          "output_type": "stream",
          "text": [
            "The result is: True and {\n",
            "  \"label\": \"Trouble falling or staying asleep or sleeping too much\",\n",
            "  \"value\": \"unknown\",\n",
            "  \"post_title\": \"Why do I have sudden \\\"bursts\\\" of depression\",\n",
            "  \"CLUEs\": [\"depression\", \"feel lost\", \"failed\", \"nervous\", \"overthinking\"]\n",
            "}\n",
            "{'label': 'Trouble falling or staying asleep or sleeping too much', 'value': 'unknown', 'post_title': 'Why do I have sudden \"bursts\" of depression', 'CLUEs': ['depression', 'feel lost', 'failed', 'nervous', 'overthinking']}\n"
          ]
        },
        {
          "name": "stderr",
          "output_type": "stream",
          "text": [
            "<ipython-input-13-bd1d209dfd18>:22: FutureWarning: The frame.append method is deprecated and will be removed from pandas in a future version. Use pandas.concat instead.\n",
            "  first_ten_df = first_ten_df.append({\n",
            "\rProcessing Rows:  78%|███████▊  | 28/36 [04:06<01:00,  7.53s/it]"
          ]
        },
        {
          "name": "stdout",
          "output_type": "stream",
          "text": [
            "The result is: True and {\n",
            "  \"label\": \"Feeling bad about yourself or that you are a failure or have let yourself or your family down\",\n",
            "  \"value\": \"Yes\",\n",
            "  \"post_title\": \"Being the boyfriend.\",\n",
            "  \"CLUEs\": [\"relationship has dwindled\", \"resent each other\", \"paranoid that she’s cheating\", \"switching between my 2 head-spaces\", \"wanting it to be about me sometimes\", \"feeling like a prick\", \"angry at this situation\"]\n",
            "}\n",
            "{'label': 'Feeling bad about yourself or that you are a failure or have let yourself or your family down', 'value': 'Yes', 'post_title': 'Being the boyfriend.', 'CLUEs': ['relationship has dwindled', 'resent each other', 'paranoid that she’s cheating', 'switching between my 2 head-spaces', 'wanting it to be about me sometimes', 'feeling like a prick', 'angry at this situation']}\n"
          ]
        },
        {
          "name": "stderr",
          "output_type": "stream",
          "text": [
            "<ipython-input-13-bd1d209dfd18>:22: FutureWarning: The frame.append method is deprecated and will be removed from pandas in a future version. Use pandas.concat instead.\n",
            "  first_ten_df = first_ten_df.append({\n",
            "\rProcessing Rows:  81%|████████  | 29/36 [04:16<00:59,  8.47s/it]"
          ]
        },
        {
          "name": "stdout",
          "output_type": "stream",
          "text": [
            "The result is: True and {\n",
            "  \"label\": \"Feeling down depressed or hopeless\",\n",
            "  \"value\": \"yes\",\n",
            "  \"post_title\": \"Being the boyfriend.\",\n",
            "  \"CLUEs\": [\"suicidal thoughts\", \"serious depression\", \"held a gun to her head\", \"lack of sex\", \"resentment\", \"paranoia\", \"internal debate\", \"crying\", \"feeling scared\"]\n",
            "}\n",
            "{'label': 'Feeling down depressed or hopeless', 'value': 'yes', 'post_title': 'Being the boyfriend.', 'CLUEs': ['suicidal thoughts', 'serious depression', 'held a gun to her head', 'lack of sex', 'resentment', 'paranoia', 'internal debate', 'crying', 'feeling scared']}\n"
          ]
        },
        {
          "name": "stderr",
          "output_type": "stream",
          "text": [
            "<ipython-input-13-bd1d209dfd18>:22: FutureWarning: The frame.append method is deprecated and will be removed from pandas in a future version. Use pandas.concat instead.\n",
            "  first_ten_df = first_ten_df.append({\n",
            "\rProcessing Rows:  83%|████████▎ | 30/36 [04:24<00:50,  8.35s/it]"
          ]
        },
        {
          "name": "stdout",
          "output_type": "stream",
          "text": [
            "The result is: True and {\n",
            "  \"label\": \"Feeling tired or having little energy\",\n",
            "  \"value\": \"yes\",\n",
            "  \"post_title\": \"Being the boyfriend.\",\n",
            "  \"CLUEs\": [\n",
            "    \"lack of sex\",\n",
            "    \"relationship dwindled\",\n",
            "    \"feeling distant\",\n",
            "    \"constant worry\",\n",
            "    \"inner man-child\"\n",
            "  ]\n",
            "}\n",
            "{'label': 'Feeling tired or having little energy', 'value': 'yes', 'post_title': 'Being the boyfriend.', 'CLUEs': ['lack of sex', 'relationship dwindled', 'feeling distant', 'constant worry', 'inner man-child']}\n"
          ]
        },
        {
          "name": "stderr",
          "output_type": "stream",
          "text": [
            "<ipython-input-13-bd1d209dfd18>:22: FutureWarning: The frame.append method is deprecated and will be removed from pandas in a future version. Use pandas.concat instead.\n",
            "  first_ten_df = first_ten_df.append({\n",
            "\rProcessing Rows:  86%|████████▌ | 31/36 [04:33<00:41,  8.37s/it]"
          ]
        },
        {
          "name": "stdout",
          "output_type": "stream",
          "text": [
            "The result is: True and {\n",
            "  \"label\": \"Little interest or pleasure in doing\",\n",
            "  \"value\": \"yes\",\n",
            "  \"post_title\": \"Being the boyfriend.\",\n",
            "  \"CLUEs\": [\n",
            "    \"dwindled relationship\",\n",
            "    \"lack of sex\",\n",
            "    \"feeling like relationship is about her\",\n",
            "    \"wanting attention\",\n",
            "    \"internal debate about relationship\"\n",
            "  ]\n",
            "}\n",
            "{'label': 'Little interest or pleasure in doing', 'value': 'yes', 'post_title': 'Being the boyfriend.', 'CLUEs': ['dwindled relationship', 'lack of sex', 'feeling like relationship is about her', 'wanting attention', 'internal debate about relationship']}\n"
          ]
        },
        {
          "name": "stderr",
          "output_type": "stream",
          "text": [
            "<ipython-input-13-bd1d209dfd18>:22: FutureWarning: The frame.append method is deprecated and will be removed from pandas in a future version. Use pandas.concat instead.\n",
            "  first_ten_df = first_ten_df.append({\n",
            "\rProcessing Rows:  89%|████████▉ | 32/36 [04:48<00:41, 10.44s/it]"
          ]
        },
        {
          "name": "stdout",
          "output_type": "stream",
          "text": [
            "The result is: True and {\n",
            "  \"label\": \"Moving or speaking so slowly that other people could have noticed Or the opposite being so fidgety or restless that you have been moving around a lot more than usual\",\n",
            "  \"value\": \"No\",\n",
            "  \"post_title\": \"Being the boyfriend.\",\n",
            "  \"CLUEs\": [\"dwindled\", \"resent each other\", \"trying to rationalize the lack of sex\", \"relationship is about her\", \"relationship be 50/50\", \"dictated by her depression\", \"wanting it to be about me sometimes\", \"get distant\", \"angry at this situation\", \"bring up my inner man-child who needs her attention\", \"bring it up at all\"]\n",
            "}\n",
            "{'label': 'Moving or speaking so slowly that other people could have noticed Or the opposite being so fidgety or restless that you have been moving around a lot more than usual', 'value': 'No', 'post_title': 'Being the boyfriend.', 'CLUEs': ['dwindled', 'resent each other', 'trying to rationalize the lack of sex', 'relationship is about her', 'relationship be 50/50', 'dictated by her depression', 'wanting it to be about me sometimes', 'get distant', 'angry at this situation', 'bring up my inner man-child who needs her attention', 'bring it up at all']}\n"
          ]
        },
        {
          "name": "stderr",
          "output_type": "stream",
          "text": [
            "<ipython-input-13-bd1d209dfd18>:22: FutureWarning: The frame.append method is deprecated and will be removed from pandas in a future version. Use pandas.concat instead.\n",
            "  first_ten_df = first_ten_df.append({\n",
            "\rProcessing Rows:  92%|█████████▏| 33/36 [04:57<00:30, 10.06s/it]"
          ]
        },
        {
          "name": "stdout",
          "output_type": "stream",
          "text": [
            "The result is: True and {\n",
            "  \"label\": \"Poor appetite or overeating\",\n",
            "  \"value\": \"no\",\n",
            "  \"post_title\": \"Being the boyfriend.\",\n",
            "  \"CLUEs\": [\"relationship\", \"resent each other\", \"lack of sex\", \"paranoid\", \"cheating\", \"lack of attention\", \"internal debate\", \"dictated by her depression\", \"relationship problems\"]\n",
            "}\n",
            "{'label': 'Poor appetite or overeating', 'value': 'no', 'post_title': 'Being the boyfriend.', 'CLUEs': ['relationship', 'resent each other', 'lack of sex', 'paranoid', 'cheating', 'lack of attention', 'internal debate', 'dictated by her depression', 'relationship problems']}\n"
          ]
        },
        {
          "name": "stderr",
          "output_type": "stream",
          "text": [
            "<ipython-input-13-bd1d209dfd18>:22: FutureWarning: The frame.append method is deprecated and will be removed from pandas in a future version. Use pandas.concat instead.\n",
            "  first_ten_df = first_ten_df.append({\n",
            "\rProcessing Rows:  94%|█████████▍| 34/36 [05:06<00:19,  9.57s/it]"
          ]
        },
        {
          "name": "stdout",
          "output_type": "stream",
          "text": [
            "The result is: True and {\n",
            "  \"label\": \"Thoughts that you would be better off dead or of hurting yourself in some way\",\n",
            "  \"value\": \"no\",\n",
            "  \"post_title\": \"Being the boyfriend.\",\n",
            "  \"CLUEs\": [\"suicidal thoughts occasionally\", \"depression\", \"held a gun to her head\", \"her serious depression\", \"she told me she wants to die\", \"scared for her\", \"relationship is about her\", \"she has enough to worry about\"]\n",
            "}\n",
            "{'label': 'Thoughts that you would be better off dead or of hurting yourself in some way', 'value': 'no', 'post_title': 'Being the boyfriend.', 'CLUEs': ['suicidal thoughts occasionally', 'depression', 'held a gun to her head', 'her serious depression', 'she told me she wants to die', 'scared for her', 'relationship is about her', 'she has enough to worry about']}\n"
          ]
        },
        {
          "name": "stderr",
          "output_type": "stream",
          "text": [
            "<ipython-input-13-bd1d209dfd18>:22: FutureWarning: The frame.append method is deprecated and will be removed from pandas in a future version. Use pandas.concat instead.\n",
            "  first_ten_df = first_ten_df.append({\n",
            "\rProcessing Rows:  97%|█████████▋| 35/36 [05:17<00:10, 10.20s/it]"
          ]
        },
        {
          "name": "stdout",
          "output_type": "stream",
          "text": [
            "The result is: True and {\"label\": \"Trouble concentrating on things such as reading the newspaper or watching television\", \"value\": \"yes\", \"post_title\": \"Being the boyfriend.\", \"CLUEs\": [\"relationship has dwindled\", \"don't have conversations like we used to\", \"she always falls asleep on the couch so we don't sleep together hardly\", \"don't have sex at all\", \"she's not in the mood\", \"paranoid that she's cheating on me sometimes\", \"entire relationship is about her\", \"constantly having internal debate\"]}\n",
            "{'label': 'Trouble concentrating on things such as reading the newspaper or watching television', 'value': 'yes', 'post_title': 'Being the boyfriend.', 'CLUEs': ['relationship has dwindled', \"don't have conversations like we used to\", \"she always falls asleep on the couch so we don't sleep together hardly\", \"don't have sex at all\", \"she's not in the mood\", \"paranoid that she's cheating on me sometimes\", 'entire relationship is about her', 'constantly having internal debate']}\n"
          ]
        },
        {
          "name": "stderr",
          "output_type": "stream",
          "text": [
            "<ipython-input-13-bd1d209dfd18>:22: FutureWarning: The frame.append method is deprecated and will be removed from pandas in a future version. Use pandas.concat instead.\n",
            "  first_ten_df = first_ten_df.append({\n",
            "\rProcessing Rows: 100%|██████████| 36/36 [05:25<00:00,  9.54s/it]"
          ]
        },
        {
          "name": "stdout",
          "output_type": "stream",
          "text": [
            "The result is: True and {\n",
            "  \"label\": \"Trouble falling or staying asleep or sleeping too much\",\n",
            "  \"value\": \"yes\",\n",
            "  \"post_title\": \"Being the boyfriend.\",\n",
            "  \"CLUEs\": [\"alone doing laundry\", \"hysterically crying\", \"Earlier that day she had called me crying\", \"she just wants to give up\", \"She wants to die\", \"scared for her and for us\", \"Am I just a shitty person for wanting it to be about me sometimes?\", \"I want our relationship to be what it once was; fun and exciting\"]\n",
            "}\n",
            "{'label': 'Trouble falling or staying asleep or sleeping too much', 'value': 'yes', 'post_title': 'Being the boyfriend.', 'CLUEs': ['alone doing laundry', 'hysterically crying', 'Earlier that day she had called me crying', 'she just wants to give up', 'She wants to die', 'scared for her and for us', 'Am I just a shitty person for wanting it to be about me sometimes?', 'I want our relationship to be what it once was; fun and exciting']}\n"
          ]
        }
      ],
      "source": [
        "first_ten_rows =  primate_input_df.iloc[6:10]\n",
        "\n",
        "total_rows = len(first_ten_rows) * 9\n",
        "progress_bar = tqdm(total=total_rows, desc=\"Processing Rows\")\n",
        "\n",
        "for index, row in first_ten_rows.iterrows():\n",
        "    post_title = row['post_title']\n",
        "    post_text = row['post_text']\n",
        "    for key, value in pre_processed_labels.items():\n",
        "      boolean, gpt_answer = get_answer_2305_08377(post_title, post_text, value)\n",
        "      print(f\"The result is: {boolean} and {gpt_answer}\")\n",
        "      if boolean:\n",
        "        load_gpt_ans_to_json = json.loads(gpt_answer)\n",
        "        print(load_gpt_ans_to_json)\n",
        "        # dump_gpt_ans = json.dumps(load_gpt_ans, indent=2)\n",
        "        # print(dump_gpt_ans)\n",
        "        result = {\n",
        "            \"bool\": boolean,\n",
        "            \"json\": load_gpt_ans_to_json\n",
        "        }\n",
        "\n",
        "        first_ten_df = first_ten_df.append({\n",
        "            'post_title': load_gpt_ans_to_json['post_title'],\n",
        "            'label': load_gpt_ans_to_json['label'],\n",
        "            'value': load_gpt_ans_to_json['value']\n",
        "        }, ignore_index=True)\n",
        "      if not boolean:\n",
        "        result = {\n",
        "            \"bool\": boolean,\n",
        "            \"error\": gpt_answer\n",
        "        }\n",
        "      # Add to dataframe\n",
        "      # Create a new JSON file for each iteration\n",
        "      file_path = f\"gpt_result_{post_title}_{key}.json\"  # Customize the file name as desired\n",
        "\n",
        "      with open(file_path, \"w\") as json_file:\n",
        "          json.dump(result, json_file, indent=2)\n",
        "\n",
        "      progress_bar.update(1)\n"
      ]
    },
    {
      "cell_type": "code",
      "execution_count": null,
      "metadata": {
        "colab": {
          "base_uri": "https://localhost:8080/"
        },
        "id": "mzusDZae61_A",
        "outputId": "636f4531-3121-4229-e0e0-df7c3e4cc9b0"
      },
      "outputs": [
        {
          "name": "stdout",
          "output_type": "stream",
          "text": [
            "<class 'pandas.core.frame.DataFrame'>\n",
            "RangeIndex: 96 entries, 0 to 95\n",
            "Data columns (total 3 columns):\n",
            " #   Column      Non-Null Count  Dtype \n",
            "---  ------      --------------  ----- \n",
            " 0   post_title  96 non-null     object\n",
            " 1   label       96 non-null     object\n",
            " 2   value       96 non-null     object\n",
            "dtypes: object(3)\n",
            "memory usage: 2.4+ KB\n"
          ]
        }
      ],
      "source": [
        "first_ten_df.info()"
      ]
    },
    {
      "cell_type": "code",
      "execution_count": null,
      "metadata": {
        "id": "Rif2YuUz-FZo"
      },
      "outputs": [],
      "source": [
        "first_ten_df.to_csv('first_ten_output.csv', index=False)"
      ]
    },
    {
      "cell_type": "markdown",
      "metadata": {
        "id": "e3hcQ3VTLHgv"
      },
      "source": [
        "## Second 10 rows"
      ]
    },
    {
      "cell_type": "code",
      "execution_count": null,
      "metadata": {
        "id": "bW_aHJA8Atcg"
      },
      "outputs": [],
      "source": [
        "columns = ['post_title', 'label', 'value']\n",
        "\n",
        "# Create an empty DataFrame\n",
        "seond_ten_df = pd.DataFrame(columns=columns)"
      ]
    },
    {
      "cell_type": "code",
      "execution_count": null,
      "metadata": {
        "colab": {
          "base_uri": "https://localhost:8080/"
        },
        "id": "jEoJ5EzKAmRh",
        "outputId": "eae04186-d1bf-4f56-bb85-b7c543fdcb71"
      },
      "outputs": [
        {
          "name": "stderr",
          "output_type": "stream",
          "text": [
            "Processing Rows:   0%|          | 0/36 [00:29<?, ?it/s]\n",
            "<ipython-input-48-fc00489da79d>:20: FutureWarning: The frame.append method is deprecated and will be removed from pandas in a future version. Use pandas.concat instead.\n",
            "  seond_ten_df = seond_ten_df.append({\n",
            "Processing Rows:   3%|▎         | 1/36 [00:09<05:44,  9.84s/it]"
          ]
        },
        {
          "name": "stdout",
          "output_type": "stream",
          "text": [
            "{'label': 'Feeling bad about yourself or that you are a failure or have let yourself or your family down', 'value': 'yes', 'post_title': 'Is it okay to drop a class for the sake of my own health?', 'CLUEs': ['stressing me out', \"can't handle the workload\", 'advice before deciding something important']}\n"
          ]
        },
        {
          "name": "stderr",
          "output_type": "stream",
          "text": [
            "<ipython-input-48-fc00489da79d>:20: FutureWarning: The frame.append method is deprecated and will be removed from pandas in a future version. Use pandas.concat instead.\n",
            "  seond_ten_df = seond_ten_df.append({\n",
            "\rProcessing Rows:   6%|▌         | 2/36 [00:21<06:12, 10.94s/it]"
          ]
        },
        {
          "name": "stdout",
          "output_type": "stream",
          "text": [
            "{'label': 'Feeling down depressed or hopeless', 'value': 'yes', 'post_title': 'Is it okay to drop a class for the sake of my own health?', 'CLUEs': ['stressed out', 'handle the workload', 'relying on advice', 'feeling down', 'hopeful for advice']}\n"
          ]
        },
        {
          "name": "stderr",
          "output_type": "stream",
          "text": [
            "<ipython-input-48-fc00489da79d>:20: FutureWarning: The frame.append method is deprecated and will be removed from pandas in a future version. Use pandas.concat instead.\n",
            "  seond_ten_df = seond_ten_df.append({\n",
            "\rProcessing Rows:   8%|▊         | 3/36 [00:33<06:16, 11.41s/it]"
          ]
        },
        {
          "name": "stdout",
          "output_type": "stream",
          "text": [
            "{'label': 'Feeling tired or having little energy', 'value': 'yes', 'post_title': 'Is it okay to drop a class for the sake of my own health?', 'CLUEs': ['stressing me out', \"can't handle the workload\", 'relying on advice before deciding', 'Feeling tired or having little energy']}\n"
          ]
        },
        {
          "name": "stderr",
          "output_type": "stream",
          "text": [
            "<ipython-input-48-fc00489da79d>:20: FutureWarning: The frame.append method is deprecated and will be removed from pandas in a future version. Use pandas.concat instead.\n",
            "  seond_ten_df = seond_ten_df.append({\n",
            "\rProcessing Rows:  11%|█         | 4/36 [00:44<06:05, 11.42s/it]"
          ]
        },
        {
          "name": "stdout",
          "output_type": "stream",
          "text": [
            "{'label': 'Little interest or pleasure in doing', 'value': 'no', 'post_title': 'Is it okay to drop a class for the sake of my own health?', 'CLUEs': ['homework', 'stressing me out', 'work load', 'relying on advice', 'important decision']}\n"
          ]
        },
        {
          "name": "stderr",
          "output_type": "stream",
          "text": [
            "<ipython-input-48-fc00489da79d>:20: FutureWarning: The frame.append method is deprecated and will be removed from pandas in a future version. Use pandas.concat instead.\n",
            "  seond_ten_df = seond_ten_df.append({\n",
            "\rProcessing Rows:  14%|█▍        | 5/36 [00:55<05:49, 11.26s/it]"
          ]
        },
        {
          "name": "stdout",
          "output_type": "stream",
          "text": [
            "{'label': 'Moving or speaking so slowly that other people could have noticed Or the opposite being so fidgety or restless that you have been moving around a lot more than usual', 'value': 'no', 'post_title': 'Is it okay to drop a class for the sake of my own health?', 'CLUEs': ['stressed', 'homework', 'workload', 'handle']}\n"
          ]
        },
        {
          "name": "stderr",
          "output_type": "stream",
          "text": [
            "<ipython-input-48-fc00489da79d>:20: FutureWarning: The frame.append method is deprecated and will be removed from pandas in a future version. Use pandas.concat instead.\n",
            "  seond_ten_df = seond_ten_df.append({\n",
            "\rProcessing Rows:  17%|█▋        | 6/36 [01:00<04:30,  9.00s/it]"
          ]
        },
        {
          "name": "stdout",
          "output_type": "stream",
          "text": [
            "{'label': 'Poor appetite or overeating', 'value': 'no', 'post_title': 'Is it okay to drop a class for the sake of my own health?', 'CLUEs': ['stresses me out', 'workload', 'handle the work load']}\n"
          ]
        },
        {
          "name": "stderr",
          "output_type": "stream",
          "text": [
            "<ipython-input-48-fc00489da79d>:20: FutureWarning: The frame.append method is deprecated and will be removed from pandas in a future version. Use pandas.concat instead.\n",
            "  seond_ten_df = seond_ten_df.append({\n",
            "\rProcessing Rows:  19%|█▉        | 7/36 [01:10<04:26,  9.18s/it]"
          ]
        },
        {
          "name": "stdout",
          "output_type": "stream",
          "text": [
            "{'label': 'Thoughts that you would be better off dead or of hurting yourself in some way', 'value': 'no', 'post_title': 'Is it okay to drop a class for the sake of my own health?', 'CLUEs': ['stressing me out', 'handle the workload', 'relied on advice']}\n"
          ]
        },
        {
          "name": "stderr",
          "output_type": "stream",
          "text": [
            "<ipython-input-48-fc00489da79d>:20: FutureWarning: The frame.append method is deprecated and will be removed from pandas in a future version. Use pandas.concat instead.\n",
            "  seond_ten_df = seond_ten_df.append({\n",
            "\rProcessing Rows:  22%|██▏       | 8/36 [01:18<04:13,  9.06s/it]"
          ]
        },
        {
          "name": "stdout",
          "output_type": "stream",
          "text": [
            "{'label': 'Trouble concentrating on things such as reading the newspaper or watching television', 'value': 'yes', 'post_title': 'Is it okay to drop a class for the sake of my own health?', 'CLUEs': ['stresses me out', 'homework takes up to 6 hours', \"can't handle workload\"]}\n"
          ]
        },
        {
          "name": "stderr",
          "output_type": "stream",
          "text": [
            "<ipython-input-48-fc00489da79d>:20: FutureWarning: The frame.append method is deprecated and will be removed from pandas in a future version. Use pandas.concat instead.\n",
            "  seond_ten_df = seond_ten_df.append({\n",
            "\rProcessing Rows:  25%|██▌       | 9/36 [01:29<04:16,  9.51s/it]"
          ]
        },
        {
          "name": "stdout",
          "output_type": "stream",
          "text": [
            "{'label': 'Trouble falling or staying asleep or sleeping too much', 'value': 'no', 'post_title': 'Is it okay to drop a class for the sake of my own health?', 'CLUEs': ['stressing me out', 'homework taking up to 6 hours', 'workload of CS170 PLUS workload of other classes']}\n"
          ]
        },
        {
          "name": "stderr",
          "output_type": "stream",
          "text": [
            "<ipython-input-48-fc00489da79d>:20: FutureWarning: The frame.append method is deprecated and will be removed from pandas in a future version. Use pandas.concat instead.\n",
            "  seond_ten_df = seond_ten_df.append({\n",
            "\rProcessing Rows:  28%|██▊       | 10/36 [01:40<04:24, 10.15s/it]"
          ]
        },
        {
          "name": "stdout",
          "output_type": "stream",
          "text": [
            "{'label': 'Feeling bad about yourself or that you are a failure or have let yourself or your family down', 'value': 'yes', 'post_title': \"I literally can't do anything right now\", 'CLUEs': ['feeling depressed', 'brought me to tears', 'lonely', \"haven't been able to get out of bed\", 'nothing I want to do']}\n"
          ]
        },
        {
          "name": "stderr",
          "output_type": "stream",
          "text": [
            "<ipython-input-48-fc00489da79d>:20: FutureWarning: The frame.append method is deprecated and will be removed from pandas in a future version. Use pandas.concat instead.\n",
            "  seond_ten_df = seond_ten_df.append({\n",
            "\rProcessing Rows:  31%|███       | 11/36 [01:47<03:46,  9.08s/it]"
          ]
        },
        {
          "name": "stdout",
          "output_type": "stream",
          "text": [
            "{'label': 'Feeling down depressed or hopeless', 'value': 'yes', 'post_title': \"I literally can't do anything right now\", 'CLUEs': ['depressed', 'lonely', 'laying here', 'feeling down', 'hopeless']}\n"
          ]
        },
        {
          "name": "stderr",
          "output_type": "stream",
          "text": [
            "<ipython-input-48-fc00489da79d>:20: FutureWarning: The frame.append method is deprecated and will be removed from pandas in a future version. Use pandas.concat instead.\n",
            "  seond_ten_df = seond_ten_df.append({\n",
            "\rProcessing Rows:  33%|███▎      | 12/36 [01:57<03:42,  9.28s/it]"
          ]
        },
        {
          "name": "stdout",
          "output_type": "stream",
          "text": [
            "{'label': 'Feeling tired or having little energy', 'value': 'yes', 'post_title': \"I literally can't do anything right now\", 'CLUEs': [\"can't do anything\", 'feeling more and more depressed', \"haven't been able to get out of bed\", 'laying here']}\n"
          ]
        },
        {
          "name": "stderr",
          "output_type": "stream",
          "text": [
            "<ipython-input-48-fc00489da79d>:20: FutureWarning: The frame.append method is deprecated and will be removed from pandas in a future version. Use pandas.concat instead.\n",
            "  seond_ten_df = seond_ten_df.append({\n",
            "\rProcessing Rows:  36%|███▌      | 13/36 [02:07<03:41,  9.64s/it]"
          ]
        },
        {
          "name": "stdout",
          "output_type": "stream",
          "text": [
            "{'label': 'Little interest or pleasure in doing', 'value': 'yes', 'post_title': \"I literally can't do anything right now\", 'CLUEs': \"feeling more and more depressed, things happening all at once, brought me to tears, feeling incredibly lonely, haven't been able to get out of bed, nothing I want to do, laying here\"}\n"
          ]
        },
        {
          "name": "stderr",
          "output_type": "stream",
          "text": [
            "<ipython-input-48-fc00489da79d>:20: FutureWarning: The frame.append method is deprecated and will be removed from pandas in a future version. Use pandas.concat instead.\n",
            "  seond_ten_df = seond_ten_df.append({\n",
            "\rProcessing Rows:  39%|███▉      | 14/36 [02:18<03:38,  9.94s/it]"
          ]
        },
        {
          "name": "stdout",
          "output_type": "stream",
          "text": [
            "{'label': 'Moving or speaking so slowly that other people could have noticed Or the opposite being so fidgety or restless that you have been moving around a lot more than usual', 'value': 'No', 'post_title': \"I literally can't do anything right now\", 'CLUEs': ['laying here', 'nothing I want to do']}\n"
          ]
        },
        {
          "name": "stderr",
          "output_type": "stream",
          "text": [
            "<ipython-input-48-fc00489da79d>:20: FutureWarning: The frame.append method is deprecated and will be removed from pandas in a future version. Use pandas.concat instead.\n",
            "  seond_ten_df = seond_ten_df.append({\n",
            "\rProcessing Rows:  42%|████▏     | 15/36 [02:29<03:34, 10.19s/it]"
          ]
        },
        {
          "name": "stdout",
          "output_type": "stream",
          "text": [
            "{'label': 'Poor appetite or overeating', 'value': 'yes', 'post_title': \"I literally can't do anything right now\", 'CLUEs': ['depressed', 'feeling more and more depressed', 'feeling incredibly lonely', \"haven't been able to get out of bed\", 'laying here', 'poor appetite']}\n"
          ]
        },
        {
          "name": "stderr",
          "output_type": "stream",
          "text": [
            "<ipython-input-48-fc00489da79d>:20: FutureWarning: The frame.append method is deprecated and will be removed from pandas in a future version. Use pandas.concat instead.\n",
            "  seond_ten_df = seond_ten_df.append({\n",
            "\rProcessing Rows:  44%|████▍     | 16/36 [02:41<03:33, 10.68s/it]"
          ]
        },
        {
          "name": "stdout",
          "output_type": "stream",
          "text": [
            "{'label': 'Thoughts that you would be better off dead or of hurting yourself in some way', 'value': 'no', 'post_title': \"I literally can't do anything right now\", 'CLUEs': ['feeling more and more depressed', 'feeling incredibly lonely', \"haven't been able to get out of bed\", \"there's nothing I want to do\", 'thoughts of hurting oneself']}\n"
          ]
        },
        {
          "name": "stderr",
          "output_type": "stream",
          "text": [
            "<ipython-input-48-fc00489da79d>:20: FutureWarning: The frame.append method is deprecated and will be removed from pandas in a future version. Use pandas.concat instead.\n",
            "  seond_ten_df = seond_ten_df.append({\n",
            "\rProcessing Rows:  47%|████▋     | 17/36 [02:49<03:12, 10.12s/it]"
          ]
        },
        {
          "name": "stdout",
          "output_type": "stream",
          "text": [
            "{'label': 'Trouble concentrating on things such as reading the newspaper or watching television', 'value': 'yes', 'post_title': \"I literally can't do anything right now\", 'CLUEs': ['depressed', 'lonely', 'laying here', 'how do I get out of this']}\n"
          ]
        },
        {
          "name": "stderr",
          "output_type": "stream",
          "text": [
            "<ipython-input-48-fc00489da79d>:20: FutureWarning: The frame.append method is deprecated and will be removed from pandas in a future version. Use pandas.concat instead.\n",
            "  seond_ten_df = seond_ten_df.append({\n",
            "\rProcessing Rows:  50%|█████     | 18/36 [03:05<03:29, 11.66s/it]"
          ]
        },
        {
          "name": "stdout",
          "output_type": "stream",
          "text": [
            "{'label': 'Trouble falling or staying asleep or sleeping too much', 'value': 'yes', 'post_title': \"I literally can't do anything right now\", 'CLUEs': [\"can't do anything right now\", 'feeling more and more depressed', \"haven't been able to get out of bed yet\"]}\n"
          ]
        },
        {
          "name": "stderr",
          "output_type": "stream",
          "text": [
            "<ipython-input-48-fc00489da79d>:20: FutureWarning: The frame.append method is deprecated and will be removed from pandas in a future version. Use pandas.concat instead.\n",
            "  seond_ten_df = seond_ten_df.append({\n",
            "\rProcessing Rows:  53%|█████▎    | 19/36 [03:17<03:20, 11.82s/it]"
          ]
        },
        {
          "name": "stdout",
          "output_type": "stream",
          "text": [
            "{'label': 'Feeling bad about yourself or that you are a failure or have let yourself or your family down', 'value': 'yes', 'post_title': 'Help with insomnia because of depression?', 'CLUEs': ['insomnia', 'depression', 'college student', 'drained', 'loss of what to do']}\n"
          ]
        },
        {
          "name": "stderr",
          "output_type": "stream",
          "text": [
            "<ipython-input-48-fc00489da79d>:20: FutureWarning: The frame.append method is deprecated and will be removed from pandas in a future version. Use pandas.concat instead.\n",
            "  seond_ten_df = seond_ten_df.append({\n",
            "\rProcessing Rows:  56%|█████▌    | 20/36 [03:24<02:47, 10.47s/it]"
          ]
        },
        {
          "name": "stdout",
          "output_type": "stream",
          "text": [
            "{'label': 'Feeling down depressed or hopeless', 'value': 'yes', 'post_title': 'Help with insomnia because of depression?', 'CLUEs': ['insomnia', 'depression', 'college student']}\n"
          ]
        },
        {
          "name": "stderr",
          "output_type": "stream",
          "text": [
            "<ipython-input-48-fc00489da79d>:20: FutureWarning: The frame.append method is deprecated and will be removed from pandas in a future version. Use pandas.concat instead.\n",
            "  seond_ten_df = seond_ten_df.append({\n",
            "\rProcessing Rows:  58%|█████▊    | 21/36 [03:32<02:26,  9.78s/it]"
          ]
        },
        {
          "name": "stdout",
          "output_type": "stream",
          "text": [
            "{'label': 'Feeling tired or having little energy', 'value': 'yes', 'post_title': 'Help with insomnia because of depression?', 'CLUEs': 'insomnia, depression, tired, little energy, drained'}\n"
          ]
        },
        {
          "name": "stderr",
          "output_type": "stream",
          "text": [
            "<ipython-input-48-fc00489da79d>:20: FutureWarning: The frame.append method is deprecated and will be removed from pandas in a future version. Use pandas.concat instead.\n",
            "  seond_ten_df = seond_ten_df.append({\n",
            "\rProcessing Rows:  61%|██████    | 22/36 [03:42<02:17,  9.80s/it]"
          ]
        },
        {
          "name": "stdout",
          "output_type": "stream",
          "text": [
            "{'label': 'Little interest or pleasure in doing', 'value': 'yes', 'post_title': 'Help with insomnia because of depression?', 'CLUEs': ['insomnia', 'depression', 'insomnia gets worse', 'depressed', 'putting my phone down', 'reading', 'melatonin supplements', 'college student', 'drained']}\n"
          ]
        },
        {
          "name": "stderr",
          "output_type": "stream",
          "text": [
            "<ipython-input-48-fc00489da79d>:20: FutureWarning: The frame.append method is deprecated and will be removed from pandas in a future version. Use pandas.concat instead.\n",
            "  seond_ten_df = seond_ten_df.append({\n",
            "\rProcessing Rows:  64%|██████▍   | 23/36 [03:56<02:24, 11.11s/it]"
          ]
        },
        {
          "name": "stdout",
          "output_type": "stream",
          "text": [
            "{'label': 'Moving or speaking so slowly that other people could have noticed Or the opposite being so fidgety or restless that you have been moving around a lot more than usual', 'value': 'yes', 'post_title': 'Help with insomnia because of depression?', 'CLUEs': ['insomnia', 'depression', 'worse when depression does', 'drained', 'at a loss']}\n"
          ]
        },
        {
          "name": "stderr",
          "output_type": "stream",
          "text": [
            "<ipython-input-48-fc00489da79d>:20: FutureWarning: The frame.append method is deprecated and will be removed from pandas in a future version. Use pandas.concat instead.\n",
            "  seond_ten_df = seond_ten_df.append({\n",
            "\rProcessing Rows:  67%|██████▋   | 24/36 [04:03<01:56,  9.69s/it]"
          ]
        },
        {
          "name": "stdout",
          "output_type": "stream",
          "text": [
            "{'label': 'Poor appetite or overeating', 'value': 'no', 'post_title': 'Help with insomnia because of depression?', 'CLUEs': ['insomnia', 'depression']}\n"
          ]
        },
        {
          "name": "stderr",
          "output_type": "stream",
          "text": [
            "<ipython-input-48-fc00489da79d>:20: FutureWarning: The frame.append method is deprecated and will be removed from pandas in a future version. Use pandas.concat instead.\n",
            "  seond_ten_df = seond_ten_df.append({\n",
            "\rProcessing Rows:  69%|██████▉   | 25/36 [04:12<01:43,  9.44s/it]"
          ]
        },
        {
          "name": "stdout",
          "output_type": "stream",
          "text": [
            "{'label': 'Thoughts that you would be better off dead or of hurting yourself in some way', 'value': 'no', 'post_title': 'Help with insomnia because of depression?', 'CLUEs': ['insomnia', 'depression', 'advice', 'bedtime routines', 'college student', 'drained', 'loss']}\n"
          ]
        },
        {
          "name": "stderr",
          "output_type": "stream",
          "text": [
            "<ipython-input-48-fc00489da79d>:20: FutureWarning: The frame.append method is deprecated and will be removed from pandas in a future version. Use pandas.concat instead.\n",
            "  seond_ten_df = seond_ten_df.append({\n",
            "\rProcessing Rows:  72%|███████▏  | 26/36 [04:18<01:25,  8.54s/it]"
          ]
        },
        {
          "name": "stdout",
          "output_type": "stream",
          "text": [
            "{'label': 'Trouble concentrating on things such as reading the newspaper or watching television', 'value': 'yes', 'post_title': 'Help with insomnia because of depression?', 'CLUEs': ['insomnia', 'depression']}\n"
          ]
        },
        {
          "name": "stderr",
          "output_type": "stream",
          "text": [
            "<ipython-input-48-fc00489da79d>:20: FutureWarning: The frame.append method is deprecated and will be removed from pandas in a future version. Use pandas.concat instead.\n",
            "  seond_ten_df = seond_ten_df.append({\n",
            "\rProcessing Rows:  75%|███████▌  | 27/36 [04:25<01:13,  8.19s/it]"
          ]
        },
        {
          "name": "stdout",
          "output_type": "stream",
          "text": [
            "{'label': 'Trouble falling or staying asleep or sleeping too much', 'value': 'yes', 'post_title': 'Help with insomnia because of depression?', 'CLUEs': ['insomnia', 'depression']}\n"
          ]
        },
        {
          "name": "stderr",
          "output_type": "stream",
          "text": [
            "<ipython-input-48-fc00489da79d>:20: FutureWarning: The frame.append method is deprecated and will be removed from pandas in a future version. Use pandas.concat instead.\n",
            "  seond_ten_df = seond_ten_df.append({\n",
            "\rProcessing Rows:  78%|███████▊  | 28/36 [04:34<01:07,  8.44s/it]"
          ]
        },
        {
          "name": "stdout",
          "output_type": "stream",
          "text": [
            "{'label': 'Feeling bad about yourself or that you are a failure or have let yourself or your family down', 'value': 'yes', 'post_title': 'I dont know what to do anymore', 'CLUEs': ['feeling really bad', 'worthless', 'no one likes me', 'lost their virginity', 'no friends', 'beaten by parents', 'depressed']}\n"
          ]
        },
        {
          "name": "stderr",
          "output_type": "stream",
          "text": [
            "<ipython-input-48-fc00489da79d>:20: FutureWarning: The frame.append method is deprecated and will be removed from pandas in a future version. Use pandas.concat instead.\n",
            "  seond_ten_df = seond_ten_df.append({\n",
            "\rProcessing Rows:  81%|████████  | 29/36 [04:45<01:03,  9.05s/it]"
          ]
        },
        {
          "name": "stdout",
          "output_type": "stream",
          "text": [
            "{'label': 'Feeling down depressed or hopeless', 'value': 'yes', 'post_title': 'I dont know what to do anymore', 'CLUEs': ['feeling really bad', 'thinking of suicide', 'feeling worthless', 'no friends', 'depressed', 'not willing to do anything']}\n"
          ]
        },
        {
          "name": "stderr",
          "output_type": "stream",
          "text": [
            "<ipython-input-48-fc00489da79d>:20: FutureWarning: The frame.append method is deprecated and will be removed from pandas in a future version. Use pandas.concat instead.\n",
            "  seond_ten_df = seond_ten_df.append({\n",
            "\rProcessing Rows:  83%|████████▎ | 30/36 [04:52<00:50,  8.40s/it]"
          ]
        },
        {
          "name": "stdout",
          "output_type": "stream",
          "text": [
            "{'label': 'Feeling tired or having little energy', 'value': 'yes', 'post_title': 'I dont know what to do anymore', 'CLUEs': ['feeling really bad', 'feeling worthless', 'depressed', 'no energy']}\n"
          ]
        },
        {
          "name": "stderr",
          "output_type": "stream",
          "text": [
            "<ipython-input-48-fc00489da79d>:20: FutureWarning: The frame.append method is deprecated and will be removed from pandas in a future version. Use pandas.concat instead.\n",
            "  seond_ten_df = seond_ten_df.append({\n",
            "\rProcessing Rows:  86%|████████▌ | 31/36 [05:02<00:44,  8.82s/it]"
          ]
        },
        {
          "name": "stdout",
          "output_type": "stream",
          "text": [
            "{'label': 'Little interest or pleasure in doing', 'value': 'yes', 'post_title': 'I dont know what to do anymore', 'CLUEs': ['feeling really bad', 'thinking of suicide', 'feeling worthless', 'lack of friends', 'depressed', 'lack of motivation']}\n"
          ]
        },
        {
          "name": "stderr",
          "output_type": "stream",
          "text": [
            "<ipython-input-48-fc00489da79d>:20: FutureWarning: The frame.append method is deprecated and will be removed from pandas in a future version. Use pandas.concat instead.\n",
            "  seond_ten_df = seond_ten_df.append({\n",
            "\rProcessing Rows:  89%|████████▉ | 32/36 [05:10<00:35,  8.84s/it]"
          ]
        },
        {
          "name": "stdout",
          "output_type": "stream",
          "text": [
            "{'label': 'Moving or speaking so slowly that other people could have noticed Or the opposite being so fidgety or restless that you have been moving around a lot more than usual', 'value': 'yes', 'post_title': 'I dont know what to do anymore', 'CLUEs': ['restless', 'moving around']}\n"
          ]
        },
        {
          "name": "stderr",
          "output_type": "stream",
          "text": [
            "<ipython-input-48-fc00489da79d>:20: FutureWarning: The frame.append method is deprecated and will be removed from pandas in a future version. Use pandas.concat instead.\n",
            "  seond_ten_df = seond_ten_df.append({\n",
            "\rProcessing Rows:  92%|█████████▏| 33/36 [05:18<00:25,  8.39s/it]"
          ]
        },
        {
          "name": "stdout",
          "output_type": "stream",
          "text": [
            "{'label': 'Poor appetite or overeating', 'value': 'no', 'post_title': 'I dont know what to do anymore', 'CLUEs': ['lifting words', 'motivate', 'be brave', 'keep on going']}\n"
          ]
        },
        {
          "name": "stderr",
          "output_type": "stream",
          "text": [
            "<ipython-input-48-fc00489da79d>:20: FutureWarning: The frame.append method is deprecated and will be removed from pandas in a future version. Use pandas.concat instead.\n",
            "  seond_ten_df = seond_ten_df.append({\n",
            "\rProcessing Rows:  94%|█████████▍| 34/36 [05:31<00:19,  9.92s/it]"
          ]
        },
        {
          "name": "stdout",
          "output_type": "stream",
          "text": [
            "{'label': 'Thoughts that you would be better off dead or of hurting yourself in some way', 'value': 'yes', 'post_title': 'I dont know what to do anymore', 'CLUEs': ['suicide', 'worthless', 'no one likes me', 'beat me in the past', 'pussy to kill myself', 'lifting words']}\n"
          ]
        },
        {
          "name": "stderr",
          "output_type": "stream",
          "text": [
            "<ipython-input-48-fc00489da79d>:20: FutureWarning: The frame.append method is deprecated and will be removed from pandas in a future version. Use pandas.concat instead.\n",
            "  seond_ten_df = seond_ten_df.append({\n",
            "\rProcessing Rows:  97%|█████████▋| 35/36 [05:41<00:09,  9.72s/it]"
          ]
        },
        {
          "name": "stdout",
          "output_type": "stream",
          "text": [
            "{'label': 'Trouble concentrating on things such as reading the newspaper or watching television', 'value': 'yes', 'post_title': 'I dont know what to do anymore', 'CLUEs': ['cant make friends', 'antisocial', 'depressed']}\n"
          ]
        },
        {
          "name": "stderr",
          "output_type": "stream",
          "text": [
            "<ipython-input-48-fc00489da79d>:20: FutureWarning: The frame.append method is deprecated and will be removed from pandas in a future version. Use pandas.concat instead.\n",
            "  seond_ten_df = seond_ten_df.append({\n",
            "\rProcessing Rows: 100%|██████████| 36/36 [05:47<00:00,  8.64s/it]"
          ]
        },
        {
          "name": "stdout",
          "output_type": "stream",
          "text": [
            "{'label': 'Trouble falling or staying asleep or sleeping too much', 'value': 'yes', 'post_title': 'I dont know what to do anymore', 'CLUEs': ['cant make friends', 'depressed', 'feeling bad', 'not willing to do anything', 'trouble sleeping']}\n"
          ]
        }
      ],
      "source": [
        "second_ten_rows =  primate_input_df.iloc[16:20]\n",
        "\n",
        "total_rows = len(second_ten_rows) * 9\n",
        "progress_bar = tqdm(total=total_rows, desc=\"Processing Rows\")\n",
        "\n",
        "for index, row in second_ten_rows.iterrows():\n",
        "    post_title = row['post_title']\n",
        "    post_text = row['post_text']\n",
        "    for key, value in pre_processed_labels.items():\n",
        "      boolean, gpt_answer = get_answer_2305_08377(post_title, post_text, value)\n",
        "      # print(f\"The result is: {boolean} and {gpt_answer}\")\n",
        "      if boolean:\n",
        "        load_gpt_ans_to_json = json.loads(gpt_answer)\n",
        "        print(load_gpt_ans_to_json)\n",
        "        result = {\n",
        "            \"bool\": boolean,\n",
        "            \"json\": load_gpt_ans_to_json\n",
        "        }\n",
        "\n",
        "        seond_ten_df = seond_ten_df.append({\n",
        "            'post_title': load_gpt_ans_to_json['post_title'],\n",
        "            'label': load_gpt_ans_to_json['label'],\n",
        "            'value': load_gpt_ans_to_json['value']\n",
        "        }, ignore_index=True)\n",
        "\n",
        "      if not boolean:\n",
        "        result = {\n",
        "            \"bool\": boolean,\n",
        "            \"error\": gpt_answer\n",
        "        }\n",
        "      # Add to dataframe\n",
        "      # Create a new JSON file for each iteration\n",
        "      file_path = f\"gpt_result_{post_title}_{key}.json\"  # Customize the file name as desired\n",
        "\n",
        "      with open(file_path, \"w\") as json_file:\n",
        "          json.dump(result, json_file, indent=2)\n",
        "\n",
        "      progress_bar.update(1)"
      ]
    },
    {
      "cell_type": "code",
      "execution_count": null,
      "metadata": {
        "colab": {
          "base_uri": "https://localhost:8080/"
        },
        "id": "vLINMAGFEyoY",
        "outputId": "02f67acd-8907-44b8-8b5c-ff1bec527058"
      },
      "outputs": [
        {
          "name": "stdout",
          "output_type": "stream",
          "text": [
            "<class 'pandas.core.frame.DataFrame'>\n",
            "RangeIndex: 87 entries, 0 to 86\n",
            "Data columns (total 3 columns):\n",
            " #   Column      Non-Null Count  Dtype \n",
            "---  ------      --------------  ----- \n",
            " 0   post_title  87 non-null     object\n",
            " 1   label       87 non-null     object\n",
            " 2   value       87 non-null     object\n",
            "dtypes: object(3)\n",
            "memory usage: 2.2+ KB\n"
          ]
        }
      ],
      "source": [
        "seond_ten_df.info()\n",
        "seond_ten_df.to_csv('seond_ten_output.csv', index=False)\n"
      ]
    },
    {
      "cell_type": "markdown",
      "metadata": {
        "id": "0R9Z9XtGJsIx"
      },
      "source": [
        "## Third 10 rows"
      ]
    },
    {
      "cell_type": "code",
      "execution_count": null,
      "metadata": {
        "id": "CZsNfMRMJm9G"
      },
      "outputs": [],
      "source": [
        "columns = ['post_title', 'label', 'value']\n",
        "\n",
        "# Create an empty DataFrame\n",
        "third_ten_df = pd.DataFrame(columns=columns)"
      ]
    },
    {
      "cell_type": "code",
      "execution_count": null,
      "metadata": {
        "colab": {
          "base_uri": "https://localhost:8080/"
        },
        "id": "2g6DCLBE5UbW",
        "outputId": "ce22add8-1404-4588-aaad-70bde2da4be7"
      },
      "outputs": [
        {
          "name": "stdout",
          "output_type": "stream",
          "text": [
            "<class 'pandas.core.frame.DataFrame'>\n",
            "RangeIndex: 60 entries, 0 to 59\n",
            "Data columns (total 3 columns):\n",
            " #   Column      Non-Null Count  Dtype \n",
            "---  ------      --------------  ----- \n",
            " 0   post_title  60 non-null     object\n",
            " 1   label       60 non-null     object\n",
            " 2   value       60 non-null     object\n",
            "dtypes: object(3)\n",
            "memory usage: 1.5+ KB\n"
          ]
        }
      ],
      "source": [
        "third_ten_df.info()"
      ]
    },
    {
      "cell_type": "code",
      "execution_count": null,
      "metadata": {
        "colab": {
          "base_uri": "https://localhost:8080/"
        },
        "id": "UUFLBpU8Jqj1",
        "outputId": "b930695a-854c-464c-bce5-02197c8e9666"
      },
      "outputs": [
        {
          "name": "stderr",
          "output_type": "stream",
          "text": [
            "Processing Rows:   0%|          | 0/18 [24:09<?, ?it/s]\n",
            "<ipython-input-17-a76b9f0d44a1>:20: FutureWarning: The frame.append method is deprecated and will be removed from pandas in a future version. Use pandas.concat instead.\n",
            "  third_ten_df = third_ten_df.append({\n",
            "Processing Rows:   6%|▌         | 1/18 [00:20<05:40, 20.04s/it]"
          ]
        },
        {
          "name": "stdout",
          "output_type": "stream",
          "text": [
            "{'label': 'Feeling bad about yourself or that you are a failure or have let yourself or your family down', 'value': 'yes', 'post_title': 'So Much Pain In The World', 'CLUEs': ['struggling with suicidal thoughts', 'suffering I see in the world', 'how someone can have 4 houses', 'take 12 cruises a year', 'fly around in private jets', 'selfish as a species', 'Darwinism no longer controls', 'survival of the wealthy']}\n"
          ]
        },
        {
          "name": "stderr",
          "output_type": "stream",
          "text": [
            "<ipython-input-17-a76b9f0d44a1>:20: FutureWarning: The frame.append method is deprecated and will be removed from pandas in a future version. Use pandas.concat instead.\n",
            "  third_ten_df = third_ten_df.append({\n",
            "\rProcessing Rows:  11%|█         | 2/18 [00:28<03:35, 13.48s/it]"
          ]
        },
        {
          "name": "stdout",
          "output_type": "stream",
          "text": [
            "{'label': 'Feeling down depressed or hopeless', 'value': 'yes', 'post_title': 'So Much Pain In The World', 'CLUEs': ['suicide note', 'struggling with suicidal thoughts', 'suffering', 'selfish', 'hopelessness']}\n"
          ]
        },
        {
          "name": "stderr",
          "output_type": "stream",
          "text": [
            "<ipython-input-17-a76b9f0d44a1>:20: FutureWarning: The frame.append method is deprecated and will be removed from pandas in a future version. Use pandas.concat instead.\n",
            "  third_ten_df = third_ten_df.append({\n",
            "\rProcessing Rows:  17%|█▋        | 3/18 [00:39<03:00, 12.04s/it]"
          ]
        },
        {
          "name": "stdout",
          "output_type": "stream",
          "text": [
            "{'label': 'Feeling tired or having little energy', 'value': 'no', 'post_title': 'So Much Pain In The World', 'CLUEs': ['struggling with suicidal thoughts', 'suffering in the world', 'unable to understand selfishness', 'lack of energy']}\n"
          ]
        },
        {
          "name": "stderr",
          "output_type": "stream",
          "text": [
            "<ipython-input-17-a76b9f0d44a1>:20: FutureWarning: The frame.append method is deprecated and will be removed from pandas in a future version. Use pandas.concat instead.\n",
            "  third_ten_df = third_ten_df.append({\n",
            "\rProcessing Rows:  22%|██▏       | 4/18 [00:48<02:35, 11.11s/it]"
          ]
        },
        {
          "name": "stdout",
          "output_type": "stream",
          "text": [
            "{'label': 'Little interest or pleasure in doing', 'value': 'yes', 'post_title': 'So Much Pain In The World', 'CLUEs': ['struggling with suicidal thoughts', 'suffering in the world', \"little things in life aren't enough\", 'selfishness of the wealthy']}\n"
          ]
        },
        {
          "name": "stderr",
          "output_type": "stream",
          "text": [
            "<ipython-input-17-a76b9f0d44a1>:20: FutureWarning: The frame.append method is deprecated and will be removed from pandas in a future version. Use pandas.concat instead.\n",
            "  third_ten_df = third_ten_df.append({\n",
            "\rProcessing Rows:  28%|██▊       | 5/18 [01:01<02:32, 11.74s/it]"
          ]
        },
        {
          "name": "stdout",
          "output_type": "stream",
          "text": [
            "{'label': 'Moving or speaking so slowly that other people could have noticed Or the opposite being so fidgety or restless that you have been moving around a lot more than usual', 'value': 'No', 'post_title': 'So Much Pain In The World', 'CLUEs': ['suffering', 'struggling', 'suicidal thoughts', 'selfish', 'moving around a lot more than usual']}\n"
          ]
        },
        {
          "name": "stderr",
          "output_type": "stream",
          "text": [
            "<ipython-input-17-a76b9f0d44a1>:20: FutureWarning: The frame.append method is deprecated and will be removed from pandas in a future version. Use pandas.concat instead.\n",
            "  third_ten_df = third_ten_df.append({\n",
            "\rProcessing Rows:  33%|███▎      | 6/18 [11:09<42:52, 214.41s/it]"
          ]
        },
        {
          "name": "stdout",
          "output_type": "stream",
          "text": [
            "{'label': 'Poor appetite or overeating', 'value': 'no', 'post_title': 'So Much Pain In The World', 'CLUEs': ['overeating']}\n"
          ]
        },
        {
          "name": "stderr",
          "output_type": "stream",
          "text": [
            "<ipython-input-17-a76b9f0d44a1>:20: FutureWarning: The frame.append method is deprecated and will be removed from pandas in a future version. Use pandas.concat instead.\n",
            "  third_ten_df = third_ten_df.append({\n",
            "\rProcessing Rows:  39%|███▉      | 7/18 [11:19<27:04, 147.67s/it]"
          ]
        },
        {
          "name": "stdout",
          "output_type": "stream",
          "text": [
            "{'label': 'Thoughts that you would be better off dead or of hurting yourself in some way', 'value': 'yes', 'post_title': 'So Much Pain In The World', 'CLUEs': ['suicide note', 'struggling with suicidal thoughts', 'suffering in the world', 'selfishness of the wealthy']}\n"
          ]
        },
        {
          "name": "stderr",
          "output_type": "stream",
          "text": [
            "<ipython-input-17-a76b9f0d44a1>:20: FutureWarning: The frame.append method is deprecated and will be removed from pandas in a future version. Use pandas.concat instead.\n",
            "  third_ten_df = third_ten_df.append({\n",
            "\rProcessing Rows:  44%|████▍     | 8/18 [11:32<17:26, 104.69s/it]"
          ]
        },
        {
          "name": "stdout",
          "output_type": "stream",
          "text": [
            "{'label': 'Trouble concentrating on things such as reading the newspaper or watching television', 'value': 'yes', 'post_title': 'So Much Pain In The World', 'CLUEs': ['struggling with suicidal thoughts', 'suffering I see in the world', \"can't understand how someone can have 4 houses\", 'survival of the wealthy']}\n"
          ]
        },
        {
          "name": "stderr",
          "output_type": "stream",
          "text": [
            "<ipython-input-17-a76b9f0d44a1>:20: FutureWarning: The frame.append method is deprecated and will be removed from pandas in a future version. Use pandas.concat instead.\n",
            "  third_ten_df = third_ten_df.append({\n",
            "\rProcessing Rows:  50%|█████     | 9/18 [11:45<11:23, 75.90s/it] "
          ]
        },
        {
          "name": "stdout",
          "output_type": "stream",
          "text": [
            "{'label': 'Trouble falling or staying asleep or sleeping too much', 'value': 'yes', 'post_title': 'So Much Pain In The World', 'CLUEs': ['struggling with suicidal thoughts', 'suffering I see in the world', \"can't understand how someone can have 4 houses, take 12 cruises a year and fly around in private jets when everyone else is dying\", 'survival of the wealthy']}\n"
          ]
        },
        {
          "name": "stderr",
          "output_type": "stream",
          "text": [
            "<ipython-input-17-a76b9f0d44a1>:20: FutureWarning: The frame.append method is deprecated and will be removed from pandas in a future version. Use pandas.concat instead.\n",
            "  third_ten_df = third_ten_df.append({\n",
            "\rProcessing Rows:  56%|█████▌    | 10/18 [12:00<07:38, 57.29s/it]"
          ]
        },
        {
          "name": "stdout",
          "output_type": "stream",
          "text": [
            "{'label': 'Feeling bad about yourself or that you are a failure or have let yourself or your family down', 'value': 'yes', 'post_title': \"am I suicidal even if I know I won't kill myself?\", 'CLUEs': ['nice it would be to be dead', 'seriously considered self harm', 'strong urge to do so', 'no drive to do anything', 'irritable as fuck', 'nothing is going right', 'no urge to change anything']}\n"
          ]
        },
        {
          "name": "stderr",
          "output_type": "stream",
          "text": [
            "<ipython-input-17-a76b9f0d44a1>:20: FutureWarning: The frame.append method is deprecated and will be removed from pandas in a future version. Use pandas.concat instead.\n",
            "  third_ten_df = third_ten_df.append({\n",
            "\rProcessing Rows:  61%|██████    | 11/18 [12:14<05:06, 43.83s/it]"
          ]
        },
        {
          "name": "stdout",
          "output_type": "stream",
          "text": [
            "{'label': 'Feeling down depressed or hopeless', 'value': 'yes', 'post_title': \"am I suicidal even if I know I won't kill myself?\", 'CLUEs': ['seriously considered self harm', 'strong urge to do so', 'want everything to end', 'no drive to do anything', 'irritable as fuck', 'mindset', 'no urge to change anything', 'questioning if this is considered suicidal']}\n"
          ]
        },
        {
          "name": "stderr",
          "output_type": "stream",
          "text": [
            "<ipython-input-17-a76b9f0d44a1>:20: FutureWarning: The frame.append method is deprecated and will be removed from pandas in a future version. Use pandas.concat instead.\n",
            "  third_ten_df = third_ten_df.append({\n",
            "\rProcessing Rows:  67%|██████▋   | 12/18 [12:25<03:24, 34.02s/it]"
          ]
        },
        {
          "name": "stdout",
          "output_type": "stream",
          "text": [
            "{'label': 'Feeling tired or having little energy', 'value': 'no', 'post_title': \"am I suicidal even if I know I won't kill myself?\", 'CLUEs': ['depressed', 'seriously considered self harm', 'strong urge to do so', 'no drive to do anything', 'irritable', 'want everything to end', 'no urge to change anything']}\n"
          ]
        },
        {
          "name": "stderr",
          "output_type": "stream",
          "text": [
            "<ipython-input-17-a76b9f0d44a1>:20: FutureWarning: The frame.append method is deprecated and will be removed from pandas in a future version. Use pandas.concat instead.\n",
            "  third_ten_df = third_ten_df.append({\n",
            "\rProcessing Rows:  72%|███████▏  | 13/18 [13:01<02:52, 34.59s/it]"
          ]
        },
        {
          "name": "stdout",
          "output_type": "stream",
          "text": [
            "{'label': 'Little interest or pleasure in doing', 'value': 'yes', 'post_title': \"am I suicidal even if I know I won't kill myself?\", 'CLUEs': ['nice it would be to be dead', 'seriously considered self harm', 'no drive to do anything', 'everything to end', 'irritable as fuck', \"haven't taken any steps to self harm\", 'tried to look for psychiatrists and psychologists']}\n"
          ]
        },
        {
          "name": "stderr",
          "output_type": "stream",
          "text": [
            "<ipython-input-17-a76b9f0d44a1>:20: FutureWarning: The frame.append method is deprecated and will be removed from pandas in a future version. Use pandas.concat instead.\n",
            "  third_ten_df = third_ten_df.append({\n",
            "\rProcessing Rows:  78%|███████▊  | 14/18 [13:12<01:49, 27.45s/it]"
          ]
        },
        {
          "name": "stdout",
          "output_type": "stream",
          "text": [
            "{'label': 'Moving or speaking so slowly that other people could have noticed Or the opposite being so fidgety or restless that you have been moving around a lot more than usual', 'value': 'yes', 'post_title': \"am I suicidal even if I know I won't kill myself?\", 'CLUEs': ['moving around a lot more than usual']}\n"
          ]
        },
        {
          "name": "stderr",
          "output_type": "stream",
          "text": [
            "<ipython-input-17-a76b9f0d44a1>:20: FutureWarning: The frame.append method is deprecated and will be removed from pandas in a future version. Use pandas.concat instead.\n",
            "  third_ten_df = third_ten_df.append({\n",
            "\rProcessing Rows:  83%|████████▎ | 15/18 [13:23<01:07, 22.46s/it]"
          ]
        },
        {
          "name": "stdout",
          "output_type": "stream",
          "text": [
            "{'label': 'Poor appetite or overeating', 'value': 'no', 'post_title': \"am I suicidal even if I know I won't kill myself?\", 'CLUEs': ['self harm', 'internal pain', 'strong urge to do so', 'no drive to do anything', 'irritable', 'want everything to end']}\n"
          ]
        },
        {
          "name": "stderr",
          "output_type": "stream",
          "text": [
            "<ipython-input-17-a76b9f0d44a1>:20: FutureWarning: The frame.append method is deprecated and will be removed from pandas in a future version. Use pandas.concat instead.\n",
            "  third_ten_df = third_ten_df.append({\n",
            "\rProcessing Rows:  89%|████████▉ | 16/18 [13:36<00:39, 19.64s/it]"
          ]
        },
        {
          "name": "stdout",
          "output_type": "stream",
          "text": [
            "{'label': 'Thoughts that you would be better off dead or of hurting yourself in some way', 'value': 'yes', 'post_title': \"am I suicidal even if I know I won't kill myself?\", 'CLUEs': ['nice it would be to be dead', 'seriously considered self-harm', 'strong urge to do so', 'just want everything to end', 'no urge to change anything', 'considered suicidal']}\n"
          ]
        },
        {
          "name": "stderr",
          "output_type": "stream",
          "text": [
            "<ipython-input-17-a76b9f0d44a1>:20: FutureWarning: The frame.append method is deprecated and will be removed from pandas in a future version. Use pandas.concat instead.\n",
            "  third_ten_df = third_ten_df.append({\n",
            "\rProcessing Rows:  94%|█████████▍| 17/18 [13:50<00:18, 18.08s/it]"
          ]
        },
        {
          "name": "stdout",
          "output_type": "stream",
          "text": [
            "{'label': 'Trouble concentrating on things such as reading the newspaper or watching television', 'value': 'No', 'post_title': \"am I suicidal even if I know I won't kill myself?\", 'CLUEs': ['considered self harm', 'escape the internal pain', 'strong urge to do so', 'no drive to do anything', 'irritable as fuck']}\n"
          ]
        },
        {
          "name": "stderr",
          "output_type": "stream",
          "text": [
            "<ipython-input-17-a76b9f0d44a1>:20: FutureWarning: The frame.append method is deprecated and will be removed from pandas in a future version. Use pandas.concat instead.\n",
            "  third_ten_df = third_ten_df.append({\n",
            "\rProcessing Rows: 100%|██████████| 18/18 [14:04<00:00, 16.77s/it]"
          ]
        },
        {
          "name": "stdout",
          "output_type": "stream",
          "text": [
            "{'label': 'Trouble falling or staying asleep or sleeping too much', 'value': 'Yes', 'post_title': \"am I suicidal even if I know I won't kill myself?\", 'CLUEs': ['considered self harm', 'strong urge to do so', 'just want everything to end', 'no drive to do anything', 'irritable as fuck', 'tried to look for psychiatrists and psychologists']}\n"
          ]
        }
      ],
      "source": [
        "third_ten_rows =  primate_input_df.iloc[28:30]\n",
        "\n",
        "total_rows = len(third_ten_rows) * 9\n",
        "progress_bar = tqdm(total=total_rows, desc=\"Processing Rows\")\n",
        "\n",
        "for index, row in third_ten_rows.iterrows():\n",
        "    post_title = row['post_title']\n",
        "    post_text = row['post_text']\n",
        "    for key, value in pre_processed_labels.items():\n",
        "      boolean, gpt_answer = get_answer_2305_08377(post_title, post_text, value)\n",
        "      # print(f\"The result is: {boolean} and {gpt_answer}\")\n",
        "      if boolean:\n",
        "        load_gpt_ans_to_json = json.loads(gpt_answer)\n",
        "        print(load_gpt_ans_to_json)\n",
        "        result = {\n",
        "            \"bool\": boolean,\n",
        "            \"json\": load_gpt_ans_to_json\n",
        "        }\n",
        "\n",
        "        third_ten_df = third_ten_df.append({\n",
        "            'post_title': load_gpt_ans_to_json['post_title'],\n",
        "            'label': load_gpt_ans_to_json['label'],\n",
        "            'value': load_gpt_ans_to_json['value']\n",
        "        }, ignore_index=True)\n",
        "\n",
        "      if not boolean:\n",
        "        result = {\n",
        "            \"bool\": boolean,\n",
        "            \"error\": gpt_answer\n",
        "        }\n",
        "      # Add to dataframe\n",
        "      # Create a new JSON file for each iteration\n",
        "      file_path = f\"gpt_result_{post_title}_{key}.json\"  # Customize the file name as desired\n",
        "\n",
        "      with open(file_path, \"w\") as json_file:\n",
        "          json.dump(result, json_file, indent=2)\n",
        "\n",
        "      progress_bar.update(1)"
      ]
    },
    {
      "cell_type": "code",
      "execution_count": null,
      "metadata": {
        "colab": {
          "base_uri": "https://localhost:8080/"
        },
        "id": "PHSx5Ifo8Paq",
        "outputId": "ddeab25e-fbfc-4ae8-9e02-38c3eb9f3eca"
      },
      "outputs": [
        {
          "name": "stdout",
          "output_type": "stream",
          "text": [
            "<class 'pandas.core.frame.DataFrame'>\n",
            "RangeIndex: 78 entries, 0 to 77\n",
            "Data columns (total 3 columns):\n",
            " #   Column      Non-Null Count  Dtype \n",
            "---  ------      --------------  ----- \n",
            " 0   post_title  78 non-null     object\n",
            " 1   label       78 non-null     object\n",
            " 2   value       78 non-null     object\n",
            "dtypes: object(3)\n",
            "memory usage: 2.0+ KB\n"
          ]
        }
      ],
      "source": [
        "third_ten_df.info()\n",
        "third_ten_df.to_csv('third_ten_output.csv', index=False)"
      ]
    },
    {
      "cell_type": "markdown",
      "metadata": {
        "id": "KdXWb9D8LLy-"
      },
      "source": [
        "## Forth 10 rows"
      ]
    },
    {
      "cell_type": "code",
      "execution_count": null,
      "metadata": {
        "id": "-JTZcOgg9dWK"
      },
      "outputs": [],
      "source": [
        "columns = ['post_title', 'label', 'value']\n",
        "\n",
        "# Create an empty DataFrame\n",
        "forth_ten_df = pd.DataFrame(columns=columns)"
      ]
    },
    {
      "cell_type": "code",
      "execution_count": null,
      "metadata": {
        "colab": {
          "base_uri": "https://localhost:8080/"
        },
        "id": "kbAompWS9dmb",
        "outputId": "4fae3e27-3d9f-4a57-9c3b-98470e2c9020"
      },
      "outputs": [
        {
          "name": "stderr",
          "output_type": "stream",
          "text": [
            "Processing Rows:   0%|          | 0/90 [03:41<?, ?it/s]\n",
            "<ipython-input-21-03a526c5feec>:20: FutureWarning: The frame.append method is deprecated and will be removed from pandas in a future version. Use pandas.concat instead.\n",
            "  forth_ten_df = forth_ten_df.append({\n",
            "Processing Rows:   1%|          | 1/90 [00:14<20:51, 14.06s/it]"
          ]
        },
        {
          "name": "stdout",
          "output_type": "stream",
          "text": [
            "{'label': 'Feeling bad about yourself or that you are a failure or have let yourself or your family down', 'value': 'yes', 'post_title': 'i have been diagnosed with depression but my dad refuses to consider medication', 'CLUEs': ['diagnosed with major depressive disorder', 'dad refuses to consider medication', \"believes I'm exaggerating my symptoms\", 'struggle doing things I used to love or any basic task']}\n"
          ]
        },
        {
          "name": "stderr",
          "output_type": "stream",
          "text": [
            "<ipython-input-21-03a526c5feec>:20: FutureWarning: The frame.append method is deprecated and will be removed from pandas in a future version. Use pandas.concat instead.\n",
            "  forth_ten_df = forth_ten_df.append({\n",
            "\rProcessing Rows:   2%|▏         | 2/90 [00:29<21:25, 14.60s/it]"
          ]
        },
        {
          "name": "stdout",
          "output_type": "stream",
          "text": [
            "{'label': 'Feeling down depressed or hopeless', 'value': 'yes', 'post_title': 'i have been diagnosed with depression but my dad refuses to consider medication', 'CLUEs': ['diagnosed', 'depression', 'dad refuses', 'consider medication', 'major depressive disorder', 'antidepressants', 'help', 'exaggerating symptoms', 'trying to be depressed', 'struggle doing things', 'basic task']}\n"
          ]
        },
        {
          "name": "stderr",
          "output_type": "stream",
          "text": [
            "<ipython-input-21-03a526c5feec>:20: FutureWarning: The frame.append method is deprecated and will be removed from pandas in a future version. Use pandas.concat instead.\n",
            "  forth_ten_df = forth_ten_df.append({\n",
            "\rProcessing Rows:   3%|▎         | 3/90 [00:42<20:09, 13.91s/it]"
          ]
        },
        {
          "name": "stdout",
          "output_type": "stream",
          "text": [
            "{'label': 'Feeling tired or having little energy', 'value': 'yes', 'post_title': 'i have been diagnosed with depression but my dad refuses to consider medication', 'CLUEs': ['diagnosed with major depressive disorder', \"won't consider antidepressants\", 'struggle doing things', 'tired', 'little energy']}\n"
          ]
        },
        {
          "name": "stderr",
          "output_type": "stream",
          "text": [
            "<ipython-input-21-03a526c5feec>:20: FutureWarning: The frame.append method is deprecated and will be removed from pandas in a future version. Use pandas.concat instead.\n",
            "  forth_ten_df = forth_ten_df.append({\n",
            "\rProcessing Rows:   4%|▍         | 4/90 [00:52<17:52, 12.47s/it]"
          ]
        },
        {
          "name": "stdout",
          "output_type": "stream",
          "text": [
            "{'label': 'Little interest or pleasure in doing', 'value': 'yes', 'post_title': 'i have been diagnosed with depression but my dad refuses to consider medication', 'CLUEs': ['diagnosed with major depressive disorder', \"dad won't consider medication\", 'not interested in things used to love']}\n"
          ]
        },
        {
          "name": "stderr",
          "output_type": "stream",
          "text": [
            "<ipython-input-21-03a526c5feec>:20: FutureWarning: The frame.append method is deprecated and will be removed from pandas in a future version. Use pandas.concat instead.\n",
            "  forth_ten_df = forth_ten_df.append({\n",
            "\rProcessing Rows:   6%|▌         | 5/90 [01:05<17:51, 12.61s/it]"
          ]
        },
        {
          "name": "stdout",
          "output_type": "stream",
          "text": [
            "{'label': 'Moving or speaking so slowly that other people could have noticed Or the opposite being so fidgety or restless that you have been moving around a lot more than usual', 'value': 'yes', 'post_title': 'i have been diagnosed with depression but my dad refuses to consider medication', 'CLUEs': ['antidepressants', 'doctor diagnosis', \"dad's belief\", 'struggling with tasks']}\n"
          ]
        },
        {
          "name": "stderr",
          "output_type": "stream",
          "text": [
            "<ipython-input-21-03a526c5feec>:20: FutureWarning: The frame.append method is deprecated and will be removed from pandas in a future version. Use pandas.concat instead.\n",
            "  forth_ten_df = forth_ten_df.append({\n",
            "\rProcessing Rows:   7%|▋         | 6/90 [01:15<16:41, 11.93s/it]"
          ]
        },
        {
          "name": "stdout",
          "output_type": "stream",
          "text": [
            "{'label': 'Poor appetite or overeating', 'value': 'yes', 'post_title': 'i have been diagnosed with depression but my dad refuses to consider medication', 'CLUEs': ['medication', 'antidepressants', 'depression', 'symptoms', 'struggle', 'overeating']}\n"
          ]
        },
        {
          "name": "stderr",
          "output_type": "stream",
          "text": [
            "<ipython-input-21-03a526c5feec>:20: FutureWarning: The frame.append method is deprecated and will be removed from pandas in a future version. Use pandas.concat instead.\n",
            "  forth_ten_df = forth_ten_df.append({\n",
            "\rProcessing Rows:   8%|▊         | 7/90 [01:31<17:57, 12.98s/it]"
          ]
        },
        {
          "name": "stdout",
          "output_type": "stream",
          "text": [
            "{'label': 'Thoughts that you would be better off dead or of hurting yourself in some way', 'value': 'Yes', 'post_title': 'i have been diagnosed with depression but my dad refuses to consider medication', 'CLUEs': ['diagnosed with major depressive disorder', \"dad won't consider antidepressants\", \"dad believes I'm exaggerating symptoms\", 'struggling to do things I used to love', 'what can I do about this?']}\n"
          ]
        },
        {
          "name": "stderr",
          "output_type": "stream",
          "text": [
            "<ipython-input-21-03a526c5feec>:20: FutureWarning: The frame.append method is deprecated and will be removed from pandas in a future version. Use pandas.concat instead.\n",
            "  forth_ten_df = forth_ten_df.append({\n",
            "\rProcessing Rows:   9%|▉         | 8/90 [01:41<16:45, 12.27s/it]"
          ]
        },
        {
          "name": "stdout",
          "output_type": "stream",
          "text": [
            "{'label': 'Trouble concentrating on things such as reading the newspaper or watching television', 'value': 'yes', 'post_title': 'i have been diagnosed with depression but my dad refuses to consider medication', 'CLUEs': ['antidepressants', 'struggle doing things']}\n"
          ]
        },
        {
          "name": "stderr",
          "output_type": "stream",
          "text": [
            "<ipython-input-21-03a526c5feec>:20: FutureWarning: The frame.append method is deprecated and will be removed from pandas in a future version. Use pandas.concat instead.\n",
            "  forth_ten_df = forth_ten_df.append({\n",
            "\rProcessing Rows:  10%|█         | 9/90 [11:54<4:30:03, 200.04s/it]"
          ]
        },
        {
          "name": "stdout",
          "output_type": "stream",
          "text": [
            "{'label': 'Trouble falling or staying asleep or sleeping too much', 'value': 'no', 'post_title': 'i have been diagnosed with depression but my dad refuses to consider medication', 'CLUEs': ['diagnosed with major depressive disorder', \"dad won't consider taking antidepressants\", 'struggling with tasks', 'what can I do about this']}\n"
          ]
        },
        {
          "name": "stderr",
          "output_type": "stream",
          "text": [
            "<ipython-input-21-03a526c5feec>:20: FutureWarning: The frame.append method is deprecated and will be removed from pandas in a future version. Use pandas.concat instead.\n",
            "  forth_ten_df = forth_ten_df.append({\n",
            "\rProcessing Rows:  11%|█         | 10/90 [15:43<4:38:44, 209.05s/it]"
          ]
        },
        {
          "name": "stdout",
          "output_type": "stream",
          "text": [
            "{'label': 'Feeling bad about yourself or that you are a failure or have let yourself or your family down', 'value': 'yes', 'post_title': 'why do I feel a void, or a hole in my chest?', 'CLUEs': ['feel', 'void', 'chest', 'sad', 'emotional', 'triggered', 'motivated']}\n"
          ]
        },
        {
          "name": "stderr",
          "output_type": "stream",
          "text": [
            "<ipython-input-21-03a526c5feec>:20: FutureWarning: The frame.append method is deprecated and will be removed from pandas in a future version. Use pandas.concat instead.\n",
            "  forth_ten_df = forth_ten_df.append({\n",
            "\rProcessing Rows:  12%|█▏        | 11/90 [15:56<3:16:09, 148.98s/it]"
          ]
        },
        {
          "name": "stdout",
          "output_type": "stream",
          "text": [
            "{'label': 'Feeling down depressed or hopeless', 'value': 'yes', 'post_title': 'why do I feel a void, or a hole in my chest?', 'CLUEs': ['emotional hole', 'void', 'less motivated', 'feelings triggered']}\n"
          ]
        },
        {
          "name": "stderr",
          "output_type": "stream",
          "text": [
            "<ipython-input-21-03a526c5feec>:20: FutureWarning: The frame.append method is deprecated and will be removed from pandas in a future version. Use pandas.concat instead.\n",
            "  forth_ten_df = forth_ten_df.append({\n",
            "\rProcessing Rows:  13%|█▎        | 12/90 [16:06<2:18:33, 106.59s/it]"
          ]
        },
        {
          "name": "stdout",
          "output_type": "stream",
          "text": [
            "{'label': 'Feeling tired or having little energy', 'value': 'no', 'post_title': 'why do I feel a void, or a hole in my chest?', 'CLUEs': ['void', 'hole', 'emotional', 'chest']}\n"
          ]
        },
        {
          "name": "stderr",
          "output_type": "stream",
          "text": [
            "<ipython-input-21-03a526c5feec>:20: FutureWarning: The frame.append method is deprecated and will be removed from pandas in a future version. Use pandas.concat instead.\n",
            "  forth_ten_df = forth_ten_df.append({\n",
            "\rProcessing Rows:  14%|█▍        | 13/90 [16:15<1:39:01, 77.16s/it] "
          ]
        },
        {
          "name": "stdout",
          "output_type": "stream",
          "text": [
            "{'label': 'Little interest or pleasure in doing', 'value': 'yes', 'post_title': 'why do I feel a void, or a hole in my chest?', 'CLUEs': ['void in my chest', 'emotional hole', 'less motivated to do things']}\n"
          ]
        },
        {
          "name": "stderr",
          "output_type": "stream",
          "text": [
            "<ipython-input-21-03a526c5feec>:20: FutureWarning: The frame.append method is deprecated and will be removed from pandas in a future version. Use pandas.concat instead.\n",
            "  forth_ten_df = forth_ten_df.append({\n",
            "\rProcessing Rows:  16%|█▌        | 14/90 [16:27<1:12:43, 57.42s/it]"
          ]
        },
        {
          "name": "stdout",
          "output_type": "stream",
          "text": [
            "{'label': 'Moving or speaking so slowly that other people could have noticed Or the opposite being so fidgety or restless that you have been moving around a lot more than usual', 'value': 'no', 'post_title': 'why do I feel a void, or a hole in my chest?', 'CLUEs': ['void in my chest', 'feeling this video triggered', 'feel less motivated']}\n"
          ]
        },
        {
          "name": "stderr",
          "output_type": "stream",
          "text": [
            "<ipython-input-21-03a526c5feec>:20: FutureWarning: The frame.append method is deprecated and will be removed from pandas in a future version. Use pandas.concat instead.\n",
            "  forth_ten_df = forth_ten_df.append({\n",
            "\rProcessing Rows:  17%|█▋        | 15/90 [16:39<54:49, 43.86s/it]  "
          ]
        },
        {
          "name": "stdout",
          "output_type": "stream",
          "text": [
            "{'label': 'Poor appetite or overeating', 'value': 'no', 'post_title': 'why do I feel a void, or a hole in my chest?', 'CLUEs': ['void', 'emotional hole', 'less motivated', 'naive junior in h/s']}\n"
          ]
        },
        {
          "name": "stderr",
          "output_type": "stream",
          "text": [
            "<ipython-input-21-03a526c5feec>:20: FutureWarning: The frame.append method is deprecated and will be removed from pandas in a future version. Use pandas.concat instead.\n",
            "  forth_ten_df = forth_ten_df.append({\n",
            "\rProcessing Rows:  18%|█▊        | 16/90 [16:50<41:35, 33.72s/it]"
          ]
        },
        {
          "name": "stdout",
          "output_type": "stream",
          "text": [
            "{'label': 'Thoughts that you would be better off dead or of hurting yourself in some way', 'value': 'no', 'post_title': 'why do I feel a void, or a hole in my chest?', 'CLUEs': ['video', 'sad', 'emotional hole', 'less motivated']}\n"
          ]
        },
        {
          "name": "stderr",
          "output_type": "stream",
          "text": [
            "<ipython-input-21-03a526c5feec>:20: FutureWarning: The frame.append method is deprecated and will be removed from pandas in a future version. Use pandas.concat instead.\n",
            "  forth_ten_df = forth_ten_df.append({\n",
            "\rProcessing Rows:  19%|█▉        | 17/90 [17:00<32:25, 26.65s/it]"
          ]
        },
        {
          "name": "stdout",
          "output_type": "stream",
          "text": [
            "{'label': 'Trouble concentrating on things such as reading the newspaper or watching television', 'value': 'yes', 'post_title': 'why do I feel a void, or a hole in my chest?', 'CLUEs': ['void in my chest', 'less motivated to do things', 'trouble concentrating']}\n"
          ]
        },
        {
          "name": "stderr",
          "output_type": "stream",
          "text": [
            "<ipython-input-21-03a526c5feec>:20: FutureWarning: The frame.append method is deprecated and will be removed from pandas in a future version. Use pandas.concat instead.\n",
            "  forth_ten_df = forth_ten_df.append({\n",
            "\rProcessing Rows:  20%|██        | 18/90 [17:16<28:01, 23.36s/it]"
          ]
        },
        {
          "name": "stdout",
          "output_type": "stream",
          "text": [
            "{'label': 'Trouble falling or staying asleep or sleeping too much', 'value': 'no', 'post_title': 'why do I feel a void, or a hole in my chest?', 'CLUEs': ['emotional hole in my chest', 'feeling this video triggered', 'going on 6 days now', 'feel less motivated to do things', 'naive junior in h/s', 'not sure what to make of all this']}\n"
          ]
        },
        {
          "name": "stderr",
          "output_type": "stream",
          "text": [
            "<ipython-input-21-03a526c5feec>:20: FutureWarning: The frame.append method is deprecated and will be removed from pandas in a future version. Use pandas.concat instead.\n",
            "  forth_ten_df = forth_ten_df.append({\n",
            "\rProcessing Rows:  21%|██        | 19/90 [17:26<23:04, 19.50s/it]"
          ]
        },
        {
          "name": "stdout",
          "output_type": "stream",
          "text": [
            "{'label': 'Feeling bad about yourself or that you are a failure or have let yourself or your family down', 'value': 'yes', 'post_title': 'Self-Improvement help', 'CLUEs': ['fear of confrontation', 'constant break up thought', 'loneliness', 'lack of confidence']}\n"
          ]
        },
        {
          "name": "stderr",
          "output_type": "stream",
          "text": [
            "<ipython-input-21-03a526c5feec>:20: FutureWarning: The frame.append method is deprecated and will be removed from pandas in a future version. Use pandas.concat instead.\n",
            "  forth_ten_df = forth_ten_df.append({\n",
            "\rProcessing Rows:  22%|██▏       | 20/90 [17:37<19:45, 16.94s/it]"
          ]
        },
        {
          "name": "stdout",
          "output_type": "stream",
          "text": [
            "{'label': 'Feeling down depressed or hopeless', 'value': 'yes', 'post_title': 'Self-Improvement help', 'CLUEs': ['depressed', 'fucked up', 'break up', 'lonely', 'post-breakup depression', 'filling the void', 'anxious', 'out of place']}\n"
          ]
        },
        {
          "name": "stderr",
          "output_type": "stream",
          "text": [
            "<ipython-input-21-03a526c5feec>:20: FutureWarning: The frame.append method is deprecated and will be removed from pandas in a future version. Use pandas.concat instead.\n",
            "  forth_ten_df = forth_ten_df.append({\n",
            "\rProcessing Rows:  23%|██▎       | 21/90 [17:47<17:13, 14.98s/it]"
          ]
        },
        {
          "name": "stdout",
          "output_type": "stream",
          "text": [
            "{'label': 'Feeling tired or having little energy', 'value': 'yes', 'post_title': 'Self-Improvement help', 'CLUEs': ['post text: depressed, fear of confrontation, sabotage the relationship, post-breakup depression']}\n"
          ]
        },
        {
          "name": "stderr",
          "output_type": "stream",
          "text": [
            "<ipython-input-21-03a526c5feec>:20: FutureWarning: The frame.append method is deprecated and will be removed from pandas in a future version. Use pandas.concat instead.\n",
            "  forth_ten_df = forth_ten_df.append({\n",
            "\rProcessing Rows:  24%|██▍       | 22/90 [18:06<18:17, 16.13s/it]"
          ]
        },
        {
          "name": "stdout",
          "output_type": "stream",
          "text": [
            "{'label': 'Little interest or pleasure in doing', 'value': 'yes', 'post_title': 'Self-Improvement help', 'CLUEs': ['depressed', 'breakup', 'post-breakup depression', 'lonely', 'filling the void', 'lack of confidence', 'difficulty accepting new people', 'social anxiety', 'clingy', 'lack of interest or pleasure']}\n"
          ]
        },
        {
          "name": "stderr",
          "output_type": "stream",
          "text": [
            "<ipython-input-21-03a526c5feec>:20: FutureWarning: The frame.append method is deprecated and will be removed from pandas in a future version. Use pandas.concat instead.\n",
            "  forth_ten_df = forth_ten_df.append({\n",
            "\rProcessing Rows:  26%|██▌       | 23/90 [18:20<17:10, 15.38s/it]"
          ]
        },
        {
          "name": "stdout",
          "output_type": "stream",
          "text": [
            "{'label': 'Moving or speaking so slowly that other people could have noticed Or the opposite being so fidgety or restless that you have been moving around a lot more than usual', 'value': 'Yes', 'post_title': 'Self-Improvement help', 'CLUEs': ['depressed', 'fear of confrontation', 'lonely', 'break-up', 'post-breakup depression', 'anxious', 'clingy']}\n"
          ]
        },
        {
          "name": "stderr",
          "output_type": "stream",
          "text": [
            "<ipython-input-21-03a526c5feec>:20: FutureWarning: The frame.append method is deprecated and will be removed from pandas in a future version. Use pandas.concat instead.\n",
            "  forth_ten_df = forth_ten_df.append({\n",
            "\rProcessing Rows:  27%|██▋       | 24/90 [18:28<14:37, 13.30s/it]"
          ]
        },
        {
          "name": "stdout",
          "output_type": "stream",
          "text": [
            "{'label': 'Poor appetite or overeating', 'value': 'No', 'post_title': 'Self-Improvement help', 'CLUEs': ['overeating', 'appetite']}\n"
          ]
        },
        {
          "name": "stderr",
          "output_type": "stream",
          "text": [
            "<ipython-input-21-03a526c5feec>:20: FutureWarning: The frame.append method is deprecated and will be removed from pandas in a future version. Use pandas.concat instead.\n",
            "  forth_ten_df = forth_ten_df.append({\n",
            "\rProcessing Rows:  28%|██▊       | 25/90 [18:38<13:10, 12.17s/it]"
          ]
        },
        {
          "name": "stdout",
          "output_type": "stream",
          "text": [
            "{'label': 'Thoughts that you would be better off dead or of hurting yourself in some way', 'value': 'No', 'post_title': 'Self-Improvement help', 'CLUEs': ['depressed', 'fear of confrontation', 'loneliness', 'post-breakup depression', 'anxiety']}\n"
          ]
        },
        {
          "name": "stderr",
          "output_type": "stream",
          "text": [
            "<ipython-input-21-03a526c5feec>:20: FutureWarning: The frame.append method is deprecated and will be removed from pandas in a future version. Use pandas.concat instead.\n",
            "  forth_ten_df = forth_ten_df.append({\n",
            "\rProcessing Rows:  29%|██▉       | 26/90 [18:47<12:02, 11.29s/it]"
          ]
        },
        {
          "name": "stdout",
          "output_type": "stream",
          "text": [
            "{'label': 'Trouble concentrating on things such as reading the newspaper or watching television', 'value': 'yes', 'post_title': 'Self-Improvement help', 'CLUEs': ['concentration issues']}\n"
          ]
        },
        {
          "name": "stderr",
          "output_type": "stream",
          "text": [
            "<ipython-input-21-03a526c5feec>:20: FutureWarning: The frame.append method is deprecated and will be removed from pandas in a future version. Use pandas.concat instead.\n",
            "  forth_ten_df = forth_ten_df.append({\n",
            "\rProcessing Rows:  30%|███       | 27/90 [18:57<11:29, 10.95s/it]"
          ]
        },
        {
          "name": "stdout",
          "output_type": "stream",
          "text": [
            "{'label': 'Trouble falling or staying asleep or sleeping too much', 'value': 'yes', 'post_title': 'Self-Improvement help', 'CLUEs': ['post-breakup depression', 'loneliness', 'anxious in large groups']}\n"
          ]
        },
        {
          "name": "stderr",
          "output_type": "stream",
          "text": [
            "<ipython-input-21-03a526c5feec>:20: FutureWarning: The frame.append method is deprecated and will be removed from pandas in a future version. Use pandas.concat instead.\n",
            "  forth_ten_df = forth_ten_df.append({\n",
            "\rProcessing Rows:  31%|███       | 28/90 [19:05<10:15,  9.93s/it]"
          ]
        },
        {
          "name": "stdout",
          "output_type": "stream",
          "text": [
            "{'label': 'Feeling bad about yourself or that you are a failure or have let yourself or your family down', 'value': 'yes', 'post_title': 'High functioning depression', 'CLUEs': ['struggles', 'valid', 'depression']}\n"
          ]
        },
        {
          "name": "stderr",
          "output_type": "stream",
          "text": [
            "<ipython-input-21-03a526c5feec>:20: FutureWarning: The frame.append method is deprecated and will be removed from pandas in a future version. Use pandas.concat instead.\n",
            "  forth_ten_df = forth_ten_df.append({\n",
            "\rProcessing Rows:  32%|███▏      | 29/90 [19:33<15:36, 15.35s/it]"
          ]
        },
        {
          "name": "stdout",
          "output_type": "stream",
          "text": [
            "{'label': 'Feeling down depressed or hopeless', 'value': 'Yes', 'post_title': 'High functioning depression', 'CLUEs': ['lurking in depression subreddits', 'diagnosed with an anxiety disorder and clinical depression', 'depression has become more high functioning', 'people do not believe me when I open up about my depression', 'PTSD from a sexual assault and a mentally abusive relationship', 'shower two times a day every day', 'finish all my assignments a week ahead of time', 'get near perfect grades on everything', 'work 5-6 days a week', 'clean freak who has to do laundry and dishes every single day', 'panic if things are not done', 'anxiety disorder screams at me to get these things done', 'struggles with suicidal thoughts', 'depression is not a contest', 'struggles are valid']}\n"
          ]
        },
        {
          "name": "stderr",
          "output_type": "stream",
          "text": [
            "<ipython-input-21-03a526c5feec>:20: FutureWarning: The frame.append method is deprecated and will be removed from pandas in a future version. Use pandas.concat instead.\n",
            "  forth_ten_df = forth_ten_df.append({\n",
            "\rProcessing Rows:  33%|███▎      | 30/90 [19:44<14:02, 14.04s/it]"
          ]
        },
        {
          "name": "stdout",
          "output_type": "stream",
          "text": [
            "{'label': 'Feeling tired or having little energy', 'value': 'yes', 'post_title': 'High functioning depression', 'CLUEs': ['high functioning depression', 'more high functioning', 'anxiety disorder screams at me to get these things done', 'struggles with suicidal thoughts']}\n"
          ]
        },
        {
          "name": "stderr",
          "output_type": "stream",
          "text": [
            "<ipython-input-21-03a526c5feec>:20: FutureWarning: The frame.append method is deprecated and will be removed from pandas in a future version. Use pandas.concat instead.\n",
            "  forth_ten_df = forth_ten_df.append({\n",
            "\rProcessing Rows:  34%|███▍      | 31/90 [20:00<14:34, 14.81s/it]"
          ]
        },
        {
          "name": "stdout",
          "output_type": "stream",
          "text": [
            "{'label': 'Little interest or pleasure in doing', 'value': 'yes', 'post_title': 'High functioning depression', 'CLUEs': ['high functioning', 'more high functioning', 'finished assignments ahead of time', 'near perfect grades', 'work 5-6 days a week', 'clean freak', 'anxiety disorder', 'anxiety will eat me alive', 'struggles', 'suicidal thoughts', 'depression is not a contest']}\n"
          ]
        },
        {
          "name": "stderr",
          "output_type": "stream",
          "text": [
            "<ipython-input-21-03a526c5feec>:20: FutureWarning: The frame.append method is deprecated and will be removed from pandas in a future version. Use pandas.concat instead.\n",
            "  forth_ten_df = forth_ten_df.append({\n",
            "\rProcessing Rows:  36%|███▌      | 32/90 [20:29<18:19, 18.95s/it]"
          ]
        },
        {
          "name": "stdout",
          "output_type": "stream",
          "text": [
            "{'label': 'Moving or speaking so slowly that other people could have noticed Or the opposite being so fidgety or restless that you have been moving around a lot more than usual', 'value': 'No', 'post_title': 'High functioning depression', 'CLUEs': ['high functioning', 'anxiety disorder', 'clinical depression', 'diagnosed at 17', 'started university', 'more high functioning', 'people not believing', 'PTSD from sexual assault', 'mentally abusive relationship', 'showers two times a day', 'finishes assignments ahead of time', 'near perfect grades', 'works 5-6 days a week', 'clean freak', 'anxiety disorder', 'panic', 'struggles with suicidal thoughts', 'valid struggles']}\n"
          ]
        },
        {
          "name": "stderr",
          "output_type": "stream",
          "text": [
            "<ipython-input-21-03a526c5feec>:20: FutureWarning: The frame.append method is deprecated and will be removed from pandas in a future version. Use pandas.concat instead.\n",
            "  forth_ten_df = forth_ten_df.append({\n",
            "\rProcessing Rows:  37%|███▋      | 33/90 [20:42<16:13, 17.08s/it]"
          ]
        },
        {
          "name": "stdout",
          "output_type": "stream",
          "text": [
            "{'label': 'Poor appetite or overeating', 'value': 'yes', 'post_title': 'High functioning depression', 'CLUEs': ['overeating', 'struggles with suicidal thoughts']}\n"
          ]
        },
        {
          "name": "stderr",
          "output_type": "stream",
          "text": [
            "<ipython-input-21-03a526c5feec>:20: FutureWarning: The frame.append method is deprecated and will be removed from pandas in a future version. Use pandas.concat instead.\n",
            "  forth_ten_df = forth_ten_df.append({\n",
            "\rProcessing Rows:  38%|███▊      | 34/90 [20:51<13:50, 14.83s/it]"
          ]
        },
        {
          "name": "stdout",
          "output_type": "stream",
          "text": [
            "{'label': 'Thoughts that you would be better off dead or of hurting yourself in some way', 'value': 'No', 'post_title': 'High functioning depression', 'CLUEs': ['struggles with suicidal thoughts', 'mentally abusive relationship']}\n"
          ]
        },
        {
          "name": "stderr",
          "output_type": "stream",
          "text": [
            "<ipython-input-21-03a526c5feec>:20: FutureWarning: The frame.append method is deprecated and will be removed from pandas in a future version. Use pandas.concat instead.\n",
            "  forth_ten_df = forth_ten_df.append({\n",
            "\rProcessing Rows:  39%|███▉      | 35/90 [21:00<11:50, 12.92s/it]"
          ]
        },
        {
          "name": "stdout",
          "output_type": "stream",
          "text": [
            "{'label': 'Trouble concentrating on things such as reading the newspaper or watching television', 'value': 'Yes', 'post_title': 'High functioning depression', 'CLUEs': ['university', 'assignments', 'grades', 'work', 'clean freak', 'anxiety disorder', 'panicking', 'struggles']}\n"
          ]
        },
        {
          "name": "stderr",
          "output_type": "stream",
          "text": [
            "<ipython-input-21-03a526c5feec>:20: FutureWarning: The frame.append method is deprecated and will be removed from pandas in a future version. Use pandas.concat instead.\n",
            "  forth_ten_df = forth_ten_df.append({\n",
            "\rProcessing Rows:  40%|████      | 36/90 [21:11<11:15, 12.50s/it]"
          ]
        },
        {
          "name": "stdout",
          "output_type": "stream",
          "text": [
            "{'label': 'Trouble falling or staying asleep or sleeping too much', 'value': 'no', 'post_title': 'High functioning depression', 'CLUEs': ['PTSD', 'anxiety disorder', 'clean freak', 'assignments', 'grades', 'struggles with suicidal thoughts']}\n"
          ]
        },
        {
          "name": "stderr",
          "output_type": "stream",
          "text": [
            "<ipython-input-21-03a526c5feec>:20: FutureWarning: The frame.append method is deprecated and will be removed from pandas in a future version. Use pandas.concat instead.\n",
            "  forth_ten_df = forth_ten_df.append({\n",
            "\rProcessing Rows:  41%|████      | 37/90 [21:32<13:09, 14.90s/it]"
          ]
        },
        {
          "name": "stdout",
          "output_type": "stream",
          "text": [
            "{'label': 'Feeling bad about yourself or that you are a failure or have let yourself or your family down', 'value': 'Yes', 'post_title': 'Does anyone else feel like the saturation in their life is turned down?', 'CLUEs': ['feeling as if someone has turned down the saturation in my life', 'It just feels empty', 'Lifeless', \"I can't seem to get past a 5 at most\", \"When other people are laughing so much they're in tears and can't catch their breath, I'm only chuckling\", \"I can't even remember a time where I laughed so much I was in tears\"]}\n"
          ]
        },
        {
          "name": "stderr",
          "output_type": "stream",
          "text": [
            "<ipython-input-21-03a526c5feec>:20: FutureWarning: The frame.append method is deprecated and will be removed from pandas in a future version. Use pandas.concat instead.\n",
            "  forth_ten_df = forth_ten_df.append({\n",
            "\rProcessing Rows:  42%|████▏     | 38/90 [21:53<14:38, 16.90s/it]"
          ]
        },
        {
          "name": "stdout",
          "output_type": "stream",
          "text": [
            "{'label': 'Feeling down depressed or hopeless', 'value': 'yes', 'post_title': 'Does anyone else feel like the saturation in their life is turned down?', 'CLUEs': ['feel', 'saturation', 'life', 'turned down', 'describe', 'feel emotions', 'feelings', 'laugh', 'smile', 'empty', 'lifeless', 'happiness', 'chuckling', 'remember', 'true happiness', 'warmness', 'physically feel', 'disconnect', 'annoyance', 'anger', 'sadness', 'toned down']}\n"
          ]
        },
        {
          "name": "stderr",
          "output_type": "stream",
          "text": [
            "<ipython-input-21-03a526c5feec>:20: FutureWarning: The frame.append method is deprecated and will be removed from pandas in a future version. Use pandas.concat instead.\n",
            "  forth_ten_df = forth_ten_df.append({\n",
            "\rProcessing Rows:  43%|████▎     | 39/90 [22:14<15:24, 18.12s/it]"
          ]
        },
        {
          "name": "stdout",
          "output_type": "stream",
          "text": [
            "{'label': 'Feeling tired or having little energy', 'value': 'yes', 'post_title': 'Does anyone else feel like the saturation in their life is turned down?', 'CLUEs': ['feeling as if someone has turned down the saturation in my life', 'feels empty? Lifeless?', \"can't seem to get past a 5 at most\", \"my brain is saying 'this is funny you should laugh and feel happy' but I just don’t feel that\", 'When I laugh it almost feels like a chore or an automatic response', 'there’s a disconnect somewhere', 'feel this with everything', 'feel the strongest annoyance/anger and sadness']}\n"
          ]
        },
        {
          "name": "stderr",
          "output_type": "stream",
          "text": [
            "<ipython-input-21-03a526c5feec>:20: FutureWarning: The frame.append method is deprecated and will be removed from pandas in a future version. Use pandas.concat instead.\n",
            "  forth_ten_df = forth_ten_df.append({\n",
            "\rProcessing Rows:  44%|████▍     | 40/90 [22:29<14:15, 17.10s/it]"
          ]
        },
        {
          "name": "stdout",
          "output_type": "stream",
          "text": [
            "{'label': 'Little interest or pleasure in doing', 'value': 'Yes', 'post_title': 'Does anyone else feel like the saturation in their life is turned down?', 'CLUEs': ['feeling as if someone has turned down the saturation in my life', 'feeling empty, lifeless', 'feeling like a 5 instead of a 10', 'difficulty experiencing true happiness', 'emotions are toned down, not saturated, lifeless']}\n"
          ]
        },
        {
          "name": "stderr",
          "output_type": "stream",
          "text": [
            "<ipython-input-21-03a526c5feec>:20: FutureWarning: The frame.append method is deprecated and will be removed from pandas in a future version. Use pandas.concat instead.\n",
            "  forth_ten_df = forth_ten_df.append({\n",
            "\rProcessing Rows:  46%|████▌     | 41/90 [22:50<14:48, 18.12s/it]"
          ]
        },
        {
          "name": "stdout",
          "output_type": "stream",
          "text": [
            "{'label': 'Moving or speaking so slowly that other people could have noticed Or the opposite being so fidgety or restless that you have been moving around a lot more than usual', 'value': 'No', 'post_title': 'Does anyone else feel like the saturation in their life is turned down?', 'CLUEs': ['feel', 'turned down', 'saturation', 'feel emotions', 'laugh and smile', 'feeling empty', 'scale of 1-10', 'brain saying', 'know the situation is funny', 'laugh and smile as an automatic response', 'disconnect', 'annoyance/anger', 'sadness', 'toned down', 'lifeless']}\n"
          ]
        },
        {
          "name": "stderr",
          "output_type": "stream",
          "text": [
            "<ipython-input-21-03a526c5feec>:20: FutureWarning: The frame.append method is deprecated and will be removed from pandas in a future version. Use pandas.concat instead.\n",
            "  forth_ten_df = forth_ten_df.append({\n",
            "\rProcessing Rows:  47%|████▋     | 42/90 [23:17<16:37, 20.79s/it]"
          ]
        },
        {
          "name": "stdout",
          "output_type": "stream",
          "text": [
            "{'label': 'Poor appetite or overeating', 'value': 'no', 'post_title': 'Does anyone else feel like the saturation in their life is turned down?', 'CLUEs': ['feeling', 'turned down', 'saturation in life', 'empty', 'lifeless', 'scale of 1-10', 'brain saying', 'feel happy', 'less', 'laughing', 'smiling', 'chuckle', 'remember a time', 'laugh so much', 'tears', 'physically feeling', 'true happiness', 'warmness', 'physically changes', 'disconnect', 'annoyance', 'anger', 'sadness', 'toned down', 'not saturated']}\n"
          ]
        },
        {
          "name": "stderr",
          "output_type": "stream",
          "text": [
            "<ipython-input-21-03a526c5feec>:20: FutureWarning: The frame.append method is deprecated and will be removed from pandas in a future version. Use pandas.concat instead.\n",
            "  forth_ten_df = forth_ten_df.append({\n",
            "\rProcessing Rows:  48%|████▊     | 43/90 [23:30<14:31, 18.54s/it]"
          ]
        },
        {
          "name": "stdout",
          "output_type": "stream",
          "text": [
            "{'label': 'Thoughts that you would be better off dead or of hurting yourself in some way', 'value': 'no', 'post_title': 'Does anyone else feel like the saturation in their life is turned down?', 'CLUEs': ['saturation in life turned down', 'feeling empty', 'feeling lifeless', 'low emotional response', 'disconnect between physical and emotional', 'toned down emotions']}\n"
          ]
        },
        {
          "name": "stderr",
          "output_type": "stream",
          "text": [
            "<ipython-input-21-03a526c5feec>:20: FutureWarning: The frame.append method is deprecated and will be removed from pandas in a future version. Use pandas.concat instead.\n",
            "  forth_ten_df = forth_ten_df.append({\n",
            "\rProcessing Rows:  49%|████▉     | 44/90 [24:00<16:50, 21.97s/it]"
          ]
        },
        {
          "name": "stdout",
          "output_type": "stream",
          "text": [
            "{'label': 'Trouble concentrating on things such as reading the newspaper or watching television', 'value': 'yes', 'post_title': 'Does anyone else feel like the saturation in their life is turned down?', 'CLUEs': ['saturation in my life', 'feeling as if someone has turned down the saturation in my life', 'feeling empty', 'feeling lifeless', \"can't seem to get past a 5\", \"my brain is saying 'this is funny you should laugh and feel happy' but I just don't feel that\", \"can't remember a time where I laughed so much\", 'laugh and smile feels like a chore or an automatic response', 'no physical feeling when I smile/laugh', 'disconnect somewhere', 'feel annoyance/anger and sadness the strongest', 'toned down emotions', 'lifeless emotions']}\n"
          ]
        },
        {
          "name": "stderr",
          "output_type": "stream",
          "text": [
            "<ipython-input-21-03a526c5feec>:20: FutureWarning: The frame.append method is deprecated and will be removed from pandas in a future version. Use pandas.concat instead.\n",
            "  forth_ten_df = forth_ten_df.append({\n",
            "\rProcessing Rows:  50%|█████     | 45/90 [34:12<2:29:20, 199.12s/it]"
          ]
        },
        {
          "name": "stdout",
          "output_type": "stream",
          "text": [
            "{'label': 'Trouble falling or staying asleep or sleeping too much', 'value': 'no', 'post_title': 'Does anyone else feel like the saturation in their life is turned down?', 'CLUEs': ['feel emotions', 'laugh and smile', 'know the situation is funny', 'feel annoyance/anger and sadness']}\n"
          ]
        },
        {
          "name": "stderr",
          "output_type": "stream",
          "text": [
            "<ipython-input-21-03a526c5feec>:20: FutureWarning: The frame.append method is deprecated and will be removed from pandas in a future version. Use pandas.concat instead.\n",
            "  forth_ten_df = forth_ten_df.append({\n",
            "\rProcessing Rows:  51%|█████     | 46/90 [34:27<1:45:22, 143.70s/it]"
          ]
        },
        {
          "name": "stdout",
          "output_type": "stream",
          "text": [
            "{'label': 'Feeling bad about yourself or that you are a failure or have let yourself or your family down', 'value': 'yes', 'post_title': \"How do I make a female partner who's depressed feel better?\", 'CLUEs': ['irritability', 'feeling of emptiness', 'mood swings', 'sadness', 'excessive substance intake', 'thoughts of killing or harming herself', 'fighting a lot lately']}\n"
          ]
        },
        {
          "name": "stderr",
          "output_type": "stream",
          "text": [
            "<ipython-input-21-03a526c5feec>:20: FutureWarning: The frame.append method is deprecated and will be removed from pandas in a future version. Use pandas.concat instead.\n",
            "  forth_ten_df = forth_ten_df.append({\n",
            "\rProcessing Rows:  52%|█████▏    | 47/90 [34:39<1:14:44, 104.30s/it]"
          ]
        },
        {
          "name": "stdout",
          "output_type": "stream",
          "text": [
            "{'post_title': \"How do I make a female partner who's depressed feel better?\", 'CLUEs': ['depressed', 'bpd issues', 'irritable', 'angry', 'empty', 'mood swings', 'sadness', 'excessive substance intake', 'thoughts of killing or harming herself'], 'label': 'Feeling down depressed or hopeless', 'value': 'yes'}\n"
          ]
        },
        {
          "name": "stderr",
          "output_type": "stream",
          "text": [
            "<ipython-input-21-03a526c5feec>:20: FutureWarning: The frame.append method is deprecated and will be removed from pandas in a future version. Use pandas.concat instead.\n",
            "  forth_ten_df = forth_ten_df.append({\n",
            "\rProcessing Rows:  53%|█████▎    | 48/90 [34:50<53:20, 76.21s/it]   "
          ]
        },
        {
          "name": "stdout",
          "output_type": "stream",
          "text": [
            "{'label': 'Feeling tired or having little energy', 'value': 'yes', 'post_title': \"How do I make a female partner who's depressed feel better?\", 'CLUEs': ['irritability', 'feeling of emptiness', 'mood swings', 'sadness', 'excessive substance intake']}\n"
          ]
        },
        {
          "name": "stderr",
          "output_type": "stream",
          "text": [
            "<ipython-input-21-03a526c5feec>:20: FutureWarning: The frame.append method is deprecated and will be removed from pandas in a future version. Use pandas.concat instead.\n",
            "  forth_ten_df = forth_ten_df.append({\n",
            "\rProcessing Rows:  54%|█████▍    | 49/90 [35:02<38:53, 56.91s/it]"
          ]
        },
        {
          "name": "stdout",
          "output_type": "stream",
          "text": [
            "{'label': 'Little interest or pleasure in doing', 'value': 'yes', 'post_title': \"How do I make a female partner who's depressed feel better?\", 'CLUEs': ['feeling of emptiness', 'sadness', 'symptoms of depression', 'feeling of not enjoying activities']}\n"
          ]
        },
        {
          "name": "stderr",
          "output_type": "stream",
          "text": [
            "<ipython-input-21-03a526c5feec>:20: FutureWarning: The frame.append method is deprecated and will be removed from pandas in a future version. Use pandas.concat instead.\n",
            "  forth_ten_df = forth_ten_df.append({\n",
            "\rProcessing Rows:  56%|█████▌    | 50/90 [35:21<30:26, 45.66s/it]"
          ]
        },
        {
          "name": "stdout",
          "output_type": "stream",
          "text": [
            "{'label': 'Moving or speaking so slowly that other people could have noticed Or the opposite being so fidgety or restless that you have been moving around a lot more than usual', 'value': 'no', 'post_title': \"How do I make a female partner who's depressed feel better?\", 'CLUEs': ['-mood swings', \"-I surprise her by letting her choose what I get her for valentine's day\", '-We cuddle and watch a movie or something', '-She goes out with some friends who are moving away', \"-when she's back, we hang out again and maybe watch our favorite tv show\", '-play some kind of video game or just talk']}\n"
          ]
        },
        {
          "name": "stderr",
          "output_type": "stream",
          "text": [
            "<ipython-input-21-03a526c5feec>:20: FutureWarning: The frame.append method is deprecated and will be removed from pandas in a future version. Use pandas.concat instead.\n",
            "  forth_ten_df = forth_ten_df.append({\n",
            "\rProcessing Rows:  57%|█████▋    | 51/90 [35:28<22:09, 34.09s/it]"
          ]
        },
        {
          "name": "stdout",
          "output_type": "stream",
          "text": [
            "{'label': 'Poor appetite or overeating', 'value': 'no', 'post_title': \"How do I make a female partner who's depressed feel better?\", 'CLUEs': ['excessive substance intake']}\n"
          ]
        },
        {
          "name": "stderr",
          "output_type": "stream",
          "text": [
            "<ipython-input-21-03a526c5feec>:20: FutureWarning: The frame.append method is deprecated and will be removed from pandas in a future version. Use pandas.concat instead.\n",
            "  forth_ten_df = forth_ten_df.append({\n",
            "\rProcessing Rows:  58%|█████▊    | 52/90 [35:42<17:39, 27.89s/it]"
          ]
        },
        {
          "name": "stdout",
          "output_type": "stream",
          "text": [
            "{'label': 'Thoughts that you would be better off dead or of hurting yourself in some way', 'value': 'No', 'post_title': \"How do I make a female partner who's depressed feel better?\", 'CLUEs': ['depressed', 'bpd issues', 'irritability', 'emptyness', 'mood swings', 'sadness', 'excessive substance intake', 'thoughts of killing or harming herself']}\n"
          ]
        },
        {
          "name": "stderr",
          "output_type": "stream",
          "text": [
            "<ipython-input-21-03a526c5feec>:20: FutureWarning: The frame.append method is deprecated and will be removed from pandas in a future version. Use pandas.concat instead.\n",
            "  forth_ten_df = forth_ten_df.append({\n",
            "\rProcessing Rows:  59%|█████▉    | 53/90 [35:52<14:03, 22.80s/it]"
          ]
        },
        {
          "name": "stdout",
          "output_type": "stream",
          "text": [
            "{'label': 'Trouble concentrating on things such as reading the newspaper or watching television', 'value': 'no', 'post_title': \"How do I make a female partner who's depressed feel better?\", 'CLUEs': ['fun', 'make things better', 'come out of her rut', 'happy']}\n"
          ]
        },
        {
          "name": "stderr",
          "output_type": "stream",
          "text": [
            "<ipython-input-21-03a526c5feec>:20: FutureWarning: The frame.append method is deprecated and will be removed from pandas in a future version. Use pandas.concat instead.\n",
            "  forth_ten_df = forth_ten_df.append({\n",
            "\rProcessing Rows:  60%|██████    | 54/90 [36:10<12:42, 21.18s/it]"
          ]
        },
        {
          "name": "stdout",
          "output_type": "stream",
          "text": [
            "{'label': 'Trouble falling or staying asleep or sleeping too much', 'value': 'no', 'post_title': \"How do I make a female partner who's depressed feel better?\", 'CLUEs': ['depressed', 'feeling of emptiness', 'mood swings', 'sadness', 'excessive substance intake', 'thoughts of killing or harming herself', 'worried', 'fighting', 'bad', 'trouble falling or staying asleep']}\n"
          ]
        },
        {
          "name": "stderr",
          "output_type": "stream",
          "text": [
            "<ipython-input-21-03a526c5feec>:20: FutureWarning: The frame.append method is deprecated and will be removed from pandas in a future version. Use pandas.concat instead.\n",
            "  forth_ten_df = forth_ten_df.append({\n",
            "\rProcessing Rows:  61%|██████    | 55/90 [36:29<11:59, 20.56s/it]"
          ]
        },
        {
          "name": "stdout",
          "output_type": "stream",
          "text": [
            "{'label': 'Feeling bad about yourself or that you are a failure or have let yourself or your family down', 'value': 'yes', 'post_title': 'Just need to rant a little bit', 'CLUEs': ['bottles up my thoughts, problems and feelings', 'shitty way of dealing with things', 'bite me in the arse', 'trouble planning my future', 'terrified of not doing well', 'feels like things are falling apart with my best friends', \"they're ganging up together against me\", 'feel extra depressed', 'guilty for being a downer', \"friends wouldn't care\", 'my boyfriend cheated on me', 'feel really lonely', 'I just want to cry and isolate myself', 'I hate myself for being like this', 'feel so helpless and lonely']}\n"
          ]
        },
        {
          "name": "stderr",
          "output_type": "stream",
          "text": [
            "<ipython-input-21-03a526c5feec>:20: FutureWarning: The frame.append method is deprecated and will be removed from pandas in a future version. Use pandas.concat instead.\n",
            "  forth_ten_df = forth_ten_df.append({\n",
            "\rProcessing Rows:  62%|██████▏   | 56/90 [36:48<11:22, 20.08s/it]"
          ]
        },
        {
          "name": "stdout",
          "output_type": "stream",
          "text": [
            "{'label': 'Feeling down depressed or hopeless', 'value': 'yes', 'post_title': 'Just need to rant a little bit', 'CLUEs': ['bottles up my thoughts', 'problems and feelings', 'shitty way of dealing with things', 'trouble planning my future', 'terrified of not doing well', 'things are falling apart with my best friends', 'feeling extra depressed', 'guilty for being a downer', 'changed so much', 'lonely', 'hate myself', 'helpless and lonely']}\n"
          ]
        },
        {
          "name": "stderr",
          "output_type": "stream",
          "text": [
            "<ipython-input-21-03a526c5feec>:20: FutureWarning: The frame.append method is deprecated and will be removed from pandas in a future version. Use pandas.concat instead.\n",
            "  forth_ten_df = forth_ten_df.append({\n",
            "\rProcessing Rows:  63%|██████▎   | 57/90 [36:58<09:26, 17.16s/it]"
          ]
        },
        {
          "name": "stdout",
          "output_type": "stream",
          "text": [
            "{'label': 'Feeling tired or having little energy', 'value': 'yes', 'post_title': 'Just need to rant a little bit', 'CLUEs': ['feeling tired', 'having little energy', 'feeling depressed', 'feeling helpless', 'feeling lonely']}\n"
          ]
        },
        {
          "name": "stderr",
          "output_type": "stream",
          "text": [
            "<ipython-input-21-03a526c5feec>:20: FutureWarning: The frame.append method is deprecated and will be removed from pandas in a future version. Use pandas.concat instead.\n",
            "  forth_ten_df = forth_ten_df.append({\n",
            "\rProcessing Rows:  64%|██████▍   | 58/90 [37:08<08:00, 15.03s/it]"
          ]
        },
        {
          "name": "stdout",
          "output_type": "stream",
          "text": [
            "{'label': 'Little interest or pleasure in doing', 'value': 'yes', 'post_title': 'Just need to rant a little bit', 'CLUEs': ['feelings depressed', 'trouble planning future', 'terrified of finals', 'feels like friends are ganging up on me', 'feeling extra depressed', 'lonely']}\n"
          ]
        },
        {
          "name": "stderr",
          "output_type": "stream",
          "text": [
            "<ipython-input-21-03a526c5feec>:20: FutureWarning: The frame.append method is deprecated and will be removed from pandas in a future version. Use pandas.concat instead.\n",
            "  forth_ten_df = forth_ten_df.append({\n",
            "\rProcessing Rows:  66%|██████▌   | 59/90 [37:32<09:09, 17.71s/it]"
          ]
        },
        {
          "name": "stdout",
          "output_type": "stream",
          "text": [
            "{'label': 'Moving or speaking so slowly that other people could have noticed Or the opposite being so fidgety or restless that you have been moving around a lot more than usual', 'value': 'no', 'post_title': 'Just need to rant a little bit', 'CLUEs': ['uni', 'trouble planning', 'future', 'gap year', 'country', 'get in 2020', 'apply this year', 'finals', 'terrified', 'best friends', 'ganging up', 'pick on', 'freeze me out', 'extra depressed', 'guilty', 'dump my problems', \"friends wouldn't care\", 'changed', 'trust', 'boyfriend cheated', 'relationship ended', 'lonely', 'cry', 'isolate myself', 'helpless', 'lonely']}\n"
          ]
        },
        {
          "name": "stderr",
          "output_type": "stream",
          "text": [
            "<ipython-input-21-03a526c5feec>:20: FutureWarning: The frame.append method is deprecated and will be removed from pandas in a future version. Use pandas.concat instead.\n",
            "  forth_ten_df = forth_ten_df.append({\n",
            "\rProcessing Rows:  67%|██████▋   | 60/90 [37:42<07:40, 15.34s/it]"
          ]
        },
        {
          "name": "stdout",
          "output_type": "stream",
          "text": [
            "{'label': 'Poor appetite or overeating', 'value': 'no', 'post_title': 'Just need to rant a little bit', 'CLUEs': ['depressed', 'lonely', 'helpless']}\n"
          ]
        },
        {
          "name": "stderr",
          "output_type": "stream",
          "text": [
            "<ipython-input-21-03a526c5feec>:20: FutureWarning: The frame.append method is deprecated and will be removed from pandas in a future version. Use pandas.concat instead.\n",
            "  forth_ten_df = forth_ten_df.append({\n",
            "\rProcessing Rows:  68%|██████▊   | 61/90 [37:53<06:48, 14.09s/it]"
          ]
        },
        {
          "name": "stdout",
          "output_type": "stream",
          "text": [
            "{'label': 'Thoughts that you would be better off dead or of hurting yourself in some way', 'value': 'Yes', 'post_title': 'Just need to rant a little bit', 'CLUEs': ['feeling depressed', 'feeling guilty', 'loneliness', 'isolation', 'helplessness']}\n"
          ]
        },
        {
          "name": "stderr",
          "output_type": "stream",
          "text": [
            "<ipython-input-21-03a526c5feec>:20: FutureWarning: The frame.append method is deprecated and will be removed from pandas in a future version. Use pandas.concat instead.\n",
            "  forth_ten_df = forth_ten_df.append({\n",
            "\rProcessing Rows:  69%|██████▉   | 62/90 [38:10<06:56, 14.88s/it]"
          ]
        },
        {
          "name": "stdout",
          "output_type": "stream",
          "text": [
            "{'label': 'Trouble concentrating on things such as reading the newspaper or watching television', 'value': 'yes', 'post_title': 'Just need to rant a little bit', 'CLUEs': ['trouble planning my future', 'terrified of not doing well in finals', 'feels like things are falling apart with my best friends', 'freeze me out', 'feel extra depressed', 'lonely', 'feel helpless']}\n"
          ]
        },
        {
          "name": "stderr",
          "output_type": "stream",
          "text": [
            "<ipython-input-21-03a526c5feec>:20: FutureWarning: The frame.append method is deprecated and will be removed from pandas in a future version. Use pandas.concat instead.\n",
            "  forth_ten_df = forth_ten_df.append({\n",
            "\rProcessing Rows:  70%|███████   | 63/90 [48:19<1:26:56, 193.21s/it]"
          ]
        },
        {
          "name": "stdout",
          "output_type": "stream",
          "text": [
            "{'label': 'Trouble falling or staying asleep or sleeping too much', 'value': 'Yes', 'post_title': 'Just need to rant a little bit', 'CLUEs': ['lonely', 'depressed', 'feeling helpless']}\n"
          ]
        },
        {
          "name": "stderr",
          "output_type": "stream",
          "text": [
            "<ipython-input-21-03a526c5feec>:20: FutureWarning: The frame.append method is deprecated and will be removed from pandas in a future version. Use pandas.concat instead.\n",
            "  forth_ten_df = forth_ten_df.append({\n",
            "\rProcessing Rows:  71%|███████   | 64/90 [48:36<1:00:45, 140.23s/it]"
          ]
        },
        {
          "name": "stdout",
          "output_type": "stream",
          "text": [
            "{'label': 'Feeling bad about yourself or that you are a failure or have let yourself or your family down', 'value': 'yes', 'post_title': 'Dealing with toxic parents and mental illnesses', 'CLUEs': ['toxic parents', 'grave issues', 'extremely toxic', 'calls her names', 'picks on her physically', 'ridiculously low self-esteem', 'mental illnesses like anxiety and panic attacks', 'attempts to take her life']}\n"
          ]
        },
        {
          "name": "stderr",
          "output_type": "stream",
          "text": [
            "<ipython-input-21-03a526c5feec>:20: FutureWarning: The frame.append method is deprecated and will be removed from pandas in a future version. Use pandas.concat instead.\n",
            "  forth_ten_df = forth_ten_df.append({\n",
            "\rProcessing Rows:  72%|███████▏  | 65/90 [48:51<42:49, 102.80s/it]  "
          ]
        },
        {
          "name": "stdout",
          "output_type": "stream",
          "text": [
            "{'label': 'Feeling down depressed or hopeless', 'value': 'yes', 'post_title': 'Dealing with toxic parents and mental illnesses', 'CLUEs': ['toxic parents', 'grave issues', 'extremely toxic', 'ridiculously low self-esteem', 'mental illnesses like anxiety and panic attacks', 'attempts to take her life', 'depressed person', 'toxic family', 'finances are scarce']}\n"
          ]
        },
        {
          "name": "stderr",
          "output_type": "stream",
          "text": [
            "<ipython-input-21-03a526c5feec>:20: FutureWarning: The frame.append method is deprecated and will be removed from pandas in a future version. Use pandas.concat instead.\n",
            "  forth_ten_df = forth_ten_df.append({\n",
            "\rProcessing Rows:  73%|███████▎  | 66/90 [59:02<1:42:00, 255.03s/it]"
          ]
        },
        {
          "name": "stdout",
          "output_type": "stream",
          "text": [
            "{'label': 'Feeling tired or having little energy', 'value': 'Yes', 'post_title': 'Dealing with toxic parents and mental illnesses', 'CLUEs': ['extremely toxic', 'ridiculously low self-esteem', 'mental illnesses like anxiety and panic attacks', 'finances are scarce']}\n"
          ]
        },
        {
          "name": "stderr",
          "output_type": "stream",
          "text": [
            "<ipython-input-21-03a526c5feec>:20: FutureWarning: The frame.append method is deprecated and will be removed from pandas in a future version. Use pandas.concat instead.\n",
            "  forth_ten_df = forth_ten_df.append({\n",
            "\rProcessing Rows:  74%|███████▍  | 67/90 [59:16<1:10:05, 182.84s/it]"
          ]
        },
        {
          "name": "stdout",
          "output_type": "stream",
          "text": [
            "{'label': 'Little interest or pleasure in doing', 'value': 'yes', 'post_title': 'Dealing with toxic parents and mental illnesses', 'CLUEs': ['ridiculously low self-esteem', \"can't see anything good in her life\", 'extreme emotions (happiness, fear, sadness)', 'had a few attempts to take her life...']}\n"
          ]
        },
        {
          "name": "stderr",
          "output_type": "stream",
          "text": [
            "<ipython-input-21-03a526c5feec>:20: FutureWarning: The frame.append method is deprecated and will be removed from pandas in a future version. Use pandas.concat instead.\n",
            "  forth_ten_df = forth_ten_df.append({\n",
            "\rProcessing Rows:  76%|███████▌  | 68/90 [59:29<48:22, 131.92s/it]  "
          ]
        },
        {
          "name": "stdout",
          "output_type": "stream",
          "text": [
            "{'label': 'Moving or speaking so slowly that other people could have noticed Or the opposite being so fidgety or restless that you have been moving around a lot more than usual', 'value': 'No', 'post_title': 'Dealing with toxic parents and mental illnesses', 'CLUEs': ['toxic parents', 'mental illnesses', 'anxiety', 'panic attacks', 'attempts to take her life']}\n"
          ]
        },
        {
          "name": "stderr",
          "output_type": "stream",
          "text": [
            "<ipython-input-21-03a526c5feec>:20: FutureWarning: The frame.append method is deprecated and will be removed from pandas in a future version. Use pandas.concat instead.\n",
            "  forth_ten_df = forth_ten_df.append({\n",
            "\rProcessing Rows:  77%|███████▋  | 69/90 [59:40<33:25, 95.52s/it] "
          ]
        },
        {
          "name": "stdout",
          "output_type": "stream",
          "text": [
            "{'label': 'Poor appetite or overeating', 'value': 'yes', 'post_title': 'Dealing with toxic parents and mental illnesses', 'CLUEs': ['low self-esteem', 'anxiety and panic attacks', 'extreme emotions', 'medication', 'attempts to take her life']}\n"
          ]
        },
        {
          "name": "stderr",
          "output_type": "stream",
          "text": [
            "<ipython-input-21-03a526c5feec>:20: FutureWarning: The frame.append method is deprecated and will be removed from pandas in a future version. Use pandas.concat instead.\n",
            "  forth_ten_df = forth_ten_df.append({\n",
            "\rProcessing Rows:  78%|███████▊  | 70/90 [59:56<23:54, 71.74s/it]"
          ]
        },
        {
          "name": "stdout",
          "output_type": "stream",
          "text": [
            "{'label': 'Thoughts that you would be better off dead or of hurting yourself in some way', 'value': 'yes', 'post_title': 'Dealing with toxic parents and mental illnesses', 'CLUEs': ['attempts to take her life', 'her father is extremely toxic', 'she has mental illnesses']}\n"
          ]
        },
        {
          "name": "stderr",
          "output_type": "stream",
          "text": [
            "<ipython-input-21-03a526c5feec>:20: FutureWarning: The frame.append method is deprecated and will be removed from pandas in a future version. Use pandas.concat instead.\n",
            "  forth_ten_df = forth_ten_df.append({\n",
            "\rProcessing Rows:  79%|███████▉  | 71/90 [1:00:07<16:58, 53.63s/it]"
          ]
        },
        {
          "name": "stdout",
          "output_type": "stream",
          "text": [
            "{'label': 'Trouble concentrating on things such as reading the newspaper or watching television', 'value': 'yes', 'post_title': 'Dealing with toxic parents and mental illnesses', 'CLUEs': ['low self-esteem', 'mental illnesses like anxiety and panic attacks', 'extreme emotions', 'attempts to take her life']}\n"
          ]
        },
        {
          "name": "stderr",
          "output_type": "stream",
          "text": [
            "<ipython-input-21-03a526c5feec>:20: FutureWarning: The frame.append method is deprecated and will be removed from pandas in a future version. Use pandas.concat instead.\n",
            "  forth_ten_df = forth_ten_df.append({\n",
            "\rProcessing Rows:  80%|████████  | 72/90 [1:00:16<12:01, 40.09s/it]"
          ]
        },
        {
          "name": "stdout",
          "output_type": "stream",
          "text": [
            "{'label': 'Trouble falling or staying asleep or sleeping too much', 'value': 'yes', 'post_title': 'Dealing with toxic parents and mental illnesses', 'CLUEs': 'panic attacks, low self-esteem, attempts to take her life'}\n"
          ]
        },
        {
          "name": "stderr",
          "output_type": "stream",
          "text": [
            "<ipython-input-21-03a526c5feec>:20: FutureWarning: The frame.append method is deprecated and will be removed from pandas in a future version. Use pandas.concat instead.\n",
            "  forth_ten_df = forth_ten_df.append({\n",
            "\rProcessing Rows:  81%|████████  | 73/90 [1:00:37<09:45, 34.46s/it]"
          ]
        },
        {
          "name": "stdout",
          "output_type": "stream",
          "text": [
            "{'label': 'Feeling bad about yourself or that you are a failure or have let yourself or your family down', 'value': 'yes', 'post_title': 'My parents sat down with me and said they’ve noticed a change in me, and they are worried about me.', 'CLUEs': ['change in me', 'worried about me', 'smiled less', 'shorter temper', 'gotten in trouble 3 times at school', 'out of character', 'something is bugging me', \"haven't changed\", 'notice a change in myself', 'anything in my life I’d want to change', \"don't even know what is making me like this\", 'get help', 'where do I start', 'lost']}\n"
          ]
        },
        {
          "name": "stderr",
          "output_type": "stream",
          "text": [
            "<ipython-input-21-03a526c5feec>:20: FutureWarning: The frame.append method is deprecated and will be removed from pandas in a future version. Use pandas.concat instead.\n",
            "  forth_ten_df = forth_ten_df.append({\n",
            "\rProcessing Rows:  82%|████████▏ | 74/90 [1:00:54<07:45, 29.09s/it]"
          ]
        },
        {
          "name": "stdout",
          "output_type": "stream",
          "text": [
            "{'label': 'Feeling down depressed or hopeless', 'value': 'yes', 'post_title': 'My parents sat down with me and said they’ve noticed a change in me, and they are worried about me.', 'CLUEs': ['smiled less', 'shorter temper', 'gotten in trouble at school', \"don't know what is bothering them\", \"don't know what has changed\", 'want to change something in their life', 'feeling lost']}\n"
          ]
        },
        {
          "name": "stderr",
          "output_type": "stream",
          "text": [
            "<ipython-input-21-03a526c5feec>:20: FutureWarning: The frame.append method is deprecated and will be removed from pandas in a future version. Use pandas.concat instead.\n",
            "  forth_ten_df = forth_ten_df.append({\n",
            "\rProcessing Rows:  83%|████████▎ | 75/90 [1:01:12<06:26, 25.78s/it]"
          ]
        },
        {
          "name": "stdout",
          "output_type": "stream",
          "text": [
            "{'label': 'Feeling tired or having little energy', 'value': 'yes', 'post_title': 'My parents sat down with me and said they’ve noticed a change in me, and they are worried about me.', 'CLUEs': ['noticed a change in me', 'smiled less', 'had a shorter temper', 'gotten in trouble at school', 'out of character', \"don't know what is making me like this\", 'lost']}\n"
          ]
        },
        {
          "name": "stderr",
          "output_type": "stream",
          "text": [
            "<ipython-input-21-03a526c5feec>:20: FutureWarning: The frame.append method is deprecated and will be removed from pandas in a future version. Use pandas.concat instead.\n",
            "  forth_ten_df = forth_ten_df.append({\n",
            "\rProcessing Rows:  84%|████████▍ | 76/90 [1:01:25<05:07, 21.96s/it]"
          ]
        },
        {
          "name": "stdout",
          "output_type": "stream",
          "text": [
            "{'label': 'Little interest or pleasure in doing', 'value': 'yes', 'post_title': 'My parents sat down with me and said they’ve noticed a change in me, and they are worried about me.', 'CLUEs': ['smiled less', 'shorter temper', 'gotten in trouble at school', 'change in myself', 'lost']}\n"
          ]
        },
        {
          "name": "stderr",
          "output_type": "stream",
          "text": [
            "<ipython-input-21-03a526c5feec>:20: FutureWarning: The frame.append method is deprecated and will be removed from pandas in a future version. Use pandas.concat instead.\n",
            "  forth_ten_df = forth_ten_df.append({\n",
            "\rProcessing Rows:  86%|████████▌ | 77/90 [1:01:39<04:15, 19.66s/it]"
          ]
        },
        {
          "name": "stdout",
          "output_type": "stream",
          "text": [
            "{'label': 'Moving or speaking so slowly that other people could have noticed Or the opposite being so fidgety or restless that you have been moving around a lot more than usual', 'value': 'no', 'post_title': 'My parents sat down with me and said they’ve noticed a change in me, and they are worried about me.', 'CLUEs': ['shorter temper', 'getting in trouble at school', 'change in myself']}\n"
          ]
        },
        {
          "name": "stderr",
          "output_type": "stream",
          "text": [
            "<ipython-input-21-03a526c5feec>:20: FutureWarning: The frame.append method is deprecated and will be removed from pandas in a future version. Use pandas.concat instead.\n",
            "  forth_ten_df = forth_ten_df.append({\n",
            "\rProcessing Rows:  87%|████████▋ | 78/90 [1:01:52<03:30, 17.52s/it]"
          ]
        },
        {
          "name": "stdout",
          "output_type": "stream",
          "text": [
            "{'label': 'Poor appetite or overeating', 'value': 'no', 'post_title': 'My parents sat down with me and said they’ve noticed a change in me, and they are worried about me.', 'CLUEs': ['smiled less', 'shorter temper', 'gotten in trouble at school', 'change in myself', 'no appetite-related issues mentioned']}\n"
          ]
        },
        {
          "name": "stderr",
          "output_type": "stream",
          "text": [
            "<ipython-input-21-03a526c5feec>:20: FutureWarning: The frame.append method is deprecated and will be removed from pandas in a future version. Use pandas.concat instead.\n",
            "  forth_ten_df = forth_ten_df.append({\n",
            "\rProcessing Rows:  88%|████████▊ | 79/90 [1:02:26<04:09, 22.71s/it]"
          ]
        },
        {
          "name": "stdout",
          "output_type": "stream",
          "text": [
            "{'label': 'Thoughts that you would be better off dead or of hurting yourself in some way', 'value': 'no', 'post_title': 'My parents sat down with me and said they’ve noticed a change in me, and they are worried about me.', 'CLUEs': ['change in behavior', 'short temper', 'getting in trouble at school', \"parents' concern\", 'asking for help']}\n"
          ]
        },
        {
          "name": "stderr",
          "output_type": "stream",
          "text": [
            "<ipython-input-21-03a526c5feec>:20: FutureWarning: The frame.append method is deprecated and will be removed from pandas in a future version. Use pandas.concat instead.\n",
            "  forth_ten_df = forth_ten_df.append({\n",
            "\rProcessing Rows:  89%|████████▉ | 80/90 [1:02:40<03:19, 19.96s/it]"
          ]
        },
        {
          "name": "stdout",
          "output_type": "stream",
          "text": [
            "{'label': 'Trouble concentrating on things such as reading the newspaper or watching television', 'value': 'No', 'post_title': 'My parents sat down with me and said they’ve noticed a change in me, and they are worried about me.', 'CLUEs': ['change in behavior', 'shorter temper', 'trouble at school', \"parents' concern\"]}\n"
          ]
        },
        {
          "name": "stderr",
          "output_type": "stream",
          "text": [
            "<ipython-input-21-03a526c5feec>:20: FutureWarning: The frame.append method is deprecated and will be removed from pandas in a future version. Use pandas.concat instead.\n",
            "  forth_ten_df = forth_ten_df.append({\n",
            "\rProcessing Rows:  90%|█████████ | 81/90 [1:02:55<02:46, 18.55s/it]"
          ]
        },
        {
          "name": "stdout",
          "output_type": "stream",
          "text": [
            "{'label': 'Trouble falling or staying asleep or sleeping too much', 'value': 'yes', 'post_title': 'My parents sat down with me and said they’ve noticed a change in me, and they are worried about me.', 'CLUEs': ['smiled less', 'shorter temper', 'gotten in trouble at school', 'change in myself', \"don't know what is making me like this\", 'trouble falling or staying asleep or sleeping too much']}\n"
          ]
        },
        {
          "name": "stderr",
          "output_type": "stream",
          "text": [
            "<ipython-input-21-03a526c5feec>:20: FutureWarning: The frame.append method is deprecated and will be removed from pandas in a future version. Use pandas.concat instead.\n",
            "  forth_ten_df = forth_ten_df.append({\n",
            "\rProcessing Rows:  91%|█████████ | 82/90 [1:03:08<02:14, 16.75s/it]"
          ]
        },
        {
          "name": "stdout",
          "output_type": "stream",
          "text": [
            "{'label': 'Feeling bad about yourself or that you are a failure or have let yourself or your family down', 'value': 'yes', 'post_title': 'HS ruined my life', 'CLUEs': ['ruined my life', 'mental health', 'stress', 'anxiety', 'bad grades', 'constantly harassed', 'failed', 'disappoint']}\n"
          ]
        },
        {
          "name": "stderr",
          "output_type": "stream",
          "text": [
            "<ipython-input-21-03a526c5feec>:20: FutureWarning: The frame.append method is deprecated and will be removed from pandas in a future version. Use pandas.concat instead.\n",
            "  forth_ten_df = forth_ten_df.append({\n",
            "\rProcessing Rows:  92%|█████████▏| 83/90 [1:09:56<15:40, 134.31s/it]"
          ]
        },
        {
          "name": "stdout",
          "output_type": "stream",
          "text": [
            "{'label': 'Feeling down depressed or hopeless', 'value': 'yes', 'post_title': 'HS ruined my life', 'CLUEs': ['HS was the start of several problems to my mental health', 'stress, anxiety, social problems', 'bad grades', 'bully episode', 'changed my life', 'find it hard to even study now', 'failure', 'mental breakdown', 'struggle when I want to force myself into doing things', 'just want to end it right now', 'disappoint to them', 'my mom and my family']}\n"
          ]
        },
        {
          "name": "stderr",
          "output_type": "stream",
          "text": [
            "<ipython-input-21-03a526c5feec>:20: FutureWarning: The frame.append method is deprecated and will be removed from pandas in a future version. Use pandas.concat instead.\n",
            "  forth_ten_df = forth_ten_df.append({\n",
            "\rProcessing Rows:  93%|█████████▎| 84/90 [1:10:14<09:55, 99.18s/it] "
          ]
        },
        {
          "name": "stdout",
          "output_type": "stream",
          "text": [
            "{'label': 'Feeling tired or having little energy', 'value': 'yes', 'post_title': 'HS ruined my life', 'CLUEs': ['problems to my mental health', 'stress', 'anxiety', 'changed my life', 'find it hard to even study', \"can't force myself into doing nothing\", 'failed my mom', \"I'm having a mental breakdown\", 'struggle when I want to force myself into doing things', 'Life is hard', 'Feeling tired or having little energy']}\n"
          ]
        },
        {
          "name": "stderr",
          "output_type": "stream",
          "text": [
            "<ipython-input-21-03a526c5feec>:20: FutureWarning: The frame.append method is deprecated and will be removed from pandas in a future version. Use pandas.concat instead.\n",
            "  forth_ten_df = forth_ten_df.append({\n",
            "\rProcessing Rows:  94%|█████████▍| 85/90 [1:10:38<06:23, 76.64s/it]"
          ]
        },
        {
          "name": "stdout",
          "output_type": "stream",
          "text": [
            "{'label': 'Little interest or pleasure in doing', 'value': 'yes', 'post_title': 'HS ruined my life', 'CLUEs': ['problems to my mental health', 'stress', 'anxiety', 'social problems', 'bad grades', 'bullies', 'changing classmates', 'find it hard to study', 'forced myself into doing nothing', \"can't go to school\", 'feeling like a failure', 'mental breakdown', 'struggle with homework and studying', 'want to end it', 'sad about what family will think', 'disappointing family', 'life is hard and meaningless']}\n"
          ]
        },
        {
          "name": "stderr",
          "output_type": "stream",
          "text": [
            "<ipython-input-21-03a526c5feec>:20: FutureWarning: The frame.append method is deprecated and will be removed from pandas in a future version. Use pandas.concat instead.\n",
            "  forth_ten_df = forth_ten_df.append({\n",
            "\rProcessing Rows:  96%|█████████▌| 86/90 [1:10:52<03:51, 57.81s/it]"
          ]
        },
        {
          "name": "stdout",
          "output_type": "stream",
          "text": [
            "{'label': 'Moving or speaking so slowly that other people could have noticed Or the opposite being so fidgety or restless that you have been moving around a lot more than usual', 'value': 'yes', 'post_title': 'HS ruined my life', 'CLUEs': ['struggle', 'force myself into doing things', 'hard guys', 'meaningless', 'moving around a lot more than usual']}\n"
          ]
        },
        {
          "name": "stderr",
          "output_type": "stream",
          "text": [
            "<ipython-input-21-03a526c5feec>:20: FutureWarning: The frame.append method is deprecated and will be removed from pandas in a future version. Use pandas.concat instead.\n",
            "  forth_ten_df = forth_ten_df.append({\n",
            "\rProcessing Rows:  97%|█████████▋| 87/90 [1:11:02<02:11, 43.73s/it]"
          ]
        },
        {
          "name": "stdout",
          "output_type": "stream",
          "text": [
            "{'label': 'Poor appetite or overeating', 'value': 'No', 'post_title': 'HS ruined my life', 'CLUEs': ['mental health', 'stress', 'anxiety', 'bad grades', 'struggle when doing things', 'forced myself into doing nothing', 'having a mental breakdown', 'struggle with homework and study', 'meaningless life']}\n"
          ]
        },
        {
          "name": "stderr",
          "output_type": "stream",
          "text": [
            "<ipython-input-21-03a526c5feec>:20: FutureWarning: The frame.append method is deprecated and will be removed from pandas in a future version. Use pandas.concat instead.\n",
            "  forth_ten_df = forth_ten_df.append({\n",
            "\rProcessing Rows:  98%|█████████▊| 88/90 [1:11:30<01:17, 38.89s/it]"
          ]
        },
        {
          "name": "stdout",
          "output_type": "stream",
          "text": [
            "{'label': 'Thoughts that you would be better off dead or of hurting yourself in some way', 'value': 'Yes', 'post_title': 'HS ruined my life', 'CLUEs': ['ruined my life', 'problems to my mental health', 'stress', 'anxiety', 'social problems', 'bad grades', 'party', 'bullies', 'bully episode', 'harrassed', 'teachers were bad', 'changed classmates', 'find it hard to even study', 'failed my mom', 'situation where I cry a lot', 'I am a failure', 'embarrassing', \"you're too young\", 'depression', 'mental breakdown', 'force myself into doing things', 'end it right now', 'disappoint to them', 'they know nothing about my mental state']}\n"
          ]
        },
        {
          "name": "stderr",
          "output_type": "stream",
          "text": [
            "<ipython-input-21-03a526c5feec>:20: FutureWarning: The frame.append method is deprecated and will be removed from pandas in a future version. Use pandas.concat instead.\n",
            "  forth_ten_df = forth_ten_df.append({\n",
            "\rProcessing Rows:  99%|█████████▉| 89/90 [1:16:35<01:58, 118.65s/it]"
          ]
        },
        {
          "name": "stdout",
          "output_type": "stream",
          "text": [
            "{'label': 'Trouble concentrating on things such as reading the newspaper or watching television', 'value': 'yes', 'post_title': 'HS ruined my life', 'CLUEs': ['failed', 'hard to even study', 'struggle when I want to force myself into doing things']}\n"
          ]
        },
        {
          "name": "stderr",
          "output_type": "stream",
          "text": [
            "<ipython-input-21-03a526c5feec>:20: FutureWarning: The frame.append method is deprecated and will be removed from pandas in a future version. Use pandas.concat instead.\n",
            "  forth_ten_df = forth_ten_df.append({\n",
            "\rProcessing Rows: 100%|██████████| 90/90 [1:16:45<00:00, 85.99s/it] "
          ]
        },
        {
          "name": "stdout",
          "output_type": "stream",
          "text": [
            "{'label': 'Trouble falling or staying asleep or sleeping too much', 'value': 'yes', 'post_title': 'HS ruined my life', 'CLUEs': ['mental breakdown', 'struggle when forced to do things', 'wanting to end it', 'trouble sleeping']}\n"
          ]
        }
      ],
      "source": [
        "forth_ten_rows =  primate_input_df.iloc[30:40]\n",
        "\n",
        "total_rows = len(forth_ten_rows) * 9\n",
        "progress_bar = tqdm(total=total_rows, desc=\"Processing Rows\")\n",
        "\n",
        "for index, row in forth_ten_rows.iterrows():\n",
        "    post_title = row['post_title']\n",
        "    post_text = row['post_text']\n",
        "    for key, value in pre_processed_labels.items():\n",
        "      boolean, gpt_answer = get_answer_2305_08377(post_title, post_text, value)\n",
        "      # print(f\"The result is: {boolean} and {gpt_answer}\")\n",
        "      if boolean:\n",
        "        load_gpt_ans_to_json = json.loads(gpt_answer)\n",
        "        print(load_gpt_ans_to_json)\n",
        "        result = {\n",
        "            \"bool\": boolean,\n",
        "            \"json\": load_gpt_ans_to_json\n",
        "        }\n",
        "\n",
        "        forth_ten_df = forth_ten_df.append({\n",
        "            'post_title': load_gpt_ans_to_json['post_title'],\n",
        "            'label': load_gpt_ans_to_json['label'],\n",
        "            'value': load_gpt_ans_to_json['value']\n",
        "        }, ignore_index=True)\n",
        "\n",
        "      if not boolean:\n",
        "        result = {\n",
        "            \"bool\": boolean,\n",
        "            \"error\": gpt_answer\n",
        "        }\n",
        "      # Add to dataframe\n",
        "      # Create a new JSON file for each iteration\n",
        "      file_path = f\"gpt_result_{post_title}_{key}.json\"  # Customize the file name as desired\n",
        "\n",
        "      with open(file_path, \"w\") as json_file:\n",
        "          json.dump(result, json_file, indent=2)\n",
        "\n",
        "      progress_bar.update(1)"
      ]
    },
    {
      "cell_type": "code",
      "execution_count": null,
      "metadata": {
        "colab": {
          "base_uri": "https://localhost:8080/"
        },
        "id": "4YqdOfPx9d1q",
        "outputId": "d6090842-69e0-4dd8-c139-c015fc750ecf"
      },
      "outputs": [
        {
          "name": "stdout",
          "output_type": "stream",
          "text": [
            "<class 'pandas.core.frame.DataFrame'>\n",
            "RangeIndex: 90 entries, 0 to 89\n",
            "Data columns (total 3 columns):\n",
            " #   Column      Non-Null Count  Dtype \n",
            "---  ------      --------------  ----- \n",
            " 0   post_title  90 non-null     object\n",
            " 1   label       90 non-null     object\n",
            " 2   value       90 non-null     object\n",
            "dtypes: object(3)\n",
            "memory usage: 2.2+ KB\n"
          ]
        }
      ],
      "source": [
        "forth_ten_df.info()\n",
        "forth_ten_df.to_csv('forth_ten_output.csv', index=False)"
      ]
    },
    {
      "cell_type": "markdown",
      "metadata": {
        "id": "9tJf7MCqLPtN"
      },
      "source": [
        "## Fifth 10 rows"
      ]
    },
    {
      "cell_type": "code",
      "execution_count": null,
      "metadata": {
        "id": "jOpWRT5VR6_K"
      },
      "outputs": [],
      "source": [
        "columns = ['post_title', 'label', 'value']\n",
        "\n",
        "# Create an empty DataFrame\n",
        "fifth_ten_df = pd.DataFrame(columns=columns)"
      ]
    },
    {
      "cell_type": "code",
      "execution_count": null,
      "metadata": {
        "colab": {
          "base_uri": "https://localhost:8080/"
        },
        "id": "DHk8IMzOR-ao",
        "outputId": "6f3cdd10-64be-4510-a2c5-1650206d989a"
      },
      "outputs": [
        {
          "name": "stderr",
          "output_type": "stream",
          "text": [
            "\n",
            "Processing Rows:   6%|▌         | 5/90 [13:55<3:56:35, 167.01s/it]\n",
            "<ipython-input-26-8352174ee3c3>:20: FutureWarning: The frame.append method is deprecated and will be removed from pandas in a future version. Use pandas.concat instead.\n",
            "  fifth_ten_df = fifth_ten_df.append({\n",
            "\n",
            "Processing Rows:   1%|          | 1/81 [00:17<23:55, 17.94s/it]\u001b[A"
          ]
        },
        {
          "name": "stdout",
          "output_type": "stream",
          "text": [
            "{'label': 'Feeling bad about yourself or that you are a failure or have let yourself or your family down', 'value': 'yes', 'post_title': 'I’ve generally got a good life. Why am I still sad?', 'CLUEs': ['sad', \"can't get out of bed\", 'no enjoyment in anything', 'lost weight', 'feel unfulfilled', 'nothing matters']}\n"
          ]
        },
        {
          "name": "stderr",
          "output_type": "stream",
          "text": [
            "<ipython-input-26-8352174ee3c3>:20: FutureWarning: The frame.append method is deprecated and will be removed from pandas in a future version. Use pandas.concat instead.\n",
            "  fifth_ten_df = fifth_ten_df.append({\n",
            "\n",
            "Processing Rows:   2%|▏         | 2/81 [00:27<16:58, 12.90s/it]\u001b[A"
          ]
        },
        {
          "name": "stdout",
          "output_type": "stream",
          "text": [
            "{'label': 'Feeling down depressed or hopeless', 'value': 'yes', 'post_title': 'I’ve generally got a good life. Why am I still sad?', 'CLUEs': ['sad', \"can't get out of bed\", 'no enjoyment', \"don't like eating\", 'lost weight', 'feel completely unfulfilled', 'nothing matters', 'extremely guilty']}\n"
          ]
        },
        {
          "name": "stderr",
          "output_type": "stream",
          "text": [
            "<ipython-input-26-8352174ee3c3>:20: FutureWarning: The frame.append method is deprecated and will be removed from pandas in a future version. Use pandas.concat instead.\n",
            "  fifth_ten_df = fifth_ten_df.append({\n",
            "\n",
            "Processing Rows:   4%|▎         | 3/81 [00:39<16:14, 12.49s/it]\u001b[A"
          ]
        },
        {
          "name": "stdout",
          "output_type": "stream",
          "text": [
            "{'label': 'Feeling tired or having little energy', 'value': 'yes', 'post_title': 'I’ve generally got a good life. Why am I still sad?', 'CLUEs': [\"can't get out of bed\", 'no enjoyment in anything', 'lost about 20lbs in the past 2 months', 'feel completely unfulfilled', 'feeling tired']}\n"
          ]
        },
        {
          "name": "stderr",
          "output_type": "stream",
          "text": [
            "<ipython-input-26-8352174ee3c3>:20: FutureWarning: The frame.append method is deprecated and will be removed from pandas in a future version. Use pandas.concat instead.\n",
            "  fifth_ten_df = fifth_ten_df.append({\n",
            "\n",
            "Processing Rows:   5%|▍         | 4/81 [00:51<15:48, 12.32s/it]\u001b[A"
          ]
        },
        {
          "name": "stdout",
          "output_type": "stream",
          "text": [
            "{'label': 'Little interest or pleasure in doing', 'value': 'yes', 'post_title': 'I’ve generally got a good life. Why am I still sad?', 'CLUEs': \"can’t get out of bed, no enjoyment, don’t like eating food, lost weight, feel unfulfilled, feel guilty, what's wrong with me, how do I fix it\"}\n"
          ]
        },
        {
          "name": "stderr",
          "output_type": "stream",
          "text": [
            "<ipython-input-26-8352174ee3c3>:20: FutureWarning: The frame.append method is deprecated and will be removed from pandas in a future version. Use pandas.concat instead.\n",
            "  fifth_ten_df = fifth_ten_df.append({\n",
            "\n",
            "Processing Rows:   6%|▌         | 5/81 [01:08<18:00, 14.22s/it]\u001b[A"
          ]
        },
        {
          "name": "stdout",
          "output_type": "stream",
          "text": [
            "{'label': 'Moving or speaking so slowly that other people could have noticed Or the opposite being so fidgety or restless that you have been moving around a lot more than usual', 'value': 'yes', 'post_title': 'I’ve generally got a good life. Why am I still sad?', 'CLUEs': ['can’t get out of bed in the morning', 'don’t have any enjoyment in anything', 'don’t even like eating food anymore', 'lost about 20lbs in the past 2 months', 'feel completely unfulfilled', 'like nothing matters', 'extremely guilty']}\n"
          ]
        },
        {
          "name": "stderr",
          "output_type": "stream",
          "text": [
            "<ipython-input-26-8352174ee3c3>:20: FutureWarning: The frame.append method is deprecated and will be removed from pandas in a future version. Use pandas.concat instead.\n",
            "  fifth_ten_df = fifth_ten_df.append({\n",
            "\n",
            "Processing Rows:   7%|▋         | 6/81 [01:21<17:00, 13.60s/it]\u001b[A"
          ]
        },
        {
          "name": "stdout",
          "output_type": "stream",
          "text": [
            "{'label': 'Poor appetite or overeating', 'value': 'yes', 'post_title': 'I’ve generally got a good life. Why am I still sad?', 'CLUEs': ['lost 20lbs in the past 2 months', \"don't like eating food anymore\", 'poor appetite', 'feel completely unfulfilled']}\n"
          ]
        },
        {
          "name": "stderr",
          "output_type": "stream",
          "text": [
            "<ipython-input-26-8352174ee3c3>:20: FutureWarning: The frame.append method is deprecated and will be removed from pandas in a future version. Use pandas.concat instead.\n",
            "  fifth_ten_df = fifth_ten_df.append({\n",
            "\n",
            "Processing Rows:   9%|▊         | 7/81 [01:33<16:12, 13.14s/it]\u001b[A"
          ]
        },
        {
          "name": "stdout",
          "output_type": "stream",
          "text": [
            "{'label': 'Thoughts that you would be better off dead or of hurting yourself in some way', 'value': 'no', 'post_title': 'I’ve generally got a good life. Why am I still sad?', 'CLUEs': ['sad', \"can't get out of bed\", 'no enjoyment', 'lost weight', 'feel unfulfilled', 'nothing matters']}\n"
          ]
        },
        {
          "name": "stderr",
          "output_type": "stream",
          "text": [
            "<ipython-input-26-8352174ee3c3>:20: FutureWarning: The frame.append method is deprecated and will be removed from pandas in a future version. Use pandas.concat instead.\n",
            "  fifth_ten_df = fifth_ten_df.append({\n",
            "\n",
            "Processing Rows:  10%|▉         | 8/81 [01:44<15:11, 12.48s/it]\u001b[A"
          ]
        },
        {
          "name": "stdout",
          "output_type": "stream",
          "text": [
            "{'label': 'Trouble concentrating on things such as reading the newspaper or watching television', 'value': 'yes', 'post_title': 'I’ve generally got a good life. Why am I still sad?', 'CLUEs': ['feel completely unfulfilled', 'nothing matters', 'extremely guilty']}\n"
          ]
        },
        {
          "name": "stderr",
          "output_type": "stream",
          "text": [
            "<ipython-input-26-8352174ee3c3>:20: FutureWarning: The frame.append method is deprecated and will be removed from pandas in a future version. Use pandas.concat instead.\n",
            "  fifth_ten_df = fifth_ten_df.append({\n",
            "\n",
            "Processing Rows:  11%|█         | 9/81 [01:53<13:38, 11.37s/it]\u001b[A"
          ]
        },
        {
          "name": "stdout",
          "output_type": "stream",
          "text": [
            "{'label': 'Trouble falling or staying asleep or sleeping too much', 'value': 'yes', 'post_title': 'I’ve generally got a good life. Why am I still sad?', 'CLUEs': [\"can't get out of bed in the morning\", 'lost about 20lbs in the past 2 months', 'feel completely unfulfilled']}\n"
          ]
        },
        {
          "name": "stderr",
          "output_type": "stream",
          "text": [
            "<ipython-input-26-8352174ee3c3>:20: FutureWarning: The frame.append method is deprecated and will be removed from pandas in a future version. Use pandas.concat instead.\n",
            "  fifth_ten_df = fifth_ten_df.append({\n",
            "\n",
            "Processing Rows:  12%|█▏        | 10/81 [02:05<13:41, 11.57s/it]\u001b[A"
          ]
        },
        {
          "name": "stdout",
          "output_type": "stream",
          "text": [
            "{'label': 'Feeling bad about yourself or that you are a failure or have let yourself or your family down', 'value': 'no', 'post_title': 'How can I even tell if antidepressants are working if I have no way to tell?', 'CLUEs': ['depressed', 'lost', 'worse', 'dread', 'hopelessness']}\n"
          ]
        },
        {
          "name": "stderr",
          "output_type": "stream",
          "text": [
            "<ipython-input-26-8352174ee3c3>:20: FutureWarning: The frame.append method is deprecated and will be removed from pandas in a future version. Use pandas.concat instead.\n",
            "  fifth_ten_df = fifth_ten_df.append({\n",
            "\n",
            "Processing Rows:  14%|█▎        | 11/81 [02:15<12:47, 10.97s/it]\u001b[A"
          ]
        },
        {
          "name": "stdout",
          "output_type": "stream",
          "text": [
            "{'label': 'Feeling down depressed or hopeless', 'value': 'yes', 'post_title': 'How can I even tell if antidepressants are working if I have no way to tell?', 'CLUEs': ['depressed', 'antidepressants', 'working', 'way to tell']}\n"
          ]
        },
        {
          "name": "stderr",
          "output_type": "stream",
          "text": [
            "<ipython-input-26-8352174ee3c3>:20: FutureWarning: The frame.append method is deprecated and will be removed from pandas in a future version. Use pandas.concat instead.\n",
            "  fifth_ten_df = fifth_ten_df.append({\n",
            "\n",
            "Processing Rows:  15%|█▍        | 12/81 [02:26<12:39, 11.00s/it]\u001b[A"
          ]
        },
        {
          "name": "stdout",
          "output_type": "stream",
          "text": [
            "{'label': 'Feeling tired or having little energy', 'value': 'no', 'post_title': 'How can I even tell if antidepressants are working if I have no way to tell?', 'CLUEs': ['antidepressants', 'working', 'tell']}\n"
          ]
        },
        {
          "name": "stderr",
          "output_type": "stream",
          "text": [
            "<ipython-input-26-8352174ee3c3>:20: FutureWarning: The frame.append method is deprecated and will be removed from pandas in a future version. Use pandas.concat instead.\n",
            "  fifth_ten_df = fifth_ten_df.append({\n",
            "\n",
            "Processing Rows:  16%|█▌        | 13/81 [02:51<17:25, 15.37s/it]\u001b[A"
          ]
        },
        {
          "name": "stdout",
          "output_type": "stream",
          "text": [
            "{'label': 'Little interest or pleasure in doing', 'value': 'yes', 'post_title': 'How can I even tell if antidepressants are working if I have no way to tell?', 'CLUEs': ['antidepressants', 'working', 'tell', 'diagnosed with depression', 'anxiety', 'supportive', 'teenage angst', 'college', 'therapy services', 'Zoloft', 'months', 'helping', 'lost', 'worse', 'bottling', 'repressing', 'emotion identification', 'convince', 'better', 'normal', 'dread', 'hopelessness', 'wanting of nothing', 'positive impact', 'helps', 'TLDR']}\n"
          ]
        },
        {
          "name": "stderr",
          "output_type": "stream",
          "text": [
            "<ipython-input-26-8352174ee3c3>:20: FutureWarning: The frame.append method is deprecated and will be removed from pandas in a future version. Use pandas.concat instead.\n",
            "  fifth_ten_df = fifth_ten_df.append({\n",
            "\n",
            "Processing Rows:  17%|█▋        | 14/81 [03:04<16:14, 14.54s/it]\u001b[A"
          ]
        },
        {
          "name": "stdout",
          "output_type": "stream",
          "text": [
            "{'label': 'Moving or speaking so slowly that other people could have noticed Or the opposite being so fidgety or restless that you have been moving around a lot more than usual', 'value': 'no', 'post_title': 'How can I even tell if antidepressants are working if I have no way to tell?', 'CLUEs': ['depressed', 'thought meds were helping', \"actually weren't\"]}\n"
          ]
        },
        {
          "name": "stderr",
          "output_type": "stream",
          "text": [
            "<ipython-input-26-8352174ee3c3>:20: FutureWarning: The frame.append method is deprecated and will be removed from pandas in a future version. Use pandas.concat instead.\n",
            "  fifth_ten_df = fifth_ten_df.append({\n",
            "\n",
            "Processing Rows:  19%|█▊        | 15/81 [03:18<15:45, 14.33s/it]\u001b[A"
          ]
        },
        {
          "name": "stdout",
          "output_type": "stream",
          "text": [
            "{'label': 'Poor appetite or overeating', 'value': 'yes', 'post_title': 'How can I even tell if antidepressants are working if I have no way to tell?', 'CLUEs': ['round of antidepressants', 'thought they were helping', 'everything is somehow worse than it ever was before', 'convincing myself I was better', \"want to know what it'll be like to actually be on something that has a positive impact\"]}\n"
          ]
        },
        {
          "name": "stderr",
          "output_type": "stream",
          "text": [
            "<ipython-input-26-8352174ee3c3>:20: FutureWarning: The frame.append method is deprecated and will be removed from pandas in a future version. Use pandas.concat instead.\n",
            "  fifth_ten_df = fifth_ten_df.append({\n",
            "\n",
            "Processing Rows:  20%|█▉        | 16/81 [03:32<15:23, 14.20s/it]\u001b[A"
          ]
        },
        {
          "name": "stdout",
          "output_type": "stream",
          "text": [
            "{'label': 'Thoughts that you would be better off dead or of hurting yourself in some way', 'value': 'No', 'post_title': 'How can I even tell if antidepressants are working if I have no way to tell?', 'CLUEs': ['depression', 'anxiety', 'therapy services', 'antidepressants', 'Zoloft', 'feeling lost', 'dread', 'hopelessness']}\n"
          ]
        },
        {
          "name": "stderr",
          "output_type": "stream",
          "text": [
            "<ipython-input-26-8352174ee3c3>:20: FutureWarning: The frame.append method is deprecated and will be removed from pandas in a future version. Use pandas.concat instead.\n",
            "  fifth_ten_df = fifth_ten_df.append({\n",
            "\n",
            "Processing Rows:  21%|██        | 17/81 [03:47<15:30, 14.54s/it]\u001b[A"
          ]
        },
        {
          "name": "stdout",
          "output_type": "stream",
          "text": [
            "{'label': 'Trouble concentrating on things such as reading the newspaper or watching television', 'value': 'no', 'post_title': 'How can I even tell if antidepressants are working if I have no way to tell?', 'CLUEs': ['antidepressants', 'Zoloft', 'therapy services', 'feeling lost', 'worse than before', 'emotion identification', 'dread and hopelessness', 'positive impact']}\n"
          ]
        },
        {
          "name": "stderr",
          "output_type": "stream",
          "text": [
            "<ipython-input-26-8352174ee3c3>:20: FutureWarning: The frame.append method is deprecated and will be removed from pandas in a future version. Use pandas.concat instead.\n",
            "  fifth_ten_df = fifth_ten_df.append({\n",
            "\n",
            "Processing Rows:  22%|██▏       | 18/81 [03:56<13:27, 12.82s/it]\u001b[A"
          ]
        },
        {
          "name": "stdout",
          "output_type": "stream",
          "text": [
            "{'label': 'Trouble falling or staying asleep or sleeping too much', 'value': 'no', 'post_title': 'How can I even tell if antidepressants are working if I have no way to tell?', 'CLUEs': ['no mention of trouble falling or staying asleep']}\n"
          ]
        },
        {
          "name": "stderr",
          "output_type": "stream",
          "text": [
            "<ipython-input-26-8352174ee3c3>:20: FutureWarning: The frame.append method is deprecated and will be removed from pandas in a future version. Use pandas.concat instead.\n",
            "  fifth_ten_df = fifth_ten_df.append({\n",
            "\n",
            "Processing Rows:  23%|██▎       | 19/81 [04:11<14:04, 13.62s/it]\u001b[A"
          ]
        },
        {
          "name": "stdout",
          "output_type": "stream",
          "text": [
            "{'label': 'Feeling bad about yourself or that you are a failure or have let yourself or your family down', 'value': 'yes', 'post_title': 'I need help.', 'CLUEs': ['weight on me', 'ex broke up', 'moved away', 'dream about her', 'constantly depressed', 'feel like shit']}\n"
          ]
        },
        {
          "name": "stderr",
          "output_type": "stream",
          "text": [
            "<ipython-input-26-8352174ee3c3>:20: FutureWarning: The frame.append method is deprecated and will be removed from pandas in a future version. Use pandas.concat instead.\n",
            "  fifth_ten_df = fifth_ten_df.append({\n",
            "\n",
            "Processing Rows:  25%|██▍       | 20/81 [04:19<11:56, 11.74s/it]\u001b[A"
          ]
        },
        {
          "name": "stdout",
          "output_type": "stream",
          "text": [
            "{'label': 'Feeling down depressed or hopeless', 'value': 'yes', 'post_title': 'I need help.', 'CLUEs': ['going through', 'weighing on me', 'broke up', 'moved away', 'dream about her', 'think about her', \"don't have health insurance\", 'constantly depressed', 'feel like shit']}\n"
          ]
        },
        {
          "name": "stderr",
          "output_type": "stream",
          "text": [
            "<ipython-input-26-8352174ee3c3>:20: FutureWarning: The frame.append method is deprecated and will be removed from pandas in a future version. Use pandas.concat instead.\n",
            "  fifth_ten_df = fifth_ten_df.append({\n",
            "\n",
            "Processing Rows:  26%|██▌       | 21/81 [04:27<10:45, 10.76s/it]\u001b[A"
          ]
        },
        {
          "name": "stdout",
          "output_type": "stream",
          "text": [
            "{'label': 'Feeling tired or having little energy', 'value': 'no', 'post_title': 'I need help.', 'CLUEs': ['dream about her', 'think about her', 'constantly depressed', 'always feel like shit']}\n"
          ]
        },
        {
          "name": "stderr",
          "output_type": "stream",
          "text": [
            "<ipython-input-26-8352174ee3c3>:20: FutureWarning: The frame.append method is deprecated and will be removed from pandas in a future version. Use pandas.concat instead.\n",
            "  fifth_ten_df = fifth_ten_df.append({\n",
            "\n",
            "Processing Rows:  27%|██▋       | 22/81 [04:36<09:55, 10.09s/it]\u001b[A"
          ]
        },
        {
          "name": "stdout",
          "output_type": "stream",
          "text": [
            "{'label': 'Little interest or pleasure in doing', 'value': 'yes', 'post_title': 'I need help.', 'CLUEs': ['depressed', 'dream about her', 'constantly depressed', 'always feel like shit', 'little interest or pleasure']}\n"
          ]
        },
        {
          "name": "stderr",
          "output_type": "stream",
          "text": [
            "<ipython-input-26-8352174ee3c3>:20: FutureWarning: The frame.append method is deprecated and will be removed from pandas in a future version. Use pandas.concat instead.\n",
            "  fifth_ten_df = fifth_ten_df.append({\n",
            "\n",
            "Processing Rows:  28%|██▊       | 23/81 [04:47<10:05, 10.45s/it]\u001b[A"
          ]
        },
        {
          "name": "stdout",
          "output_type": "stream",
          "text": [
            "{'label': 'Moving or speaking so slowly that other people could have noticed Or the opposite being so fidgety or restless that you have been moving around a lot more than usual', 'value': 'No', 'post_title': 'I need help.', 'CLUEs': ['moving around a lot more than usual']}\n"
          ]
        },
        {
          "name": "stderr",
          "output_type": "stream",
          "text": [
            "<ipython-input-26-8352174ee3c3>:20: FutureWarning: The frame.append method is deprecated and will be removed from pandas in a future version. Use pandas.concat instead.\n",
            "  fifth_ten_df = fifth_ten_df.append({\n",
            "\n",
            "Processing Rows:  30%|██▉       | 24/81 [04:56<09:30, 10.00s/it]\u001b[A"
          ]
        },
        {
          "name": "stdout",
          "output_type": "stream",
          "text": [
            "{'label': 'Poor appetite or overeating', 'value': 'no', 'post_title': 'I need help.', 'CLUEs': ['fresh start', 'moved 3 states away', \"don't have health insurance\", 'working on getting therapy', 'constantly depressed']}\n"
          ]
        },
        {
          "name": "stderr",
          "output_type": "stream",
          "text": [
            "<ipython-input-26-8352174ee3c3>:20: FutureWarning: The frame.append method is deprecated and will be removed from pandas in a future version. Use pandas.concat instead.\n",
            "  fifth_ten_df = fifth_ten_df.append({\n",
            "\n",
            "Processing Rows:  31%|███       | 25/81 [05:06<09:15,  9.92s/it]\u001b[A"
          ]
        },
        {
          "name": "stdout",
          "output_type": "stream",
          "text": [
            "{'label': 'Thoughts that you would be better off dead or of hurting yourself in some way', 'value': 'no', 'post_title': 'I need help.', 'CLUEs': ['dream about her', 'constantly depressed', 'feel like shit', 'need something to get me through']}\n"
          ]
        },
        {
          "name": "stderr",
          "output_type": "stream",
          "text": [
            "<ipython-input-26-8352174ee3c3>:20: FutureWarning: The frame.append method is deprecated and will be removed from pandas in a future version. Use pandas.concat instead.\n",
            "  fifth_ten_df = fifth_ten_df.append({\n",
            "\n",
            "Processing Rows:  32%|███▏      | 26/81 [05:17<09:23, 10.24s/it]\u001b[A"
          ]
        },
        {
          "name": "stdout",
          "output_type": "stream",
          "text": [
            "{'label': 'Trouble concentrating on things such as reading the newspaper or watching television', 'value': 'Yes', 'post_title': 'I need help.', 'CLUEs': ['trouble concentrating', \"can't stop thinking about her\", 'constantly depressed', 'always feel like shit']}\n"
          ]
        },
        {
          "name": "stderr",
          "output_type": "stream",
          "text": [
            "<ipython-input-26-8352174ee3c3>:20: FutureWarning: The frame.append method is deprecated and will be removed from pandas in a future version. Use pandas.concat instead.\n",
            "  fifth_ten_df = fifth_ten_df.append({\n",
            "\n",
            "Processing Rows:  33%|███▎      | 27/81 [05:25<08:46,  9.74s/it]\u001b[A"
          ]
        },
        {
          "name": "stdout",
          "output_type": "stream",
          "text": [
            "{'label': 'Trouble falling or staying asleep or sleeping too much', 'value': 'yes', 'post_title': 'I need help.', 'CLUEs': ['dream about her', \"can't stop thinking about her\", 'constantly depressed']}\n"
          ]
        },
        {
          "name": "stderr",
          "output_type": "stream",
          "text": [
            "<ipython-input-26-8352174ee3c3>:20: FutureWarning: The frame.append method is deprecated and will be removed from pandas in a future version. Use pandas.concat instead.\n",
            "  fifth_ten_df = fifth_ten_df.append({\n",
            "\n",
            "Processing Rows:  35%|███▍      | 28/81 [05:37<09:08, 10.36s/it]\u001b[A"
          ]
        },
        {
          "name": "stdout",
          "output_type": "stream",
          "text": [
            "{'label': 'Feeling bad about yourself or that you are a failure or have let yourself or your family down', 'value': 'yes', 'post_title': 'I feel like I can’t talk to anyone', 'CLUEs': ['emotionally dependent', 'self harm', 'cry', \"can't talk to anyone\", 'feeling worse']}\n"
          ]
        },
        {
          "name": "stderr",
          "output_type": "stream",
          "text": [
            "<ipython-input-26-8352174ee3c3>:20: FutureWarning: The frame.append method is deprecated and will be removed from pandas in a future version. Use pandas.concat instead.\n",
            "  fifth_ten_df = fifth_ten_df.append({\n",
            "\n",
            "Processing Rows:  36%|███▌      | 29/81 [05:50<09:48, 11.31s/it]\u001b[A"
          ]
        },
        {
          "name": "stdout",
          "output_type": "stream",
          "text": [
            "{'label': 'Feeling down depressed or hopeless', 'value': 'yes', 'post_title': 'I feel like I can’t talk to anyone', 'CLUEs': ['seasonal depression', 'emotionally dependent', 'cry myself to sleep', 'self harm', 'feel worse', 'trust', 'guidance councillors', \"college's guidance\", 'appointment']}\n"
          ]
        },
        {
          "name": "stderr",
          "output_type": "stream",
          "text": [
            "<ipython-input-26-8352174ee3c3>:20: FutureWarning: The frame.append method is deprecated and will be removed from pandas in a future version. Use pandas.concat instead.\n",
            "  fifth_ten_df = fifth_ten_df.append({\n",
            "\n",
            "Processing Rows:  37%|███▋      | 30/81 [06:01<09:28, 11.14s/it]\u001b[A"
          ]
        },
        {
          "name": "stdout",
          "output_type": "stream",
          "text": [
            "{'label': 'Feeling tired or having little energy', 'value': 'yes', 'post_title': 'I feel like I can’t talk to anyone', 'CLUEs': ['seasonal depression', 'emotionally dependent', 'crying', 'self harm', 'worse', \"college's guidance councillors\", 'appointment']}\n"
          ]
        },
        {
          "name": "stderr",
          "output_type": "stream",
          "text": [
            "<ipython-input-26-8352174ee3c3>:20: FutureWarning: The frame.append method is deprecated and will be removed from pandas in a future version. Use pandas.concat instead.\n",
            "  fifth_ten_df = fifth_ten_df.append({\n",
            "\n",
            "Processing Rows:  38%|███▊      | 31/81 [06:19<10:50, 13.01s/it]\u001b[A"
          ]
        },
        {
          "name": "stdout",
          "output_type": "stream",
          "text": [
            "{'label': 'Little interest or pleasure in doing', 'value': 'yes', 'post_title': 'I feel like I can’t talk to anyone', 'CLUEs': ['seasonal depression', 'emotionally dependent', 'self harm', 'cry myself to sleep']}\n"
          ]
        },
        {
          "name": "stderr",
          "output_type": "stream",
          "text": [
            "<ipython-input-26-8352174ee3c3>:20: FutureWarning: The frame.append method is deprecated and will be removed from pandas in a future version. Use pandas.concat instead.\n",
            "  fifth_ten_df = fifth_ten_df.append({\n",
            "\n",
            "Processing Rows:  40%|███▉      | 32/81 [06:37<12:01, 14.72s/it]\u001b[A"
          ]
        },
        {
          "name": "stdout",
          "output_type": "stream",
          "text": [
            "{'label': 'Moving or speaking so slowly that other people could have noticed Or the opposite being so fidgety or restless that you have been moving around a lot more than usual', 'value': 'yes', 'post_title': 'I feel like I can’t talk to anyone', 'CLUEs': ['crying', 'self harm', 'emotional dependence', \"can't talk to anyone\", 'emotional dependency on boyfriend', 'boyfriend worried', 'best friend changed', 'trust issues', \"appointment with college's guidance counselors\"]}\n"
          ]
        },
        {
          "name": "stderr",
          "output_type": "stream",
          "text": [
            "<ipython-input-26-8352174ee3c3>:20: FutureWarning: The frame.append method is deprecated and will be removed from pandas in a future version. Use pandas.concat instead.\n",
            "  fifth_ten_df = fifth_ten_df.append({\n",
            "\n",
            "Processing Rows:  41%|████      | 33/81 [06:48<10:43, 13.41s/it]\u001b[A"
          ]
        },
        {
          "name": "stdout",
          "output_type": "stream",
          "text": [
            "{'label': 'Poor appetite or overeating', 'value': 'yes', 'post_title': 'I feel like I can’t talk to anyone', 'CLUEs': ['emotionally dependent', 'self harm', 'best friend', \"college's guidance councillors\", 'appointment']}\n"
          ]
        },
        {
          "name": "stderr",
          "output_type": "stream",
          "text": [
            "<ipython-input-26-8352174ee3c3>:20: FutureWarning: The frame.append method is deprecated and will be removed from pandas in a future version. Use pandas.concat instead.\n",
            "  fifth_ten_df = fifth_ten_df.append({\n",
            "\n",
            "Processing Rows:  42%|████▏     | 34/81 [06:57<09:36, 12.27s/it]\u001b[A"
          ]
        },
        {
          "name": "stdout",
          "output_type": "stream",
          "text": [
            "{'label': 'Thoughts that you would be better off dead or of hurting yourself in some way', 'value': 'yes', 'post_title': 'I feel like I can’t talk to anyone', 'CLUEs': ['cry', 'self harm', 'talk', 'emotionally dependent']}\n"
          ]
        },
        {
          "name": "stderr",
          "output_type": "stream",
          "text": [
            "<ipython-input-26-8352174ee3c3>:20: FutureWarning: The frame.append method is deprecated and will be removed from pandas in a future version. Use pandas.concat instead.\n",
            "  fifth_ten_df = fifth_ten_df.append({\n",
            "\n",
            "Processing Rows:  43%|████▎     | 35/81 [07:06<08:35, 11.21s/it]\u001b[A"
          ]
        },
        {
          "name": "stdout",
          "output_type": "stream",
          "text": [
            "{'label': 'Trouble concentrating on things such as reading the newspaper or watching television', 'value': 'yes', 'post_title': 'I feel like I can’t talk to anyone', 'CLUEs': ['appointment', \"college's guidance councillors\"]}\n"
          ]
        },
        {
          "name": "stderr",
          "output_type": "stream",
          "text": [
            "<ipython-input-26-8352174ee3c3>:20: FutureWarning: The frame.append method is deprecated and will be removed from pandas in a future version. Use pandas.concat instead.\n",
            "  fifth_ten_df = fifth_ten_df.append({\n",
            "\n",
            "Processing Rows:  44%|████▍     | 36/81 [07:14<07:47, 10.38s/it]\u001b[A"
          ]
        },
        {
          "name": "stdout",
          "output_type": "stream",
          "text": [
            "{'label': 'Trouble falling or staying asleep or sleeping too much', 'value': 'yes', 'post_title': 'I feel like I can’t talk to anyone', 'CLUEs': ['crying myself to sleep', 'trouble falling asleep']}\n"
          ]
        },
        {
          "name": "stderr",
          "output_type": "stream",
          "text": [
            "<ipython-input-26-8352174ee3c3>:20: FutureWarning: The frame.append method is deprecated and will be removed from pandas in a future version. Use pandas.concat instead.\n",
            "  fifth_ten_df = fifth_ten_df.append({\n",
            "\n",
            "Processing Rows:  46%|████▌     | 37/81 [07:25<07:42, 10.50s/it]\u001b[A"
          ]
        },
        {
          "name": "stdout",
          "output_type": "stream",
          "text": [
            "{'label': 'Feeling bad about yourself or that you are a failure or have let yourself or your family down', 'value': 'no', 'post_title': 'Thinking of changing antidepressants', 'CLUEs': ['lexapro', 'depression', 'anxiety', 'not too many results', 'need a change']}\n"
          ]
        },
        {
          "name": "stderr",
          "output_type": "stream",
          "text": [
            "<ipython-input-26-8352174ee3c3>:20: FutureWarning: The frame.append method is deprecated and will be removed from pandas in a future version. Use pandas.concat instead.\n",
            "  fifth_ten_df = fifth_ten_df.append({\n",
            "\n",
            "Processing Rows:  47%|████▋     | 38/81 [07:34<07:07,  9.95s/it]\u001b[A"
          ]
        },
        {
          "name": "stdout",
          "output_type": "stream",
          "text": [
            "{'label': 'Feeling down depressed or hopeless', 'value': 'yes', 'post_title': 'Thinking of changing antidepressants', 'CLUEs': ['lexapro', 'depression', 'anxiety', 'results', 'change', 'doctor', 'medicine', 'bring it up']}\n"
          ]
        },
        {
          "name": "stderr",
          "output_type": "stream",
          "text": [
            "<ipython-input-26-8352174ee3c3>:20: FutureWarning: The frame.append method is deprecated and will be removed from pandas in a future version. Use pandas.concat instead.\n",
            "  fifth_ten_df = fifth_ten_df.append({\n",
            "\n",
            "Processing Rows:  48%|████▊     | 39/81 [07:41<06:19,  9.03s/it]\u001b[A"
          ]
        },
        {
          "name": "stdout",
          "output_type": "stream",
          "text": [
            "{'label': 'Feeling tired or having little energy', 'value': 'yes', 'post_title': 'Thinking of changing antidepressants', 'CLUEs': ['tired', 'little energy']}\n"
          ]
        },
        {
          "name": "stderr",
          "output_type": "stream",
          "text": [
            "<ipython-input-26-8352174ee3c3>:20: FutureWarning: The frame.append method is deprecated and will be removed from pandas in a future version. Use pandas.concat instead.\n",
            "  fifth_ten_df = fifth_ten_df.append({\n",
            "\n",
            "Processing Rows:  49%|████▉     | 40/81 [07:50<06:15,  9.15s/it]\u001b[A"
          ]
        },
        {
          "name": "stdout",
          "output_type": "stream",
          "text": [
            "{'label': 'Little interest or pleasure in doing', 'value': 'yes', 'post_title': 'Thinking of changing antidepressants', 'CLUEs': ['lexapro', 'depression', 'anxiety', 'results', 'change', 'doctor', 'medicine', 'bring it up']}\n"
          ]
        },
        {
          "name": "stderr",
          "output_type": "stream",
          "text": [
            "<ipython-input-26-8352174ee3c3>:20: FutureWarning: The frame.append method is deprecated and will be removed from pandas in a future version. Use pandas.concat instead.\n",
            "  fifth_ten_df = fifth_ten_df.append({\n",
            "\n",
            "Processing Rows:  51%|█████     | 41/81 [08:02<06:34,  9.85s/it]\u001b[A"
          ]
        },
        {
          "name": "stdout",
          "output_type": "stream",
          "text": [
            "{'label': 'Moving or speaking so slowly that other people could have noticed Or the opposite being so fidgety or restless that you have been moving around a lot more than usual', 'value': 'No', 'post_title': 'Thinking of changing antidepressants', 'CLUEs': ['lexapro', 'depression', 'anxiety', 'medicine', 'change']}\n"
          ]
        },
        {
          "name": "stderr",
          "output_type": "stream",
          "text": [
            "<ipython-input-26-8352174ee3c3>:20: FutureWarning: The frame.append method is deprecated and will be removed from pandas in a future version. Use pandas.concat instead.\n",
            "  fifth_ten_df = fifth_ten_df.append({\n",
            "\n",
            "Processing Rows:  52%|█████▏    | 42/81 [08:13<06:38, 10.23s/it]\u001b[A"
          ]
        },
        {
          "name": "stdout",
          "output_type": "stream",
          "text": [
            "{'label': 'Poor appetite or overeating', 'value': 'no', 'post_title': 'Thinking of changing antidepressants', 'CLUEs': ['lexapro', 'depression', 'anxiety', 'results', 'change', 'doctor', 'medicine', 'bring it up']}\n"
          ]
        },
        {
          "name": "stderr",
          "output_type": "stream",
          "text": [
            "<ipython-input-26-8352174ee3c3>:20: FutureWarning: The frame.append method is deprecated and will be removed from pandas in a future version. Use pandas.concat instead.\n",
            "  fifth_ten_df = fifth_ten_df.append({\n",
            "\n",
            "Processing Rows:  53%|█████▎    | 43/81 [08:20<05:59,  9.45s/it]\u001b[A"
          ]
        },
        {
          "name": "stdout",
          "output_type": "stream",
          "text": [
            "{'label': 'Thoughts that you would be better off dead or of hurting yourself in some way', 'value': 'no', 'post_title': 'Thinking of changing antidepressants', 'CLUEs': ['change antidepressants']}\n"
          ]
        },
        {
          "name": "stderr",
          "output_type": "stream",
          "text": [
            "<ipython-input-26-8352174ee3c3>:20: FutureWarning: The frame.append method is deprecated and will be removed from pandas in a future version. Use pandas.concat instead.\n",
            "  fifth_ten_df = fifth_ten_df.append({\n",
            "\n",
            "Processing Rows:  54%|█████▍    | 44/81 [08:29<05:37,  9.12s/it]\u001b[A"
          ]
        },
        {
          "name": "stdout",
          "output_type": "stream",
          "text": [
            "{'label': 'Trouble concentrating on things such as reading the newspaper or watching television', 'value': 'No', 'post_title': 'Thinking of changing antidepressants', 'CLUEs': ['change antidepressants']}\n"
          ]
        },
        {
          "name": "stderr",
          "output_type": "stream",
          "text": [
            "<ipython-input-26-8352174ee3c3>:20: FutureWarning: The frame.append method is deprecated and will be removed from pandas in a future version. Use pandas.concat instead.\n",
            "  fifth_ten_df = fifth_ten_df.append({\n",
            "\n",
            "Processing Rows:  56%|█████▌    | 45/81 [08:36<05:13,  8.70s/it]\u001b[A"
          ]
        },
        {
          "name": "stdout",
          "output_type": "stream",
          "text": [
            "{'label': 'Trouble falling or staying asleep or sleeping too much', 'value': 'yes', 'post_title': 'Thinking of changing antidepressants', 'CLUEs': ['changing antidepressants', \"haven't been getting good sleep\"]}\n"
          ]
        },
        {
          "name": "stderr",
          "output_type": "stream",
          "text": [
            "<ipython-input-26-8352174ee3c3>:20: FutureWarning: The frame.append method is deprecated and will be removed from pandas in a future version. Use pandas.concat instead.\n",
            "  fifth_ten_df = fifth_ten_df.append({\n",
            "\n",
            "Processing Rows:  57%|█████▋    | 46/81 [08:55<06:49, 11.70s/it]\u001b[A"
          ]
        },
        {
          "name": "stdout",
          "output_type": "stream",
          "text": [
            "{'label': 'Feeling bad about yourself or that you are a failure or have let yourself or your family down', 'value': 'yes', 'post_title': 'I study at university and things have become EXTREMELY difficult', 'CLUEs': ['insanely stressful', 'random panic attacks', 'dizziness', 'increased heartbeat', 'sweaty and trembling palms', 'extreme pain', 'late for classes', 'avoid conscription', 'constant beating', 'humiliation', 'shitty food', 'life without sleep', 'tough environment', 'health not good enough to endure conscription']}\n"
          ]
        },
        {
          "name": "stderr",
          "output_type": "stream",
          "text": [
            "<ipython-input-26-8352174ee3c3>:20: FutureWarning: The frame.append method is deprecated and will be removed from pandas in a future version. Use pandas.concat instead.\n",
            "  fifth_ten_df = fifth_ten_df.append({\n",
            "\n",
            "Processing Rows:  58%|█████▊    | 47/81 [09:14<07:52, 13.91s/it]\u001b[A"
          ]
        },
        {
          "name": "stdout",
          "output_type": "stream",
          "text": [
            "{'label': 'Feeling down depressed or hopeless', 'value': 'yes', 'post_title': 'I study at university and things have become EXTREMELY difficult', 'CLUEs': ['recently things have become really tough', 'problems that I’ve got no idea how to solve', 'Social anxiety: it’s insanely stressful for me to interact with people', 'panic attacks that make it impossible to talk to anyone', 'Irritated bowel syndrome: extreme pain, often late for classes, makes public speaking difficult', 'Conscription: constant beating, humiliation, tough environment', 'Several other problems']}\n"
          ]
        },
        {
          "name": "stderr",
          "output_type": "stream",
          "text": [
            "<ipython-input-26-8352174ee3c3>:20: FutureWarning: The frame.append method is deprecated and will be removed from pandas in a future version. Use pandas.concat instead.\n",
            "  fifth_ten_df = fifth_ten_df.append({\n",
            "\n",
            "Processing Rows:  59%|█████▉    | 48/81 [09:22<06:43, 12.22s/it]\u001b[A"
          ]
        },
        {
          "name": "stdout",
          "output_type": "stream",
          "text": [
            "{'label': 'Feeling tired or having little energy', 'value': 'yes', 'post_title': 'I study at university and things have become EXTREMELY difficult', 'CLUEs': ['extremely difficult', 'endure extreme pain', 'late for classes', 'harder', 'life without sleep']}\n"
          ]
        },
        {
          "name": "stderr",
          "output_type": "stream",
          "text": [
            "<ipython-input-26-8352174ee3c3>:20: FutureWarning: The frame.append method is deprecated and will be removed from pandas in a future version. Use pandas.concat instead.\n",
            "  fifth_ten_df = fifth_ten_df.append({\n",
            "\n",
            "Processing Rows:  60%|██████    | 49/81 [09:44<08:03, 15.10s/it]\u001b[A"
          ]
        },
        {
          "name": "stdout",
          "output_type": "stream",
          "text": [
            "{'label': 'Little interest or pleasure in doing', 'value': 'yes', 'post_title': 'I study at university and things have become EXTREMELY difficult', 'CLUEs': ['problems', 'insanely stressful', 'interact with people', 'random panic attacks', 'dizziness', 'increased heartbeat', 'sweaty and trembling palms', 'cannot approach my crush', 'endure extreme pain', 'late for classes', 'public speaking extremely difficult', 'main reason I study at university is to avoid conscription', 'beatings', 'humiliation', 'shitty food', 'life without sleep and weekends', 'tough environment', 'unable to enjoy activities', 'psychological help is expensive and mostly useless']}\n"
          ]
        },
        {
          "name": "stderr",
          "output_type": "stream",
          "text": [
            "<ipython-input-26-8352174ee3c3>:20: FutureWarning: The frame.append method is deprecated and will be removed from pandas in a future version. Use pandas.concat instead.\n",
            "  fifth_ten_df = fifth_ten_df.append({\n",
            "\n",
            "Processing Rows:  62%|██████▏   | 50/81 [10:09<09:15, 17.93s/it]\u001b[A"
          ]
        },
        {
          "name": "stdout",
          "output_type": "stream",
          "text": [
            "{'label': 'Moving or speaking so slowly that other people could have noticed Or the opposite being so fidgety or restless that you have been moving around a lot more than usual', 'value': 'Yes', 'post_title': 'I study at university and things have become EXTREMELY difficult', 'CLUEs': ['extremely difficult', 'insanely stressful', 'panic attacks', 'dizziness', 'increased heartbeat', 'sweaty palms', 'trembling palms', 'difficulty talking', 'difficulty keeping up', 'difficulty approaching crush', 'extreme pain', 'late for classes', 'public speaking difficult', 'avoid conscription', 'tough environment', 'health not good enough', 'girlfriend breaking up', 'studying in unwanted faculty', 'improving life']}\n"
          ]
        },
        {
          "name": "stderr",
          "output_type": "stream",
          "text": [
            "<ipython-input-26-8352174ee3c3>:20: FutureWarning: The frame.append method is deprecated and will be removed from pandas in a future version. Use pandas.concat instead.\n",
            "  fifth_ten_df = fifth_ten_df.append({\n",
            "\n",
            "Processing Rows:  63%|██████▎   | 51/81 [10:22<08:15, 16.53s/it]\u001b[A"
          ]
        },
        {
          "name": "stdout",
          "output_type": "stream",
          "text": [
            "{'label': 'Poor appetite or overeating', 'value': 'no', 'post_title': 'I study at university and things have become EXTREMELY difficult', 'CLUEs': ['studying at university', 'things have become extremely difficult', 'social anxiety', 'panic attacks', 'interaction difficulties', 'irritated bowel syndrome', 'late for classes', 'public speaking difficulties', 'conscription avoidance', 'psychological help']}\n"
          ]
        },
        {
          "name": "stderr",
          "output_type": "stream",
          "text": [
            "<ipython-input-26-8352174ee3c3>:20: FutureWarning: The frame.append method is deprecated and will be removed from pandas in a future version. Use pandas.concat instead.\n",
            "  fifth_ten_df = fifth_ten_df.append({\n",
            "\n",
            "Processing Rows:  64%|██████▍   | 52/81 [10:31<06:49, 14.12s/it]\u001b[A"
          ]
        },
        {
          "name": "stdout",
          "output_type": "stream",
          "text": [
            "{'label': 'Thoughts that you would be better off dead or of hurting yourself in some way', 'value': 'No', 'post_title': 'I study at university and things have become EXTREMELY difficult', 'CLUEs': ['anxiety', 'panic attacks', 'stressful', 'difficult', 'life better']}\n"
          ]
        },
        {
          "name": "stderr",
          "output_type": "stream",
          "text": [
            "<ipython-input-26-8352174ee3c3>:20: FutureWarning: The frame.append method is deprecated and will be removed from pandas in a future version. Use pandas.concat instead.\n",
            "  fifth_ten_df = fifth_ten_df.append({\n",
            "\n",
            "Processing Rows:  65%|██████▌   | 53/81 [10:40<05:59, 12.82s/it]\u001b[A"
          ]
        },
        {
          "name": "stdout",
          "output_type": "stream",
          "text": [
            "{'label': 'Trouble concentrating on things such as reading the newspaper or watching television', 'value': 'yes', 'post_title': 'I study at university and things have become EXTREMELY difficult', 'CLUEs': ['study at university', 'things have become EXTREMELY difficult']}\n"
          ]
        },
        {
          "name": "stderr",
          "output_type": "stream",
          "text": [
            "<ipython-input-26-8352174ee3c3>:20: FutureWarning: The frame.append method is deprecated and will be removed from pandas in a future version. Use pandas.concat instead.\n",
            "  fifth_ten_df = fifth_ten_df.append({\n",
            "\n",
            "Processing Rows:  67%|██████▋   | 54/81 [10:51<05:27, 12.12s/it]\u001b[A"
          ]
        },
        {
          "name": "stdout",
          "output_type": "stream",
          "text": [
            "{'label': 'Trouble falling or staying asleep or sleeping too much', 'value': 'yes', 'post_title': 'I study at university and things have become EXTREMELY difficult', 'CLUEs': ['trouble falling', 'staying asleep', 'sleeping too much']}\n"
          ]
        },
        {
          "name": "stderr",
          "output_type": "stream",
          "text": [
            "<ipython-input-26-8352174ee3c3>:20: FutureWarning: The frame.append method is deprecated and will be removed from pandas in a future version. Use pandas.concat instead.\n",
            "  fifth_ten_df = fifth_ten_df.append({\n",
            "\n",
            "Processing Rows:  68%|██████▊   | 55/81 [11:08<05:51, 13.51s/it]\u001b[A"
          ]
        },
        {
          "name": "stdout",
          "output_type": "stream",
          "text": [
            "{'label': 'Feeling bad about yourself or that you are a failure or have let yourself or your family down', 'value': 'yes', 'post_title': 'I need someone', 'CLUEs': [\"don't feel needed\", 'depressed', 'want to kill myself', 'friends doing other things', 'never get to talk to them', \"girls don't seem to care\", 'always get ghosted', 'want to be needed, appreciated, and loved', 'seeking understanding and help']}\n"
          ]
        },
        {
          "name": "stderr",
          "output_type": "stream",
          "text": [
            "<ipython-input-26-8352174ee3c3>:20: FutureWarning: The frame.append method is deprecated and will be removed from pandas in a future version. Use pandas.concat instead.\n",
            "  fifth_ten_df = fifth_ten_df.append({\n",
            "\n",
            "Processing Rows:  69%|██████▉   | 56/81 [11:16<04:55, 11.84s/it]\u001b[A"
          ]
        },
        {
          "name": "stdout",
          "output_type": "stream",
          "text": [
            "{'label': 'Feeling down depressed or hopeless', 'value': 'yes', 'post_title': 'I need someone', 'CLUEs': ['depressed', 'kill myself', 'ghost me', 'hopeless', 'help']}\n"
          ]
        },
        {
          "name": "stderr",
          "output_type": "stream",
          "text": [
            "<ipython-input-26-8352174ee3c3>:20: FutureWarning: The frame.append method is deprecated and will be removed from pandas in a future version. Use pandas.concat instead.\n",
            "  fifth_ten_df = fifth_ten_df.append({\n",
            "\n",
            "Processing Rows:  70%|███████   | 57/81 [11:23<04:15, 10.63s/it]\u001b[A"
          ]
        },
        {
          "name": "stdout",
          "output_type": "stream",
          "text": [
            "{'label': 'Feeling tired or having little energy', 'value': 'yes', 'post_title': 'I need someone', 'CLUEs': ['depressed', 'kill myself', \"don't feel needed\", 'tired']}\n"
          ]
        },
        {
          "name": "stderr",
          "output_type": "stream",
          "text": [
            "<ipython-input-26-8352174ee3c3>:20: FutureWarning: The frame.append method is deprecated and will be removed from pandas in a future version. Use pandas.concat instead.\n",
            "  fifth_ten_df = fifth_ten_df.append({\n",
            "\n",
            "Processing Rows:  72%|███████▏  | 58/81 [21:39<1:13:40, 192.17s/it]\u001b[A"
          ]
        },
        {
          "name": "stdout",
          "output_type": "stream",
          "text": [
            "{'label': 'Little interest or pleasure in doing', 'value': 'yes', 'post_title': 'I need someone', 'CLUEs': ['depressed', 'kill myself', 'friends', 'talk', 'ghost', 'close', 'be needed', 'appreciated', 'loved', 'help']}\n"
          ]
        },
        {
          "name": "stderr",
          "output_type": "stream",
          "text": [
            "<ipython-input-26-8352174ee3c3>:20: FutureWarning: The frame.append method is deprecated and will be removed from pandas in a future version. Use pandas.concat instead.\n",
            "  fifth_ten_df = fifth_ten_df.append({\n",
            "\n",
            "Processing Rows:  73%|███████▎  | 59/81 [21:55<51:05, 139.33s/it]  \u001b[A"
          ]
        },
        {
          "name": "stdout",
          "output_type": "stream",
          "text": [
            "{'label': 'Moving or speaking so slowly that other people could have noticed Or the opposite being so fidgety or restless that you have been moving around a lot more than usual', 'value': 'No', 'post_title': 'I need someone', 'CLUEs': ['depressed', 'kill myself', 'ghost me', 'trying to convey', 'needed by someone', 'appreciated by someone', 'loved by someone']}\n"
          ]
        },
        {
          "name": "stderr",
          "output_type": "stream",
          "text": [
            "<ipython-input-26-8352174ee3c3>:20: FutureWarning: The frame.append method is deprecated and will be removed from pandas in a future version. Use pandas.concat instead.\n",
            "  fifth_ten_df = fifth_ten_df.append({\n",
            "\n",
            "Processing Rows:  74%|███████▍  | 60/81 [22:04<35:00, 100.03s/it]\u001b[A"
          ]
        },
        {
          "name": "stdout",
          "output_type": "stream",
          "text": [
            "{'label': 'Poor appetite or overeating', 'value': 'yes', 'post_title': 'I need someone', 'CLUEs': ['depressed', 'kill myself']}\n"
          ]
        },
        {
          "name": "stderr",
          "output_type": "stream",
          "text": [
            "<ipython-input-26-8352174ee3c3>:20: FutureWarning: The frame.append method is deprecated and will be removed from pandas in a future version. Use pandas.concat instead.\n",
            "  fifth_ten_df = fifth_ten_df.append({\n",
            "\n",
            "Processing Rows:  75%|███████▌  | 61/81 [22:15<24:31, 73.59s/it] \u001b[A"
          ]
        },
        {
          "name": "stdout",
          "output_type": "stream",
          "text": [
            "{'label': 'Thoughts that you would be better off dead or of hurting yourself in some way', 'value': 'yes', 'post_title': 'I need someone', 'CLUEs': ['kill myself', 'depressed', 'ghost me', 'hurting yourself']}\n"
          ]
        },
        {
          "name": "stderr",
          "output_type": "stream",
          "text": [
            "<ipython-input-26-8352174ee3c3>:20: FutureWarning: The frame.append method is deprecated and will be removed from pandas in a future version. Use pandas.concat instead.\n",
            "  fifth_ten_df = fifth_ten_df.append({\n",
            "\n",
            "Processing Rows:  77%|███████▋  | 62/81 [22:27<17:27, 55.11s/it]\u001b[A"
          ]
        },
        {
          "name": "stdout",
          "output_type": "stream",
          "text": [
            "{'label': 'Trouble concentrating on things such as reading the newspaper or watching television', 'value': 'yes', 'post_title': 'I need someone', 'CLUEs': ['depressed', 'kill myself', 'friends are always doing other things', 'talk to them', 'ghost me', 'trying to convey', 'needed by someone', 'appreciated by someone', 'loved by someone']}\n"
          ]
        },
        {
          "name": "stderr",
          "output_type": "stream",
          "text": [
            "<ipython-input-26-8352174ee3c3>:20: FutureWarning: The frame.append method is deprecated and will be removed from pandas in a future version. Use pandas.concat instead.\n",
            "  fifth_ten_df = fifth_ten_df.append({\n",
            "\n",
            "Processing Rows:  78%|███████▊  | 63/81 [22:36<12:23, 41.30s/it]\u001b[A"
          ]
        },
        {
          "name": "stdout",
          "output_type": "stream",
          "text": [
            "{'label': 'Trouble falling or staying asleep or sleeping too much', 'value': 'yes', 'post_title': 'I need someone', 'CLUEs': ['kill myself', 'depressed', 'never get to talk', 'ghost me', 'trouble falling or staying asleep']}\n"
          ]
        },
        {
          "name": "stderr",
          "output_type": "stream",
          "text": [
            "<ipython-input-26-8352174ee3c3>:20: FutureWarning: The frame.append method is deprecated and will be removed from pandas in a future version. Use pandas.concat instead.\n",
            "  fifth_ten_df = fifth_ten_df.append({\n",
            "\n",
            "Processing Rows:  79%|███████▉  | 64/81 [32:51<1:00:27, 213.37s/it]\u001b[A"
          ]
        },
        {
          "name": "stdout",
          "output_type": "stream",
          "text": [
            "{'label': 'Feeling bad about yourself or that you are a failure or have let yourself or your family down', 'value': 'yes', 'post_title': \"Gf won't get help because she doesn't want to change\", 'CLUEs': [\"doesn't want to be different\", 'accepting being depressed as her default state', 'eventually she will kill herself']}\n"
          ]
        },
        {
          "name": "stderr",
          "output_type": "stream",
          "text": [
            "<ipython-input-26-8352174ee3c3>:20: FutureWarning: The frame.append method is deprecated and will be removed from pandas in a future version. Use pandas.concat instead.\n",
            "  fifth_ten_df = fifth_ten_df.append({\n",
            "\n",
            "Processing Rows:  80%|████████  | 65/81 [33:10<41:17, 154.83s/it]  \u001b[A"
          ]
        },
        {
          "name": "stdout",
          "output_type": "stream",
          "text": [
            "{'label': 'Feeling down depressed or hopeless', 'value': 'yes', 'post_title': \"Gf won't get help because she doesn't want to change\", 'CLUEs': ['dark place', 'depression', 'anxiety', 'struggling', 'meds', 'therapy', 'depressed', 'kill herself']}\n"
          ]
        },
        {
          "name": "stderr",
          "output_type": "stream",
          "text": [
            "<ipython-input-26-8352174ee3c3>:20: FutureWarning: The frame.append method is deprecated and will be removed from pandas in a future version. Use pandas.concat instead.\n",
            "  fifth_ten_df = fifth_ten_df.append({\n",
            "\n",
            "Processing Rows:  81%|████████▏ | 66/81 [33:23<28:06, 112.42s/it]\u001b[A"
          ]
        },
        {
          "name": "stdout",
          "output_type": "stream",
          "text": [
            "{'label': 'Feeling tired or having little energy', 'value': 'no', 'post_title': \"Gf won't get help because she doesn't want to change\", 'CLUEs': ['trouble reaching out for help', 'struggling for a while', 'flat out no when discussing help', 'feeling in a dark place', \"doesn't want to work on being happy\", 'feeling tired of living', 'calm certainty of killing herself']}\n"
          ]
        },
        {
          "name": "stderr",
          "output_type": "stream",
          "text": [
            "<ipython-input-26-8352174ee3c3>:20: FutureWarning: The frame.append method is deprecated and will be removed from pandas in a future version. Use pandas.concat instead.\n",
            "  fifth_ten_df = fifth_ten_df.append({\n",
            "\n",
            "Processing Rows:  83%|████████▎ | 67/81 [33:34<19:09, 82.12s/it] \u001b[A"
          ]
        },
        {
          "name": "stdout",
          "output_type": "stream",
          "text": [
            "{'label': 'Little interest or pleasure in doing', 'value': 'yes', 'post_title': \"Gf won't get help because she doesn't want to change\", 'CLUEs': ['complete loss', 'struggling', 'really dark place', 'depression', 'anxiety', 'trouble reaching out for help', 'building the courage', 'self help', 'not wanting to be different', 'not wanting to work on being happy', 'not liking the feel of being on meds', 'accepting being depressed as default state', 'tired of living', 'calm and certain about killing herself', 'no support network', 'few friends', 'homeless in the past', 'not wanting to be on meds/therapy']}\n"
          ]
        },
        {
          "name": "stderr",
          "output_type": "stream",
          "text": [
            "<ipython-input-26-8352174ee3c3>:20: FutureWarning: The frame.append method is deprecated and will be removed from pandas in a future version. Use pandas.concat instead.\n",
            "  fifth_ten_df = fifth_ten_df.append({\n",
            "\n",
            "Processing Rows:  84%|████████▍ | 68/81 [33:49<13:23, 61.83s/it]\u001b[A"
          ]
        },
        {
          "name": "stdout",
          "output_type": "stream",
          "text": [
            "{'label': 'Moving or speaking so slowly that other people could have noticed Or the opposite being so fidgety or restless that you have been moving around a lot more than usual', 'value': 'no', 'post_title': \"Gf won't get help because she doesn't want to change\", 'CLUEs': ['change', 'help', 'depression', 'anxiety', 'meds', 'therapy', 'work', 'sleep', 'pay']}\n"
          ]
        },
        {
          "name": "stderr",
          "output_type": "stream",
          "text": [
            "<ipython-input-26-8352174ee3c3>:20: FutureWarning: The frame.append method is deprecated and will be removed from pandas in a future version. Use pandas.concat instead.\n",
            "  fifth_ten_df = fifth_ten_df.append({\n",
            "\n",
            "Processing Rows:  85%|████████▌ | 69/81 [34:04<09:33, 47.81s/it]\u001b[A"
          ]
        },
        {
          "name": "stdout",
          "output_type": "stream",
          "text": [
            "{'label': 'Poor appetite or overeating', 'value': 'no', 'post_title': \"Gf won't get help because she doesn't want to change\", 'CLUEs': [\"doesn't want to be different\", \"doesn't want to work on being happy\", \"doesn't like the feel of being on meds\", 'fine accepting being depressed as her default state', 'eventually she will kill herself']}\n"
          ]
        },
        {
          "name": "stderr",
          "output_type": "stream",
          "text": [
            "<ipython-input-26-8352174ee3c3>:20: FutureWarning: The frame.append method is deprecated and will be removed from pandas in a future version. Use pandas.concat instead.\n",
            "  fifth_ten_df = fifth_ten_df.append({\n",
            "\n",
            "Processing Rows:  86%|████████▋ | 70/81 [34:16<06:48, 37.16s/it]\u001b[A"
          ]
        },
        {
          "name": "stdout",
          "output_type": "stream",
          "text": [
            "{'label': 'Thoughts that you would be better off dead or of hurting yourself in some way', 'value': 'yes', 'post_title': \"Gf won't get help because she doesn't want to change\", 'CLUEs': 'dark place, depression, meds, therapy, kill herself, no support network, homeless, wants to be depressed'}\n"
          ]
        },
        {
          "name": "stderr",
          "output_type": "stream",
          "text": [
            "<ipython-input-26-8352174ee3c3>:20: FutureWarning: The frame.append method is deprecated and will be removed from pandas in a future version. Use pandas.concat instead.\n",
            "  fifth_ten_df = fifth_ten_df.append({\n",
            "\n",
            "Processing Rows:  88%|████████▊ | 71/81 [34:27<04:51, 29.15s/it]\u001b[A"
          ]
        },
        {
          "name": "stdout",
          "output_type": "stream",
          "text": [
            "{'label': 'Trouble concentrating on things such as reading the newspaper or watching television', 'value': 'no', 'post_title': \"Gf won't get help because she doesn't want to change\", 'CLUEs': ['no mention of trouble concentrating in the post text']}\n"
          ]
        },
        {
          "name": "stderr",
          "output_type": "stream",
          "text": [
            "<ipython-input-26-8352174ee3c3>:20: FutureWarning: The frame.append method is deprecated and will be removed from pandas in a future version. Use pandas.concat instead.\n",
            "  fifth_ten_df = fifth_ten_df.append({\n",
            "\n",
            "Processing Rows:  89%|████████▉ | 72/81 [34:35<03:24, 22.75s/it]\u001b[A"
          ]
        },
        {
          "name": "stdout",
          "output_type": "stream",
          "text": [
            "{'label': 'Trouble falling or staying asleep or sleeping too much', 'value': 'yes', 'post_title': \"Gf won't get help because she doesn't want to change\", 'CLUEs': ['sleeping too much']}\n"
          ]
        },
        {
          "name": "stderr",
          "output_type": "stream",
          "text": [
            "<ipython-input-26-8352174ee3c3>:20: FutureWarning: The frame.append method is deprecated and will be removed from pandas in a future version. Use pandas.concat instead.\n",
            "  fifth_ten_df = fifth_ten_df.append({\n",
            "\n",
            "Processing Rows:  90%|█████████ | 73/81 [34:45<02:33, 19.17s/it]\u001b[A"
          ]
        },
        {
          "name": "stdout",
          "output_type": "stream",
          "text": [
            "{'label': 'Feeling bad about yourself or that you are a failure or have let yourself or your family down', 'value': 'yes', 'post_title': 'Rage in my chest', 'CLUEs': ['therapy', 'depression', 'embarrassed', 'missed appointments', 'getting worse', \"don't want to take meds\", \"don't want to talk to therapist\", 'constantly angry', 'filled with rage', 'throwing and breaking things', \"can't live like this anymore\", 'terrible rage feeling']}\n"
          ]
        },
        {
          "name": "stderr",
          "output_type": "stream",
          "text": [
            "<ipython-input-26-8352174ee3c3>:20: FutureWarning: The frame.append method is deprecated and will be removed from pandas in a future version. Use pandas.concat instead.\n",
            "  fifth_ten_df = fifth_ten_df.append({\n",
            "\n",
            "Processing Rows:  91%|█████████▏| 74/81 [44:59<23:01, 197.43s/it]\u001b[A"
          ]
        },
        {
          "name": "stdout",
          "output_type": "stream",
          "text": [
            "{'label': 'Feeling down depressed or hopeless', 'value': 'yes', 'post_title': 'Rage in my chest', 'CLUEs': ['depression', 'missed appointments', 'getting worse', 'not taking meds', 'not talking to therapist', 'constantly angry', 'filled with rage', 'throwing and breaking things', 'terrible rage feeling in chest', 'zoloft', 'prozac']}\n"
          ]
        },
        {
          "name": "stderr",
          "output_type": "stream",
          "text": [
            "<ipython-input-26-8352174ee3c3>:20: FutureWarning: The frame.append method is deprecated and will be removed from pandas in a future version. Use pandas.concat instead.\n",
            "  fifth_ten_df = fifth_ten_df.append({\n",
            "\n",
            "Processing Rows:  93%|█████████▎| 75/81 [45:08<14:06, 141.10s/it]\u001b[A"
          ]
        },
        {
          "name": "stdout",
          "output_type": "stream",
          "text": [
            "{'label': 'Feeling tired or having little energy', 'value': 'no', 'post_title': 'Rage in my chest', 'CLUEs': ['angry', 'rage', 'throwing and breaking things']}\n"
          ]
        },
        {
          "name": "stderr",
          "output_type": "stream",
          "text": [
            "<ipython-input-26-8352174ee3c3>:20: FutureWarning: The frame.append method is deprecated and will be removed from pandas in a future version. Use pandas.concat instead.\n",
            "  fifth_ten_df = fifth_ten_df.append({\n",
            "\n",
            "Processing Rows:  94%|█████████▍| 76/81 [55:20<23:30, 282.12s/it]\u001b[A"
          ]
        },
        {
          "name": "stdout",
          "output_type": "stream",
          "text": [
            "{'label': 'Little interest or pleasure in doing', 'value': 'no', 'post_title': 'Rage in my chest', 'CLUEs': ['terrible rage feeling', 'constantly angry', 'throwing and breaking things', \"can't live like this anymore\"]}\n"
          ]
        },
        {
          "name": "stderr",
          "output_type": "stream",
          "text": [
            "<ipython-input-26-8352174ee3c3>:20: FutureWarning: The frame.append method is deprecated and will be removed from pandas in a future version. Use pandas.concat instead.\n",
            "  fifth_ten_df = fifth_ten_df.append({\n",
            "\n",
            "Processing Rows:  95%|█████████▌| 77/81 [55:31<13:23, 200.94s/it]\u001b[A"
          ]
        },
        {
          "name": "stdout",
          "output_type": "stream",
          "text": [
            "{'label': 'Moving or speaking so slowly that other people could have noticed Or the opposite being so fidgety or restless that you have been moving around a lot more than usual', 'value': 'no', 'post_title': 'Rage in my chest', 'CLUEs': ['angry', 'rage feeling in chest', 'throwing and breaking things']}\n"
          ]
        },
        {
          "name": "stderr",
          "output_type": "stream",
          "text": [
            "<ipython-input-26-8352174ee3c3>:20: FutureWarning: The frame.append method is deprecated and will be removed from pandas in a future version. Use pandas.concat instead.\n",
            "  fifth_ten_df = fifth_ten_df.append({\n",
            "\n",
            "Processing Rows:  96%|█████████▋| 78/81 [55:37<07:07, 142.41s/it]\u001b[A"
          ]
        },
        {
          "name": "stdout",
          "output_type": "stream",
          "text": [
            "{'label': 'Poor appetite or overeating', 'value': 'no', 'post_title': 'Rage in my chest', 'CLUEs': ['anger', 'rage']}\n"
          ]
        },
        {
          "name": "stderr",
          "output_type": "stream",
          "text": [
            "<ipython-input-26-8352174ee3c3>:20: FutureWarning: The frame.append method is deprecated and will be removed from pandas in a future version. Use pandas.concat instead.\n",
            "  fifth_ten_df = fifth_ten_df.append({\n",
            "\n",
            "Processing Rows:  98%|█████████▊| 79/81 [55:45<03:23, 101.97s/it]\u001b[A"
          ]
        },
        {
          "name": "stdout",
          "output_type": "stream",
          "text": [
            "{'label': 'Thoughts that you would be better off dead or of hurting yourself in some way', 'value': 'no', 'post_title': 'Rage in my chest', 'CLUEs': ['angry', 'rage feeling']}\n"
          ]
        },
        {
          "name": "stderr",
          "output_type": "stream",
          "text": [
            "<ipython-input-26-8352174ee3c3>:20: FutureWarning: The frame.append method is deprecated and will be removed from pandas in a future version. Use pandas.concat instead.\n",
            "  fifth_ten_df = fifth_ten_df.append({\n",
            "\n",
            "Processing Rows:  99%|█████████▉| 80/81 [55:52<01:13, 73.55s/it] \u001b[A"
          ]
        },
        {
          "name": "stdout",
          "output_type": "stream",
          "text": [
            "{'label': 'Trouble concentrating on things such as reading the newspaper or watching television', 'value': 'no', 'post_title': 'Rage in my chest', 'CLUEs': ['angry', 'rage feeling']}\n"
          ]
        },
        {
          "name": "stderr",
          "output_type": "stream",
          "text": [
            "<ipython-input-26-8352174ee3c3>:20: FutureWarning: The frame.append method is deprecated and will be removed from pandas in a future version. Use pandas.concat instead.\n",
            "  fifth_ten_df = fifth_ten_df.append({\n",
            "\n",
            "Processing Rows: 100%|██████████| 81/81 [56:00<00:00, 53.98s/it]\u001b[A"
          ]
        },
        {
          "name": "stdout",
          "output_type": "stream",
          "text": [
            "{'label': 'Trouble falling or staying asleep or sleeping too much', 'value': 'no', 'post_title': 'Rage in my chest', 'CLUEs': ['Rage', 'filled with rage', 'terrible rage feeling', 'chest']}\n"
          ]
        }
      ],
      "source": [
        "fifth_ten_rows =  primate_input_df.iloc[41:50]\n",
        "\n",
        "total_rows = len(fifth_ten_rows) * 9\n",
        "progress_bar = tqdm(total=total_rows, desc=\"Processing Rows\")\n",
        "\n",
        "for index, row in fifth_ten_rows.iterrows():\n",
        "    post_title = row['post_title']\n",
        "    post_text = row['post_text']\n",
        "    for key, value in pre_processed_labels.items():\n",
        "      boolean, gpt_answer = get_answer_2305_08377(post_title, post_text, value)\n",
        "      # print(f\"The result is: {boolean} and {gpt_answer}\")\n",
        "      if boolean:\n",
        "        load_gpt_ans_to_json = json.loads(gpt_answer)\n",
        "        print(load_gpt_ans_to_json)\n",
        "        result = {\n",
        "            \"bool\": boolean,\n",
        "            \"json\": load_gpt_ans_to_json\n",
        "        }\n",
        "\n",
        "        fifth_ten_df = fifth_ten_df.append({\n",
        "            'post_title': load_gpt_ans_to_json['post_title'],\n",
        "            'label': load_gpt_ans_to_json['label'],\n",
        "            'value': load_gpt_ans_to_json['value']\n",
        "        }, ignore_index=True)\n",
        "\n",
        "      if not boolean:\n",
        "        result = {\n",
        "            \"bool\": boolean,\n",
        "            \"error\": gpt_answer\n",
        "        }\n",
        "      # Add to dataframe\n",
        "      # Create a new JSON file for each iteration\n",
        "      file_path = f\"gpt_result_{post_title}_{key}.json\"  # Customize the file name as desired\n",
        "\n",
        "      with open(file_path, \"w\") as json_file:\n",
        "          json.dump(result, json_file, indent=2)\n",
        "\n",
        "      progress_bar.update(1)"
      ]
    },
    {
      "cell_type": "code",
      "execution_count": null,
      "metadata": {
        "colab": {
          "base_uri": "https://localhost:8080/"
        },
        "id": "Usvl1ag3oLV2",
        "outputId": "8b9ee33d-e351-45ec-abe1-c952fb4b7241"
      },
      "outputs": [
        {
          "name": "stdout",
          "output_type": "stream",
          "text": [
            "<class 'pandas.core.frame.DataFrame'>\n",
            "RangeIndex: 86 entries, 0 to 85\n",
            "Data columns (total 3 columns):\n",
            " #   Column      Non-Null Count  Dtype \n",
            "---  ------      --------------  ----- \n",
            " 0   post_title  86 non-null     object\n",
            " 1   label       86 non-null     object\n",
            " 2   value       86 non-null     object\n",
            "dtypes: object(3)\n",
            "memory usage: 2.1+ KB\n"
          ]
        }
      ],
      "source": [
        "fifth_ten_df.info()\n",
        "fifth_ten_df.to_csv('fifth_ten_output.csv', index=False)"
      ]
    },
    {
      "cell_type": "markdown",
      "metadata": {
        "id": "7_lbJLbgQUGd"
      },
      "source": [
        "# Convert the main file to a flat structure with redundency"
      ]
    },
    {
      "cell_type": "code",
      "execution_count": null,
      "metadata": {
        "colab": {
          "base_uri": "https://localhost:8080/"
        },
        "id": "_ZAo2iPpRVih",
        "outputId": "f814bd79-7180-424f-e3ff-47ba116ece69"
      },
      "outputs": [
        {
          "name": "stdout",
          "output_type": "stream",
          "text": [
            "<class 'pandas.core.frame.DataFrame'>\n",
            "RangeIndex: 2003 entries, 0 to 2002\n",
            "Data columns (total 11 columns):\n",
            " #   Column                                                                                                                                                                 Non-Null Count  Dtype  \n",
            "---  ------                                                                                                                                                                 --------------  -----  \n",
            " 0   post_title                                                                                                                                                             2003 non-null   object \n",
            " 1   post_text                                                                                                                                                              2003 non-null   object \n",
            " 2   Feeling-bad-about-yourself-or-that-you-are-a-failure-or-have-let-yourself-or-your-family-down                                                                          2003 non-null   int64  \n",
            " 3   Feeling-down-depressed-or-hopeless                                                                                                                                     2002 non-null   float64\n",
            " 4   Feeling-tired-or-having-little-energy                                                                                                                                  2003 non-null   int64  \n",
            " 5   Little-interest-or-pleasure-in-doing                                                                                                                                   2003 non-null   int64  \n",
            " 6   Moving-or-speaking-so-slowly-that-other-people-could-have-noticed-Or-the-opposite-being-so-fidgety-or-restless-that-you-have-been-moving-around-a-lot-more-than-usual  2003 non-null   int64  \n",
            " 7   Poor-appetite-or-overeating                                                                                                                                            2002 non-null   float64\n",
            " 8   Thoughts-that-you-would-be-better-off-dead-or-of-hurting-yourself-in-some-way                                                                                          2002 non-null   float64\n",
            " 9   Trouble-concentrating-on-things-such-as-reading-the-newspaper-or-watching-television                                                                                   2000 non-null   float64\n",
            " 10  Trouble-falling-or-staying-asleep-or-sleeping-too-much                                                                                                                 2003 non-null   int64  \n",
            "dtypes: float64(4), int64(5), object(2)\n",
            "memory usage: 172.3+ KB\n"
          ]
        }
      ],
      "source": [
        "primate_input_df.info()"
      ]
    },
    {
      "cell_type": "code",
      "execution_count": null,
      "metadata": {
        "id": "XnTyJlVfQaJ9"
      },
      "outputs": [],
      "source": [
        "labels = list(primate_input_df.columns[2:])\n",
        "\n",
        "primate_data_single_label = pd.DataFrame(columns=[\"post_title\", \"post_text\", \"label\", \"value\"])\n",
        "\n",
        "for index, row in primate_input_df.iterrows():\n",
        "  for label in labels:\n",
        "    new_row = {\"post_title\": row[\"post_title\"],\n",
        "               \"post_text\": row[\"post_text\"],\n",
        "               \"label\": label,\n",
        "               \"value\": row[label]}\n",
        "    # new_df = new_df.append(new_row, ignore_index=True)\n",
        "    primate_data_single_label = pd.concat([primate_data_single_label,\n",
        "                                           pd.DataFrame(new_row, index=[0])],\n",
        "                                           ignore_index=True)\n",
        "\n",
        "\n",
        "primate_data_single_label.to_csv(\"primate_data_single_label.csv\", index=False)"
      ]
    },
    {
      "cell_type": "code",
      "execution_count": null,
      "metadata": {
        "colab": {
          "base_uri": "https://localhost:8080/"
        },
        "id": "DaFSps4qSEwU",
        "outputId": "cc96a1b6-c1af-4cce-9e3e-ca775a6f7f06"
      },
      "outputs": [
        {
          "name": "stdout",
          "output_type": "stream",
          "text": [
            "<class 'pandas.core.frame.DataFrame'>\n",
            "RangeIndex: 18027 entries, 0 to 18026\n",
            "Data columns (total 4 columns):\n",
            " #   Column      Non-Null Count  Dtype \n",
            "---  ------      --------------  ----- \n",
            " 0   post_title  18027 non-null  object\n",
            " 1   post_text   18027 non-null  object\n",
            " 2   label       18027 non-null  object\n",
            " 3   value       18021 non-null  object\n",
            "dtypes: object(4)\n",
            "memory usage: 563.5+ KB\n"
          ]
        }
      ],
      "source": [
        "primate_data_single_label.info()"
      ]
    },
    {
      "cell_type": "code",
      "execution_count": null,
      "metadata": {
        "colab": {
          "base_uri": "https://localhost:8080/",
          "height": 206
        },
        "id": "zHSfNKEkSWsx",
        "outputId": "90964c74-61ca-415f-a454-5e760a52ba06"
      },
      "outputs": [
        {
          "data": {
            "text/html": [
              "\n",
              "  <div id=\"df-8ae6e549-d095-4888-ba8a-e74a326d7fc6\" class=\"colab-df-container\">\n",
              "    <div>\n",
              "<style scoped>\n",
              "    .dataframe tbody tr th:only-of-type {\n",
              "        vertical-align: middle;\n",
              "    }\n",
              "\n",
              "    .dataframe tbody tr th {\n",
              "        vertical-align: top;\n",
              "    }\n",
              "\n",
              "    .dataframe thead th {\n",
              "        text-align: right;\n",
              "    }\n",
              "</style>\n",
              "<table border=\"1\" class=\"dataframe\">\n",
              "  <thead>\n",
              "    <tr style=\"text-align: right;\">\n",
              "      <th></th>\n",
              "      <th>post_title</th>\n",
              "      <th>post_text</th>\n",
              "      <th>label</th>\n",
              "      <th>value</th>\n",
              "    </tr>\n",
              "  </thead>\n",
              "  <tbody>\n",
              "    <tr>\n",
              "      <th>0</th>\n",
              "      <td>I don't feel original anymore.</td>\n",
              "      <td>When I was in high school a few years back, I ...</td>\n",
              "      <td>Feeling-bad-about-yourself-or-that-you-are-a-f...</td>\n",
              "      <td>1</td>\n",
              "    </tr>\n",
              "    <tr>\n",
              "      <th>1</th>\n",
              "      <td>I don't feel original anymore.</td>\n",
              "      <td>When I was in high school a few years back, I ...</td>\n",
              "      <td>Feeling-down-depressed-or-hopeless</td>\n",
              "      <td>0.0</td>\n",
              "    </tr>\n",
              "    <tr>\n",
              "      <th>2</th>\n",
              "      <td>I don't feel original anymore.</td>\n",
              "      <td>When I was in high school a few years back, I ...</td>\n",
              "      <td>Feeling-tired-or-having-little-energy</td>\n",
              "      <td>1</td>\n",
              "    </tr>\n",
              "    <tr>\n",
              "      <th>3</th>\n",
              "      <td>I don't feel original anymore.</td>\n",
              "      <td>When I was in high school a few years back, I ...</td>\n",
              "      <td>Little-interest-or-pleasure-in-doing</td>\n",
              "      <td>1</td>\n",
              "    </tr>\n",
              "    <tr>\n",
              "      <th>4</th>\n",
              "      <td>I don't feel original anymore.</td>\n",
              "      <td>When I was in high school a few years back, I ...</td>\n",
              "      <td>Moving-or-speaking-so-slowly-that-other-people...</td>\n",
              "      <td>0</td>\n",
              "    </tr>\n",
              "  </tbody>\n",
              "</table>\n",
              "</div>\n",
              "    <div class=\"colab-df-buttons\">\n",
              "\n",
              "  <div class=\"colab-df-container\">\n",
              "    <button class=\"colab-df-convert\" onclick=\"convertToInteractive('df-8ae6e549-d095-4888-ba8a-e74a326d7fc6')\"\n",
              "            title=\"Convert this dataframe to an interactive table.\"\n",
              "            style=\"display:none;\">\n",
              "\n",
              "  <svg xmlns=\"http://www.w3.org/2000/svg\" height=\"24px\" viewBox=\"0 -960 960 960\">\n",
              "    <path d=\"M120-120v-720h720v720H120Zm60-500h600v-160H180v160Zm220 220h160v-160H400v160Zm0 220h160v-160H400v160ZM180-400h160v-160H180v160Zm440 0h160v-160H620v160ZM180-180h160v-160H180v160Zm440 0h160v-160H620v160Z\"/>\n",
              "  </svg>\n",
              "    </button>\n",
              "\n",
              "  <style>\n",
              "    .colab-df-container {\n",
              "      display:flex;\n",
              "      gap: 12px;\n",
              "    }\n",
              "\n",
              "    .colab-df-convert {\n",
              "      background-color: #E8F0FE;\n",
              "      border: none;\n",
              "      border-radius: 50%;\n",
              "      cursor: pointer;\n",
              "      display: none;\n",
              "      fill: #1967D2;\n",
              "      height: 32px;\n",
              "      padding: 0 0 0 0;\n",
              "      width: 32px;\n",
              "    }\n",
              "\n",
              "    .colab-df-convert:hover {\n",
              "      background-color: #E2EBFA;\n",
              "      box-shadow: 0px 1px 2px rgba(60, 64, 67, 0.3), 0px 1px 3px 1px rgba(60, 64, 67, 0.15);\n",
              "      fill: #174EA6;\n",
              "    }\n",
              "\n",
              "    .colab-df-buttons div {\n",
              "      margin-bottom: 4px;\n",
              "    }\n",
              "\n",
              "    [theme=dark] .colab-df-convert {\n",
              "      background-color: #3B4455;\n",
              "      fill: #D2E3FC;\n",
              "    }\n",
              "\n",
              "    [theme=dark] .colab-df-convert:hover {\n",
              "      background-color: #434B5C;\n",
              "      box-shadow: 0px 1px 3px 1px rgba(0, 0, 0, 0.15);\n",
              "      filter: drop-shadow(0px 1px 2px rgba(0, 0, 0, 0.3));\n",
              "      fill: #FFFFFF;\n",
              "    }\n",
              "  </style>\n",
              "\n",
              "    <script>\n",
              "      const buttonEl =\n",
              "        document.querySelector('#df-8ae6e549-d095-4888-ba8a-e74a326d7fc6 button.colab-df-convert');\n",
              "      buttonEl.style.display =\n",
              "        google.colab.kernel.accessAllowed ? 'block' : 'none';\n",
              "\n",
              "      async function convertToInteractive(key) {\n",
              "        const element = document.querySelector('#df-8ae6e549-d095-4888-ba8a-e74a326d7fc6');\n",
              "        const dataTable =\n",
              "          await google.colab.kernel.invokeFunction('convertToInteractive',\n",
              "                                                    [key], {});\n",
              "        if (!dataTable) return;\n",
              "\n",
              "        const docLinkHtml = 'Like what you see? Visit the ' +\n",
              "          '<a target=\"_blank\" href=https://colab.research.google.com/notebooks/data_table.ipynb>data table notebook</a>'\n",
              "          + ' to learn more about interactive tables.';\n",
              "        element.innerHTML = '';\n",
              "        dataTable['output_type'] = 'display_data';\n",
              "        await google.colab.output.renderOutput(dataTable, element);\n",
              "        const docLink = document.createElement('div');\n",
              "        docLink.innerHTML = docLinkHtml;\n",
              "        element.appendChild(docLink);\n",
              "      }\n",
              "    </script>\n",
              "  </div>\n",
              "\n",
              "\n",
              "<div id=\"df-e9f0436c-02df-4a58-b3bd-0ee2a90af515\">\n",
              "  <button class=\"colab-df-quickchart\" onclick=\"quickchart('df-e9f0436c-02df-4a58-b3bd-0ee2a90af515')\"\n",
              "            title=\"Suggest charts\"\n",
              "            style=\"display:none;\">\n",
              "\n",
              "<svg xmlns=\"http://www.w3.org/2000/svg\" height=\"24px\"viewBox=\"0 0 24 24\"\n",
              "     width=\"24px\">\n",
              "    <g>\n",
              "        <path d=\"M19 3H5c-1.1 0-2 .9-2 2v14c0 1.1.9 2 2 2h14c1.1 0 2-.9 2-2V5c0-1.1-.9-2-2-2zM9 17H7v-7h2v7zm4 0h-2V7h2v10zm4 0h-2v-4h2v4z\"/>\n",
              "    </g>\n",
              "</svg>\n",
              "  </button>\n",
              "\n",
              "<style>\n",
              "  .colab-df-quickchart {\n",
              "      --bg-color: #E8F0FE;\n",
              "      --fill-color: #1967D2;\n",
              "      --hover-bg-color: #E2EBFA;\n",
              "      --hover-fill-color: #174EA6;\n",
              "      --disabled-fill-color: #AAA;\n",
              "      --disabled-bg-color: #DDD;\n",
              "  }\n",
              "\n",
              "  [theme=dark] .colab-df-quickchart {\n",
              "      --bg-color: #3B4455;\n",
              "      --fill-color: #D2E3FC;\n",
              "      --hover-bg-color: #434B5C;\n",
              "      --hover-fill-color: #FFFFFF;\n",
              "      --disabled-bg-color: #3B4455;\n",
              "      --disabled-fill-color: #666;\n",
              "  }\n",
              "\n",
              "  .colab-df-quickchart {\n",
              "    background-color: var(--bg-color);\n",
              "    border: none;\n",
              "    border-radius: 50%;\n",
              "    cursor: pointer;\n",
              "    display: none;\n",
              "    fill: var(--fill-color);\n",
              "    height: 32px;\n",
              "    padding: 0;\n",
              "    width: 32px;\n",
              "  }\n",
              "\n",
              "  .colab-df-quickchart:hover {\n",
              "    background-color: var(--hover-bg-color);\n",
              "    box-shadow: 0 1px 2px rgba(60, 64, 67, 0.3), 0 1px 3px 1px rgba(60, 64, 67, 0.15);\n",
              "    fill: var(--button-hover-fill-color);\n",
              "  }\n",
              "\n",
              "  .colab-df-quickchart-complete:disabled,\n",
              "  .colab-df-quickchart-complete:disabled:hover {\n",
              "    background-color: var(--disabled-bg-color);\n",
              "    fill: var(--disabled-fill-color);\n",
              "    box-shadow: none;\n",
              "  }\n",
              "\n",
              "  .colab-df-spinner {\n",
              "    border: 2px solid var(--fill-color);\n",
              "    border-color: transparent;\n",
              "    border-bottom-color: var(--fill-color);\n",
              "    animation:\n",
              "      spin 1s steps(1) infinite;\n",
              "  }\n",
              "\n",
              "  @keyframes spin {\n",
              "    0% {\n",
              "      border-color: transparent;\n",
              "      border-bottom-color: var(--fill-color);\n",
              "      border-left-color: var(--fill-color);\n",
              "    }\n",
              "    20% {\n",
              "      border-color: transparent;\n",
              "      border-left-color: var(--fill-color);\n",
              "      border-top-color: var(--fill-color);\n",
              "    }\n",
              "    30% {\n",
              "      border-color: transparent;\n",
              "      border-left-color: var(--fill-color);\n",
              "      border-top-color: var(--fill-color);\n",
              "      border-right-color: var(--fill-color);\n",
              "    }\n",
              "    40% {\n",
              "      border-color: transparent;\n",
              "      border-right-color: var(--fill-color);\n",
              "      border-top-color: var(--fill-color);\n",
              "    }\n",
              "    60% {\n",
              "      border-color: transparent;\n",
              "      border-right-color: var(--fill-color);\n",
              "    }\n",
              "    80% {\n",
              "      border-color: transparent;\n",
              "      border-right-color: var(--fill-color);\n",
              "      border-bottom-color: var(--fill-color);\n",
              "    }\n",
              "    90% {\n",
              "      border-color: transparent;\n",
              "      border-bottom-color: var(--fill-color);\n",
              "    }\n",
              "  }\n",
              "</style>\n",
              "\n",
              "  <script>\n",
              "    async function quickchart(key) {\n",
              "      const quickchartButtonEl =\n",
              "        document.querySelector('#' + key + ' button');\n",
              "      quickchartButtonEl.disabled = true;  // To prevent multiple clicks.\n",
              "      quickchartButtonEl.classList.add('colab-df-spinner');\n",
              "      try {\n",
              "        const charts = await google.colab.kernel.invokeFunction(\n",
              "            'suggestCharts', [key], {});\n",
              "      } catch (error) {\n",
              "        console.error('Error during call to suggestCharts:', error);\n",
              "      }\n",
              "      quickchartButtonEl.classList.remove('colab-df-spinner');\n",
              "      quickchartButtonEl.classList.add('colab-df-quickchart-complete');\n",
              "    }\n",
              "    (() => {\n",
              "      let quickchartButtonEl =\n",
              "        document.querySelector('#df-e9f0436c-02df-4a58-b3bd-0ee2a90af515 button');\n",
              "      quickchartButtonEl.style.display =\n",
              "        google.colab.kernel.accessAllowed ? 'block' : 'none';\n",
              "    })();\n",
              "  </script>\n",
              "</div>\n",
              "    </div>\n",
              "  </div>\n"
            ],
            "text/plain": [
              "                       post_title  \\\n",
              "0  I don't feel original anymore.   \n",
              "1  I don't feel original anymore.   \n",
              "2  I don't feel original anymore.   \n",
              "3  I don't feel original anymore.   \n",
              "4  I don't feel original anymore.   \n",
              "\n",
              "                                           post_text  \\\n",
              "0  When I was in high school a few years back, I ...   \n",
              "1  When I was in high school a few years back, I ...   \n",
              "2  When I was in high school a few years back, I ...   \n",
              "3  When I was in high school a few years back, I ...   \n",
              "4  When I was in high school a few years back, I ...   \n",
              "\n",
              "                                               label value  \n",
              "0  Feeling-bad-about-yourself-or-that-you-are-a-f...     1  \n",
              "1                 Feeling-down-depressed-or-hopeless   0.0  \n",
              "2              Feeling-tired-or-having-little-energy     1  \n",
              "3              Little-interest-or-pleasure-in-doing      1  \n",
              "4  Moving-or-speaking-so-slowly-that-other-people...     0  "
            ]
          },
          "execution_count": 11,
          "metadata": {},
          "output_type": "execute_result"
        }
      ],
      "source": [
        "primate_data_single_label.head()"
      ]
    },
    {
      "cell_type": "code",
      "execution_count": null,
      "metadata": {
        "id": "UVA90blKTDz2"
      },
      "outputs": [],
      "source": [
        "primate_data_single_label['label'] = primate_data_single_label['label'].str.replace('-', ' ')"
      ]
    },
    {
      "cell_type": "code",
      "execution_count": null,
      "metadata": {
        "colab": {
          "base_uri": "https://localhost:8080/",
          "height": 536
        },
        "id": "rBREzZJ7TKgO",
        "outputId": "ead08d07-71a9-4e0d-812d-2f9d42011877"
      },
      "outputs": [
        {
          "data": {
            "text/html": [
              "\n",
              "  <div id=\"df-2e77efe5-f326-4890-9355-9b745c91a1d4\" class=\"colab-df-container\">\n",
              "    <div>\n",
              "<style scoped>\n",
              "    .dataframe tbody tr th:only-of-type {\n",
              "        vertical-align: middle;\n",
              "    }\n",
              "\n",
              "    .dataframe tbody tr th {\n",
              "        vertical-align: top;\n",
              "    }\n",
              "\n",
              "    .dataframe thead th {\n",
              "        text-align: right;\n",
              "    }\n",
              "</style>\n",
              "<table border=\"1\" class=\"dataframe\">\n",
              "  <thead>\n",
              "    <tr style=\"text-align: right;\">\n",
              "      <th></th>\n",
              "      <th>post_title</th>\n",
              "      <th>post_text</th>\n",
              "      <th>label</th>\n",
              "      <th>value</th>\n",
              "    </tr>\n",
              "  </thead>\n",
              "  <tbody>\n",
              "    <tr>\n",
              "      <th>0</th>\n",
              "      <td>I don't feel original anymore.</td>\n",
              "      <td>When I was in high school a few years back, I ...</td>\n",
              "      <td>Feeling bad about yourself or that you are a f...</td>\n",
              "      <td>1</td>\n",
              "    </tr>\n",
              "    <tr>\n",
              "      <th>1</th>\n",
              "      <td>I don't feel original anymore.</td>\n",
              "      <td>When I was in high school a few years back, I ...</td>\n",
              "      <td>Feeling down depressed or hopeless</td>\n",
              "      <td>0.0</td>\n",
              "    </tr>\n",
              "    <tr>\n",
              "      <th>2</th>\n",
              "      <td>I don't feel original anymore.</td>\n",
              "      <td>When I was in high school a few years back, I ...</td>\n",
              "      <td>Feeling tired or having little energy</td>\n",
              "      <td>1</td>\n",
              "    </tr>\n",
              "    <tr>\n",
              "      <th>3</th>\n",
              "      <td>I don't feel original anymore.</td>\n",
              "      <td>When I was in high school a few years back, I ...</td>\n",
              "      <td>Little interest or pleasure in doing</td>\n",
              "      <td>1</td>\n",
              "    </tr>\n",
              "    <tr>\n",
              "      <th>4</th>\n",
              "      <td>I don't feel original anymore.</td>\n",
              "      <td>When I was in high school a few years back, I ...</td>\n",
              "      <td>Moving or speaking so slowly that other people...</td>\n",
              "      <td>0</td>\n",
              "    </tr>\n",
              "    <tr>\n",
              "      <th>5</th>\n",
              "      <td>I don't feel original anymore.</td>\n",
              "      <td>When I was in high school a few years back, I ...</td>\n",
              "      <td>Poor appetite or overeating</td>\n",
              "      <td>0.0</td>\n",
              "    </tr>\n",
              "    <tr>\n",
              "      <th>6</th>\n",
              "      <td>I don't feel original anymore.</td>\n",
              "      <td>When I was in high school a few years back, I ...</td>\n",
              "      <td>Thoughts that you would be better off dead or ...</td>\n",
              "      <td>0.0</td>\n",
              "    </tr>\n",
              "    <tr>\n",
              "      <th>7</th>\n",
              "      <td>I don't feel original anymore.</td>\n",
              "      <td>When I was in high school a few years back, I ...</td>\n",
              "      <td>Trouble concentrating on things such as readin...</td>\n",
              "      <td>0.0</td>\n",
              "    </tr>\n",
              "    <tr>\n",
              "      <th>8</th>\n",
              "      <td>I don't feel original anymore.</td>\n",
              "      <td>When I was in high school a few years back, I ...</td>\n",
              "      <td>Trouble falling or staying asleep or sleeping ...</td>\n",
              "      <td>0</td>\n",
              "    </tr>\n",
              "    <tr>\n",
              "      <th>9</th>\n",
              "      <td>I don’t have anyone to talk to and I don’t kno...</td>\n",
              "      <td>Nine years ago I was diagnosed with depression...</td>\n",
              "      <td>Feeling bad about yourself or that you are a f...</td>\n",
              "      <td>1</td>\n",
              "    </tr>\n",
              "  </tbody>\n",
              "</table>\n",
              "</div>\n",
              "    <div class=\"colab-df-buttons\">\n",
              "\n",
              "  <div class=\"colab-df-container\">\n",
              "    <button class=\"colab-df-convert\" onclick=\"convertToInteractive('df-2e77efe5-f326-4890-9355-9b745c91a1d4')\"\n",
              "            title=\"Convert this dataframe to an interactive table.\"\n",
              "            style=\"display:none;\">\n",
              "\n",
              "  <svg xmlns=\"http://www.w3.org/2000/svg\" height=\"24px\" viewBox=\"0 -960 960 960\">\n",
              "    <path d=\"M120-120v-720h720v720H120Zm60-500h600v-160H180v160Zm220 220h160v-160H400v160Zm0 220h160v-160H400v160ZM180-400h160v-160H180v160Zm440 0h160v-160H620v160ZM180-180h160v-160H180v160Zm440 0h160v-160H620v160Z\"/>\n",
              "  </svg>\n",
              "    </button>\n",
              "\n",
              "  <style>\n",
              "    .colab-df-container {\n",
              "      display:flex;\n",
              "      gap: 12px;\n",
              "    }\n",
              "\n",
              "    .colab-df-convert {\n",
              "      background-color: #E8F0FE;\n",
              "      border: none;\n",
              "      border-radius: 50%;\n",
              "      cursor: pointer;\n",
              "      display: none;\n",
              "      fill: #1967D2;\n",
              "      height: 32px;\n",
              "      padding: 0 0 0 0;\n",
              "      width: 32px;\n",
              "    }\n",
              "\n",
              "    .colab-df-convert:hover {\n",
              "      background-color: #E2EBFA;\n",
              "      box-shadow: 0px 1px 2px rgba(60, 64, 67, 0.3), 0px 1px 3px 1px rgba(60, 64, 67, 0.15);\n",
              "      fill: #174EA6;\n",
              "    }\n",
              "\n",
              "    .colab-df-buttons div {\n",
              "      margin-bottom: 4px;\n",
              "    }\n",
              "\n",
              "    [theme=dark] .colab-df-convert {\n",
              "      background-color: #3B4455;\n",
              "      fill: #D2E3FC;\n",
              "    }\n",
              "\n",
              "    [theme=dark] .colab-df-convert:hover {\n",
              "      background-color: #434B5C;\n",
              "      box-shadow: 0px 1px 3px 1px rgba(0, 0, 0, 0.15);\n",
              "      filter: drop-shadow(0px 1px 2px rgba(0, 0, 0, 0.3));\n",
              "      fill: #FFFFFF;\n",
              "    }\n",
              "  </style>\n",
              "\n",
              "    <script>\n",
              "      const buttonEl =\n",
              "        document.querySelector('#df-2e77efe5-f326-4890-9355-9b745c91a1d4 button.colab-df-convert');\n",
              "      buttonEl.style.display =\n",
              "        google.colab.kernel.accessAllowed ? 'block' : 'none';\n",
              "\n",
              "      async function convertToInteractive(key) {\n",
              "        const element = document.querySelector('#df-2e77efe5-f326-4890-9355-9b745c91a1d4');\n",
              "        const dataTable =\n",
              "          await google.colab.kernel.invokeFunction('convertToInteractive',\n",
              "                                                    [key], {});\n",
              "        if (!dataTable) return;\n",
              "\n",
              "        const docLinkHtml = 'Like what you see? Visit the ' +\n",
              "          '<a target=\"_blank\" href=https://colab.research.google.com/notebooks/data_table.ipynb>data table notebook</a>'\n",
              "          + ' to learn more about interactive tables.';\n",
              "        element.innerHTML = '';\n",
              "        dataTable['output_type'] = 'display_data';\n",
              "        await google.colab.output.renderOutput(dataTable, element);\n",
              "        const docLink = document.createElement('div');\n",
              "        docLink.innerHTML = docLinkHtml;\n",
              "        element.appendChild(docLink);\n",
              "      }\n",
              "    </script>\n",
              "  </div>\n",
              "\n",
              "\n",
              "<div id=\"df-9ab3a653-cd25-433b-9f6d-cbd8e0e56f99\">\n",
              "  <button class=\"colab-df-quickchart\" onclick=\"quickchart('df-9ab3a653-cd25-433b-9f6d-cbd8e0e56f99')\"\n",
              "            title=\"Suggest charts\"\n",
              "            style=\"display:none;\">\n",
              "\n",
              "<svg xmlns=\"http://www.w3.org/2000/svg\" height=\"24px\"viewBox=\"0 0 24 24\"\n",
              "     width=\"24px\">\n",
              "    <g>\n",
              "        <path d=\"M19 3H5c-1.1 0-2 .9-2 2v14c0 1.1.9 2 2 2h14c1.1 0 2-.9 2-2V5c0-1.1-.9-2-2-2zM9 17H7v-7h2v7zm4 0h-2V7h2v10zm4 0h-2v-4h2v4z\"/>\n",
              "    </g>\n",
              "</svg>\n",
              "  </button>\n",
              "\n",
              "<style>\n",
              "  .colab-df-quickchart {\n",
              "      --bg-color: #E8F0FE;\n",
              "      --fill-color: #1967D2;\n",
              "      --hover-bg-color: #E2EBFA;\n",
              "      --hover-fill-color: #174EA6;\n",
              "      --disabled-fill-color: #AAA;\n",
              "      --disabled-bg-color: #DDD;\n",
              "  }\n",
              "\n",
              "  [theme=dark] .colab-df-quickchart {\n",
              "      --bg-color: #3B4455;\n",
              "      --fill-color: #D2E3FC;\n",
              "      --hover-bg-color: #434B5C;\n",
              "      --hover-fill-color: #FFFFFF;\n",
              "      --disabled-bg-color: #3B4455;\n",
              "      --disabled-fill-color: #666;\n",
              "  }\n",
              "\n",
              "  .colab-df-quickchart {\n",
              "    background-color: var(--bg-color);\n",
              "    border: none;\n",
              "    border-radius: 50%;\n",
              "    cursor: pointer;\n",
              "    display: none;\n",
              "    fill: var(--fill-color);\n",
              "    height: 32px;\n",
              "    padding: 0;\n",
              "    width: 32px;\n",
              "  }\n",
              "\n",
              "  .colab-df-quickchart:hover {\n",
              "    background-color: var(--hover-bg-color);\n",
              "    box-shadow: 0 1px 2px rgba(60, 64, 67, 0.3), 0 1px 3px 1px rgba(60, 64, 67, 0.15);\n",
              "    fill: var(--button-hover-fill-color);\n",
              "  }\n",
              "\n",
              "  .colab-df-quickchart-complete:disabled,\n",
              "  .colab-df-quickchart-complete:disabled:hover {\n",
              "    background-color: var(--disabled-bg-color);\n",
              "    fill: var(--disabled-fill-color);\n",
              "    box-shadow: none;\n",
              "  }\n",
              "\n",
              "  .colab-df-spinner {\n",
              "    border: 2px solid var(--fill-color);\n",
              "    border-color: transparent;\n",
              "    border-bottom-color: var(--fill-color);\n",
              "    animation:\n",
              "      spin 1s steps(1) infinite;\n",
              "  }\n",
              "\n",
              "  @keyframes spin {\n",
              "    0% {\n",
              "      border-color: transparent;\n",
              "      border-bottom-color: var(--fill-color);\n",
              "      border-left-color: var(--fill-color);\n",
              "    }\n",
              "    20% {\n",
              "      border-color: transparent;\n",
              "      border-left-color: var(--fill-color);\n",
              "      border-top-color: var(--fill-color);\n",
              "    }\n",
              "    30% {\n",
              "      border-color: transparent;\n",
              "      border-left-color: var(--fill-color);\n",
              "      border-top-color: var(--fill-color);\n",
              "      border-right-color: var(--fill-color);\n",
              "    }\n",
              "    40% {\n",
              "      border-color: transparent;\n",
              "      border-right-color: var(--fill-color);\n",
              "      border-top-color: var(--fill-color);\n",
              "    }\n",
              "    60% {\n",
              "      border-color: transparent;\n",
              "      border-right-color: var(--fill-color);\n",
              "    }\n",
              "    80% {\n",
              "      border-color: transparent;\n",
              "      border-right-color: var(--fill-color);\n",
              "      border-bottom-color: var(--fill-color);\n",
              "    }\n",
              "    90% {\n",
              "      border-color: transparent;\n",
              "      border-bottom-color: var(--fill-color);\n",
              "    }\n",
              "  }\n",
              "</style>\n",
              "\n",
              "  <script>\n",
              "    async function quickchart(key) {\n",
              "      const quickchartButtonEl =\n",
              "        document.querySelector('#' + key + ' button');\n",
              "      quickchartButtonEl.disabled = true;  // To prevent multiple clicks.\n",
              "      quickchartButtonEl.classList.add('colab-df-spinner');\n",
              "      try {\n",
              "        const charts = await google.colab.kernel.invokeFunction(\n",
              "            'suggestCharts', [key], {});\n",
              "      } catch (error) {\n",
              "        console.error('Error during call to suggestCharts:', error);\n",
              "      }\n",
              "      quickchartButtonEl.classList.remove('colab-df-spinner');\n",
              "      quickchartButtonEl.classList.add('colab-df-quickchart-complete');\n",
              "    }\n",
              "    (() => {\n",
              "      let quickchartButtonEl =\n",
              "        document.querySelector('#df-9ab3a653-cd25-433b-9f6d-cbd8e0e56f99 button');\n",
              "      quickchartButtonEl.style.display =\n",
              "        google.colab.kernel.accessAllowed ? 'block' : 'none';\n",
              "    })();\n",
              "  </script>\n",
              "</div>\n",
              "    </div>\n",
              "  </div>\n"
            ],
            "text/plain": [
              "                                          post_title  \\\n",
              "0                     I don't feel original anymore.   \n",
              "1                     I don't feel original anymore.   \n",
              "2                     I don't feel original anymore.   \n",
              "3                     I don't feel original anymore.   \n",
              "4                     I don't feel original anymore.   \n",
              "5                     I don't feel original anymore.   \n",
              "6                     I don't feel original anymore.   \n",
              "7                     I don't feel original anymore.   \n",
              "8                     I don't feel original anymore.   \n",
              "9  I don’t have anyone to talk to and I don’t kno...   \n",
              "\n",
              "                                           post_text  \\\n",
              "0  When I was in high school a few years back, I ...   \n",
              "1  When I was in high school a few years back, I ...   \n",
              "2  When I was in high school a few years back, I ...   \n",
              "3  When I was in high school a few years back, I ...   \n",
              "4  When I was in high school a few years back, I ...   \n",
              "5  When I was in high school a few years back, I ...   \n",
              "6  When I was in high school a few years back, I ...   \n",
              "7  When I was in high school a few years back, I ...   \n",
              "8  When I was in high school a few years back, I ...   \n",
              "9  Nine years ago I was diagnosed with depression...   \n",
              "\n",
              "                                               label value  \n",
              "0  Feeling bad about yourself or that you are a f...     1  \n",
              "1                 Feeling down depressed or hopeless   0.0  \n",
              "2              Feeling tired or having little energy     1  \n",
              "3               Little interest or pleasure in doing     1  \n",
              "4  Moving or speaking so slowly that other people...     0  \n",
              "5                        Poor appetite or overeating   0.0  \n",
              "6  Thoughts that you would be better off dead or ...   0.0  \n",
              "7  Trouble concentrating on things such as readin...   0.0  \n",
              "8  Trouble falling or staying asleep or sleeping ...     0  \n",
              "9  Feeling bad about yourself or that you are a f...     1  "
            ]
          },
          "execution_count": 17,
          "metadata": {},
          "output_type": "execute_result"
        }
      ],
      "source": [
        "primate_data_single_label.head(10)"
      ]
    },
    {
      "cell_type": "code",
      "execution_count": null,
      "metadata": {
        "id": "9nSUrFKKTgOc"
      },
      "outputs": [],
      "source": [
        "primate_data_single_label['label'] = primate_data_single_label['label'].str.strip()"
      ]
    },
    {
      "cell_type": "code",
      "execution_count": null,
      "metadata": {
        "id": "nAUu7X3CVamL"
      },
      "outputs": [],
      "source": [
        "true_first_90_df = primate_data_single_label[0:90]\n",
        "true_first_90_df.info()"
      ]
    },
    {
      "cell_type": "code",
      "execution_count": null,
      "metadata": {
        "id": "g3G2iav3Viv4"
      },
      "outputs": [],
      "source": [
        "true_second_90_df = primate_data_single_label[90:180]\n",
        "true_second_90_df.info()"
      ]
    },
    {
      "cell_type": "code",
      "execution_count": null,
      "metadata": {
        "id": "XAqMUdNDVrNG"
      },
      "outputs": [],
      "source": [
        "true_third_90_df = primate_data_single_label[180:270]\n",
        "true_third_90_df.info()"
      ]
    },
    {
      "cell_type": "code",
      "execution_count": null,
      "metadata": {
        "id": "qDYbb3gcVvsX"
      },
      "outputs": [],
      "source": [
        "true_forth_90_df = primate_data_single_label[270:360]\n",
        "true_forth_90_df.info()"
      ]
    },
    {
      "cell_type": "code",
      "execution_count": null,
      "metadata": {
        "id": "haNa9Hx1V764"
      },
      "outputs": [],
      "source": [
        "true_fifth_90_df = primate_data_single_label[360:450]\n",
        "true_fifth_90_df.info()"
      ]
    },
    {
      "cell_type": "markdown",
      "metadata": {
        "id": "2hT0R-qXDCTu"
      },
      "source": [
        "## Merging True DFs"
      ]
    },
    {
      "cell_type": "code",
      "execution_count": null,
      "metadata": {
        "id": "PE6MLS1lDH1I"
      },
      "outputs": [],
      "source": [
        "concatenated_true__df = pd.concat([true_first_90_df, true_second_90_df, true_third_90_df, true_forth_90_df, true_fifth_90_df])"
      ]
    },
    {
      "cell_type": "code",
      "execution_count": null,
      "metadata": {
        "colab": {
          "base_uri": "https://localhost:8080/"
        },
        "id": "MzmX98-vDoxO",
        "outputId": "a3753dde-e93c-47d2-e468-c8978f3b1582"
      },
      "outputs": [
        {
          "name": "stdout",
          "output_type": "stream",
          "text": [
            "<class 'pandas.core.frame.DataFrame'>\n",
            "RangeIndex: 450 entries, 0 to 449\n",
            "Data columns (total 4 columns):\n",
            " #   Column      Non-Null Count  Dtype \n",
            "---  ------      --------------  ----- \n",
            " 0   post_title  450 non-null    object\n",
            " 1   post_text   450 non-null    object\n",
            " 2   label       450 non-null    object\n",
            " 3   value       450 non-null    object\n",
            "dtypes: object(4)\n",
            "memory usage: 14.2+ KB\n"
          ]
        }
      ],
      "source": [
        "concatenated_true__df.info()"
      ]
    },
    {
      "cell_type": "markdown",
      "metadata": {
        "id": "af6o3SAQT61V"
      },
      "source": [
        "# Reading and Merging the answers by GPT3.5"
      ]
    },
    {
      "cell_type": "code",
      "execution_count": null,
      "metadata": {
        "id": "V-wyF_jEUF_U"
      },
      "outputs": [],
      "source": [
        "path = '/content/drive/MyDrive/gpt-first-50-records-datasets'"
      ]
    },
    {
      "cell_type": "markdown",
      "metadata": {
        "id": "JDXMPlkOfzmn"
      },
      "source": [
        "## First 90"
      ]
    },
    {
      "cell_type": "code",
      "execution_count": null,
      "metadata": {
        "colab": {
          "base_uri": "https://localhost:8080/"
        },
        "id": "56gdmnLPT_5D",
        "outputId": "a67a1efc-d14d-4aef-cfbd-ec42a7290595"
      },
      "outputs": [
        {
          "name": "stdout",
          "output_type": "stream",
          "text": [
            "<class 'pandas.core.frame.DataFrame'>\n",
            "RangeIndex: 90 entries, 0 to 89\n",
            "Data columns (total 3 columns):\n",
            " #   Column      Non-Null Count  Dtype \n",
            "---  ------      --------------  ----- \n",
            " 0   post_title  90 non-null     object\n",
            " 1   label       90 non-null     object\n",
            " 2   value       90 non-null     object\n",
            "dtypes: object(3)\n",
            "memory usage: 2.2+ KB\n"
          ]
        }
      ],
      "source": [
        "pred_first_90_df = pd.read_csv(f\"{path}/first_ten_output_integrated.csv\",  encoding='latin-1')\n",
        "pred_first_90_df.info()"
      ]
    },
    {
      "cell_type": "code",
      "execution_count": null,
      "metadata": {
        "colab": {
          "base_uri": "https://localhost:8080/"
        },
        "id": "_NfZWUMvW4zZ",
        "outputId": "048f2fbc-171a-4500-8dc8-0a57b6fd7d2d"
      },
      "outputs": [
        {
          "data": {
            "text/plain": [
              "array([1, 0])"
            ]
          },
          "execution_count": 65,
          "metadata": {},
          "output_type": "execute_result"
        }
      ],
      "source": [
        "distinct_values = pred_first_90_df['value'].unique()\n",
        "distinct_values"
      ]
    },
    {
      "cell_type": "code",
      "execution_count": null,
      "metadata": {
        "id": "jCCzVfpAYANy"
      },
      "outputs": [],
      "source": [
        "pred_first_90_df['value'] = pred_first_90_df['value'].replace({'yes': 1, 'no': 0, 'Yes': 1, 'No': 0, 'unknown': 0})"
      ]
    },
    {
      "cell_type": "code",
      "execution_count": null,
      "metadata": {
        "colab": {
          "base_uri": "https://localhost:8080/",
          "height": 363
        },
        "id": "-qYE51RpYI6z",
        "outputId": "b70e22e9-b812-40f4-e628-db611307de9f"
      },
      "outputs": [
        {
          "data": {
            "text/html": [
              "\n",
              "  <div id=\"df-4d49a447-2344-46df-9d07-40cd591ca1b3\" class=\"colab-df-container\">\n",
              "    <div>\n",
              "<style scoped>\n",
              "    .dataframe tbody tr th:only-of-type {\n",
              "        vertical-align: middle;\n",
              "    }\n",
              "\n",
              "    .dataframe tbody tr th {\n",
              "        vertical-align: top;\n",
              "    }\n",
              "\n",
              "    .dataframe thead th {\n",
              "        text-align: right;\n",
              "    }\n",
              "</style>\n",
              "<table border=\"1\" class=\"dataframe\">\n",
              "  <thead>\n",
              "    <tr style=\"text-align: right;\">\n",
              "      <th></th>\n",
              "      <th>post_title</th>\n",
              "      <th>label</th>\n",
              "      <th>value</th>\n",
              "    </tr>\n",
              "  </thead>\n",
              "  <tbody>\n",
              "    <tr>\n",
              "      <th>0</th>\n",
              "      <td>I don't feel original anymore.</td>\n",
              "      <td>Feeling bad about yourself or that you are a f...</td>\n",
              "      <td>1</td>\n",
              "    </tr>\n",
              "    <tr>\n",
              "      <th>1</th>\n",
              "      <td>I don't feel original anymore.</td>\n",
              "      <td>Feeling down depressed or hopeless</td>\n",
              "      <td>1</td>\n",
              "    </tr>\n",
              "    <tr>\n",
              "      <th>2</th>\n",
              "      <td>I don't feel original anymore.</td>\n",
              "      <td>Feeling tired or having little energy</td>\n",
              "      <td>1</td>\n",
              "    </tr>\n",
              "    <tr>\n",
              "      <th>3</th>\n",
              "      <td>I don't feel original anymore.</td>\n",
              "      <td>Little interest or pleasure in doing</td>\n",
              "      <td>1</td>\n",
              "    </tr>\n",
              "    <tr>\n",
              "      <th>4</th>\n",
              "      <td>I don't feel original anymore.</td>\n",
              "      <td>Moving or speaking so slowly that other people...</td>\n",
              "      <td>0</td>\n",
              "    </tr>\n",
              "    <tr>\n",
              "      <th>5</th>\n",
              "      <td>I don't feel original anymore.</td>\n",
              "      <td>Poor appetite or overeating</td>\n",
              "      <td>0</td>\n",
              "    </tr>\n",
              "    <tr>\n",
              "      <th>6</th>\n",
              "      <td>I don't feel original anymore.</td>\n",
              "      <td>Thoughts that you would be better off dead or ...</td>\n",
              "      <td>0</td>\n",
              "    </tr>\n",
              "    <tr>\n",
              "      <th>7</th>\n",
              "      <td>I don't feel original anymore.</td>\n",
              "      <td>Trouble concentrating on things such as readin...</td>\n",
              "      <td>1</td>\n",
              "    </tr>\n",
              "    <tr>\n",
              "      <th>8</th>\n",
              "      <td>I don't feel original anymore.</td>\n",
              "      <td>Trouble falling or staying asleep or sleeping ...</td>\n",
              "      <td>1</td>\n",
              "    </tr>\n",
              "    <tr>\n",
              "      <th>9</th>\n",
              "      <td>I dont have anyone to talk to and I dont kno...</td>\n",
              "      <td>Feeling bad about yourself or that you are a f...</td>\n",
              "      <td>1</td>\n",
              "    </tr>\n",
              "  </tbody>\n",
              "</table>\n",
              "</div>\n",
              "    <div class=\"colab-df-buttons\">\n",
              "\n",
              "  <div class=\"colab-df-container\">\n",
              "    <button class=\"colab-df-convert\" onclick=\"convertToInteractive('df-4d49a447-2344-46df-9d07-40cd591ca1b3')\"\n",
              "            title=\"Convert this dataframe to an interactive table.\"\n",
              "            style=\"display:none;\">\n",
              "\n",
              "  <svg xmlns=\"http://www.w3.org/2000/svg\" height=\"24px\" viewBox=\"0 -960 960 960\">\n",
              "    <path d=\"M120-120v-720h720v720H120Zm60-500h600v-160H180v160Zm220 220h160v-160H400v160Zm0 220h160v-160H400v160ZM180-400h160v-160H180v160Zm440 0h160v-160H620v160ZM180-180h160v-160H180v160Zm440 0h160v-160H620v160Z\"/>\n",
              "  </svg>\n",
              "    </button>\n",
              "\n",
              "  <style>\n",
              "    .colab-df-container {\n",
              "      display:flex;\n",
              "      gap: 12px;\n",
              "    }\n",
              "\n",
              "    .colab-df-convert {\n",
              "      background-color: #E8F0FE;\n",
              "      border: none;\n",
              "      border-radius: 50%;\n",
              "      cursor: pointer;\n",
              "      display: none;\n",
              "      fill: #1967D2;\n",
              "      height: 32px;\n",
              "      padding: 0 0 0 0;\n",
              "      width: 32px;\n",
              "    }\n",
              "\n",
              "    .colab-df-convert:hover {\n",
              "      background-color: #E2EBFA;\n",
              "      box-shadow: 0px 1px 2px rgba(60, 64, 67, 0.3), 0px 1px 3px 1px rgba(60, 64, 67, 0.15);\n",
              "      fill: #174EA6;\n",
              "    }\n",
              "\n",
              "    .colab-df-buttons div {\n",
              "      margin-bottom: 4px;\n",
              "    }\n",
              "\n",
              "    [theme=dark] .colab-df-convert {\n",
              "      background-color: #3B4455;\n",
              "      fill: #D2E3FC;\n",
              "    }\n",
              "\n",
              "    [theme=dark] .colab-df-convert:hover {\n",
              "      background-color: #434B5C;\n",
              "      box-shadow: 0px 1px 3px 1px rgba(0, 0, 0, 0.15);\n",
              "      filter: drop-shadow(0px 1px 2px rgba(0, 0, 0, 0.3));\n",
              "      fill: #FFFFFF;\n",
              "    }\n",
              "  </style>\n",
              "\n",
              "    <script>\n",
              "      const buttonEl =\n",
              "        document.querySelector('#df-4d49a447-2344-46df-9d07-40cd591ca1b3 button.colab-df-convert');\n",
              "      buttonEl.style.display =\n",
              "        google.colab.kernel.accessAllowed ? 'block' : 'none';\n",
              "\n",
              "      async function convertToInteractive(key) {\n",
              "        const element = document.querySelector('#df-4d49a447-2344-46df-9d07-40cd591ca1b3');\n",
              "        const dataTable =\n",
              "          await google.colab.kernel.invokeFunction('convertToInteractive',\n",
              "                                                    [key], {});\n",
              "        if (!dataTable) return;\n",
              "\n",
              "        const docLinkHtml = 'Like what you see? Visit the ' +\n",
              "          '<a target=\"_blank\" href=https://colab.research.google.com/notebooks/data_table.ipynb>data table notebook</a>'\n",
              "          + ' to learn more about interactive tables.';\n",
              "        element.innerHTML = '';\n",
              "        dataTable['output_type'] = 'display_data';\n",
              "        await google.colab.output.renderOutput(dataTable, element);\n",
              "        const docLink = document.createElement('div');\n",
              "        docLink.innerHTML = docLinkHtml;\n",
              "        element.appendChild(docLink);\n",
              "      }\n",
              "    </script>\n",
              "  </div>\n",
              "\n",
              "\n",
              "<div id=\"df-12092ea2-6e29-44ad-bf79-93b59024200e\">\n",
              "  <button class=\"colab-df-quickchart\" onclick=\"quickchart('df-12092ea2-6e29-44ad-bf79-93b59024200e')\"\n",
              "            title=\"Suggest charts\"\n",
              "            style=\"display:none;\">\n",
              "\n",
              "<svg xmlns=\"http://www.w3.org/2000/svg\" height=\"24px\"viewBox=\"0 0 24 24\"\n",
              "     width=\"24px\">\n",
              "    <g>\n",
              "        <path d=\"M19 3H5c-1.1 0-2 .9-2 2v14c0 1.1.9 2 2 2h14c1.1 0 2-.9 2-2V5c0-1.1-.9-2-2-2zM9 17H7v-7h2v7zm4 0h-2V7h2v10zm4 0h-2v-4h2v4z\"/>\n",
              "    </g>\n",
              "</svg>\n",
              "  </button>\n",
              "\n",
              "<style>\n",
              "  .colab-df-quickchart {\n",
              "      --bg-color: #E8F0FE;\n",
              "      --fill-color: #1967D2;\n",
              "      --hover-bg-color: #E2EBFA;\n",
              "      --hover-fill-color: #174EA6;\n",
              "      --disabled-fill-color: #AAA;\n",
              "      --disabled-bg-color: #DDD;\n",
              "  }\n",
              "\n",
              "  [theme=dark] .colab-df-quickchart {\n",
              "      --bg-color: #3B4455;\n",
              "      --fill-color: #D2E3FC;\n",
              "      --hover-bg-color: #434B5C;\n",
              "      --hover-fill-color: #FFFFFF;\n",
              "      --disabled-bg-color: #3B4455;\n",
              "      --disabled-fill-color: #666;\n",
              "  }\n",
              "\n",
              "  .colab-df-quickchart {\n",
              "    background-color: var(--bg-color);\n",
              "    border: none;\n",
              "    border-radius: 50%;\n",
              "    cursor: pointer;\n",
              "    display: none;\n",
              "    fill: var(--fill-color);\n",
              "    height: 32px;\n",
              "    padding: 0;\n",
              "    width: 32px;\n",
              "  }\n",
              "\n",
              "  .colab-df-quickchart:hover {\n",
              "    background-color: var(--hover-bg-color);\n",
              "    box-shadow: 0 1px 2px rgba(60, 64, 67, 0.3), 0 1px 3px 1px rgba(60, 64, 67, 0.15);\n",
              "    fill: var(--button-hover-fill-color);\n",
              "  }\n",
              "\n",
              "  .colab-df-quickchart-complete:disabled,\n",
              "  .colab-df-quickchart-complete:disabled:hover {\n",
              "    background-color: var(--disabled-bg-color);\n",
              "    fill: var(--disabled-fill-color);\n",
              "    box-shadow: none;\n",
              "  }\n",
              "\n",
              "  .colab-df-spinner {\n",
              "    border: 2px solid var(--fill-color);\n",
              "    border-color: transparent;\n",
              "    border-bottom-color: var(--fill-color);\n",
              "    animation:\n",
              "      spin 1s steps(1) infinite;\n",
              "  }\n",
              "\n",
              "  @keyframes spin {\n",
              "    0% {\n",
              "      border-color: transparent;\n",
              "      border-bottom-color: var(--fill-color);\n",
              "      border-left-color: var(--fill-color);\n",
              "    }\n",
              "    20% {\n",
              "      border-color: transparent;\n",
              "      border-left-color: var(--fill-color);\n",
              "      border-top-color: var(--fill-color);\n",
              "    }\n",
              "    30% {\n",
              "      border-color: transparent;\n",
              "      border-left-color: var(--fill-color);\n",
              "      border-top-color: var(--fill-color);\n",
              "      border-right-color: var(--fill-color);\n",
              "    }\n",
              "    40% {\n",
              "      border-color: transparent;\n",
              "      border-right-color: var(--fill-color);\n",
              "      border-top-color: var(--fill-color);\n",
              "    }\n",
              "    60% {\n",
              "      border-color: transparent;\n",
              "      border-right-color: var(--fill-color);\n",
              "    }\n",
              "    80% {\n",
              "      border-color: transparent;\n",
              "      border-right-color: var(--fill-color);\n",
              "      border-bottom-color: var(--fill-color);\n",
              "    }\n",
              "    90% {\n",
              "      border-color: transparent;\n",
              "      border-bottom-color: var(--fill-color);\n",
              "    }\n",
              "  }\n",
              "</style>\n",
              "\n",
              "  <script>\n",
              "    async function quickchart(key) {\n",
              "      const quickchartButtonEl =\n",
              "        document.querySelector('#' + key + ' button');\n",
              "      quickchartButtonEl.disabled = true;  // To prevent multiple clicks.\n",
              "      quickchartButtonEl.classList.add('colab-df-spinner');\n",
              "      try {\n",
              "        const charts = await google.colab.kernel.invokeFunction(\n",
              "            'suggestCharts', [key], {});\n",
              "      } catch (error) {\n",
              "        console.error('Error during call to suggestCharts:', error);\n",
              "      }\n",
              "      quickchartButtonEl.classList.remove('colab-df-spinner');\n",
              "      quickchartButtonEl.classList.add('colab-df-quickchart-complete');\n",
              "    }\n",
              "    (() => {\n",
              "      let quickchartButtonEl =\n",
              "        document.querySelector('#df-12092ea2-6e29-44ad-bf79-93b59024200e button');\n",
              "      quickchartButtonEl.style.display =\n",
              "        google.colab.kernel.accessAllowed ? 'block' : 'none';\n",
              "    })();\n",
              "  </script>\n",
              "</div>\n",
              "    </div>\n",
              "  </div>\n"
            ],
            "text/plain": [
              "                                          post_title  \\\n",
              "0                     I don't feel original anymore.   \n",
              "1                     I don't feel original anymore.   \n",
              "2                     I don't feel original anymore.   \n",
              "3                     I don't feel original anymore.   \n",
              "4                     I don't feel original anymore.   \n",
              "5                     I don't feel original anymore.   \n",
              "6                     I don't feel original anymore.   \n",
              "7                     I don't feel original anymore.   \n",
              "8                     I don't feel original anymore.   \n",
              "9  I dont have anyone to talk to and I dont kno...   \n",
              "\n",
              "                                               label value  \n",
              "0  Feeling bad about yourself or that you are a f...     1  \n",
              "1                 Feeling down depressed or hopeless     1  \n",
              "2              Feeling tired or having little energy     1  \n",
              "3               Little interest or pleasure in doing     1  \n",
              "4  Moving or speaking so slowly that other people...     0  \n",
              "5                        Poor appetite or overeating     0  \n",
              "6  Thoughts that you would be better off dead or ...     0  \n",
              "7  Trouble concentrating on things such as readin...     1  \n",
              "8  Trouble falling or staying asleep or sleeping ...     1  \n",
              "9  Feeling bad about yourself or that you are a f...     1  "
            ]
          },
          "execution_count": 27,
          "metadata": {},
          "output_type": "execute_result"
        }
      ],
      "source": [
        "pred_first_90_df.head(10)"
      ]
    },
    {
      "cell_type": "code",
      "execution_count": null,
      "metadata": {
        "colab": {
          "base_uri": "https://localhost:8080/"
        },
        "id": "eBQRjMonfaT2",
        "outputId": "0fac18e0-1714-47a0-9fa6-99384826ce75"
      },
      "outputs": [
        {
          "data": {
            "text/plain": [
              "array([\"I don't feel original anymore.\",\n",
              "       'I don\\x92t have anyone to talk to and I don\\x92t know what to do anymore',\n",
              "       'Stuck between moving forward and killing myself',\n",
              "       'I need help on how to help my girlfriend.',\n",
              "       \"I've been feeling this way for some time\", 'I have no motivation',\n",
              "       'This is me finally talking about \\x93it\\x94.',\n",
              "       'Things to say to ppl',\n",
              "       'Why do I have sudden \"bursts\" of depression',\n",
              "       'Being the boyfriend.'], dtype=object)"
            ]
          },
          "execution_count": 35,
          "metadata": {},
          "output_type": "execute_result"
        }
      ],
      "source": [
        "pred_first_90_df['post_title'].unique()"
      ]
    },
    {
      "cell_type": "code",
      "execution_count": null,
      "metadata": {
        "colab": {
          "base_uri": "https://localhost:8080/"
        },
        "id": "RgIX07bKfe3e",
        "outputId": "a9a410aa-50b1-4d17-c88b-088ccf39e8b8"
      },
      "outputs": [
        {
          "data": {
            "text/plain": [
              "array([\"I don't feel original anymore.\",\n",
              "       'I don’t have anyone to talk to and I don’t know what to do anymore',\n",
              "       'Stuck between moving forward and killing myself',\n",
              "       'I need help on how to help my girlfriend.',\n",
              "       \"I've been feeling this way for some tine\", 'I have no motivation',\n",
              "       'This is me finally talking about “it”.', 'Things to say to ppl',\n",
              "       'Why do I have sudden \"bursts\" of depression',\n",
              "       'Being the boyfriend.'], dtype=object)"
            ]
          },
          "execution_count": 28,
          "metadata": {},
          "output_type": "execute_result"
        }
      ],
      "source": [
        "true_first_90_df['post_title'].unique()"
      ]
    },
    {
      "cell_type": "code",
      "execution_count": null,
      "metadata": {
        "id": "bRMWQn48QtmA"
      },
      "outputs": [],
      "source": [
        "true_first_90_df.to_csv('true_first_90.csv', index=False)"
      ]
    },
    {
      "cell_type": "code",
      "execution_count": null,
      "metadata": {
        "id": "zM-bNgi0eQZO"
      },
      "outputs": [],
      "source": [
        "mask = ~(true_first_90_df['post_title'].isin(pred_first_90_df['post_title']) \\\n",
        "         & true_first_90_df['label'].isin(pred_first_90_df['label']))\n",
        "result = true_first_90_df[mask]"
      ]
    },
    {
      "cell_type": "code",
      "execution_count": null,
      "metadata": {
        "colab": {
          "base_uri": "https://localhost:8080/",
          "height": 53
        },
        "id": "I-Se_hYqazvA",
        "outputId": "22fa3529-1ddb-4aa2-8886-b3af4cb11aa8"
      },
      "outputs": [
        {
          "data": {
            "text/html": [
              "\n",
              "  <div id=\"df-e7f21699-fc99-4a67-bdf0-63c1670e5b86\" class=\"colab-df-container\">\n",
              "    <div>\n",
              "<style scoped>\n",
              "    .dataframe tbody tr th:only-of-type {\n",
              "        vertical-align: middle;\n",
              "    }\n",
              "\n",
              "    .dataframe tbody tr th {\n",
              "        vertical-align: top;\n",
              "    }\n",
              "\n",
              "    .dataframe thead th {\n",
              "        text-align: right;\n",
              "    }\n",
              "</style>\n",
              "<table border=\"1\" class=\"dataframe\">\n",
              "  <thead>\n",
              "    <tr style=\"text-align: right;\">\n",
              "      <th></th>\n",
              "      <th>post_title</th>\n",
              "      <th>post_text</th>\n",
              "      <th>label</th>\n",
              "      <th>value</th>\n",
              "    </tr>\n",
              "  </thead>\n",
              "  <tbody>\n",
              "  </tbody>\n",
              "</table>\n",
              "</div>\n",
              "    <div class=\"colab-df-buttons\">\n",
              "\n",
              "  <div class=\"colab-df-container\">\n",
              "    <button class=\"colab-df-convert\" onclick=\"convertToInteractive('df-e7f21699-fc99-4a67-bdf0-63c1670e5b86')\"\n",
              "            title=\"Convert this dataframe to an interactive table.\"\n",
              "            style=\"display:none;\">\n",
              "\n",
              "  <svg xmlns=\"http://www.w3.org/2000/svg\" height=\"24px\" viewBox=\"0 -960 960 960\">\n",
              "    <path d=\"M120-120v-720h720v720H120Zm60-500h600v-160H180v160Zm220 220h160v-160H400v160Zm0 220h160v-160H400v160ZM180-400h160v-160H180v160Zm440 0h160v-160H620v160ZM180-180h160v-160H180v160Zm440 0h160v-160H620v160Z\"/>\n",
              "  </svg>\n",
              "    </button>\n",
              "\n",
              "  <style>\n",
              "    .colab-df-container {\n",
              "      display:flex;\n",
              "      gap: 12px;\n",
              "    }\n",
              "\n",
              "    .colab-df-convert {\n",
              "      background-color: #E8F0FE;\n",
              "      border: none;\n",
              "      border-radius: 50%;\n",
              "      cursor: pointer;\n",
              "      display: none;\n",
              "      fill: #1967D2;\n",
              "      height: 32px;\n",
              "      padding: 0 0 0 0;\n",
              "      width: 32px;\n",
              "    }\n",
              "\n",
              "    .colab-df-convert:hover {\n",
              "      background-color: #E2EBFA;\n",
              "      box-shadow: 0px 1px 2px rgba(60, 64, 67, 0.3), 0px 1px 3px 1px rgba(60, 64, 67, 0.15);\n",
              "      fill: #174EA6;\n",
              "    }\n",
              "\n",
              "    .colab-df-buttons div {\n",
              "      margin-bottom: 4px;\n",
              "    }\n",
              "\n",
              "    [theme=dark] .colab-df-convert {\n",
              "      background-color: #3B4455;\n",
              "      fill: #D2E3FC;\n",
              "    }\n",
              "\n",
              "    [theme=dark] .colab-df-convert:hover {\n",
              "      background-color: #434B5C;\n",
              "      box-shadow: 0px 1px 3px 1px rgba(0, 0, 0, 0.15);\n",
              "      filter: drop-shadow(0px 1px 2px rgba(0, 0, 0, 0.3));\n",
              "      fill: #FFFFFF;\n",
              "    }\n",
              "  </style>\n",
              "\n",
              "    <script>\n",
              "      const buttonEl =\n",
              "        document.querySelector('#df-e7f21699-fc99-4a67-bdf0-63c1670e5b86 button.colab-df-convert');\n",
              "      buttonEl.style.display =\n",
              "        google.colab.kernel.accessAllowed ? 'block' : 'none';\n",
              "\n",
              "      async function convertToInteractive(key) {\n",
              "        const element = document.querySelector('#df-e7f21699-fc99-4a67-bdf0-63c1670e5b86');\n",
              "        const dataTable =\n",
              "          await google.colab.kernel.invokeFunction('convertToInteractive',\n",
              "                                                    [key], {});\n",
              "        if (!dataTable) return;\n",
              "\n",
              "        const docLinkHtml = 'Like what you see? Visit the ' +\n",
              "          '<a target=\"_blank\" href=https://colab.research.google.com/notebooks/data_table.ipynb>data table notebook</a>'\n",
              "          + ' to learn more about interactive tables.';\n",
              "        element.innerHTML = '';\n",
              "        dataTable['output_type'] = 'display_data';\n",
              "        await google.colab.output.renderOutput(dataTable, element);\n",
              "        const docLink = document.createElement('div');\n",
              "        docLink.innerHTML = docLinkHtml;\n",
              "        element.appendChild(docLink);\n",
              "      }\n",
              "    </script>\n",
              "  </div>\n",
              "\n",
              "    </div>\n",
              "  </div>\n"
            ],
            "text/plain": [
              "Empty DataFrame\n",
              "Columns: [post_title, post_text, label, value]\n",
              "Index: []"
            ]
          },
          "execution_count": 70,
          "metadata": {},
          "output_type": "execute_result"
        }
      ],
      "source": [
        "result"
      ]
    },
    {
      "cell_type": "code",
      "execution_count": null,
      "metadata": {
        "colab": {
          "base_uri": "https://localhost:8080/"
        },
        "id": "rKs8H86Vj4aT",
        "outputId": "801e54b8-e6af-45dd-a0d7-92d5d1323650"
      },
      "outputs": [
        {
          "name": "stdout",
          "output_type": "stream",
          "text": [
            "All titles have all nine distinct labels.\n"
          ]
        }
      ],
      "source": [
        "label_counts = pred_first_90_df.groupby('post_title')['label'].nunique()\n",
        "\n",
        "# Identify titles that do not have all nine distinct labels\n",
        "missing_labels = {}\n",
        "for title, count in label_counts.items():\n",
        "    if count < len(pre_processed_labels):\n",
        "        missing = set(pre_processed_labels.keys()) \\\n",
        "        - set(pred_first_90_df[pred_first_90_df['post_title'] == title]['label'])\n",
        "        missing_labels[title] = missing\n",
        "\n",
        "if not missing_labels:\n",
        "    print(\"All titles have all nine distinct labels.\")\n",
        "else:\n",
        "    print(\"Titles missing labels:\")\n",
        "    for title, missing in missing_labels.items():\n",
        "        print(f\"{title}: {missing}\")"
      ]
    },
    {
      "cell_type": "markdown",
      "metadata": {
        "id": "o3pM3_sHf4Jk"
      },
      "source": [
        "## Second 90"
      ]
    },
    {
      "cell_type": "code",
      "execution_count": null,
      "metadata": {
        "colab": {
          "base_uri": "https://localhost:8080/"
        },
        "id": "JOcNpk2sU2_h",
        "outputId": "ef2460f2-9114-4146-accd-dbd243ba3463"
      },
      "outputs": [
        {
          "name": "stdout",
          "output_type": "stream",
          "text": [
            "<class 'pandas.core.frame.DataFrame'>\n",
            "RangeIndex: 90 entries, 0 to 89\n",
            "Data columns (total 3 columns):\n",
            " #   Column      Non-Null Count  Dtype \n",
            "---  ------      --------------  ----- \n",
            " 0   post_title  90 non-null     object\n",
            " 1   label       90 non-null     object\n",
            " 2   value       90 non-null     object\n",
            "dtypes: object(3)\n",
            "memory usage: 2.2+ KB\n"
          ]
        }
      ],
      "source": [
        "pred_second_90_df = pd.read_csv(f\"{path}/seond_ten_output_integrated.csv\")\n",
        "pred_second_90_df.info()"
      ]
    },
    {
      "cell_type": "code",
      "execution_count": null,
      "metadata": {
        "colab": {
          "base_uri": "https://localhost:8080/"
        },
        "id": "MryDfH-Qf_XF",
        "outputId": "706c6bea-36c0-424d-fe6a-54f304b9cd11"
      },
      "outputs": [
        {
          "data": {
            "text/plain": [
              "array(['Learning I have Alexithymia really fucked me up.',\n",
              "       'Angry Issues Causes Everyone to Leave, Should I Be Alone?',\n",
              "       'I desperately want to feel better.',\n",
              "       \"I'm looking for advice on helping my depressed and, as I've just learned, suicidal grandma.\",\n",
              "       'Help me, please. I have 0 friends in the literal sense. I have been living like this for more than 3 years',\n",
              "       \"Your experience with SSRI's\",\n",
              "       'Is it okay to drop a class for the sake of my own health?',\n",
              "       \"I literally can't do anything right now\",\n",
              "       'Help with insomnia because of depression?',\n",
              "       'I dont know what to do anymore'], dtype=object)"
            ]
          },
          "execution_count": 39,
          "metadata": {},
          "output_type": "execute_result"
        }
      ],
      "source": [
        "true_second_90_df['post_title'].unique()"
      ]
    },
    {
      "cell_type": "code",
      "execution_count": null,
      "metadata": {
        "colab": {
          "base_uri": "https://localhost:8080/"
        },
        "id": "x6wb4v5lf6Oz",
        "outputId": "8f9f1fcc-fc6d-43d5-bed7-1402c1752e4c"
      },
      "outputs": [
        {
          "data": {
            "text/plain": [
              "array(['Learning I have Alexithymia really fucked me up.',\n",
              "       'Angry Issues Causes Everyone to Leave, Should I Be Alone?',\n",
              "       'I desperately want to feel better.',\n",
              "       \"I'm looking for advice on helping my depressed and, as I've just learned, suicidal grandma.\",\n",
              "       'Help me, please. I have 0 friends in the literal sense. I have been living like this for more than 3 years',\n",
              "       \"Your experience with SSRI's\",\n",
              "       'Is it okay to drop a class for the sake of my own health?',\n",
              "       \"I literally can't do anything right now\",\n",
              "       'Help with insomnia because of depression?',\n",
              "       'I dont know what to do anymore'], dtype=object)"
            ]
          },
          "execution_count": 77,
          "metadata": {},
          "output_type": "execute_result"
        }
      ],
      "source": [
        "pred_second_90_df['post_title'].unique()"
      ]
    },
    {
      "cell_type": "code",
      "execution_count": null,
      "metadata": {
        "id": "fsQbggm8RM9i"
      },
      "outputs": [],
      "source": [
        "true_second_90_df.to_csv('true_second_90.csv', index=False)"
      ]
    },
    {
      "cell_type": "code",
      "execution_count": null,
      "metadata": {
        "colab": {
          "base_uri": "https://localhost:8080/"
        },
        "id": "pfj4nIJaXkIS",
        "outputId": "f205639d-3777-4c8b-bc85-2e69405cb957"
      },
      "outputs": [
        {
          "data": {
            "text/plain": [
              "array([1, 0])"
            ]
          },
          "execution_count": 69,
          "metadata": {},
          "output_type": "execute_result"
        }
      ],
      "source": [
        "distinct_values = pred_second_90_df['value'].unique()\n",
        "distinct_values"
      ]
    },
    {
      "cell_type": "code",
      "execution_count": null,
      "metadata": {
        "id": "3bIzzcEIYNkC"
      },
      "outputs": [],
      "source": [
        "pred_second_90_df['value'] = pred_second_90_df['value'].replace({'yes': 1, 'no': 0, 'Yes': 1, 'No': 0})"
      ]
    },
    {
      "cell_type": "code",
      "execution_count": null,
      "metadata": {
        "colab": {
          "base_uri": "https://localhost:8080/",
          "height": 363
        },
        "id": "K_Gopr5xYOzK",
        "outputId": "92112260-fc03-49c5-c330-a3f248dc076c"
      },
      "outputs": [
        {
          "data": {
            "text/html": [
              "\n",
              "  <div id=\"df-06ce6435-26d6-4a5d-a948-e365f1085f0b\" class=\"colab-df-container\">\n",
              "    <div>\n",
              "<style scoped>\n",
              "    .dataframe tbody tr th:only-of-type {\n",
              "        vertical-align: middle;\n",
              "    }\n",
              "\n",
              "    .dataframe tbody tr th {\n",
              "        vertical-align: top;\n",
              "    }\n",
              "\n",
              "    .dataframe thead th {\n",
              "        text-align: right;\n",
              "    }\n",
              "</style>\n",
              "<table border=\"1\" class=\"dataframe\">\n",
              "  <thead>\n",
              "    <tr style=\"text-align: right;\">\n",
              "      <th></th>\n",
              "      <th>post_title</th>\n",
              "      <th>label</th>\n",
              "      <th>value</th>\n",
              "    </tr>\n",
              "  </thead>\n",
              "  <tbody>\n",
              "    <tr>\n",
              "      <th>0</th>\n",
              "      <td>Learning I have Alexithymia really fucked me up.</td>\n",
              "      <td>Feeling bad about yourself or that you are a f...</td>\n",
              "      <td>1</td>\n",
              "    </tr>\n",
              "    <tr>\n",
              "      <th>1</th>\n",
              "      <td>Learning I have Alexithymia really fucked me up.</td>\n",
              "      <td>Feeling down depressed or hopeless</td>\n",
              "      <td>1</td>\n",
              "    </tr>\n",
              "    <tr>\n",
              "      <th>2</th>\n",
              "      <td>Learning I have Alexithymia really fucked me up.</td>\n",
              "      <td>Feeling tired or having little energy</td>\n",
              "      <td>1</td>\n",
              "    </tr>\n",
              "    <tr>\n",
              "      <th>3</th>\n",
              "      <td>Learning I have Alexithymia really fucked me up.</td>\n",
              "      <td>Little interest or pleasure in doing</td>\n",
              "      <td>1</td>\n",
              "    </tr>\n",
              "    <tr>\n",
              "      <th>4</th>\n",
              "      <td>Learning I have Alexithymia really fucked me up.</td>\n",
              "      <td>Moving or speaking so slowly that other people...</td>\n",
              "      <td>0</td>\n",
              "    </tr>\n",
              "    <tr>\n",
              "      <th>5</th>\n",
              "      <td>Learning I have Alexithymia really fucked me up.</td>\n",
              "      <td>Poor appetite or overeating</td>\n",
              "      <td>0</td>\n",
              "    </tr>\n",
              "    <tr>\n",
              "      <th>6</th>\n",
              "      <td>Learning I have Alexithymia really fucked me up.</td>\n",
              "      <td>Thoughts that you would be better off dead or ...</td>\n",
              "      <td>1</td>\n",
              "    </tr>\n",
              "    <tr>\n",
              "      <th>7</th>\n",
              "      <td>Learning I have Alexithymia really fucked me up.</td>\n",
              "      <td>Trouble concentrating on things such as readin...</td>\n",
              "      <td>1</td>\n",
              "    </tr>\n",
              "    <tr>\n",
              "      <th>8</th>\n",
              "      <td>Learning I have Alexithymia really fucked me up.</td>\n",
              "      <td>Trouble falling or staying asleep or sleeping ...</td>\n",
              "      <td>1</td>\n",
              "    </tr>\n",
              "    <tr>\n",
              "      <th>9</th>\n",
              "      <td>Angry Issues Causes Everyone to Leave, Should ...</td>\n",
              "      <td>Feeling bad about yourself or that you are a f...</td>\n",
              "      <td>1</td>\n",
              "    </tr>\n",
              "  </tbody>\n",
              "</table>\n",
              "</div>\n",
              "    <div class=\"colab-df-buttons\">\n",
              "\n",
              "  <div class=\"colab-df-container\">\n",
              "    <button class=\"colab-df-convert\" onclick=\"convertToInteractive('df-06ce6435-26d6-4a5d-a948-e365f1085f0b')\"\n",
              "            title=\"Convert this dataframe to an interactive table.\"\n",
              "            style=\"display:none;\">\n",
              "\n",
              "  <svg xmlns=\"http://www.w3.org/2000/svg\" height=\"24px\" viewBox=\"0 -960 960 960\">\n",
              "    <path d=\"M120-120v-720h720v720H120Zm60-500h600v-160H180v160Zm220 220h160v-160H400v160Zm0 220h160v-160H400v160ZM180-400h160v-160H180v160Zm440 0h160v-160H620v160ZM180-180h160v-160H180v160Zm440 0h160v-160H620v160Z\"/>\n",
              "  </svg>\n",
              "    </button>\n",
              "\n",
              "  <style>\n",
              "    .colab-df-container {\n",
              "      display:flex;\n",
              "      gap: 12px;\n",
              "    }\n",
              "\n",
              "    .colab-df-convert {\n",
              "      background-color: #E8F0FE;\n",
              "      border: none;\n",
              "      border-radius: 50%;\n",
              "      cursor: pointer;\n",
              "      display: none;\n",
              "      fill: #1967D2;\n",
              "      height: 32px;\n",
              "      padding: 0 0 0 0;\n",
              "      width: 32px;\n",
              "    }\n",
              "\n",
              "    .colab-df-convert:hover {\n",
              "      background-color: #E2EBFA;\n",
              "      box-shadow: 0px 1px 2px rgba(60, 64, 67, 0.3), 0px 1px 3px 1px rgba(60, 64, 67, 0.15);\n",
              "      fill: #174EA6;\n",
              "    }\n",
              "\n",
              "    .colab-df-buttons div {\n",
              "      margin-bottom: 4px;\n",
              "    }\n",
              "\n",
              "    [theme=dark] .colab-df-convert {\n",
              "      background-color: #3B4455;\n",
              "      fill: #D2E3FC;\n",
              "    }\n",
              "\n",
              "    [theme=dark] .colab-df-convert:hover {\n",
              "      background-color: #434B5C;\n",
              "      box-shadow: 0px 1px 3px 1px rgba(0, 0, 0, 0.15);\n",
              "      filter: drop-shadow(0px 1px 2px rgba(0, 0, 0, 0.3));\n",
              "      fill: #FFFFFF;\n",
              "    }\n",
              "  </style>\n",
              "\n",
              "    <script>\n",
              "      const buttonEl =\n",
              "        document.querySelector('#df-06ce6435-26d6-4a5d-a948-e365f1085f0b button.colab-df-convert');\n",
              "      buttonEl.style.display =\n",
              "        google.colab.kernel.accessAllowed ? 'block' : 'none';\n",
              "\n",
              "      async function convertToInteractive(key) {\n",
              "        const element = document.querySelector('#df-06ce6435-26d6-4a5d-a948-e365f1085f0b');\n",
              "        const dataTable =\n",
              "          await google.colab.kernel.invokeFunction('convertToInteractive',\n",
              "                                                    [key], {});\n",
              "        if (!dataTable) return;\n",
              "\n",
              "        const docLinkHtml = 'Like what you see? Visit the ' +\n",
              "          '<a target=\"_blank\" href=https://colab.research.google.com/notebooks/data_table.ipynb>data table notebook</a>'\n",
              "          + ' to learn more about interactive tables.';\n",
              "        element.innerHTML = '';\n",
              "        dataTable['output_type'] = 'display_data';\n",
              "        await google.colab.output.renderOutput(dataTable, element);\n",
              "        const docLink = document.createElement('div');\n",
              "        docLink.innerHTML = docLinkHtml;\n",
              "        element.appendChild(docLink);\n",
              "      }\n",
              "    </script>\n",
              "  </div>\n",
              "\n",
              "\n",
              "<div id=\"df-eb02980a-8eee-4645-9be7-9787f9c2bff4\">\n",
              "  <button class=\"colab-df-quickchart\" onclick=\"quickchart('df-eb02980a-8eee-4645-9be7-9787f9c2bff4')\"\n",
              "            title=\"Suggest charts\"\n",
              "            style=\"display:none;\">\n",
              "\n",
              "<svg xmlns=\"http://www.w3.org/2000/svg\" height=\"24px\"viewBox=\"0 0 24 24\"\n",
              "     width=\"24px\">\n",
              "    <g>\n",
              "        <path d=\"M19 3H5c-1.1 0-2 .9-2 2v14c0 1.1.9 2 2 2h14c1.1 0 2-.9 2-2V5c0-1.1-.9-2-2-2zM9 17H7v-7h2v7zm4 0h-2V7h2v10zm4 0h-2v-4h2v4z\"/>\n",
              "    </g>\n",
              "</svg>\n",
              "  </button>\n",
              "\n",
              "<style>\n",
              "  .colab-df-quickchart {\n",
              "      --bg-color: #E8F0FE;\n",
              "      --fill-color: #1967D2;\n",
              "      --hover-bg-color: #E2EBFA;\n",
              "      --hover-fill-color: #174EA6;\n",
              "      --disabled-fill-color: #AAA;\n",
              "      --disabled-bg-color: #DDD;\n",
              "  }\n",
              "\n",
              "  [theme=dark] .colab-df-quickchart {\n",
              "      --bg-color: #3B4455;\n",
              "      --fill-color: #D2E3FC;\n",
              "      --hover-bg-color: #434B5C;\n",
              "      --hover-fill-color: #FFFFFF;\n",
              "      --disabled-bg-color: #3B4455;\n",
              "      --disabled-fill-color: #666;\n",
              "  }\n",
              "\n",
              "  .colab-df-quickchart {\n",
              "    background-color: var(--bg-color);\n",
              "    border: none;\n",
              "    border-radius: 50%;\n",
              "    cursor: pointer;\n",
              "    display: none;\n",
              "    fill: var(--fill-color);\n",
              "    height: 32px;\n",
              "    padding: 0;\n",
              "    width: 32px;\n",
              "  }\n",
              "\n",
              "  .colab-df-quickchart:hover {\n",
              "    background-color: var(--hover-bg-color);\n",
              "    box-shadow: 0 1px 2px rgba(60, 64, 67, 0.3), 0 1px 3px 1px rgba(60, 64, 67, 0.15);\n",
              "    fill: var(--button-hover-fill-color);\n",
              "  }\n",
              "\n",
              "  .colab-df-quickchart-complete:disabled,\n",
              "  .colab-df-quickchart-complete:disabled:hover {\n",
              "    background-color: var(--disabled-bg-color);\n",
              "    fill: var(--disabled-fill-color);\n",
              "    box-shadow: none;\n",
              "  }\n",
              "\n",
              "  .colab-df-spinner {\n",
              "    border: 2px solid var(--fill-color);\n",
              "    border-color: transparent;\n",
              "    border-bottom-color: var(--fill-color);\n",
              "    animation:\n",
              "      spin 1s steps(1) infinite;\n",
              "  }\n",
              "\n",
              "  @keyframes spin {\n",
              "    0% {\n",
              "      border-color: transparent;\n",
              "      border-bottom-color: var(--fill-color);\n",
              "      border-left-color: var(--fill-color);\n",
              "    }\n",
              "    20% {\n",
              "      border-color: transparent;\n",
              "      border-left-color: var(--fill-color);\n",
              "      border-top-color: var(--fill-color);\n",
              "    }\n",
              "    30% {\n",
              "      border-color: transparent;\n",
              "      border-left-color: var(--fill-color);\n",
              "      border-top-color: var(--fill-color);\n",
              "      border-right-color: var(--fill-color);\n",
              "    }\n",
              "    40% {\n",
              "      border-color: transparent;\n",
              "      border-right-color: var(--fill-color);\n",
              "      border-top-color: var(--fill-color);\n",
              "    }\n",
              "    60% {\n",
              "      border-color: transparent;\n",
              "      border-right-color: var(--fill-color);\n",
              "    }\n",
              "    80% {\n",
              "      border-color: transparent;\n",
              "      border-right-color: var(--fill-color);\n",
              "      border-bottom-color: var(--fill-color);\n",
              "    }\n",
              "    90% {\n",
              "      border-color: transparent;\n",
              "      border-bottom-color: var(--fill-color);\n",
              "    }\n",
              "  }\n",
              "</style>\n",
              "\n",
              "  <script>\n",
              "    async function quickchart(key) {\n",
              "      const quickchartButtonEl =\n",
              "        document.querySelector('#' + key + ' button');\n",
              "      quickchartButtonEl.disabled = true;  // To prevent multiple clicks.\n",
              "      quickchartButtonEl.classList.add('colab-df-spinner');\n",
              "      try {\n",
              "        const charts = await google.colab.kernel.invokeFunction(\n",
              "            'suggestCharts', [key], {});\n",
              "      } catch (error) {\n",
              "        console.error('Error during call to suggestCharts:', error);\n",
              "      }\n",
              "      quickchartButtonEl.classList.remove('colab-df-spinner');\n",
              "      quickchartButtonEl.classList.add('colab-df-quickchart-complete');\n",
              "    }\n",
              "    (() => {\n",
              "      let quickchartButtonEl =\n",
              "        document.querySelector('#df-eb02980a-8eee-4645-9be7-9787f9c2bff4 button');\n",
              "      quickchartButtonEl.style.display =\n",
              "        google.colab.kernel.accessAllowed ? 'block' : 'none';\n",
              "    })();\n",
              "  </script>\n",
              "</div>\n",
              "    </div>\n",
              "  </div>\n"
            ],
            "text/plain": [
              "                                          post_title  \\\n",
              "0   Learning I have Alexithymia really fucked me up.   \n",
              "1   Learning I have Alexithymia really fucked me up.   \n",
              "2   Learning I have Alexithymia really fucked me up.   \n",
              "3   Learning I have Alexithymia really fucked me up.   \n",
              "4   Learning I have Alexithymia really fucked me up.   \n",
              "5   Learning I have Alexithymia really fucked me up.   \n",
              "6   Learning I have Alexithymia really fucked me up.   \n",
              "7   Learning I have Alexithymia really fucked me up.   \n",
              "8   Learning I have Alexithymia really fucked me up.   \n",
              "9  Angry Issues Causes Everyone to Leave, Should ...   \n",
              "\n",
              "                                               label  value  \n",
              "0  Feeling bad about yourself or that you are a f...      1  \n",
              "1                 Feeling down depressed or hopeless      1  \n",
              "2              Feeling tired or having little energy      1  \n",
              "3               Little interest or pleasure in doing      1  \n",
              "4  Moving or speaking so slowly that other people...      0  \n",
              "5                        Poor appetite or overeating      0  \n",
              "6  Thoughts that you would be better off dead or ...      1  \n",
              "7  Trouble concentrating on things such as readin...      1  \n",
              "8  Trouble falling or staying asleep or sleeping ...      1  \n",
              "9  Feeling bad about yourself or that you are a f...      1  "
            ]
          },
          "execution_count": 48,
          "metadata": {},
          "output_type": "execute_result"
        }
      ],
      "source": [
        "pred_second_90_df.head(10)"
      ]
    },
    {
      "cell_type": "code",
      "execution_count": null,
      "metadata": {
        "id": "TLQG5OT-dVug"
      },
      "outputs": [],
      "source": [
        "mask = ~true_second_90_df['post_title'].isin(pred_second_90_df['post_title'])\n",
        "result = true_second_90_df[mask]"
      ]
    },
    {
      "cell_type": "code",
      "execution_count": null,
      "metadata": {
        "id": "i9-St7Q_ehOP"
      },
      "outputs": [],
      "source": [
        "mask = ~(true_second_90_df['post_title'].isin(pred_second_90_df['post_title']) \\\n",
        "         & true_second_90_df['label'].isin(pred_second_90_df['label']))\n",
        "result = true_second_90_df[mask]"
      ]
    },
    {
      "cell_type": "code",
      "execution_count": null,
      "metadata": {
        "colab": {
          "base_uri": "https://localhost:8080/",
          "height": 53
        },
        "id": "O0tarPO8dbi5",
        "outputId": "8008e268-2ba6-499a-a404-c1a632edbe8b"
      },
      "outputs": [
        {
          "data": {
            "text/html": [
              "\n",
              "  <div id=\"df-19e619a3-55df-49bb-9cf0-492140d2b8e6\" class=\"colab-df-container\">\n",
              "    <div>\n",
              "<style scoped>\n",
              "    .dataframe tbody tr th:only-of-type {\n",
              "        vertical-align: middle;\n",
              "    }\n",
              "\n",
              "    .dataframe tbody tr th {\n",
              "        vertical-align: top;\n",
              "    }\n",
              "\n",
              "    .dataframe thead th {\n",
              "        text-align: right;\n",
              "    }\n",
              "</style>\n",
              "<table border=\"1\" class=\"dataframe\">\n",
              "  <thead>\n",
              "    <tr style=\"text-align: right;\">\n",
              "      <th></th>\n",
              "      <th>post_title</th>\n",
              "      <th>post_text</th>\n",
              "      <th>label</th>\n",
              "      <th>value</th>\n",
              "    </tr>\n",
              "  </thead>\n",
              "  <tbody>\n",
              "  </tbody>\n",
              "</table>\n",
              "</div>\n",
              "    <div class=\"colab-df-buttons\">\n",
              "\n",
              "  <div class=\"colab-df-container\">\n",
              "    <button class=\"colab-df-convert\" onclick=\"convertToInteractive('df-19e619a3-55df-49bb-9cf0-492140d2b8e6')\"\n",
              "            title=\"Convert this dataframe to an interactive table.\"\n",
              "            style=\"display:none;\">\n",
              "\n",
              "  <svg xmlns=\"http://www.w3.org/2000/svg\" height=\"24px\" viewBox=\"0 -960 960 960\">\n",
              "    <path d=\"M120-120v-720h720v720H120Zm60-500h600v-160H180v160Zm220 220h160v-160H400v160Zm0 220h160v-160H400v160ZM180-400h160v-160H180v160Zm440 0h160v-160H620v160ZM180-180h160v-160H180v160Zm440 0h160v-160H620v160Z\"/>\n",
              "  </svg>\n",
              "    </button>\n",
              "\n",
              "  <style>\n",
              "    .colab-df-container {\n",
              "      display:flex;\n",
              "      gap: 12px;\n",
              "    }\n",
              "\n",
              "    .colab-df-convert {\n",
              "      background-color: #E8F0FE;\n",
              "      border: none;\n",
              "      border-radius: 50%;\n",
              "      cursor: pointer;\n",
              "      display: none;\n",
              "      fill: #1967D2;\n",
              "      height: 32px;\n",
              "      padding: 0 0 0 0;\n",
              "      width: 32px;\n",
              "    }\n",
              "\n",
              "    .colab-df-convert:hover {\n",
              "      background-color: #E2EBFA;\n",
              "      box-shadow: 0px 1px 2px rgba(60, 64, 67, 0.3), 0px 1px 3px 1px rgba(60, 64, 67, 0.15);\n",
              "      fill: #174EA6;\n",
              "    }\n",
              "\n",
              "    .colab-df-buttons div {\n",
              "      margin-bottom: 4px;\n",
              "    }\n",
              "\n",
              "    [theme=dark] .colab-df-convert {\n",
              "      background-color: #3B4455;\n",
              "      fill: #D2E3FC;\n",
              "    }\n",
              "\n",
              "    [theme=dark] .colab-df-convert:hover {\n",
              "      background-color: #434B5C;\n",
              "      box-shadow: 0px 1px 3px 1px rgba(0, 0, 0, 0.15);\n",
              "      filter: drop-shadow(0px 1px 2px rgba(0, 0, 0, 0.3));\n",
              "      fill: #FFFFFF;\n",
              "    }\n",
              "  </style>\n",
              "\n",
              "    <script>\n",
              "      const buttonEl =\n",
              "        document.querySelector('#df-19e619a3-55df-49bb-9cf0-492140d2b8e6 button.colab-df-convert');\n",
              "      buttonEl.style.display =\n",
              "        google.colab.kernel.accessAllowed ? 'block' : 'none';\n",
              "\n",
              "      async function convertToInteractive(key) {\n",
              "        const element = document.querySelector('#df-19e619a3-55df-49bb-9cf0-492140d2b8e6');\n",
              "        const dataTable =\n",
              "          await google.colab.kernel.invokeFunction('convertToInteractive',\n",
              "                                                    [key], {});\n",
              "        if (!dataTable) return;\n",
              "\n",
              "        const docLinkHtml = 'Like what you see? Visit the ' +\n",
              "          '<a target=\"_blank\" href=https://colab.research.google.com/notebooks/data_table.ipynb>data table notebook</a>'\n",
              "          + ' to learn more about interactive tables.';\n",
              "        element.innerHTML = '';\n",
              "        dataTable['output_type'] = 'display_data';\n",
              "        await google.colab.output.renderOutput(dataTable, element);\n",
              "        const docLink = document.createElement('div');\n",
              "        docLink.innerHTML = docLinkHtml;\n",
              "        element.appendChild(docLink);\n",
              "      }\n",
              "    </script>\n",
              "  </div>\n",
              "\n",
              "    </div>\n",
              "  </div>\n"
            ],
            "text/plain": [
              "Empty DataFrame\n",
              "Columns: [post_title, post_text, label, value]\n",
              "Index: []"
            ]
          },
          "execution_count": 72,
          "metadata": {},
          "output_type": "execute_result"
        }
      ],
      "source": [
        "result"
      ]
    },
    {
      "cell_type": "code",
      "execution_count": null,
      "metadata": {
        "colab": {
          "base_uri": "https://localhost:8080/"
        },
        "id": "DerJq7f3myx5",
        "outputId": "bb316fd5-7547-4bd0-929d-8b855ecfeb37"
      },
      "outputs": [
        {
          "name": "stdout",
          "output_type": "stream",
          "text": [
            "Titles missing labels:\n",
            "Your experience with SSRI's: {'Q2', 'Q8', 'Q1', 'Q3', 'Q6', 'Q7', 'Q9', 'Q4', 'Q5'}\n"
          ]
        }
      ],
      "source": [
        "label_counts = pred_second_90_df.groupby('post_title')['label'].nunique()\n",
        "\n",
        "# Identify titles that do not have all nine distinct labels\n",
        "missing_labels = {}\n",
        "for title, count in label_counts.items():\n",
        "    if count < len(pre_processed_labels):\n",
        "        missing = set(pre_processed_labels.keys()) \\\n",
        "        - set(pred_second_90_df[pred_second_90_df['post_title'] == title]['label'])\n",
        "        missing_labels[title] = missing\n",
        "\n",
        "if not missing_labels:\n",
        "    print(\"All titles have all nine distinct labels.\")\n",
        "else:\n",
        "    print(\"Titles missing labels:\")\n",
        "    for title, missing in missing_labels.items():\n",
        "        print(f\"{title}: {missing}\")"
      ]
    },
    {
      "cell_type": "markdown",
      "metadata": {
        "id": "3lQJ2T6sgRlT"
      },
      "source": [
        "## Third 90"
      ]
    },
    {
      "cell_type": "code",
      "execution_count": null,
      "metadata": {
        "colab": {
          "base_uri": "https://localhost:8080/"
        },
        "id": "6-SSQ_YZgTMI",
        "outputId": "bfcae232-dd7f-4936-d7d6-b0c1e83222f7"
      },
      "outputs": [
        {
          "data": {
            "text/plain": [
              "array([\"I don't have anything, no future and just.. yeah.\",\n",
              "       'Boyfriend broke up with me a week after I got a shocking diagnosis, says my mood was too bad lately',\n",
              "       'Life is crumbling to pieces',\n",
              "       'I don’t know why I’m seeking help here but please just read as much as you can...',\n",
              "       'Looking into therapy',\n",
              "       'Admitting no bond with toddler and wondering if its justified or b/c Im just a terrible person.',\n",
              "       'I need help..', 'Prozac worries', 'So Much Pain In The World',\n",
              "       \"am I suicidal even if I know I won't kill myself?\"], dtype=object)"
            ]
          },
          "execution_count": 79,
          "metadata": {},
          "output_type": "execute_result"
        }
      ],
      "source": [
        "true_third_90_df['post_title'].unique()"
      ]
    },
    {
      "cell_type": "code",
      "execution_count": null,
      "metadata": {
        "colab": {
          "base_uri": "https://localhost:8080/"
        },
        "id": "RBcDluAQgYqO",
        "outputId": "812851d4-0a7a-4518-d410-d43724b30c7b"
      },
      "outputs": [
        {
          "data": {
            "text/plain": [
              "array([\"I don't have anything, no future and just.. yeah.\",\n",
              "       'Boyfriend broke up with me a week after I got a shocking diagnosis, says my mood was too bad lately',\n",
              "       'Life is crumbling to pieces',\n",
              "       'I don’t know why I’m seeking help here but please just read as much as you can...',\n",
              "       'Looking into therapy',\n",
              "       'Admitting no bond with toddler and wondering if its justified or b/c Im just a terrible person.',\n",
              "       'I need help..', 'Prozac worries', 'So Much Pain In The World',\n",
              "       \"am I suicidal even if I know I won't kill myself?\"], dtype=object)"
            ]
          },
          "execution_count": 80,
          "metadata": {},
          "output_type": "execute_result"
        }
      ],
      "source": [
        "pred_third_90_df['post_title'].unique()"
      ]
    },
    {
      "cell_type": "code",
      "execution_count": null,
      "metadata": {
        "colab": {
          "base_uri": "https://localhost:8080/"
        },
        "id": "GZZeh7ZsU44N",
        "outputId": "7d3dc2a7-9ceb-456f-ef1d-e4e72a792071"
      },
      "outputs": [
        {
          "name": "stdout",
          "output_type": "stream",
          "text": [
            "<class 'pandas.core.frame.DataFrame'>\n",
            "RangeIndex: 90 entries, 0 to 89\n",
            "Data columns (total 3 columns):\n",
            " #   Column      Non-Null Count  Dtype \n",
            "---  ------      --------------  ----- \n",
            " 0   post_title  90 non-null     object\n",
            " 1   label       90 non-null     object\n",
            " 2   value       90 non-null     object\n",
            "dtypes: object(3)\n",
            "memory usage: 2.2+ KB\n"
          ]
        }
      ],
      "source": [
        "pred_third_90_df = pd.read_csv(f\"{path}/third_ten_output_integrated.csv\")\n",
        "pred_third_90_df.info()"
      ]
    },
    {
      "cell_type": "code",
      "execution_count": null,
      "metadata": {
        "colab": {
          "base_uri": "https://localhost:8080/"
        },
        "id": "H4daZPuFXwR6",
        "outputId": "bb48d6d9-9a95-4e18-a8de-e2588e196a7c"
      },
      "outputs": [
        {
          "data": {
            "text/plain": [
              "array([1, 0])"
            ]
          },
          "execution_count": 70,
          "metadata": {},
          "output_type": "execute_result"
        }
      ],
      "source": [
        "distinct_values = pred_third_90_df['value'].unique()\n",
        "distinct_values"
      ]
    },
    {
      "cell_type": "code",
      "execution_count": null,
      "metadata": {
        "id": "NI3YlzLcYeFv"
      },
      "outputs": [],
      "source": [
        "pred_third_90_df['value'] = pred_third_90_df['value'].replace({'yes': 1, 'no': 0, 'Yes': 1, 'No': 0})"
      ]
    },
    {
      "cell_type": "code",
      "execution_count": null,
      "metadata": {
        "colab": {
          "base_uri": "https://localhost:8080/",
          "height": 363
        },
        "id": "vTU9KaV-YhKZ",
        "outputId": "117b1337-5862-426c-ecf1-e1bd40ecd92e"
      },
      "outputs": [
        {
          "data": {
            "text/html": [
              "\n",
              "  <div id=\"df-6a942f53-c216-4828-aa52-1732dfe948da\" class=\"colab-df-container\">\n",
              "    <div>\n",
              "<style scoped>\n",
              "    .dataframe tbody tr th:only-of-type {\n",
              "        vertical-align: middle;\n",
              "    }\n",
              "\n",
              "    .dataframe tbody tr th {\n",
              "        vertical-align: top;\n",
              "    }\n",
              "\n",
              "    .dataframe thead th {\n",
              "        text-align: right;\n",
              "    }\n",
              "</style>\n",
              "<table border=\"1\" class=\"dataframe\">\n",
              "  <thead>\n",
              "    <tr style=\"text-align: right;\">\n",
              "      <th></th>\n",
              "      <th>post_title</th>\n",
              "      <th>label</th>\n",
              "      <th>value</th>\n",
              "    </tr>\n",
              "  </thead>\n",
              "  <tbody>\n",
              "    <tr>\n",
              "      <th>0</th>\n",
              "      <td>I don't have anything, no future and just.. yeah.</td>\n",
              "      <td>Feeling bad about yourself or that you are a f...</td>\n",
              "      <td>1</td>\n",
              "    </tr>\n",
              "    <tr>\n",
              "      <th>1</th>\n",
              "      <td>I don't have anything, no future and just.. yeah.</td>\n",
              "      <td>Feeling down depressed or hopeless</td>\n",
              "      <td>1</td>\n",
              "    </tr>\n",
              "    <tr>\n",
              "      <th>2</th>\n",
              "      <td>I don't have anything, no future and just.. yeah.</td>\n",
              "      <td>Feeling tired or having little energy</td>\n",
              "      <td>1</td>\n",
              "    </tr>\n",
              "    <tr>\n",
              "      <th>3</th>\n",
              "      <td>I don't have anything, no future and just.. yeah.</td>\n",
              "      <td>Little interest or pleasure in doing</td>\n",
              "      <td>1</td>\n",
              "    </tr>\n",
              "    <tr>\n",
              "      <th>4</th>\n",
              "      <td>I don't have anything, no future and just.. yeah.</td>\n",
              "      <td>Moving or speaking so slowly that other people...</td>\n",
              "      <td>1</td>\n",
              "    </tr>\n",
              "    <tr>\n",
              "      <th>5</th>\n",
              "      <td>I don't have anything, no future and just.. yeah.</td>\n",
              "      <td>Poor appetite or overeating</td>\n",
              "      <td>1</td>\n",
              "    </tr>\n",
              "    <tr>\n",
              "      <th>6</th>\n",
              "      <td>I don't have anything, no future and just.. yeah.</td>\n",
              "      <td>Thoughts that you would be better off dead or ...</td>\n",
              "      <td>1</td>\n",
              "    </tr>\n",
              "    <tr>\n",
              "      <th>7</th>\n",
              "      <td>I don't have anything, no future and just.. yeah.</td>\n",
              "      <td>Trouble concentrating on things such as readin...</td>\n",
              "      <td>1</td>\n",
              "    </tr>\n",
              "    <tr>\n",
              "      <th>8</th>\n",
              "      <td>I don't have anything, no future and just.. yeah.</td>\n",
              "      <td>Trouble falling or staying asleep or sleeping ...</td>\n",
              "      <td>1</td>\n",
              "    </tr>\n",
              "    <tr>\n",
              "      <th>9</th>\n",
              "      <td>Boyfriend broke up with me a week after I got ...</td>\n",
              "      <td>Feeling bad about yourself or that you are a f...</td>\n",
              "      <td>1</td>\n",
              "    </tr>\n",
              "  </tbody>\n",
              "</table>\n",
              "</div>\n",
              "    <div class=\"colab-df-buttons\">\n",
              "\n",
              "  <div class=\"colab-df-container\">\n",
              "    <button class=\"colab-df-convert\" onclick=\"convertToInteractive('df-6a942f53-c216-4828-aa52-1732dfe948da')\"\n",
              "            title=\"Convert this dataframe to an interactive table.\"\n",
              "            style=\"display:none;\">\n",
              "\n",
              "  <svg xmlns=\"http://www.w3.org/2000/svg\" height=\"24px\" viewBox=\"0 -960 960 960\">\n",
              "    <path d=\"M120-120v-720h720v720H120Zm60-500h600v-160H180v160Zm220 220h160v-160H400v160Zm0 220h160v-160H400v160ZM180-400h160v-160H180v160Zm440 0h160v-160H620v160ZM180-180h160v-160H180v160Zm440 0h160v-160H620v160Z\"/>\n",
              "  </svg>\n",
              "    </button>\n",
              "\n",
              "  <style>\n",
              "    .colab-df-container {\n",
              "      display:flex;\n",
              "      gap: 12px;\n",
              "    }\n",
              "\n",
              "    .colab-df-convert {\n",
              "      background-color: #E8F0FE;\n",
              "      border: none;\n",
              "      border-radius: 50%;\n",
              "      cursor: pointer;\n",
              "      display: none;\n",
              "      fill: #1967D2;\n",
              "      height: 32px;\n",
              "      padding: 0 0 0 0;\n",
              "      width: 32px;\n",
              "    }\n",
              "\n",
              "    .colab-df-convert:hover {\n",
              "      background-color: #E2EBFA;\n",
              "      box-shadow: 0px 1px 2px rgba(60, 64, 67, 0.3), 0px 1px 3px 1px rgba(60, 64, 67, 0.15);\n",
              "      fill: #174EA6;\n",
              "    }\n",
              "\n",
              "    .colab-df-buttons div {\n",
              "      margin-bottom: 4px;\n",
              "    }\n",
              "\n",
              "    [theme=dark] .colab-df-convert {\n",
              "      background-color: #3B4455;\n",
              "      fill: #D2E3FC;\n",
              "    }\n",
              "\n",
              "    [theme=dark] .colab-df-convert:hover {\n",
              "      background-color: #434B5C;\n",
              "      box-shadow: 0px 1px 3px 1px rgba(0, 0, 0, 0.15);\n",
              "      filter: drop-shadow(0px 1px 2px rgba(0, 0, 0, 0.3));\n",
              "      fill: #FFFFFF;\n",
              "    }\n",
              "  </style>\n",
              "\n",
              "    <script>\n",
              "      const buttonEl =\n",
              "        document.querySelector('#df-6a942f53-c216-4828-aa52-1732dfe948da button.colab-df-convert');\n",
              "      buttonEl.style.display =\n",
              "        google.colab.kernel.accessAllowed ? 'block' : 'none';\n",
              "\n",
              "      async function convertToInteractive(key) {\n",
              "        const element = document.querySelector('#df-6a942f53-c216-4828-aa52-1732dfe948da');\n",
              "        const dataTable =\n",
              "          await google.colab.kernel.invokeFunction('convertToInteractive',\n",
              "                                                    [key], {});\n",
              "        if (!dataTable) return;\n",
              "\n",
              "        const docLinkHtml = 'Like what you see? Visit the ' +\n",
              "          '<a target=\"_blank\" href=https://colab.research.google.com/notebooks/data_table.ipynb>data table notebook</a>'\n",
              "          + ' to learn more about interactive tables.';\n",
              "        element.innerHTML = '';\n",
              "        dataTable['output_type'] = 'display_data';\n",
              "        await google.colab.output.renderOutput(dataTable, element);\n",
              "        const docLink = document.createElement('div');\n",
              "        docLink.innerHTML = docLinkHtml;\n",
              "        element.appendChild(docLink);\n",
              "      }\n",
              "    </script>\n",
              "  </div>\n",
              "\n",
              "\n",
              "<div id=\"df-922020da-8f2a-46b7-9430-74440bc6dc81\">\n",
              "  <button class=\"colab-df-quickchart\" onclick=\"quickchart('df-922020da-8f2a-46b7-9430-74440bc6dc81')\"\n",
              "            title=\"Suggest charts\"\n",
              "            style=\"display:none;\">\n",
              "\n",
              "<svg xmlns=\"http://www.w3.org/2000/svg\" height=\"24px\"viewBox=\"0 0 24 24\"\n",
              "     width=\"24px\">\n",
              "    <g>\n",
              "        <path d=\"M19 3H5c-1.1 0-2 .9-2 2v14c0 1.1.9 2 2 2h14c1.1 0 2-.9 2-2V5c0-1.1-.9-2-2-2zM9 17H7v-7h2v7zm4 0h-2V7h2v10zm4 0h-2v-4h2v4z\"/>\n",
              "    </g>\n",
              "</svg>\n",
              "  </button>\n",
              "\n",
              "<style>\n",
              "  .colab-df-quickchart {\n",
              "      --bg-color: #E8F0FE;\n",
              "      --fill-color: #1967D2;\n",
              "      --hover-bg-color: #E2EBFA;\n",
              "      --hover-fill-color: #174EA6;\n",
              "      --disabled-fill-color: #AAA;\n",
              "      --disabled-bg-color: #DDD;\n",
              "  }\n",
              "\n",
              "  [theme=dark] .colab-df-quickchart {\n",
              "      --bg-color: #3B4455;\n",
              "      --fill-color: #D2E3FC;\n",
              "      --hover-bg-color: #434B5C;\n",
              "      --hover-fill-color: #FFFFFF;\n",
              "      --disabled-bg-color: #3B4455;\n",
              "      --disabled-fill-color: #666;\n",
              "  }\n",
              "\n",
              "  .colab-df-quickchart {\n",
              "    background-color: var(--bg-color);\n",
              "    border: none;\n",
              "    border-radius: 50%;\n",
              "    cursor: pointer;\n",
              "    display: none;\n",
              "    fill: var(--fill-color);\n",
              "    height: 32px;\n",
              "    padding: 0;\n",
              "    width: 32px;\n",
              "  }\n",
              "\n",
              "  .colab-df-quickchart:hover {\n",
              "    background-color: var(--hover-bg-color);\n",
              "    box-shadow: 0 1px 2px rgba(60, 64, 67, 0.3), 0 1px 3px 1px rgba(60, 64, 67, 0.15);\n",
              "    fill: var(--button-hover-fill-color);\n",
              "  }\n",
              "\n",
              "  .colab-df-quickchart-complete:disabled,\n",
              "  .colab-df-quickchart-complete:disabled:hover {\n",
              "    background-color: var(--disabled-bg-color);\n",
              "    fill: var(--disabled-fill-color);\n",
              "    box-shadow: none;\n",
              "  }\n",
              "\n",
              "  .colab-df-spinner {\n",
              "    border: 2px solid var(--fill-color);\n",
              "    border-color: transparent;\n",
              "    border-bottom-color: var(--fill-color);\n",
              "    animation:\n",
              "      spin 1s steps(1) infinite;\n",
              "  }\n",
              "\n",
              "  @keyframes spin {\n",
              "    0% {\n",
              "      border-color: transparent;\n",
              "      border-bottom-color: var(--fill-color);\n",
              "      border-left-color: var(--fill-color);\n",
              "    }\n",
              "    20% {\n",
              "      border-color: transparent;\n",
              "      border-left-color: var(--fill-color);\n",
              "      border-top-color: var(--fill-color);\n",
              "    }\n",
              "    30% {\n",
              "      border-color: transparent;\n",
              "      border-left-color: var(--fill-color);\n",
              "      border-top-color: var(--fill-color);\n",
              "      border-right-color: var(--fill-color);\n",
              "    }\n",
              "    40% {\n",
              "      border-color: transparent;\n",
              "      border-right-color: var(--fill-color);\n",
              "      border-top-color: var(--fill-color);\n",
              "    }\n",
              "    60% {\n",
              "      border-color: transparent;\n",
              "      border-right-color: var(--fill-color);\n",
              "    }\n",
              "    80% {\n",
              "      border-color: transparent;\n",
              "      border-right-color: var(--fill-color);\n",
              "      border-bottom-color: var(--fill-color);\n",
              "    }\n",
              "    90% {\n",
              "      border-color: transparent;\n",
              "      border-bottom-color: var(--fill-color);\n",
              "    }\n",
              "  }\n",
              "</style>\n",
              "\n",
              "  <script>\n",
              "    async function quickchart(key) {\n",
              "      const quickchartButtonEl =\n",
              "        document.querySelector('#' + key + ' button');\n",
              "      quickchartButtonEl.disabled = true;  // To prevent multiple clicks.\n",
              "      quickchartButtonEl.classList.add('colab-df-spinner');\n",
              "      try {\n",
              "        const charts = await google.colab.kernel.invokeFunction(\n",
              "            'suggestCharts', [key], {});\n",
              "      } catch (error) {\n",
              "        console.error('Error during call to suggestCharts:', error);\n",
              "      }\n",
              "      quickchartButtonEl.classList.remove('colab-df-spinner');\n",
              "      quickchartButtonEl.classList.add('colab-df-quickchart-complete');\n",
              "    }\n",
              "    (() => {\n",
              "      let quickchartButtonEl =\n",
              "        document.querySelector('#df-922020da-8f2a-46b7-9430-74440bc6dc81 button');\n",
              "      quickchartButtonEl.style.display =\n",
              "        google.colab.kernel.accessAllowed ? 'block' : 'none';\n",
              "    })();\n",
              "  </script>\n",
              "</div>\n",
              "    </div>\n",
              "  </div>\n"
            ],
            "text/plain": [
              "                                          post_title  \\\n",
              "0  I don't have anything, no future and just.. yeah.   \n",
              "1  I don't have anything, no future and just.. yeah.   \n",
              "2  I don't have anything, no future and just.. yeah.   \n",
              "3  I don't have anything, no future and just.. yeah.   \n",
              "4  I don't have anything, no future and just.. yeah.   \n",
              "5  I don't have anything, no future and just.. yeah.   \n",
              "6  I don't have anything, no future and just.. yeah.   \n",
              "7  I don't have anything, no future and just.. yeah.   \n",
              "8  I don't have anything, no future and just.. yeah.   \n",
              "9  Boyfriend broke up with me a week after I got ...   \n",
              "\n",
              "                                               label  value  \n",
              "0  Feeling bad about yourself or that you are a f...      1  \n",
              "1                 Feeling down depressed or hopeless      1  \n",
              "2              Feeling tired or having little energy      1  \n",
              "3               Little interest or pleasure in doing      1  \n",
              "4  Moving or speaking so slowly that other people...      1  \n",
              "5                        Poor appetite or overeating      1  \n",
              "6  Thoughts that you would be better off dead or ...      1  \n",
              "7  Trouble concentrating on things such as readin...      1  \n",
              "8  Trouble falling or staying asleep or sleeping ...      1  \n",
              "9  Feeling bad about yourself or that you are a f...      1  "
            ]
          },
          "execution_count": 50,
          "metadata": {},
          "output_type": "execute_result"
        }
      ],
      "source": [
        "pred_third_90_df.head(10)"
      ]
    },
    {
      "cell_type": "code",
      "execution_count": null,
      "metadata": {
        "id": "eUwCgEJBex6B"
      },
      "outputs": [],
      "source": [
        "mask = ~(true_third_90_df['post_title'].isin(pred_third_90_df['post_title']) \\\n",
        "         & true_third_90_df['label'].isin(pred_third_90_df['label']))\n",
        "result = true_third_90_df[mask]"
      ]
    },
    {
      "cell_type": "code",
      "execution_count": null,
      "metadata": {
        "colab": {
          "base_uri": "https://localhost:8080/",
          "height": 53
        },
        "id": "S5jyrakne5ms",
        "outputId": "7a3ab547-2a22-453c-c410-88871aec50bf"
      },
      "outputs": [
        {
          "data": {
            "text/html": [
              "\n",
              "  <div id=\"df-99d4fa84-b481-4092-b878-5e8c1dd24252\" class=\"colab-df-container\">\n",
              "    <div>\n",
              "<style scoped>\n",
              "    .dataframe tbody tr th:only-of-type {\n",
              "        vertical-align: middle;\n",
              "    }\n",
              "\n",
              "    .dataframe tbody tr th {\n",
              "        vertical-align: top;\n",
              "    }\n",
              "\n",
              "    .dataframe thead th {\n",
              "        text-align: right;\n",
              "    }\n",
              "</style>\n",
              "<table border=\"1\" class=\"dataframe\">\n",
              "  <thead>\n",
              "    <tr style=\"text-align: right;\">\n",
              "      <th></th>\n",
              "      <th>post_title</th>\n",
              "      <th>post_text</th>\n",
              "      <th>label</th>\n",
              "      <th>value</th>\n",
              "    </tr>\n",
              "  </thead>\n",
              "  <tbody>\n",
              "  </tbody>\n",
              "</table>\n",
              "</div>\n",
              "    <div class=\"colab-df-buttons\">\n",
              "\n",
              "  <div class=\"colab-df-container\">\n",
              "    <button class=\"colab-df-convert\" onclick=\"convertToInteractive('df-99d4fa84-b481-4092-b878-5e8c1dd24252')\"\n",
              "            title=\"Convert this dataframe to an interactive table.\"\n",
              "            style=\"display:none;\">\n",
              "\n",
              "  <svg xmlns=\"http://www.w3.org/2000/svg\" height=\"24px\" viewBox=\"0 -960 960 960\">\n",
              "    <path d=\"M120-120v-720h720v720H120Zm60-500h600v-160H180v160Zm220 220h160v-160H400v160Zm0 220h160v-160H400v160ZM180-400h160v-160H180v160Zm440 0h160v-160H620v160ZM180-180h160v-160H180v160Zm440 0h160v-160H620v160Z\"/>\n",
              "  </svg>\n",
              "    </button>\n",
              "\n",
              "  <style>\n",
              "    .colab-df-container {\n",
              "      display:flex;\n",
              "      gap: 12px;\n",
              "    }\n",
              "\n",
              "    .colab-df-convert {\n",
              "      background-color: #E8F0FE;\n",
              "      border: none;\n",
              "      border-radius: 50%;\n",
              "      cursor: pointer;\n",
              "      display: none;\n",
              "      fill: #1967D2;\n",
              "      height: 32px;\n",
              "      padding: 0 0 0 0;\n",
              "      width: 32px;\n",
              "    }\n",
              "\n",
              "    .colab-df-convert:hover {\n",
              "      background-color: #E2EBFA;\n",
              "      box-shadow: 0px 1px 2px rgba(60, 64, 67, 0.3), 0px 1px 3px 1px rgba(60, 64, 67, 0.15);\n",
              "      fill: #174EA6;\n",
              "    }\n",
              "\n",
              "    .colab-df-buttons div {\n",
              "      margin-bottom: 4px;\n",
              "    }\n",
              "\n",
              "    [theme=dark] .colab-df-convert {\n",
              "      background-color: #3B4455;\n",
              "      fill: #D2E3FC;\n",
              "    }\n",
              "\n",
              "    [theme=dark] .colab-df-convert:hover {\n",
              "      background-color: #434B5C;\n",
              "      box-shadow: 0px 1px 3px 1px rgba(0, 0, 0, 0.15);\n",
              "      filter: drop-shadow(0px 1px 2px rgba(0, 0, 0, 0.3));\n",
              "      fill: #FFFFFF;\n",
              "    }\n",
              "  </style>\n",
              "\n",
              "    <script>\n",
              "      const buttonEl =\n",
              "        document.querySelector('#df-99d4fa84-b481-4092-b878-5e8c1dd24252 button.colab-df-convert');\n",
              "      buttonEl.style.display =\n",
              "        google.colab.kernel.accessAllowed ? 'block' : 'none';\n",
              "\n",
              "      async function convertToInteractive(key) {\n",
              "        const element = document.querySelector('#df-99d4fa84-b481-4092-b878-5e8c1dd24252');\n",
              "        const dataTable =\n",
              "          await google.colab.kernel.invokeFunction('convertToInteractive',\n",
              "                                                    [key], {});\n",
              "        if (!dataTable) return;\n",
              "\n",
              "        const docLinkHtml = 'Like what you see? Visit the ' +\n",
              "          '<a target=\"_blank\" href=https://colab.research.google.com/notebooks/data_table.ipynb>data table notebook</a>'\n",
              "          + ' to learn more about interactive tables.';\n",
              "        element.innerHTML = '';\n",
              "        dataTable['output_type'] = 'display_data';\n",
              "        await google.colab.output.renderOutput(dataTable, element);\n",
              "        const docLink = document.createElement('div');\n",
              "        docLink.innerHTML = docLinkHtml;\n",
              "        element.appendChild(docLink);\n",
              "      }\n",
              "    </script>\n",
              "  </div>\n",
              "\n",
              "    </div>\n",
              "  </div>\n"
            ],
            "text/plain": [
              "Empty DataFrame\n",
              "Columns: [post_title, post_text, label, value]\n",
              "Index: []"
            ]
          },
          "execution_count": 74,
          "metadata": {},
          "output_type": "execute_result"
        }
      ],
      "source": [
        "result"
      ]
    },
    {
      "cell_type": "code",
      "execution_count": null,
      "metadata": {
        "colab": {
          "base_uri": "https://localhost:8080/"
        },
        "id": "jaCFtK3gm8PJ",
        "outputId": "3bedf848-2644-46ca-ff3a-7f70aec79441"
      },
      "outputs": [
        {
          "name": "stdout",
          "output_type": "stream",
          "text": [
            "Titles missing labels:\n",
            "Admitting no bond with toddler and wondering if its justified or b/c Im just a terrible person.: {'Q8', 'Q1', 'Q3', 'Q4', 'Q6', 'Q7', 'Q9', 'Q2', 'Q5'}\n",
            "Prozac worries: {'Q2', 'Q8', 'Q1', 'Q3', 'Q6', 'Q7', 'Q9', 'Q4', 'Q5'}\n"
          ]
        }
      ],
      "source": [
        "label_counts = pred_third_90_df.groupby('post_title')['label'].nunique()\n",
        "\n",
        "# Identify titles that do not have all nine distinct labels\n",
        "missing_labels = {}\n",
        "for title, count in label_counts.items():\n",
        "    if count < len(pre_processed_labels):\n",
        "        missing = set(pre_processed_labels.keys()) \\\n",
        "        - set(pred_third_90_df[pred_third_90_df['post_title'] == title]['label'])\n",
        "        missing_labels[title] = missing\n",
        "\n",
        "if not missing_labels:\n",
        "    print(\"All titles have all nine distinct labels.\")\n",
        "else:\n",
        "    print(\"Titles missing labels:\")\n",
        "    for title, missing in missing_labels.items():\n",
        "        print(f\"{title}: {missing}\")"
      ]
    },
    {
      "cell_type": "code",
      "execution_count": null,
      "metadata": {
        "id": "zwv2zsUokHj5"
      },
      "outputs": [],
      "source": [
        "true_third_90_df.to_csv('true_third_90.csv', index=False)"
      ]
    },
    {
      "cell_type": "markdown",
      "metadata": {
        "id": "JQehQf3CgqbA"
      },
      "source": [
        "## Forth 90"
      ]
    },
    {
      "cell_type": "code",
      "execution_count": null,
      "metadata": {
        "colab": {
          "base_uri": "https://localhost:8080/"
        },
        "id": "5z_DRyasgr5w",
        "outputId": "ef303819-ea9a-474a-ce13-4d679010f7c5"
      },
      "outputs": [
        {
          "data": {
            "text/plain": [
              "array(['i have been diagnosed with depression but my dad refuses to consider medication',\n",
              "       'why do I feel a void, or a hole in my chest?',\n",
              "       'Self-Improvement help', 'High functioning depression',\n",
              "       'Does anyone else feel like the saturation in their life is turned down?',\n",
              "       \"How do I make a female partner who's depressed feel better?\",\n",
              "       'Just need to rant a little bit',\n",
              "       'Dealing with toxic parents and mental illnesses',\n",
              "       'My parents sat down with me and said they’ve noticed a change in me, and they are worried about me.',\n",
              "       'HS ruined my life'], dtype=object)"
            ]
          },
          "execution_count": 81,
          "metadata": {},
          "output_type": "execute_result"
        }
      ],
      "source": [
        "true_forth_90_df['post_title'].unique()"
      ]
    },
    {
      "cell_type": "code",
      "execution_count": null,
      "metadata": {
        "colab": {
          "base_uri": "https://localhost:8080/"
        },
        "id": "Bpyp7TkHgxIm",
        "outputId": "cb287ef7-25b9-4d30-a363-bab56f9ee78b"
      },
      "outputs": [
        {
          "data": {
            "text/plain": [
              "array(['i have been diagnosed with depression but my dad refuses to consider medication',\n",
              "       'why do I feel a void, or a hole in my chest?',\n",
              "       'Self-Improvement help', 'High functioning depression',\n",
              "       'Does anyone else feel like the saturation in their life is turned down?',\n",
              "       \"How do I make a female partner who's depressed feel better?\",\n",
              "       'Just need to rant a little bit',\n",
              "       'Dealing with toxic parents and mental illnesses',\n",
              "       'My parents sat down with me and said they’ve noticed a change in me, and they are worried about me.',\n",
              "       'HS ruined my life'], dtype=object)"
            ]
          },
          "execution_count": 82,
          "metadata": {},
          "output_type": "execute_result"
        }
      ],
      "source": [
        "pred_forth_90_df['post_title'].unique()"
      ]
    },
    {
      "cell_type": "code",
      "execution_count": null,
      "metadata": {
        "colab": {
          "base_uri": "https://localhost:8080/"
        },
        "id": "dG6kwZ66U6OP",
        "outputId": "0b8fa8bd-bdca-4ba5-9e23-4c40c3f0155e"
      },
      "outputs": [
        {
          "name": "stdout",
          "output_type": "stream",
          "text": [
            "<class 'pandas.core.frame.DataFrame'>\n",
            "RangeIndex: 90 entries, 0 to 89\n",
            "Data columns (total 3 columns):\n",
            " #   Column      Non-Null Count  Dtype \n",
            "---  ------      --------------  ----- \n",
            " 0   post_title  90 non-null     object\n",
            " 1   label       90 non-null     object\n",
            " 2   value       90 non-null     object\n",
            "dtypes: object(3)\n",
            "memory usage: 2.2+ KB\n"
          ]
        }
      ],
      "source": [
        "pred_forth_90_df = pd.read_csv(f\"{path}/forth_ten_output_integrated.csv\")\n",
        "pred_forth_90_df.info()"
      ]
    },
    {
      "cell_type": "code",
      "execution_count": null,
      "metadata": {
        "colab": {
          "base_uri": "https://localhost:8080/"
        },
        "id": "LJ9zz_b0Xy06",
        "outputId": "f34fbf88-d596-4498-c320-ea8239dff419"
      },
      "outputs": [
        {
          "data": {
            "text/plain": [
              "array([1, 0])"
            ]
          },
          "execution_count": 71,
          "metadata": {},
          "output_type": "execute_result"
        }
      ],
      "source": [
        "distinct_values = pred_forth_90_df['value'].unique()\n",
        "distinct_values"
      ]
    },
    {
      "cell_type": "code",
      "execution_count": null,
      "metadata": {
        "id": "j7MV6vrpYnYw"
      },
      "outputs": [],
      "source": [
        "pred_forth_90_df['value'] = pred_forth_90_df['value'].replace({'yes': 1, 'no': 0, 'Yes': 1, 'No': 0})"
      ]
    },
    {
      "cell_type": "code",
      "execution_count": null,
      "metadata": {
        "colab": {
          "base_uri": "https://localhost:8080/",
          "height": 363
        },
        "id": "T_YVHBsCYpzc",
        "outputId": "e5bdc6bd-b312-4879-d6c8-391674e814c6"
      },
      "outputs": [
        {
          "data": {
            "text/html": [
              "\n",
              "  <div id=\"df-ff68750d-1839-4d79-9da2-dc9fb1e5a93e\" class=\"colab-df-container\">\n",
              "    <div>\n",
              "<style scoped>\n",
              "    .dataframe tbody tr th:only-of-type {\n",
              "        vertical-align: middle;\n",
              "    }\n",
              "\n",
              "    .dataframe tbody tr th {\n",
              "        vertical-align: top;\n",
              "    }\n",
              "\n",
              "    .dataframe thead th {\n",
              "        text-align: right;\n",
              "    }\n",
              "</style>\n",
              "<table border=\"1\" class=\"dataframe\">\n",
              "  <thead>\n",
              "    <tr style=\"text-align: right;\">\n",
              "      <th></th>\n",
              "      <th>post_title</th>\n",
              "      <th>label</th>\n",
              "      <th>value</th>\n",
              "    </tr>\n",
              "  </thead>\n",
              "  <tbody>\n",
              "    <tr>\n",
              "      <th>0</th>\n",
              "      <td>i have been diagnosed with depression but my d...</td>\n",
              "      <td>Feeling bad about yourself or that you are a f...</td>\n",
              "      <td>1</td>\n",
              "    </tr>\n",
              "    <tr>\n",
              "      <th>1</th>\n",
              "      <td>i have been diagnosed with depression but my d...</td>\n",
              "      <td>Feeling down depressed or hopeless</td>\n",
              "      <td>1</td>\n",
              "    </tr>\n",
              "    <tr>\n",
              "      <th>2</th>\n",
              "      <td>i have been diagnosed with depression but my d...</td>\n",
              "      <td>Feeling tired or having little energy</td>\n",
              "      <td>1</td>\n",
              "    </tr>\n",
              "    <tr>\n",
              "      <th>3</th>\n",
              "      <td>i have been diagnosed with depression but my d...</td>\n",
              "      <td>Little interest or pleasure in doing</td>\n",
              "      <td>1</td>\n",
              "    </tr>\n",
              "    <tr>\n",
              "      <th>4</th>\n",
              "      <td>i have been diagnosed with depression but my d...</td>\n",
              "      <td>Moving or speaking so slowly that other people...</td>\n",
              "      <td>1</td>\n",
              "    </tr>\n",
              "    <tr>\n",
              "      <th>5</th>\n",
              "      <td>i have been diagnosed with depression but my d...</td>\n",
              "      <td>Poor appetite or overeating</td>\n",
              "      <td>1</td>\n",
              "    </tr>\n",
              "    <tr>\n",
              "      <th>6</th>\n",
              "      <td>i have been diagnosed with depression but my d...</td>\n",
              "      <td>Thoughts that you would be better off dead or ...</td>\n",
              "      <td>1</td>\n",
              "    </tr>\n",
              "    <tr>\n",
              "      <th>7</th>\n",
              "      <td>i have been diagnosed with depression but my d...</td>\n",
              "      <td>Trouble concentrating on things such as readin...</td>\n",
              "      <td>1</td>\n",
              "    </tr>\n",
              "    <tr>\n",
              "      <th>8</th>\n",
              "      <td>i have been diagnosed with depression but my d...</td>\n",
              "      <td>Trouble falling or staying asleep or sleeping ...</td>\n",
              "      <td>0</td>\n",
              "    </tr>\n",
              "    <tr>\n",
              "      <th>9</th>\n",
              "      <td>why do I feel a void, or a hole in my chest?</td>\n",
              "      <td>Feeling bad about yourself or that you are a f...</td>\n",
              "      <td>1</td>\n",
              "    </tr>\n",
              "  </tbody>\n",
              "</table>\n",
              "</div>\n",
              "    <div class=\"colab-df-buttons\">\n",
              "\n",
              "  <div class=\"colab-df-container\">\n",
              "    <button class=\"colab-df-convert\" onclick=\"convertToInteractive('df-ff68750d-1839-4d79-9da2-dc9fb1e5a93e')\"\n",
              "            title=\"Convert this dataframe to an interactive table.\"\n",
              "            style=\"display:none;\">\n",
              "\n",
              "  <svg xmlns=\"http://www.w3.org/2000/svg\" height=\"24px\" viewBox=\"0 -960 960 960\">\n",
              "    <path d=\"M120-120v-720h720v720H120Zm60-500h600v-160H180v160Zm220 220h160v-160H400v160Zm0 220h160v-160H400v160ZM180-400h160v-160H180v160Zm440 0h160v-160H620v160ZM180-180h160v-160H180v160Zm440 0h160v-160H620v160Z\"/>\n",
              "  </svg>\n",
              "    </button>\n",
              "\n",
              "  <style>\n",
              "    .colab-df-container {\n",
              "      display:flex;\n",
              "      gap: 12px;\n",
              "    }\n",
              "\n",
              "    .colab-df-convert {\n",
              "      background-color: #E8F0FE;\n",
              "      border: none;\n",
              "      border-radius: 50%;\n",
              "      cursor: pointer;\n",
              "      display: none;\n",
              "      fill: #1967D2;\n",
              "      height: 32px;\n",
              "      padding: 0 0 0 0;\n",
              "      width: 32px;\n",
              "    }\n",
              "\n",
              "    .colab-df-convert:hover {\n",
              "      background-color: #E2EBFA;\n",
              "      box-shadow: 0px 1px 2px rgba(60, 64, 67, 0.3), 0px 1px 3px 1px rgba(60, 64, 67, 0.15);\n",
              "      fill: #174EA6;\n",
              "    }\n",
              "\n",
              "    .colab-df-buttons div {\n",
              "      margin-bottom: 4px;\n",
              "    }\n",
              "\n",
              "    [theme=dark] .colab-df-convert {\n",
              "      background-color: #3B4455;\n",
              "      fill: #D2E3FC;\n",
              "    }\n",
              "\n",
              "    [theme=dark] .colab-df-convert:hover {\n",
              "      background-color: #434B5C;\n",
              "      box-shadow: 0px 1px 3px 1px rgba(0, 0, 0, 0.15);\n",
              "      filter: drop-shadow(0px 1px 2px rgba(0, 0, 0, 0.3));\n",
              "      fill: #FFFFFF;\n",
              "    }\n",
              "  </style>\n",
              "\n",
              "    <script>\n",
              "      const buttonEl =\n",
              "        document.querySelector('#df-ff68750d-1839-4d79-9da2-dc9fb1e5a93e button.colab-df-convert');\n",
              "      buttonEl.style.display =\n",
              "        google.colab.kernel.accessAllowed ? 'block' : 'none';\n",
              "\n",
              "      async function convertToInteractive(key) {\n",
              "        const element = document.querySelector('#df-ff68750d-1839-4d79-9da2-dc9fb1e5a93e');\n",
              "        const dataTable =\n",
              "          await google.colab.kernel.invokeFunction('convertToInteractive',\n",
              "                                                    [key], {});\n",
              "        if (!dataTable) return;\n",
              "\n",
              "        const docLinkHtml = 'Like what you see? Visit the ' +\n",
              "          '<a target=\"_blank\" href=https://colab.research.google.com/notebooks/data_table.ipynb>data table notebook</a>'\n",
              "          + ' to learn more about interactive tables.';\n",
              "        element.innerHTML = '';\n",
              "        dataTable['output_type'] = 'display_data';\n",
              "        await google.colab.output.renderOutput(dataTable, element);\n",
              "        const docLink = document.createElement('div');\n",
              "        docLink.innerHTML = docLinkHtml;\n",
              "        element.appendChild(docLink);\n",
              "      }\n",
              "    </script>\n",
              "  </div>\n",
              "\n",
              "\n",
              "<div id=\"df-dbd3f053-f60e-42f6-96bc-40f9d99cf58d\">\n",
              "  <button class=\"colab-df-quickchart\" onclick=\"quickchart('df-dbd3f053-f60e-42f6-96bc-40f9d99cf58d')\"\n",
              "            title=\"Suggest charts\"\n",
              "            style=\"display:none;\">\n",
              "\n",
              "<svg xmlns=\"http://www.w3.org/2000/svg\" height=\"24px\"viewBox=\"0 0 24 24\"\n",
              "     width=\"24px\">\n",
              "    <g>\n",
              "        <path d=\"M19 3H5c-1.1 0-2 .9-2 2v14c0 1.1.9 2 2 2h14c1.1 0 2-.9 2-2V5c0-1.1-.9-2-2-2zM9 17H7v-7h2v7zm4 0h-2V7h2v10zm4 0h-2v-4h2v4z\"/>\n",
              "    </g>\n",
              "</svg>\n",
              "  </button>\n",
              "\n",
              "<style>\n",
              "  .colab-df-quickchart {\n",
              "      --bg-color: #E8F0FE;\n",
              "      --fill-color: #1967D2;\n",
              "      --hover-bg-color: #E2EBFA;\n",
              "      --hover-fill-color: #174EA6;\n",
              "      --disabled-fill-color: #AAA;\n",
              "      --disabled-bg-color: #DDD;\n",
              "  }\n",
              "\n",
              "  [theme=dark] .colab-df-quickchart {\n",
              "      --bg-color: #3B4455;\n",
              "      --fill-color: #D2E3FC;\n",
              "      --hover-bg-color: #434B5C;\n",
              "      --hover-fill-color: #FFFFFF;\n",
              "      --disabled-bg-color: #3B4455;\n",
              "      --disabled-fill-color: #666;\n",
              "  }\n",
              "\n",
              "  .colab-df-quickchart {\n",
              "    background-color: var(--bg-color);\n",
              "    border: none;\n",
              "    border-radius: 50%;\n",
              "    cursor: pointer;\n",
              "    display: none;\n",
              "    fill: var(--fill-color);\n",
              "    height: 32px;\n",
              "    padding: 0;\n",
              "    width: 32px;\n",
              "  }\n",
              "\n",
              "  .colab-df-quickchart:hover {\n",
              "    background-color: var(--hover-bg-color);\n",
              "    box-shadow: 0 1px 2px rgba(60, 64, 67, 0.3), 0 1px 3px 1px rgba(60, 64, 67, 0.15);\n",
              "    fill: var(--button-hover-fill-color);\n",
              "  }\n",
              "\n",
              "  .colab-df-quickchart-complete:disabled,\n",
              "  .colab-df-quickchart-complete:disabled:hover {\n",
              "    background-color: var(--disabled-bg-color);\n",
              "    fill: var(--disabled-fill-color);\n",
              "    box-shadow: none;\n",
              "  }\n",
              "\n",
              "  .colab-df-spinner {\n",
              "    border: 2px solid var(--fill-color);\n",
              "    border-color: transparent;\n",
              "    border-bottom-color: var(--fill-color);\n",
              "    animation:\n",
              "      spin 1s steps(1) infinite;\n",
              "  }\n",
              "\n",
              "  @keyframes spin {\n",
              "    0% {\n",
              "      border-color: transparent;\n",
              "      border-bottom-color: var(--fill-color);\n",
              "      border-left-color: var(--fill-color);\n",
              "    }\n",
              "    20% {\n",
              "      border-color: transparent;\n",
              "      border-left-color: var(--fill-color);\n",
              "      border-top-color: var(--fill-color);\n",
              "    }\n",
              "    30% {\n",
              "      border-color: transparent;\n",
              "      border-left-color: var(--fill-color);\n",
              "      border-top-color: var(--fill-color);\n",
              "      border-right-color: var(--fill-color);\n",
              "    }\n",
              "    40% {\n",
              "      border-color: transparent;\n",
              "      border-right-color: var(--fill-color);\n",
              "      border-top-color: var(--fill-color);\n",
              "    }\n",
              "    60% {\n",
              "      border-color: transparent;\n",
              "      border-right-color: var(--fill-color);\n",
              "    }\n",
              "    80% {\n",
              "      border-color: transparent;\n",
              "      border-right-color: var(--fill-color);\n",
              "      border-bottom-color: var(--fill-color);\n",
              "    }\n",
              "    90% {\n",
              "      border-color: transparent;\n",
              "      border-bottom-color: var(--fill-color);\n",
              "    }\n",
              "  }\n",
              "</style>\n",
              "\n",
              "  <script>\n",
              "    async function quickchart(key) {\n",
              "      const quickchartButtonEl =\n",
              "        document.querySelector('#' + key + ' button');\n",
              "      quickchartButtonEl.disabled = true;  // To prevent multiple clicks.\n",
              "      quickchartButtonEl.classList.add('colab-df-spinner');\n",
              "      try {\n",
              "        const charts = await google.colab.kernel.invokeFunction(\n",
              "            'suggestCharts', [key], {});\n",
              "      } catch (error) {\n",
              "        console.error('Error during call to suggestCharts:', error);\n",
              "      }\n",
              "      quickchartButtonEl.classList.remove('colab-df-spinner');\n",
              "      quickchartButtonEl.classList.add('colab-df-quickchart-complete');\n",
              "    }\n",
              "    (() => {\n",
              "      let quickchartButtonEl =\n",
              "        document.querySelector('#df-dbd3f053-f60e-42f6-96bc-40f9d99cf58d button');\n",
              "      quickchartButtonEl.style.display =\n",
              "        google.colab.kernel.accessAllowed ? 'block' : 'none';\n",
              "    })();\n",
              "  </script>\n",
              "</div>\n",
              "    </div>\n",
              "  </div>\n"
            ],
            "text/plain": [
              "                                          post_title  \\\n",
              "0  i have been diagnosed with depression but my d...   \n",
              "1  i have been diagnosed with depression but my d...   \n",
              "2  i have been diagnosed with depression but my d...   \n",
              "3  i have been diagnosed with depression but my d...   \n",
              "4  i have been diagnosed with depression but my d...   \n",
              "5  i have been diagnosed with depression but my d...   \n",
              "6  i have been diagnosed with depression but my d...   \n",
              "7  i have been diagnosed with depression but my d...   \n",
              "8  i have been diagnosed with depression but my d...   \n",
              "9       why do I feel a void, or a hole in my chest?   \n",
              "\n",
              "                                               label  value  \n",
              "0  Feeling bad about yourself or that you are a f...      1  \n",
              "1                 Feeling down depressed or hopeless      1  \n",
              "2              Feeling tired or having little energy      1  \n",
              "3               Little interest or pleasure in doing      1  \n",
              "4  Moving or speaking so slowly that other people...      1  \n",
              "5                        Poor appetite or overeating      1  \n",
              "6  Thoughts that you would be better off dead or ...      1  \n",
              "7  Trouble concentrating on things such as readin...      1  \n",
              "8  Trouble falling or staying asleep or sleeping ...      0  \n",
              "9  Feeling bad about yourself or that you are a f...      1  "
            ]
          },
          "execution_count": 52,
          "metadata": {},
          "output_type": "execute_result"
        }
      ],
      "source": [
        "pred_forth_90_df.head(10)"
      ]
    },
    {
      "cell_type": "code",
      "execution_count": null,
      "metadata": {
        "colab": {
          "base_uri": "https://localhost:8080/"
        },
        "id": "Z5ZtrIDynFnp",
        "outputId": "82130e6f-5dbe-439c-f009-71cc580d6f9d"
      },
      "outputs": [
        {
          "name": "stdout",
          "output_type": "stream",
          "text": [
            "All titles have all nine distinct labels.\n"
          ]
        }
      ],
      "source": [
        "label_counts = pred_forth_90_df.groupby('post_title')['label'].nunique()\n",
        "\n",
        "# Identify titles that do not have all nine distinct labels\n",
        "missing_labels = {}\n",
        "for title, count in label_counts.items():\n",
        "    if count < len(pre_processed_labels):\n",
        "        missing = set(pre_processed_labels.keys()) \\\n",
        "        - set(pred_forth_90_df[pred_forth_90_df['post_title'] == title]['label'])\n",
        "        missing_labels[title] = missing\n",
        "\n",
        "if not missing_labels:\n",
        "    print(\"All titles have all nine distinct labels.\")\n",
        "else:\n",
        "    print(\"Titles missing labels:\")\n",
        "    for title, missing in missing_labels.items():\n",
        "        print(f\"{title}: {missing}\")"
      ]
    },
    {
      "cell_type": "code",
      "execution_count": null,
      "metadata": {
        "id": "ddM_L643kU7A"
      },
      "outputs": [],
      "source": [
        "true_forth_90_df.to_csv('true_forth_90.csv', index=False)"
      ]
    },
    {
      "cell_type": "markdown",
      "metadata": {
        "id": "rjZ4M8Ahg6cq"
      },
      "source": [
        "## Fifth 90"
      ]
    },
    {
      "cell_type": "code",
      "execution_count": null,
      "metadata": {
        "colab": {
          "base_uri": "https://localhost:8080/"
        },
        "id": "tRVu1HRkg6Ip",
        "outputId": "84ab39bb-30bc-4a09-a483-786ece51a88c"
      },
      "outputs": [
        {
          "data": {
            "text/plain": [
              "array(['I need some help',\n",
              "       'I’ve generally got a good life. Why am I still sad?',\n",
              "       'How can I even tell if antidepressants are working if I have no way to tell?',\n",
              "       'I need help.', 'I feel like I can’t talk to anyone',\n",
              "       'Thinking of changing antidepressants',\n",
              "       'I study at university and things have become EXTREMELY difficult',\n",
              "       'I need someone',\n",
              "       \"Gf won't get help because she doesn't want to change\",\n",
              "       'Rage in my chest'], dtype=object)"
            ]
          },
          "execution_count": 83,
          "metadata": {},
          "output_type": "execute_result"
        }
      ],
      "source": [
        "pred_fifth_90_df['post_title'].unique()"
      ]
    },
    {
      "cell_type": "code",
      "execution_count": null,
      "metadata": {
        "colab": {
          "base_uri": "https://localhost:8080/"
        },
        "id": "yC-lBXNYhAq7",
        "outputId": "4d12b884-4ed1-41ec-e4ed-0c50dce7c9fe"
      },
      "outputs": [
        {
          "data": {
            "text/plain": [
              "array(['I need some help',\n",
              "       'I’ve generally got a good life. Why am I still sad?',\n",
              "       'How can I even tell if antidepressants are working if I have no way to tell?',\n",
              "       'I need help.', 'I feel like I can’t talk to anyone',\n",
              "       'Thinking of changing antidepressants',\n",
              "       'I study at university and things have become EXTREMELY difficult',\n",
              "       'I need someone',\n",
              "       \"Gf won't get help because she doesn't want to change\",\n",
              "       'Rage in my chest'], dtype=object)"
            ]
          },
          "execution_count": 84,
          "metadata": {},
          "output_type": "execute_result"
        }
      ],
      "source": [
        "true_fifth_90_df['post_title'].unique()"
      ]
    },
    {
      "cell_type": "code",
      "execution_count": null,
      "metadata": {
        "colab": {
          "base_uri": "https://localhost:8080/"
        },
        "id": "8Cq5HG81U7PL",
        "outputId": "81729eaa-368e-450d-c48c-270e6c253cac"
      },
      "outputs": [
        {
          "name": "stdout",
          "output_type": "stream",
          "text": [
            "<class 'pandas.core.frame.DataFrame'>\n",
            "RangeIndex: 90 entries, 0 to 89\n",
            "Data columns (total 3 columns):\n",
            " #   Column      Non-Null Count  Dtype \n",
            "---  ------      --------------  ----- \n",
            " 0   post_title  90 non-null     object\n",
            " 1   label       90 non-null     object\n",
            " 2   value       90 non-null     object\n",
            "dtypes: object(3)\n",
            "memory usage: 2.2+ KB\n"
          ]
        }
      ],
      "source": [
        "pred_fifth_90_df = pd.read_csv(f\"{path}/fifth_ten_output_integrated.csv\")\n",
        "pred_fifth_90_df.info()"
      ]
    },
    {
      "cell_type": "code",
      "execution_count": null,
      "metadata": {
        "colab": {
          "base_uri": "https://localhost:8080/"
        },
        "id": "c4EQdd4oX1eS",
        "outputId": "d4595532-4698-4e84-a7a0-16fd6e0e6c07"
      },
      "outputs": [
        {
          "data": {
            "text/plain": [
              "array([1, 0])"
            ]
          },
          "execution_count": 73,
          "metadata": {},
          "output_type": "execute_result"
        }
      ],
      "source": [
        "distinct_values = pred_fifth_90_df['value'].unique()\n",
        "distinct_values"
      ]
    },
    {
      "cell_type": "code",
      "execution_count": null,
      "metadata": {
        "id": "lSotm6ItYvP0"
      },
      "outputs": [],
      "source": [
        "pred_fifth_90_df['value'] = pred_fifth_90_df['value'].replace({'yes': 1, 'no': 0, 'Yes': 1, 'No': 0})"
      ]
    },
    {
      "cell_type": "code",
      "execution_count": null,
      "metadata": {
        "colab": {
          "base_uri": "https://localhost:8080/",
          "height": 363
        },
        "id": "d_voREY4YxiL",
        "outputId": "53806cc5-40cc-4fca-a9ae-0bfd23c72d32"
      },
      "outputs": [
        {
          "data": {
            "text/html": [
              "\n",
              "  <div id=\"df-c4529fdd-eeb5-4ead-a66c-f6f151212664\" class=\"colab-df-container\">\n",
              "    <div>\n",
              "<style scoped>\n",
              "    .dataframe tbody tr th:only-of-type {\n",
              "        vertical-align: middle;\n",
              "    }\n",
              "\n",
              "    .dataframe tbody tr th {\n",
              "        vertical-align: top;\n",
              "    }\n",
              "\n",
              "    .dataframe thead th {\n",
              "        text-align: right;\n",
              "    }\n",
              "</style>\n",
              "<table border=\"1\" class=\"dataframe\">\n",
              "  <thead>\n",
              "    <tr style=\"text-align: right;\">\n",
              "      <th></th>\n",
              "      <th>post_title</th>\n",
              "      <th>label</th>\n",
              "      <th>value</th>\n",
              "    </tr>\n",
              "  </thead>\n",
              "  <tbody>\n",
              "    <tr>\n",
              "      <th>0</th>\n",
              "      <td>I need some help</td>\n",
              "      <td>Feeling bad about yourself or that you are a f...</td>\n",
              "      <td>1</td>\n",
              "    </tr>\n",
              "    <tr>\n",
              "      <th>1</th>\n",
              "      <td>I need some help</td>\n",
              "      <td>Feeling down depressed or hopeless</td>\n",
              "      <td>1</td>\n",
              "    </tr>\n",
              "    <tr>\n",
              "      <th>2</th>\n",
              "      <td>I need some help</td>\n",
              "      <td>Feeling tired or having little energy</td>\n",
              "      <td>1</td>\n",
              "    </tr>\n",
              "    <tr>\n",
              "      <th>3</th>\n",
              "      <td>I need some help</td>\n",
              "      <td>Little interest or pleasure in doing</td>\n",
              "      <td>1</td>\n",
              "    </tr>\n",
              "    <tr>\n",
              "      <th>4</th>\n",
              "      <td>I need some help</td>\n",
              "      <td>Moving or speaking so slowly that other people...</td>\n",
              "      <td>1</td>\n",
              "    </tr>\n",
              "    <tr>\n",
              "      <th>5</th>\n",
              "      <td>I’ve generally got a good life. Why am I still...</td>\n",
              "      <td>Feeling bad about yourself or that you are a f...</td>\n",
              "      <td>1</td>\n",
              "    </tr>\n",
              "    <tr>\n",
              "      <th>6</th>\n",
              "      <td>I’ve generally got a good life. Why am I still...</td>\n",
              "      <td>Feeling down depressed or hopeless</td>\n",
              "      <td>1</td>\n",
              "    </tr>\n",
              "    <tr>\n",
              "      <th>7</th>\n",
              "      <td>I’ve generally got a good life. Why am I still...</td>\n",
              "      <td>Feeling tired or having little energy</td>\n",
              "      <td>1</td>\n",
              "    </tr>\n",
              "    <tr>\n",
              "      <th>8</th>\n",
              "      <td>I’ve generally got a good life. Why am I still...</td>\n",
              "      <td>Little interest or pleasure in doing</td>\n",
              "      <td>1</td>\n",
              "    </tr>\n",
              "    <tr>\n",
              "      <th>9</th>\n",
              "      <td>I’ve generally got a good life. Why am I still...</td>\n",
              "      <td>Moving or speaking so slowly that other people...</td>\n",
              "      <td>1</td>\n",
              "    </tr>\n",
              "  </tbody>\n",
              "</table>\n",
              "</div>\n",
              "    <div class=\"colab-df-buttons\">\n",
              "\n",
              "  <div class=\"colab-df-container\">\n",
              "    <button class=\"colab-df-convert\" onclick=\"convertToInteractive('df-c4529fdd-eeb5-4ead-a66c-f6f151212664')\"\n",
              "            title=\"Convert this dataframe to an interactive table.\"\n",
              "            style=\"display:none;\">\n",
              "\n",
              "  <svg xmlns=\"http://www.w3.org/2000/svg\" height=\"24px\" viewBox=\"0 -960 960 960\">\n",
              "    <path d=\"M120-120v-720h720v720H120Zm60-500h600v-160H180v160Zm220 220h160v-160H400v160Zm0 220h160v-160H400v160ZM180-400h160v-160H180v160Zm440 0h160v-160H620v160ZM180-180h160v-160H180v160Zm440 0h160v-160H620v160Z\"/>\n",
              "  </svg>\n",
              "    </button>\n",
              "\n",
              "  <style>\n",
              "    .colab-df-container {\n",
              "      display:flex;\n",
              "      gap: 12px;\n",
              "    }\n",
              "\n",
              "    .colab-df-convert {\n",
              "      background-color: #E8F0FE;\n",
              "      border: none;\n",
              "      border-radius: 50%;\n",
              "      cursor: pointer;\n",
              "      display: none;\n",
              "      fill: #1967D2;\n",
              "      height: 32px;\n",
              "      padding: 0 0 0 0;\n",
              "      width: 32px;\n",
              "    }\n",
              "\n",
              "    .colab-df-convert:hover {\n",
              "      background-color: #E2EBFA;\n",
              "      box-shadow: 0px 1px 2px rgba(60, 64, 67, 0.3), 0px 1px 3px 1px rgba(60, 64, 67, 0.15);\n",
              "      fill: #174EA6;\n",
              "    }\n",
              "\n",
              "    .colab-df-buttons div {\n",
              "      margin-bottom: 4px;\n",
              "    }\n",
              "\n",
              "    [theme=dark] .colab-df-convert {\n",
              "      background-color: #3B4455;\n",
              "      fill: #D2E3FC;\n",
              "    }\n",
              "\n",
              "    [theme=dark] .colab-df-convert:hover {\n",
              "      background-color: #434B5C;\n",
              "      box-shadow: 0px 1px 3px 1px rgba(0, 0, 0, 0.15);\n",
              "      filter: drop-shadow(0px 1px 2px rgba(0, 0, 0, 0.3));\n",
              "      fill: #FFFFFF;\n",
              "    }\n",
              "  </style>\n",
              "\n",
              "    <script>\n",
              "      const buttonEl =\n",
              "        document.querySelector('#df-c4529fdd-eeb5-4ead-a66c-f6f151212664 button.colab-df-convert');\n",
              "      buttonEl.style.display =\n",
              "        google.colab.kernel.accessAllowed ? 'block' : 'none';\n",
              "\n",
              "      async function convertToInteractive(key) {\n",
              "        const element = document.querySelector('#df-c4529fdd-eeb5-4ead-a66c-f6f151212664');\n",
              "        const dataTable =\n",
              "          await google.colab.kernel.invokeFunction('convertToInteractive',\n",
              "                                                    [key], {});\n",
              "        if (!dataTable) return;\n",
              "\n",
              "        const docLinkHtml = 'Like what you see? Visit the ' +\n",
              "          '<a target=\"_blank\" href=https://colab.research.google.com/notebooks/data_table.ipynb>data table notebook</a>'\n",
              "          + ' to learn more about interactive tables.';\n",
              "        element.innerHTML = '';\n",
              "        dataTable['output_type'] = 'display_data';\n",
              "        await google.colab.output.renderOutput(dataTable, element);\n",
              "        const docLink = document.createElement('div');\n",
              "        docLink.innerHTML = docLinkHtml;\n",
              "        element.appendChild(docLink);\n",
              "      }\n",
              "    </script>\n",
              "  </div>\n",
              "\n",
              "\n",
              "<div id=\"df-74f838bd-f61e-4c2e-92a8-9392b949ae2f\">\n",
              "  <button class=\"colab-df-quickchart\" onclick=\"quickchart('df-74f838bd-f61e-4c2e-92a8-9392b949ae2f')\"\n",
              "            title=\"Suggest charts\"\n",
              "            style=\"display:none;\">\n",
              "\n",
              "<svg xmlns=\"http://www.w3.org/2000/svg\" height=\"24px\"viewBox=\"0 0 24 24\"\n",
              "     width=\"24px\">\n",
              "    <g>\n",
              "        <path d=\"M19 3H5c-1.1 0-2 .9-2 2v14c0 1.1.9 2 2 2h14c1.1 0 2-.9 2-2V5c0-1.1-.9-2-2-2zM9 17H7v-7h2v7zm4 0h-2V7h2v10zm4 0h-2v-4h2v4z\"/>\n",
              "    </g>\n",
              "</svg>\n",
              "  </button>\n",
              "\n",
              "<style>\n",
              "  .colab-df-quickchart {\n",
              "      --bg-color: #E8F0FE;\n",
              "      --fill-color: #1967D2;\n",
              "      --hover-bg-color: #E2EBFA;\n",
              "      --hover-fill-color: #174EA6;\n",
              "      --disabled-fill-color: #AAA;\n",
              "      --disabled-bg-color: #DDD;\n",
              "  }\n",
              "\n",
              "  [theme=dark] .colab-df-quickchart {\n",
              "      --bg-color: #3B4455;\n",
              "      --fill-color: #D2E3FC;\n",
              "      --hover-bg-color: #434B5C;\n",
              "      --hover-fill-color: #FFFFFF;\n",
              "      --disabled-bg-color: #3B4455;\n",
              "      --disabled-fill-color: #666;\n",
              "  }\n",
              "\n",
              "  .colab-df-quickchart {\n",
              "    background-color: var(--bg-color);\n",
              "    border: none;\n",
              "    border-radius: 50%;\n",
              "    cursor: pointer;\n",
              "    display: none;\n",
              "    fill: var(--fill-color);\n",
              "    height: 32px;\n",
              "    padding: 0;\n",
              "    width: 32px;\n",
              "  }\n",
              "\n",
              "  .colab-df-quickchart:hover {\n",
              "    background-color: var(--hover-bg-color);\n",
              "    box-shadow: 0 1px 2px rgba(60, 64, 67, 0.3), 0 1px 3px 1px rgba(60, 64, 67, 0.15);\n",
              "    fill: var(--button-hover-fill-color);\n",
              "  }\n",
              "\n",
              "  .colab-df-quickchart-complete:disabled,\n",
              "  .colab-df-quickchart-complete:disabled:hover {\n",
              "    background-color: var(--disabled-bg-color);\n",
              "    fill: var(--disabled-fill-color);\n",
              "    box-shadow: none;\n",
              "  }\n",
              "\n",
              "  .colab-df-spinner {\n",
              "    border: 2px solid var(--fill-color);\n",
              "    border-color: transparent;\n",
              "    border-bottom-color: var(--fill-color);\n",
              "    animation:\n",
              "      spin 1s steps(1) infinite;\n",
              "  }\n",
              "\n",
              "  @keyframes spin {\n",
              "    0% {\n",
              "      border-color: transparent;\n",
              "      border-bottom-color: var(--fill-color);\n",
              "      border-left-color: var(--fill-color);\n",
              "    }\n",
              "    20% {\n",
              "      border-color: transparent;\n",
              "      border-left-color: var(--fill-color);\n",
              "      border-top-color: var(--fill-color);\n",
              "    }\n",
              "    30% {\n",
              "      border-color: transparent;\n",
              "      border-left-color: var(--fill-color);\n",
              "      border-top-color: var(--fill-color);\n",
              "      border-right-color: var(--fill-color);\n",
              "    }\n",
              "    40% {\n",
              "      border-color: transparent;\n",
              "      border-right-color: var(--fill-color);\n",
              "      border-top-color: var(--fill-color);\n",
              "    }\n",
              "    60% {\n",
              "      border-color: transparent;\n",
              "      border-right-color: var(--fill-color);\n",
              "    }\n",
              "    80% {\n",
              "      border-color: transparent;\n",
              "      border-right-color: var(--fill-color);\n",
              "      border-bottom-color: var(--fill-color);\n",
              "    }\n",
              "    90% {\n",
              "      border-color: transparent;\n",
              "      border-bottom-color: var(--fill-color);\n",
              "    }\n",
              "  }\n",
              "</style>\n",
              "\n",
              "  <script>\n",
              "    async function quickchart(key) {\n",
              "      const quickchartButtonEl =\n",
              "        document.querySelector('#' + key + ' button');\n",
              "      quickchartButtonEl.disabled = true;  // To prevent multiple clicks.\n",
              "      quickchartButtonEl.classList.add('colab-df-spinner');\n",
              "      try {\n",
              "        const charts = await google.colab.kernel.invokeFunction(\n",
              "            'suggestCharts', [key], {});\n",
              "      } catch (error) {\n",
              "        console.error('Error during call to suggestCharts:', error);\n",
              "      }\n",
              "      quickchartButtonEl.classList.remove('colab-df-spinner');\n",
              "      quickchartButtonEl.classList.add('colab-df-quickchart-complete');\n",
              "    }\n",
              "    (() => {\n",
              "      let quickchartButtonEl =\n",
              "        document.querySelector('#df-74f838bd-f61e-4c2e-92a8-9392b949ae2f button');\n",
              "      quickchartButtonEl.style.display =\n",
              "        google.colab.kernel.accessAllowed ? 'block' : 'none';\n",
              "    })();\n",
              "  </script>\n",
              "</div>\n",
              "    </div>\n",
              "  </div>\n"
            ],
            "text/plain": [
              "                                          post_title  \\\n",
              "0                                   I need some help   \n",
              "1                                   I need some help   \n",
              "2                                   I need some help   \n",
              "3                                   I need some help   \n",
              "4                                   I need some help   \n",
              "5  I’ve generally got a good life. Why am I still...   \n",
              "6  I’ve generally got a good life. Why am I still...   \n",
              "7  I’ve generally got a good life. Why am I still...   \n",
              "8  I’ve generally got a good life. Why am I still...   \n",
              "9  I’ve generally got a good life. Why am I still...   \n",
              "\n",
              "                                               label  value  \n",
              "0  Feeling bad about yourself or that you are a f...      1  \n",
              "1                 Feeling down depressed or hopeless      1  \n",
              "2              Feeling tired or having little energy      1  \n",
              "3               Little interest or pleasure in doing      1  \n",
              "4  Moving or speaking so slowly that other people...      1  \n",
              "5  Feeling bad about yourself or that you are a f...      1  \n",
              "6                 Feeling down depressed or hopeless      1  \n",
              "7              Feeling tired or having little energy      1  \n",
              "8               Little interest or pleasure in doing      1  \n",
              "9  Moving or speaking so slowly that other people...      1  "
            ]
          },
          "execution_count": 54,
          "metadata": {},
          "output_type": "execute_result"
        }
      ],
      "source": [
        "pred_fifth_90_df.head(10)"
      ]
    },
    {
      "cell_type": "code",
      "execution_count": null,
      "metadata": {
        "colab": {
          "base_uri": "https://localhost:8080/"
        },
        "id": "Lh6FaA8znNjc",
        "outputId": "60cb7d83-87b8-4e3f-8022-d96d69df35bf"
      },
      "outputs": [
        {
          "name": "stdout",
          "output_type": "stream",
          "text": [
            "Titles missing labels:\n",
            "I need some help: {'Q2', 'Q8', 'Q1', 'Q3', 'Q6', 'Q7', 'Q9', 'Q4', 'Q5'}\n"
          ]
        }
      ],
      "source": [
        "label_counts = pred_fifth_90_df.groupby('post_title')['label'].nunique()\n",
        "\n",
        "# Identify titles that do not have all nine distinct labels\n",
        "missing_labels = {}\n",
        "for title, count in label_counts.items():\n",
        "    if count < len(pre_processed_labels):\n",
        "        missing = set(pre_processed_labels.keys()) \\\n",
        "        - set(pred_fifth_90_df[pred_fifth_90_df['post_title'] == title]['label'])\n",
        "        missing_labels[title] = missing\n",
        "\n",
        "if not missing_labels:\n",
        "    print(\"All titles have all nine distinct labels.\")\n",
        "else:\n",
        "    print(\"Titles missing labels:\")\n",
        "    for title, missing in missing_labels.items():\n",
        "        print(f\"{title}: {missing}\")"
      ]
    },
    {
      "cell_type": "code",
      "execution_count": null,
      "metadata": {
        "id": "A3y2DhvykbuQ"
      },
      "outputs": [],
      "source": [
        "true_fifth_90_df.to_csv('true_fifth_90.csv', index=False)"
      ]
    },
    {
      "cell_type": "markdown",
      "metadata": {
        "id": "0hX-24noEb7_"
      },
      "source": [
        "## Merging Pred DFs"
      ]
    },
    {
      "cell_type": "code",
      "execution_count": null,
      "metadata": {
        "id": "q6dk79tFEYUJ"
      },
      "outputs": [],
      "source": [
        "concatenated_pred__df = pd.concat([pred_first_90_df, pred_second_90_df, pred_third_90_df, pred_forth_90_df, pred_fifth_90_df])"
      ]
    },
    {
      "cell_type": "code",
      "execution_count": null,
      "metadata": {
        "colab": {
          "base_uri": "https://localhost:8080/"
        },
        "id": "dAzXNYODEnLT",
        "outputId": "ca317bd5-00f6-40c6-e652-82ed74f3c50f"
      },
      "outputs": [
        {
          "name": "stdout",
          "output_type": "stream",
          "text": [
            "<class 'pandas.core.frame.DataFrame'>\n",
            "Int64Index: 450 entries, 0 to 89\n",
            "Data columns (total 3 columns):\n",
            " #   Column      Non-Null Count  Dtype \n",
            "---  ------      --------------  ----- \n",
            " 0   post_title  450 non-null    object\n",
            " 1   label       450 non-null    object\n",
            " 2   value       450 non-null    int64 \n",
            "dtypes: int64(1), object(2)\n",
            "memory usage: 14.1+ KB\n"
          ]
        }
      ],
      "source": [
        "concatenated_pred__df.info()"
      ]
    },
    {
      "cell_type": "code",
      "execution_count": null,
      "metadata": {
        "colab": {
          "base_uri": "https://localhost:8080/"
        },
        "id": "u4oMPSuGFZJx",
        "outputId": "7bb88805-afff-49a6-ddd5-42589d6039f0"
      },
      "outputs": [
        {
          "name": "stdout",
          "output_type": "stream",
          "text": [
            "<class 'pandas.core.frame.DataFrame'>\n",
            "RangeIndex: 450 entries, 0 to 449\n",
            "Data columns (total 4 columns):\n",
            " #   Column      Non-Null Count  Dtype \n",
            "---  ------      --------------  ----- \n",
            " 0   post_title  450 non-null    object\n",
            " 1   post_text   450 non-null    object\n",
            " 2   label       450 non-null    object\n",
            " 3   value       450 non-null    int64 \n",
            "dtypes: int64(1), object(3)\n",
            "memory usage: 14.2+ KB\n"
          ]
        }
      ],
      "source": [
        "concatenated_true__df.info()\n",
        "# concatenated_true__df['value'] = concatenated_true__df['value'].astype(int)"
      ]
    },
    {
      "cell_type": "code",
      "execution_count": null,
      "metadata": {
        "id": "cKvI1necFXH5"
      },
      "outputs": [],
      "source": [
        "# concatenated_pred__df.head()\n",
        "concatenated_pred__df['value'] = concatenated_pred__df['value'].astype(int)"
      ]
    },
    {
      "cell_type": "markdown",
      "metadata": {
        "id": "DWdXWiDI_24Y"
      },
      "source": [
        "# Check for the posts which have been faced with error\n",
        "\n",
        "- Design a new driver code to try the unsuccesful prompting 3 times after facing with exception"
      ]
    },
    {
      "cell_type": "code",
      "execution_count": null,
      "metadata": {
        "id": "9IqWXWcQBtgw"
      },
      "outputs": [],
      "source": [
        "columns = ['post_title', 'label', 'value']\n",
        "\n",
        "# Create an empty DataFrame\n",
        "missed_data_df = pd.DataFrame(columns=columns)"
      ]
    },
    {
      "cell_type": "code",
      "execution_count": null,
      "metadata": {
        "colab": {
          "base_uri": "https://localhost:8080/"
        },
        "id": "iuZHG3BU_7PW",
        "outputId": "0b1cad49-bccf-47b1-9eac-74eeae6f696d"
      },
      "outputs": [
        {
          "name": "stdout",
          "output_type": "stream",
          "text": [
            "{'label': 'Trouble falling or staying asleep or sleeping too much', 'value': 'yes', 'post_title': 'I need some help', 'CLUEs': ['scared to go to sleep', 'hiding my depression', \"can't hide it anymore\"]}\n"
          ]
        },
        {
          "name": "stderr",
          "output_type": "stream",
          "text": [
            "<ipython-input-91-93f19c8be76c>:11: FutureWarning: The frame.append method is deprecated and will be removed from pandas in a future version. Use pandas.concat instead.\n",
            "  missed_data_df = missed_data_df.append({\n"
          ]
        }
      ],
      "source": [
        "post_text = \"When I was 13 years old suffered from bullying at school and I had depression for a long time, my parents knew about it because I put a lot of suicidal stuff on my facebook and I had a friend of my dad on my friends list, so she saw it, talked to me and after she called my parents. They helped me (more my mom) and they took me out of school. \\nBut my parents started to say that it was a shame, that everyone would find out about my depression and they wanted to take all of my social medias so no one will know I\\u2019m sick. \\nAfter that I was scared to talk about them about how I feel. \\n\\nWhen I was 16 I started to feel empty and scared, I was scare of the night, I was scare to go to sleep, I started to push all my friends away and I stopped liking the things I used to do.\\n\\nI didn\\u2019t know what it was, so I told my parents I was feeling weird, but my dad just told me \\u201cYou are just growing up\\u201d \\nAnd I never talked to them about the topic again.\\n\\nI\\u2019m 18 rn, 2 years hiding my depression and now is killing me, I can\\u2019t hide it anymore and I really want to search for help, I want to tell them but I\\u2019m scare that they just push me away. \\n\\nI didn\\u2019t told them about my depression because I didn\\u2019t wanted to bother them with my problems and I don\\u2019t want that they treat me like a bad person. \\n\\nBtw, sorry for my grammar and I hope some one can help me, I don\\u2019t know how to tell my parents about it. \"\n",
        "post_title = \"I need some help\"\n",
        "\n",
        "label = pre_processed_labels[\"Q9\"]\n",
        "boolean, gpt_answer = get_answer_2305_08377(post_title, post_text, label)\n",
        "# print(f\"The result is: {boolean} and {gpt_answer}\")\n",
        "if boolean:\n",
        "  load_gpt_ans_to_json = json.loads(gpt_answer)\n",
        "  print(load_gpt_ans_to_json)\n",
        "  try:\n",
        "      missed_data_df = missed_data_df.append({\n",
        "        'post_title': load_gpt_ans_to_json['post_title'],\n",
        "        'label': load_gpt_ans_to_json['label'],\n",
        "        'value': load_gpt_ans_to_json['value']\n",
        "      }, ignore_index=True)\n",
        "      result = {\n",
        "        \"bool\": boolean,\n",
        "        \"json\": load_gpt_ans_to_json\n",
        "      }\n",
        "\n",
        "  except Exception as e:\n",
        "      print(str(e)+'\\nFirst attempt for getting answer from GPT faild, try 1 to 3 more times with 7 minutes interval...')\n",
        "      # attempt 1 to 3 more times with 1 minute interval to succeed\n",
        "      for i in range(3):\n",
        "          try:\n",
        "              time.sleep(60)\n",
        "              print('attempt ' + str(i+1) + ' out of 3')\n",
        "              missed_data_df = missed_data_df.append({\n",
        "                'post_title': load_gpt_ans_to_json['post_title'],\n",
        "                'label': load_gpt_ans_to_json['label'],\n",
        "                'value': load_gpt_ans_to_json['value']\n",
        "              }, ignore_index=True)\n",
        "              result = {\n",
        "                \"bool\": boolean,\n",
        "                \"json\": load_gpt_ans_to_json\n",
        "              }\n",
        "              print('attempt ' + str(i+1) + ' was SUCCESSFUL')\n",
        "              # break if succeed\n",
        "              break\n",
        "          except Exception as e:\n",
        "              print('attempt ' + str(i + 1) + ' FAILED')\n",
        "              print(e)\n",
        "\n",
        "if not boolean:\n",
        "  result = {\n",
        "      \"bool\": boolean,\n",
        "      \"error\": gpt_answer\n",
        "  }\n",
        "\n"
      ]
    },
    {
      "cell_type": "code",
      "execution_count": null,
      "metadata": {
        "colab": {
          "base_uri": "https://localhost:8080/",
          "height": 833
        },
        "id": "DyMCNSboV4ig",
        "outputId": "247ba417-211b-47e8-c15a-cf33fd4dc82f"
      },
      "outputs": [
        {
          "data": {
            "text/html": [
              "\n",
              "  <div id=\"df-993b78da-1a07-4b27-ac74-1c7933cdf004\" class=\"colab-df-container\">\n",
              "    <div>\n",
              "<style scoped>\n",
              "    .dataframe tbody tr th:only-of-type {\n",
              "        vertical-align: middle;\n",
              "    }\n",
              "\n",
              "    .dataframe tbody tr th {\n",
              "        vertical-align: top;\n",
              "    }\n",
              "\n",
              "    .dataframe thead th {\n",
              "        text-align: right;\n",
              "    }\n",
              "</style>\n",
              "<table border=\"1\" class=\"dataframe\">\n",
              "  <thead>\n",
              "    <tr style=\"text-align: right;\">\n",
              "      <th></th>\n",
              "      <th>post_title</th>\n",
              "      <th>label</th>\n",
              "      <th>value</th>\n",
              "    </tr>\n",
              "  </thead>\n",
              "  <tbody>\n",
              "    <tr>\n",
              "      <th>0</th>\n",
              "      <td>Your experience with SSRI's</td>\n",
              "      <td>Thoughts that you would be better off dead or ...</td>\n",
              "      <td>no</td>\n",
              "    </tr>\n",
              "    <tr>\n",
              "      <th>1</th>\n",
              "      <td>Your experience with SSRI's</td>\n",
              "      <td>Trouble concentrating on things such as readin...</td>\n",
              "      <td>yes</td>\n",
              "    </tr>\n",
              "    <tr>\n",
              "      <th>2</th>\n",
              "      <td>Your experience with SSRI's</td>\n",
              "      <td>Trouble falling or staying asleep or sleeping ...</td>\n",
              "      <td>no</td>\n",
              "    </tr>\n",
              "    <tr>\n",
              "      <th>3</th>\n",
              "      <td>Admitting no bond with toddler and wondering i...</td>\n",
              "      <td>Feeling down depressed or hopeless</td>\n",
              "      <td>yes</td>\n",
              "    </tr>\n",
              "    <tr>\n",
              "      <th>4</th>\n",
              "      <td>Admitting no bond with toddler and wondering i...</td>\n",
              "      <td>Feeling down depressed or hopeless</td>\n",
              "      <td>yes</td>\n",
              "    </tr>\n",
              "    <tr>\n",
              "      <th>5</th>\n",
              "      <td>Admitting no bond with toddler and wondering i...</td>\n",
              "      <td>Feeling down depressed or hopeless</td>\n",
              "      <td>yes</td>\n",
              "    </tr>\n",
              "    <tr>\n",
              "      <th>6</th>\n",
              "      <td>Admitting no bond with toddler and wondering i...</td>\n",
              "      <td>Feeling down depressed or hopeless</td>\n",
              "      <td>yes</td>\n",
              "    </tr>\n",
              "    <tr>\n",
              "      <th>7</th>\n",
              "      <td>Admitting no bond with toddler and wondering i...</td>\n",
              "      <td>Feeling down depressed or hopeless</td>\n",
              "      <td>yes</td>\n",
              "    </tr>\n",
              "    <tr>\n",
              "      <th>8</th>\n",
              "      <td>Admitting no bond with toddler and wondering i...</td>\n",
              "      <td>Feeling down depressed or hopeless</td>\n",
              "      <td>yes</td>\n",
              "    </tr>\n",
              "    <tr>\n",
              "      <th>9</th>\n",
              "      <td>Admitting no bond with toddler and wondering i...</td>\n",
              "      <td>Feeling tired or having little energy</td>\n",
              "      <td>no</td>\n",
              "    </tr>\n",
              "    <tr>\n",
              "      <th>10</th>\n",
              "      <td>Admitting no bond with toddler and wondering i...</td>\n",
              "      <td>Little interest or pleasure in doing</td>\n",
              "      <td>yes</td>\n",
              "    </tr>\n",
              "    <tr>\n",
              "      <th>11</th>\n",
              "      <td>Admitting no bond with toddler and wondering i...</td>\n",
              "      <td>Moving or speaking so slowly that other people...</td>\n",
              "      <td>yes</td>\n",
              "    </tr>\n",
              "    <tr>\n",
              "      <th>12</th>\n",
              "      <td>Admitting no bond with toddler and wondering i...</td>\n",
              "      <td>Poor appetite or overeating</td>\n",
              "      <td>no</td>\n",
              "    </tr>\n",
              "    <tr>\n",
              "      <th>13</th>\n",
              "      <td>Admitting no bond with toddler and wondering i...</td>\n",
              "      <td>Thoughts that you would be better off dead or ...</td>\n",
              "      <td>No</td>\n",
              "    </tr>\n",
              "    <tr>\n",
              "      <th>14</th>\n",
              "      <td>Admitting no bond with toddler and wondering i...</td>\n",
              "      <td>Trouble concentrating on things such as readin...</td>\n",
              "      <td>yes</td>\n",
              "    </tr>\n",
              "    <tr>\n",
              "      <th>15</th>\n",
              "      <td>Admitting no bond with toddler and wondering i...</td>\n",
              "      <td>Trouble falling or staying asleep or sleeping ...</td>\n",
              "      <td>yes</td>\n",
              "    </tr>\n",
              "    <tr>\n",
              "      <th>16</th>\n",
              "      <td>Prozac worries</td>\n",
              "      <td>Moving or speaking so slowly that other people...</td>\n",
              "      <td>yes</td>\n",
              "    </tr>\n",
              "    <tr>\n",
              "      <th>17</th>\n",
              "      <td>Prozac worries</td>\n",
              "      <td>Poor appetite or overeating</td>\n",
              "      <td>no</td>\n",
              "    </tr>\n",
              "    <tr>\n",
              "      <th>18</th>\n",
              "      <td>Prozac worries</td>\n",
              "      <td>Thoughts that you would be better off dead or ...</td>\n",
              "      <td>no</td>\n",
              "    </tr>\n",
              "    <tr>\n",
              "      <th>19</th>\n",
              "      <td>Prozac worries</td>\n",
              "      <td>Trouble concentrating on things such as readin...</td>\n",
              "      <td>yes</td>\n",
              "    </tr>\n",
              "    <tr>\n",
              "      <th>20</th>\n",
              "      <td>Prozac worries</td>\n",
              "      <td>Trouble falling or staying asleep or sleeping ...</td>\n",
              "      <td>yes</td>\n",
              "    </tr>\n",
              "    <tr>\n",
              "      <th>21</th>\n",
              "      <td>I need some help</td>\n",
              "      <td>Poor appetite or overeating</td>\n",
              "      <td>yes</td>\n",
              "    </tr>\n",
              "    <tr>\n",
              "      <th>22</th>\n",
              "      <td>I need some help</td>\n",
              "      <td>Thoughts that you would be better off dead or ...</td>\n",
              "      <td>yes</td>\n",
              "    </tr>\n",
              "    <tr>\n",
              "      <th>23</th>\n",
              "      <td>I need some help</td>\n",
              "      <td>Trouble concentrating on things such as readin...</td>\n",
              "      <td>yes</td>\n",
              "    </tr>\n",
              "    <tr>\n",
              "      <th>24</th>\n",
              "      <td>I need some help</td>\n",
              "      <td>Trouble falling or staying asleep or sleeping ...</td>\n",
              "      <td>yes</td>\n",
              "    </tr>\n",
              "  </tbody>\n",
              "</table>\n",
              "</div>\n",
              "    <div class=\"colab-df-buttons\">\n",
              "\n",
              "  <div class=\"colab-df-container\">\n",
              "    <button class=\"colab-df-convert\" onclick=\"convertToInteractive('df-993b78da-1a07-4b27-ac74-1c7933cdf004')\"\n",
              "            title=\"Convert this dataframe to an interactive table.\"\n",
              "            style=\"display:none;\">\n",
              "\n",
              "  <svg xmlns=\"http://www.w3.org/2000/svg\" height=\"24px\" viewBox=\"0 -960 960 960\">\n",
              "    <path d=\"M120-120v-720h720v720H120Zm60-500h600v-160H180v160Zm220 220h160v-160H400v160Zm0 220h160v-160H400v160ZM180-400h160v-160H180v160Zm440 0h160v-160H620v160ZM180-180h160v-160H180v160Zm440 0h160v-160H620v160Z\"/>\n",
              "  </svg>\n",
              "    </button>\n",
              "\n",
              "  <style>\n",
              "    .colab-df-container {\n",
              "      display:flex;\n",
              "      gap: 12px;\n",
              "    }\n",
              "\n",
              "    .colab-df-convert {\n",
              "      background-color: #E8F0FE;\n",
              "      border: none;\n",
              "      border-radius: 50%;\n",
              "      cursor: pointer;\n",
              "      display: none;\n",
              "      fill: #1967D2;\n",
              "      height: 32px;\n",
              "      padding: 0 0 0 0;\n",
              "      width: 32px;\n",
              "    }\n",
              "\n",
              "    .colab-df-convert:hover {\n",
              "      background-color: #E2EBFA;\n",
              "      box-shadow: 0px 1px 2px rgba(60, 64, 67, 0.3), 0px 1px 3px 1px rgba(60, 64, 67, 0.15);\n",
              "      fill: #174EA6;\n",
              "    }\n",
              "\n",
              "    .colab-df-buttons div {\n",
              "      margin-bottom: 4px;\n",
              "    }\n",
              "\n",
              "    [theme=dark] .colab-df-convert {\n",
              "      background-color: #3B4455;\n",
              "      fill: #D2E3FC;\n",
              "    }\n",
              "\n",
              "    [theme=dark] .colab-df-convert:hover {\n",
              "      background-color: #434B5C;\n",
              "      box-shadow: 0px 1px 3px 1px rgba(0, 0, 0, 0.15);\n",
              "      filter: drop-shadow(0px 1px 2px rgba(0, 0, 0, 0.3));\n",
              "      fill: #FFFFFF;\n",
              "    }\n",
              "  </style>\n",
              "\n",
              "    <script>\n",
              "      const buttonEl =\n",
              "        document.querySelector('#df-993b78da-1a07-4b27-ac74-1c7933cdf004 button.colab-df-convert');\n",
              "      buttonEl.style.display =\n",
              "        google.colab.kernel.accessAllowed ? 'block' : 'none';\n",
              "\n",
              "      async function convertToInteractive(key) {\n",
              "        const element = document.querySelector('#df-993b78da-1a07-4b27-ac74-1c7933cdf004');\n",
              "        const dataTable =\n",
              "          await google.colab.kernel.invokeFunction('convertToInteractive',\n",
              "                                                    [key], {});\n",
              "        if (!dataTable) return;\n",
              "\n",
              "        const docLinkHtml = 'Like what you see? Visit the ' +\n",
              "          '<a target=\"_blank\" href=https://colab.research.google.com/notebooks/data_table.ipynb>data table notebook</a>'\n",
              "          + ' to learn more about interactive tables.';\n",
              "        element.innerHTML = '';\n",
              "        dataTable['output_type'] = 'display_data';\n",
              "        await google.colab.output.renderOutput(dataTable, element);\n",
              "        const docLink = document.createElement('div');\n",
              "        docLink.innerHTML = docLinkHtml;\n",
              "        element.appendChild(docLink);\n",
              "      }\n",
              "    </script>\n",
              "  </div>\n",
              "\n",
              "\n",
              "<div id=\"df-9cd6886f-cffc-4b6b-b852-c0a62fbb1921\">\n",
              "  <button class=\"colab-df-quickchart\" onclick=\"quickchart('df-9cd6886f-cffc-4b6b-b852-c0a62fbb1921')\"\n",
              "            title=\"Suggest charts\"\n",
              "            style=\"display:none;\">\n",
              "\n",
              "<svg xmlns=\"http://www.w3.org/2000/svg\" height=\"24px\"viewBox=\"0 0 24 24\"\n",
              "     width=\"24px\">\n",
              "    <g>\n",
              "        <path d=\"M19 3H5c-1.1 0-2 .9-2 2v14c0 1.1.9 2 2 2h14c1.1 0 2-.9 2-2V5c0-1.1-.9-2-2-2zM9 17H7v-7h2v7zm4 0h-2V7h2v10zm4 0h-2v-4h2v4z\"/>\n",
              "    </g>\n",
              "</svg>\n",
              "  </button>\n",
              "\n",
              "<style>\n",
              "  .colab-df-quickchart {\n",
              "      --bg-color: #E8F0FE;\n",
              "      --fill-color: #1967D2;\n",
              "      --hover-bg-color: #E2EBFA;\n",
              "      --hover-fill-color: #174EA6;\n",
              "      --disabled-fill-color: #AAA;\n",
              "      --disabled-bg-color: #DDD;\n",
              "  }\n",
              "\n",
              "  [theme=dark] .colab-df-quickchart {\n",
              "      --bg-color: #3B4455;\n",
              "      --fill-color: #D2E3FC;\n",
              "      --hover-bg-color: #434B5C;\n",
              "      --hover-fill-color: #FFFFFF;\n",
              "      --disabled-bg-color: #3B4455;\n",
              "      --disabled-fill-color: #666;\n",
              "  }\n",
              "\n",
              "  .colab-df-quickchart {\n",
              "    background-color: var(--bg-color);\n",
              "    border: none;\n",
              "    border-radius: 50%;\n",
              "    cursor: pointer;\n",
              "    display: none;\n",
              "    fill: var(--fill-color);\n",
              "    height: 32px;\n",
              "    padding: 0;\n",
              "    width: 32px;\n",
              "  }\n",
              "\n",
              "  .colab-df-quickchart:hover {\n",
              "    background-color: var(--hover-bg-color);\n",
              "    box-shadow: 0 1px 2px rgba(60, 64, 67, 0.3), 0 1px 3px 1px rgba(60, 64, 67, 0.15);\n",
              "    fill: var(--button-hover-fill-color);\n",
              "  }\n",
              "\n",
              "  .colab-df-quickchart-complete:disabled,\n",
              "  .colab-df-quickchart-complete:disabled:hover {\n",
              "    background-color: var(--disabled-bg-color);\n",
              "    fill: var(--disabled-fill-color);\n",
              "    box-shadow: none;\n",
              "  }\n",
              "\n",
              "  .colab-df-spinner {\n",
              "    border: 2px solid var(--fill-color);\n",
              "    border-color: transparent;\n",
              "    border-bottom-color: var(--fill-color);\n",
              "    animation:\n",
              "      spin 1s steps(1) infinite;\n",
              "  }\n",
              "\n",
              "  @keyframes spin {\n",
              "    0% {\n",
              "      border-color: transparent;\n",
              "      border-bottom-color: var(--fill-color);\n",
              "      border-left-color: var(--fill-color);\n",
              "    }\n",
              "    20% {\n",
              "      border-color: transparent;\n",
              "      border-left-color: var(--fill-color);\n",
              "      border-top-color: var(--fill-color);\n",
              "    }\n",
              "    30% {\n",
              "      border-color: transparent;\n",
              "      border-left-color: var(--fill-color);\n",
              "      border-top-color: var(--fill-color);\n",
              "      border-right-color: var(--fill-color);\n",
              "    }\n",
              "    40% {\n",
              "      border-color: transparent;\n",
              "      border-right-color: var(--fill-color);\n",
              "      border-top-color: var(--fill-color);\n",
              "    }\n",
              "    60% {\n",
              "      border-color: transparent;\n",
              "      border-right-color: var(--fill-color);\n",
              "    }\n",
              "    80% {\n",
              "      border-color: transparent;\n",
              "      border-right-color: var(--fill-color);\n",
              "      border-bottom-color: var(--fill-color);\n",
              "    }\n",
              "    90% {\n",
              "      border-color: transparent;\n",
              "      border-bottom-color: var(--fill-color);\n",
              "    }\n",
              "  }\n",
              "</style>\n",
              "\n",
              "  <script>\n",
              "    async function quickchart(key) {\n",
              "      const quickchartButtonEl =\n",
              "        document.querySelector('#' + key + ' button');\n",
              "      quickchartButtonEl.disabled = true;  // To prevent multiple clicks.\n",
              "      quickchartButtonEl.classList.add('colab-df-spinner');\n",
              "      try {\n",
              "        const charts = await google.colab.kernel.invokeFunction(\n",
              "            'suggestCharts', [key], {});\n",
              "      } catch (error) {\n",
              "        console.error('Error during call to suggestCharts:', error);\n",
              "      }\n",
              "      quickchartButtonEl.classList.remove('colab-df-spinner');\n",
              "      quickchartButtonEl.classList.add('colab-df-quickchart-complete');\n",
              "    }\n",
              "    (() => {\n",
              "      let quickchartButtonEl =\n",
              "        document.querySelector('#df-9cd6886f-cffc-4b6b-b852-c0a62fbb1921 button');\n",
              "      quickchartButtonEl.style.display =\n",
              "        google.colab.kernel.accessAllowed ? 'block' : 'none';\n",
              "    })();\n",
              "  </script>\n",
              "</div>\n",
              "    </div>\n",
              "  </div>\n"
            ],
            "text/plain": [
              "                                           post_title  \\\n",
              "0                         Your experience with SSRI's   \n",
              "1                         Your experience with SSRI's   \n",
              "2                         Your experience with SSRI's   \n",
              "3   Admitting no bond with toddler and wondering i...   \n",
              "4   Admitting no bond with toddler and wondering i...   \n",
              "5   Admitting no bond with toddler and wondering i...   \n",
              "6   Admitting no bond with toddler and wondering i...   \n",
              "7   Admitting no bond with toddler and wondering i...   \n",
              "8   Admitting no bond with toddler and wondering i...   \n",
              "9   Admitting no bond with toddler and wondering i...   \n",
              "10  Admitting no bond with toddler and wondering i...   \n",
              "11  Admitting no bond with toddler and wondering i...   \n",
              "12  Admitting no bond with toddler and wondering i...   \n",
              "13  Admitting no bond with toddler and wondering i...   \n",
              "14  Admitting no bond with toddler and wondering i...   \n",
              "15  Admitting no bond with toddler and wondering i...   \n",
              "16                                     Prozac worries   \n",
              "17                                     Prozac worries   \n",
              "18                                     Prozac worries   \n",
              "19                                     Prozac worries   \n",
              "20                                     Prozac worries   \n",
              "21                                   I need some help   \n",
              "22                                   I need some help   \n",
              "23                                   I need some help   \n",
              "24                                   I need some help   \n",
              "\n",
              "                                                label value  \n",
              "0   Thoughts that you would be better off dead or ...    no  \n",
              "1   Trouble concentrating on things such as readin...   yes  \n",
              "2   Trouble falling or staying asleep or sleeping ...    no  \n",
              "3                  Feeling down depressed or hopeless   yes  \n",
              "4                  Feeling down depressed or hopeless   yes  \n",
              "5                  Feeling down depressed or hopeless   yes  \n",
              "6                  Feeling down depressed or hopeless   yes  \n",
              "7                  Feeling down depressed or hopeless   yes  \n",
              "8                  Feeling down depressed or hopeless   yes  \n",
              "9               Feeling tired or having little energy    no  \n",
              "10               Little interest or pleasure in doing   yes  \n",
              "11  Moving or speaking so slowly that other people...   yes  \n",
              "12                        Poor appetite or overeating    no  \n",
              "13  Thoughts that you would be better off dead or ...    No  \n",
              "14  Trouble concentrating on things such as readin...   yes  \n",
              "15  Trouble falling or staying asleep or sleeping ...   yes  \n",
              "16  Moving or speaking so slowly that other people...   yes  \n",
              "17                        Poor appetite or overeating    no  \n",
              "18  Thoughts that you would be better off dead or ...    no  \n",
              "19  Trouble concentrating on things such as readin...   yes  \n",
              "20  Trouble falling or staying asleep or sleeping ...   yes  \n",
              "21                        Poor appetite or overeating   yes  \n",
              "22  Thoughts that you would be better off dead or ...   yes  \n",
              "23  Trouble concentrating on things such as readin...   yes  \n",
              "24  Trouble falling or staying asleep or sleeping ...   yes  "
            ]
          },
          "execution_count": 92,
          "metadata": {},
          "output_type": "execute_result"
        }
      ],
      "source": [
        "missed_data_df.head(100)"
      ]
    },
    {
      "cell_type": "code",
      "execution_count": null,
      "metadata": {
        "id": "HbtIR2oQjNcR"
      },
      "outputs": [],
      "source": [
        "missed_data_df.to_csv('missed_data.csv', index=False)"
      ]
    },
    {
      "cell_type": "code",
      "execution_count": null,
      "metadata": {
        "id": "uM2cabv9SkSB"
      },
      "outputs": [],
      "source": [
        "# Create a new JSON file for each iteration\n",
        "file_path = f\"gpt_result_{post_title}_{label}.json\"  # Customize the file name as desired\n",
        "try:\n",
        "  with open(file_path, \"w\") as json_file:\n",
        "      json.dump(result, json_file, indent=2)\n",
        "except Exception as e:\n",
        "  print(str(e)+'\\nFirst attempt for creating file faild, try 1 to 3 more times with 7 minutes interval...')\n",
        "  # attempt 1 to 3 more times with 1 minute interval to succeed\n",
        "  for i in range(3):\n",
        "      try:\n",
        "          time.sleep(60)\n",
        "          print('attempt ' + str(i+1) + ' out of 3')\n",
        "          file_path = f\"gpt_result_{post_title}_{label}.json\"\n",
        "          with open(file_path, \"w\") as json_file:\n",
        "            json.dump(result, json_file, indent=2)\n",
        "          print('attempt ' + str(i+1) + ' was SUCCESSFUL')\n",
        "          # break if succeed\n",
        "          break\n",
        "      except Exception as e:\n",
        "          print('attempt ' + str(i + 1) + ' FAILED')\n",
        "          print(e)"
      ]
    },
    {
      "cell_type": "markdown",
      "metadata": {
        "id": "TNW1-OINHjYZ"
      },
      "source": [
        "# Evaluation Metrices for the first 450 records\n",
        "(actually 50 in the main csv file)"
      ]
    },
    {
      "cell_type": "code",
      "execution_count": null,
      "metadata": {
        "colab": {
          "base_uri": "https://localhost:8080/"
        },
        "id": "7N60YbUvHrqp",
        "outputId": "6b30b14b-eb45-4ef6-ae6e-494bf6243ac3"
      },
      "outputs": [
        {
          "name": "stdout",
          "output_type": "stream",
          "text": [
            " ------------------------ The Accuracy of GPT3.5 is: 0.5844444444444444 ------------------------\n",
            " ------------------------ The Precision of GPT3.5 is: 0.4818181818181818 ------------------------\n",
            " ------------------------ The Recall of GPT3.5 is: 0.9085714285714286 ------------------------\n",
            " ------------------------ The F1-Score of GPT3.5 is: 0.6297029702970297 ------------------------\n"
          ]
        }
      ],
      "source": [
        "true_values = concatenated_true__df['value'].values\n",
        "predicted_values = concatenated_pred__df['value'].values\n",
        "\n",
        "# Calculate accuracy\n",
        "accuracy = accuracy_score(true_values, predicted_values)\n",
        "print(f\" ------------------------ The Accuracy of GPT3.5 is: {accuracy} ------------------------\")\n",
        "# Calculate precision\n",
        "precision = precision_score(true_values, predicted_values)\n",
        "print(f\" ------------------------ The Precision of GPT3.5 is: {precision} ------------------------\")\n",
        "\n",
        "# Calculate recall\n",
        "recall = recall_score(true_values, predicted_values)\n",
        "print(f\" ------------------------ The Recall of GPT3.5 is: {recall} ------------------------\")\n",
        "\n",
        "# Calculate F1-score\n",
        "f1 = f1_score(true_values, predicted_values)\n",
        "print(f\" ------------------------ The F1-Score of GPT3.5 is: {f1} ------------------------\")\n"
      ]
    },
    {
      "cell_type": "code",
      "execution_count": null,
      "metadata": {
        "id": "B7ctTEgzH8qI"
      },
      "outputs": [],
      "source": []
    }
  ],
  "metadata": {
    "colab": {
      "collapsed_sections": [
        "tzppSH1PWpCi",
        "90URIKTxXSU5",
        "NcZ4SQjnPtrr"
      ],
      "provenance": [],
      "toc_visible": true
    },
    "kernelspec": {
      "display_name": "Python 3",
      "name": "python3"
    },
    "language_info": {
      "name": "python"
    }
  },
  "nbformat": 4,
  "nbformat_minor": 0
}
