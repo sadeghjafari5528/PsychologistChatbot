{
  "nbformat": 4,
  "nbformat_minor": 0,
  "metadata": {
    "colab": {
      "provenance": []
    },
    "kernelspec": {
      "name": "python3",
      "display_name": "Python 3"
    },
    "language_info": {
      "name": "python"
    }
  },
  "cells": [
    {
      "cell_type": "markdown",
      "source": [
        "run cell below and restart runtime"
      ],
      "metadata": {
        "id": "QCtFf9RnLAVg"
      }
    },
    {
      "cell_type": "code",
      "source": [
        "!pip install transformers[torch] accelerate -U\n",
        "!pip install datasets\n",
        "!pip install transformers\n",
        "!pip install -q transformers\n",
        "!pip install -q clean-text[gpl]\n",
        "!pip install iterative-stratification\n",
        "!pip install hazm\n",
        "!pip install tqdm\n"
      ],
      "metadata": {
        "id": "2802yhfpK1XE",
        "colab": {
          "base_uri": "https://localhost:8080/",
          "height": 1000
        },
        "outputId": "44f7d0d8-c6c8-47e3-a480-711454108dc5"
      },
      "execution_count": 1,
      "outputs": [
        {
          "output_type": "stream",
          "name": "stdout",
          "text": [
            "Requirement already satisfied: accelerate in /usr/local/lib/python3.10/dist-packages (0.32.1)\n",
            "Collecting accelerate\n",
            "  Downloading accelerate-0.34.0-py3-none-any.whl.metadata (19 kB)\n",
            "Requirement already satisfied: transformers[torch] in /usr/local/lib/python3.10/dist-packages (4.42.4)\n",
            "Collecting transformers[torch]\n",
            "  Downloading transformers-4.44.2-py3-none-any.whl.metadata (43 kB)\n",
            "\u001b[2K     \u001b[90m━━━━━━━━━━━━━━━━━━━━━━━━━━━━━━━━━━━━━━━━\u001b[0m \u001b[32m43.7/43.7 kB\u001b[0m \u001b[31m583.1 kB/s\u001b[0m eta \u001b[36m0:00:00\u001b[0m\n",
            "\u001b[?25hRequirement already satisfied: filelock in /usr/local/lib/python3.10/dist-packages (from transformers[torch]) (3.15.4)\n",
            "Requirement already satisfied: huggingface-hub<1.0,>=0.23.2 in /usr/local/lib/python3.10/dist-packages (from transformers[torch]) (0.23.5)\n",
            "Requirement already satisfied: numpy>=1.17 in /usr/local/lib/python3.10/dist-packages (from transformers[torch]) (1.26.4)\n",
            "Requirement already satisfied: packaging>=20.0 in /usr/local/lib/python3.10/dist-packages (from transformers[torch]) (24.1)\n",
            "Requirement already satisfied: pyyaml>=5.1 in /usr/local/lib/python3.10/dist-packages (from transformers[torch]) (6.0.2)\n",
            "Requirement already satisfied: regex!=2019.12.17 in /usr/local/lib/python3.10/dist-packages (from transformers[torch]) (2024.5.15)\n",
            "Requirement already satisfied: requests in /usr/local/lib/python3.10/dist-packages (from transformers[torch]) (2.32.3)\n",
            "Requirement already satisfied: safetensors>=0.4.1 in /usr/local/lib/python3.10/dist-packages (from transformers[torch]) (0.4.4)\n",
            "Requirement already satisfied: tokenizers<0.20,>=0.19 in /usr/local/lib/python3.10/dist-packages (from transformers[torch]) (0.19.1)\n",
            "Requirement already satisfied: tqdm>=4.27 in /usr/local/lib/python3.10/dist-packages (from transformers[torch]) (4.66.5)\n",
            "Requirement already satisfied: torch in /usr/local/lib/python3.10/dist-packages (from transformers[torch]) (2.4.0+cu121)\n",
            "Requirement already satisfied: psutil in /usr/local/lib/python3.10/dist-packages (from accelerate) (5.9.5)\n",
            "Requirement already satisfied: fsspec>=2023.5.0 in /usr/local/lib/python3.10/dist-packages (from huggingface-hub<1.0,>=0.23.2->transformers[torch]) (2024.6.1)\n",
            "Requirement already satisfied: typing-extensions>=3.7.4.3 in /usr/local/lib/python3.10/dist-packages (from huggingface-hub<1.0,>=0.23.2->transformers[torch]) (4.12.2)\n",
            "Requirement already satisfied: sympy in /usr/local/lib/python3.10/dist-packages (from torch->transformers[torch]) (1.13.2)\n",
            "Requirement already satisfied: networkx in /usr/local/lib/python3.10/dist-packages (from torch->transformers[torch]) (3.3)\n",
            "Requirement already satisfied: jinja2 in /usr/local/lib/python3.10/dist-packages (from torch->transformers[torch]) (3.1.4)\n",
            "Requirement already satisfied: charset-normalizer<4,>=2 in /usr/local/lib/python3.10/dist-packages (from requests->transformers[torch]) (3.3.2)\n",
            "Requirement already satisfied: idna<4,>=2.5 in /usr/local/lib/python3.10/dist-packages (from requests->transformers[torch]) (3.8)\n",
            "Requirement already satisfied: urllib3<3,>=1.21.1 in /usr/local/lib/python3.10/dist-packages (from requests->transformers[torch]) (2.0.7)\n",
            "Requirement already satisfied: certifi>=2017.4.17 in /usr/local/lib/python3.10/dist-packages (from requests->transformers[torch]) (2024.7.4)\n",
            "Requirement already satisfied: MarkupSafe>=2.0 in /usr/local/lib/python3.10/dist-packages (from jinja2->torch->transformers[torch]) (2.1.5)\n",
            "Requirement already satisfied: mpmath<1.4,>=1.1.0 in /usr/local/lib/python3.10/dist-packages (from sympy->torch->transformers[torch]) (1.3.0)\n",
            "Downloading accelerate-0.34.0-py3-none-any.whl (324 kB)\n",
            "\u001b[2K   \u001b[90m━━━━━━━━━━━━━━━━━━━━━━━━━━━━━━━━━━━━━━━━\u001b[0m \u001b[32m324.3/324.3 kB\u001b[0m \u001b[31m2.9 MB/s\u001b[0m eta \u001b[36m0:00:00\u001b[0m\n",
            "\u001b[?25hDownloading transformers-4.44.2-py3-none-any.whl (9.5 MB)\n",
            "\u001b[2K   \u001b[90m━━━━━━━━━━━━━━━━━━━━━━━━━━━━━━━━━━━━━━━━\u001b[0m \u001b[32m9.5/9.5 MB\u001b[0m \u001b[31m40.5 MB/s\u001b[0m eta \u001b[36m0:00:00\u001b[0m\n",
            "\u001b[?25hInstalling collected packages: accelerate, transformers\n",
            "  Attempting uninstall: accelerate\n",
            "    Found existing installation: accelerate 0.32.1\n",
            "    Uninstalling accelerate-0.32.1:\n",
            "      Successfully uninstalled accelerate-0.32.1\n",
            "  Attempting uninstall: transformers\n",
            "    Found existing installation: transformers 4.42.4\n",
            "    Uninstalling transformers-4.42.4:\n",
            "      Successfully uninstalled transformers-4.42.4\n",
            "Successfully installed accelerate-0.34.0 transformers-4.44.2\n",
            "Collecting datasets\n",
            "  Downloading datasets-2.21.0-py3-none-any.whl.metadata (21 kB)\n",
            "Requirement already satisfied: filelock in /usr/local/lib/python3.10/dist-packages (from datasets) (3.15.4)\n",
            "Requirement already satisfied: numpy>=1.17 in /usr/local/lib/python3.10/dist-packages (from datasets) (1.26.4)\n",
            "Collecting pyarrow>=15.0.0 (from datasets)\n",
            "  Downloading pyarrow-17.0.0-cp310-cp310-manylinux_2_28_x86_64.whl.metadata (3.3 kB)\n",
            "Collecting dill<0.3.9,>=0.3.0 (from datasets)\n",
            "  Downloading dill-0.3.8-py3-none-any.whl.metadata (10 kB)\n",
            "Requirement already satisfied: pandas in /usr/local/lib/python3.10/dist-packages (from datasets) (2.1.4)\n",
            "Requirement already satisfied: requests>=2.32.2 in /usr/local/lib/python3.10/dist-packages (from datasets) (2.32.3)\n",
            "Requirement already satisfied: tqdm>=4.66.3 in /usr/local/lib/python3.10/dist-packages (from datasets) (4.66.5)\n",
            "Collecting xxhash (from datasets)\n",
            "  Downloading xxhash-3.5.0-cp310-cp310-manylinux_2_17_x86_64.manylinux2014_x86_64.whl.metadata (12 kB)\n",
            "Collecting multiprocess (from datasets)\n",
            "  Downloading multiprocess-0.70.16-py310-none-any.whl.metadata (7.2 kB)\n",
            "Requirement already satisfied: fsspec<=2024.6.1,>=2023.1.0 in /usr/local/lib/python3.10/dist-packages (from fsspec[http]<=2024.6.1,>=2023.1.0->datasets) (2024.6.1)\n",
            "Requirement already satisfied: aiohttp in /usr/local/lib/python3.10/dist-packages (from datasets) (3.10.5)\n",
            "Requirement already satisfied: huggingface-hub>=0.21.2 in /usr/local/lib/python3.10/dist-packages (from datasets) (0.23.5)\n",
            "Requirement already satisfied: packaging in /usr/local/lib/python3.10/dist-packages (from datasets) (24.1)\n",
            "Requirement already satisfied: pyyaml>=5.1 in /usr/local/lib/python3.10/dist-packages (from datasets) (6.0.2)\n",
            "Requirement already satisfied: aiohappyeyeballs>=2.3.0 in /usr/local/lib/python3.10/dist-packages (from aiohttp->datasets) (2.4.0)\n",
            "Requirement already satisfied: aiosignal>=1.1.2 in /usr/local/lib/python3.10/dist-packages (from aiohttp->datasets) (1.3.1)\n",
            "Requirement already satisfied: attrs>=17.3.0 in /usr/local/lib/python3.10/dist-packages (from aiohttp->datasets) (24.2.0)\n",
            "Requirement already satisfied: frozenlist>=1.1.1 in /usr/local/lib/python3.10/dist-packages (from aiohttp->datasets) (1.4.1)\n",
            "Requirement already satisfied: multidict<7.0,>=4.5 in /usr/local/lib/python3.10/dist-packages (from aiohttp->datasets) (6.0.5)\n",
            "Requirement already satisfied: yarl<2.0,>=1.0 in /usr/local/lib/python3.10/dist-packages (from aiohttp->datasets) (1.9.4)\n",
            "Requirement already satisfied: async-timeout<5.0,>=4.0 in /usr/local/lib/python3.10/dist-packages (from aiohttp->datasets) (4.0.3)\n",
            "Requirement already satisfied: typing-extensions>=3.7.4.3 in /usr/local/lib/python3.10/dist-packages (from huggingface-hub>=0.21.2->datasets) (4.12.2)\n",
            "Requirement already satisfied: charset-normalizer<4,>=2 in /usr/local/lib/python3.10/dist-packages (from requests>=2.32.2->datasets) (3.3.2)\n",
            "Requirement already satisfied: idna<4,>=2.5 in /usr/local/lib/python3.10/dist-packages (from requests>=2.32.2->datasets) (3.8)\n",
            "Requirement already satisfied: urllib3<3,>=1.21.1 in /usr/local/lib/python3.10/dist-packages (from requests>=2.32.2->datasets) (2.0.7)\n",
            "Requirement already satisfied: certifi>=2017.4.17 in /usr/local/lib/python3.10/dist-packages (from requests>=2.32.2->datasets) (2024.7.4)\n",
            "Requirement already satisfied: python-dateutil>=2.8.2 in /usr/local/lib/python3.10/dist-packages (from pandas->datasets) (2.8.2)\n",
            "Requirement already satisfied: pytz>=2020.1 in /usr/local/lib/python3.10/dist-packages (from pandas->datasets) (2024.1)\n",
            "Requirement already satisfied: tzdata>=2022.1 in /usr/local/lib/python3.10/dist-packages (from pandas->datasets) (2024.1)\n",
            "Requirement already satisfied: six>=1.5 in /usr/local/lib/python3.10/dist-packages (from python-dateutil>=2.8.2->pandas->datasets) (1.16.0)\n",
            "Downloading datasets-2.21.0-py3-none-any.whl (527 kB)\n",
            "\u001b[2K   \u001b[90m━━━━━━━━━━━━━━━━━━━━━━━━━━━━━━━━━━━━━━━━\u001b[0m \u001b[32m527.3/527.3 kB\u001b[0m \u001b[31m3.7 MB/s\u001b[0m eta \u001b[36m0:00:00\u001b[0m\n",
            "\u001b[?25hDownloading dill-0.3.8-py3-none-any.whl (116 kB)\n",
            "\u001b[2K   \u001b[90m━━━━━━━━━━━━━━━━━━━━━━━━━━━━━━━━━━━━━━━━\u001b[0m \u001b[32m116.3/116.3 kB\u001b[0m \u001b[31m6.9 MB/s\u001b[0m eta \u001b[36m0:00:00\u001b[0m\n",
            "\u001b[?25hDownloading pyarrow-17.0.0-cp310-cp310-manylinux_2_28_x86_64.whl (39.9 MB)\n",
            "\u001b[2K   \u001b[90m━━━━━━━━━━━━━━━━━━━━━━━━━━━━━━━━━━━━━━━━\u001b[0m \u001b[32m39.9/39.9 MB\u001b[0m \u001b[31m14.6 MB/s\u001b[0m eta \u001b[36m0:00:00\u001b[0m\n",
            "\u001b[?25hDownloading multiprocess-0.70.16-py310-none-any.whl (134 kB)\n",
            "\u001b[2K   \u001b[90m━━━━━━━━━━━━━━━━━━━━━━━━━━━━━━━━━━━━━━━━\u001b[0m \u001b[32m134.8/134.8 kB\u001b[0m \u001b[31m8.6 MB/s\u001b[0m eta \u001b[36m0:00:00\u001b[0m\n",
            "\u001b[?25hDownloading xxhash-3.5.0-cp310-cp310-manylinux_2_17_x86_64.manylinux2014_x86_64.whl (194 kB)\n",
            "\u001b[2K   \u001b[90m━━━━━━━━━━━━━━━━━━━━━━━━━━━━━━━━━━━━━━━━\u001b[0m \u001b[32m194.1/194.1 kB\u001b[0m \u001b[31m13.3 MB/s\u001b[0m eta \u001b[36m0:00:00\u001b[0m\n",
            "\u001b[?25hInstalling collected packages: xxhash, pyarrow, dill, multiprocess, datasets\n",
            "  Attempting uninstall: pyarrow\n",
            "    Found existing installation: pyarrow 14.0.2\n",
            "    Uninstalling pyarrow-14.0.2:\n",
            "      Successfully uninstalled pyarrow-14.0.2\n",
            "\u001b[31mERROR: pip's dependency resolver does not currently take into account all the packages that are installed. This behaviour is the source of the following dependency conflicts.\n",
            "cudf-cu12 24.4.1 requires pyarrow<15.0.0a0,>=14.0.1, but you have pyarrow 17.0.0 which is incompatible.\n",
            "ibis-framework 8.0.0 requires pyarrow<16,>=2, but you have pyarrow 17.0.0 which is incompatible.\u001b[0m\u001b[31m\n",
            "\u001b[0mSuccessfully installed datasets-2.21.0 dill-0.3.8 multiprocess-0.70.16 pyarrow-17.0.0 xxhash-3.5.0\n",
            "Requirement already satisfied: transformers in /usr/local/lib/python3.10/dist-packages (4.44.2)\n",
            "Requirement already satisfied: filelock in /usr/local/lib/python3.10/dist-packages (from transformers) (3.15.4)\n",
            "Requirement already satisfied: huggingface-hub<1.0,>=0.23.2 in /usr/local/lib/python3.10/dist-packages (from transformers) (0.23.5)\n",
            "Requirement already satisfied: numpy>=1.17 in /usr/local/lib/python3.10/dist-packages (from transformers) (1.26.4)\n",
            "Requirement already satisfied: packaging>=20.0 in /usr/local/lib/python3.10/dist-packages (from transformers) (24.1)\n",
            "Requirement already satisfied: pyyaml>=5.1 in /usr/local/lib/python3.10/dist-packages (from transformers) (6.0.2)\n",
            "Requirement already satisfied: regex!=2019.12.17 in /usr/local/lib/python3.10/dist-packages (from transformers) (2024.5.15)\n",
            "Requirement already satisfied: requests in /usr/local/lib/python3.10/dist-packages (from transformers) (2.32.3)\n",
            "Requirement already satisfied: safetensors>=0.4.1 in /usr/local/lib/python3.10/dist-packages (from transformers) (0.4.4)\n",
            "Requirement already satisfied: tokenizers<0.20,>=0.19 in /usr/local/lib/python3.10/dist-packages (from transformers) (0.19.1)\n",
            "Requirement already satisfied: tqdm>=4.27 in /usr/local/lib/python3.10/dist-packages (from transformers) (4.66.5)\n",
            "Requirement already satisfied: fsspec>=2023.5.0 in /usr/local/lib/python3.10/dist-packages (from huggingface-hub<1.0,>=0.23.2->transformers) (2024.6.1)\n",
            "Requirement already satisfied: typing-extensions>=3.7.4.3 in /usr/local/lib/python3.10/dist-packages (from huggingface-hub<1.0,>=0.23.2->transformers) (4.12.2)\n",
            "Requirement already satisfied: charset-normalizer<4,>=2 in /usr/local/lib/python3.10/dist-packages (from requests->transformers) (3.3.2)\n",
            "Requirement already satisfied: idna<4,>=2.5 in /usr/local/lib/python3.10/dist-packages (from requests->transformers) (3.8)\n",
            "Requirement already satisfied: urllib3<3,>=1.21.1 in /usr/local/lib/python3.10/dist-packages (from requests->transformers) (2.0.7)\n",
            "Requirement already satisfied: certifi>=2017.4.17 in /usr/local/lib/python3.10/dist-packages (from requests->transformers) (2024.7.4)\n",
            "\u001b[2K     \u001b[90m━━━━━━━━━━━━━━━━━━━━━━━━━━━━━━━━━━━━━━━━\u001b[0m \u001b[32m175.4/175.4 kB\u001b[0m \u001b[31m1.9 MB/s\u001b[0m eta \u001b[36m0:00:00\u001b[0m\n",
            "\u001b[?25h  Preparing metadata (setup.py) ... \u001b[?25l\u001b[?25hdone\n",
            "\u001b[2K   \u001b[90m━━━━━━━━━━━━━━━━━━━━━━━━━━━━━━━━━━━━━━━━\u001b[0m \u001b[32m43.0/43.0 kB\u001b[0m \u001b[31m2.6 MB/s\u001b[0m eta \u001b[36m0:00:00\u001b[0m\n",
            "\u001b[2K   \u001b[90m━━━━━━━━━━━━━━━━━━━━━━━━━━━━━━━━━━━━━━━━\u001b[0m \u001b[32m235.5/235.5 kB\u001b[0m \u001b[31m5.1 MB/s\u001b[0m eta \u001b[36m0:00:00\u001b[0m\n",
            "\u001b[?25h  Building wheel for emoji (setup.py) ... \u001b[?25l\u001b[?25hdone\n",
            "Collecting iterative-stratification\n",
            "  Downloading iterative_stratification-0.1.7-py3-none-any.whl.metadata (1.3 kB)\n",
            "Requirement already satisfied: numpy in /usr/local/lib/python3.10/dist-packages (from iterative-stratification) (1.26.4)\n",
            "Requirement already satisfied: scipy in /usr/local/lib/python3.10/dist-packages (from iterative-stratification) (1.13.1)\n",
            "Requirement already satisfied: scikit-learn in /usr/local/lib/python3.10/dist-packages (from iterative-stratification) (1.3.2)\n",
            "Requirement already satisfied: joblib>=1.1.1 in /usr/local/lib/python3.10/dist-packages (from scikit-learn->iterative-stratification) (1.4.2)\n",
            "Requirement already satisfied: threadpoolctl>=2.0.0 in /usr/local/lib/python3.10/dist-packages (from scikit-learn->iterative-stratification) (3.5.0)\n",
            "Downloading iterative_stratification-0.1.7-py3-none-any.whl (8.5 kB)\n",
            "Installing collected packages: iterative-stratification\n",
            "Successfully installed iterative-stratification-0.1.7\n",
            "Collecting hazm\n",
            "  Downloading hazm-0.10.0-py3-none-any.whl.metadata (11 kB)\n",
            "Collecting fasttext-wheel<0.10.0,>=0.9.2 (from hazm)\n",
            "  Downloading fasttext_wheel-0.9.2-cp310-cp310-manylinux_2_17_x86_64.manylinux2014_x86_64.whl.metadata (16 kB)\n",
            "Collecting flashtext<3.0,>=2.7 (from hazm)\n",
            "  Downloading flashtext-2.7.tar.gz (14 kB)\n",
            "  Preparing metadata (setup.py) ... \u001b[?25l\u001b[?25hdone\n",
            "Requirement already satisfied: gensim<5.0.0,>=4.3.1 in /usr/local/lib/python3.10/dist-packages (from hazm) (4.3.3)\n",
            "Requirement already satisfied: nltk<4.0.0,>=3.8.1 in /usr/local/lib/python3.10/dist-packages (from hazm) (3.8.1)\n",
            "Collecting numpy==1.24.3 (from hazm)\n",
            "  Downloading numpy-1.24.3-cp310-cp310-manylinux_2_17_x86_64.manylinux2014_x86_64.whl.metadata (5.6 kB)\n",
            "Collecting python-crfsuite<0.10.0,>=0.9.9 (from hazm)\n",
            "  Downloading python_crfsuite-0.9.10-cp310-cp310-manylinux_2_17_x86_64.manylinux2014_x86_64.whl.metadata (4.2 kB)\n",
            "Requirement already satisfied: scikit-learn<2.0.0,>=1.2.2 in /usr/local/lib/python3.10/dist-packages (from hazm) (1.3.2)\n",
            "Collecting pybind11>=2.2 (from fasttext-wheel<0.10.0,>=0.9.2->hazm)\n",
            "  Downloading pybind11-2.13.5-py3-none-any.whl.metadata (9.5 kB)\n",
            "Requirement already satisfied: setuptools>=0.7.0 in /usr/local/lib/python3.10/dist-packages (from fasttext-wheel<0.10.0,>=0.9.2->hazm) (71.0.4)\n",
            "Requirement already satisfied: scipy<1.14.0,>=1.7.0 in /usr/local/lib/python3.10/dist-packages (from gensim<5.0.0,>=4.3.1->hazm) (1.13.1)\n",
            "Requirement already satisfied: smart-open>=1.8.1 in /usr/local/lib/python3.10/dist-packages (from gensim<5.0.0,>=4.3.1->hazm) (7.0.4)\n",
            "Requirement already satisfied: click in /usr/local/lib/python3.10/dist-packages (from nltk<4.0.0,>=3.8.1->hazm) (8.1.7)\n",
            "Requirement already satisfied: joblib in /usr/local/lib/python3.10/dist-packages (from nltk<4.0.0,>=3.8.1->hazm) (1.4.2)\n",
            "Requirement already satisfied: regex>=2021.8.3 in /usr/local/lib/python3.10/dist-packages (from nltk<4.0.0,>=3.8.1->hazm) (2024.5.15)\n",
            "Requirement already satisfied: tqdm in /usr/local/lib/python3.10/dist-packages (from nltk<4.0.0,>=3.8.1->hazm) (4.66.5)\n",
            "Requirement already satisfied: threadpoolctl>=2.0.0 in /usr/local/lib/python3.10/dist-packages (from scikit-learn<2.0.0,>=1.2.2->hazm) (3.5.0)\n",
            "Requirement already satisfied: wrapt in /usr/local/lib/python3.10/dist-packages (from smart-open>=1.8.1->gensim<5.0.0,>=4.3.1->hazm) (1.16.0)\n",
            "Downloading hazm-0.10.0-py3-none-any.whl (892 kB)\n",
            "\u001b[2K   \u001b[90m━━━━━━━━━━━━━━━━━━━━━━━━━━━━━━━━━━━━━━━━\u001b[0m \u001b[32m892.6/892.6 kB\u001b[0m \u001b[31m5.2 MB/s\u001b[0m eta \u001b[36m0:00:00\u001b[0m\n",
            "\u001b[?25hDownloading numpy-1.24.3-cp310-cp310-manylinux_2_17_x86_64.manylinux2014_x86_64.whl (17.3 MB)\n",
            "\u001b[2K   \u001b[90m━━━━━━━━━━━━━━━━━━━━━━━━━━━━━━━━━━━━━━━━\u001b[0m \u001b[32m17.3/17.3 MB\u001b[0m \u001b[31m67.2 MB/s\u001b[0m eta \u001b[36m0:00:00\u001b[0m\n",
            "\u001b[?25hDownloading fasttext_wheel-0.9.2-cp310-cp310-manylinux_2_17_x86_64.manylinux2014_x86_64.whl (4.4 MB)\n",
            "\u001b[2K   \u001b[90m━━━━━━━━━━━━━━━━━━━━━━━━━━━━━━━━━━━━━━━━\u001b[0m \u001b[32m4.4/4.4 MB\u001b[0m \u001b[31m60.9 MB/s\u001b[0m eta \u001b[36m0:00:00\u001b[0m\n",
            "\u001b[?25hDownloading python_crfsuite-0.9.10-cp310-cp310-manylinux_2_17_x86_64.manylinux2014_x86_64.whl (1.1 MB)\n",
            "\u001b[2K   \u001b[90m━━━━━━━━━━━━━━━━━━━━━━━━━━━━━━━━━━━━━━━━\u001b[0m \u001b[32m1.1/1.1 MB\u001b[0m \u001b[31m48.6 MB/s\u001b[0m eta \u001b[36m0:00:00\u001b[0m\n",
            "\u001b[?25hDownloading pybind11-2.13.5-py3-none-any.whl (240 kB)\n",
            "\u001b[2K   \u001b[90m━━━━━━━━━━━━━━━━━━━━━━━━━━━━━━━━━━━━━━━━\u001b[0m \u001b[32m241.0/241.0 kB\u001b[0m \u001b[31m17.5 MB/s\u001b[0m eta \u001b[36m0:00:00\u001b[0m\n",
            "\u001b[?25hBuilding wheels for collected packages: flashtext\n",
            "  Building wheel for flashtext (setup.py) ... \u001b[?25l\u001b[?25hdone\n",
            "  Created wheel for flashtext: filename=flashtext-2.7-py2.py3-none-any.whl size=9297 sha256=2957742c89d985ab00313a53c27e4bf581f431c16904666a915a63ef3cd85411\n",
            "  Stored in directory: /root/.cache/pip/wheels/bc/be/39/c37ad168eb2ff644c9685f52554440372129450f0b8ed203dd\n",
            "Successfully built flashtext\n",
            "Installing collected packages: python-crfsuite, flashtext, pybind11, numpy, fasttext-wheel, hazm\n",
            "  Attempting uninstall: numpy\n",
            "    Found existing installation: numpy 1.26.4\n",
            "    Uninstalling numpy-1.26.4:\n",
            "      Successfully uninstalled numpy-1.26.4\n",
            "\u001b[31mERROR: pip's dependency resolver does not currently take into account all the packages that are installed. This behaviour is the source of the following dependency conflicts.\n",
            "albucore 0.0.13 requires numpy<2,>=1.24.4, but you have numpy 1.24.3 which is incompatible.\n",
            "albumentations 1.4.14 requires numpy>=1.24.4, but you have numpy 1.24.3 which is incompatible.\n",
            "cudf-cu12 24.4.1 requires pyarrow<15.0.0a0,>=14.0.1, but you have pyarrow 17.0.0 which is incompatible.\n",
            "ibis-framework 8.0.0 requires pyarrow<16,>=2, but you have pyarrow 17.0.0 which is incompatible.\n",
            "pandas-stubs 2.1.4.231227 requires numpy>=1.26.0; python_version < \"3.13\", but you have numpy 1.24.3 which is incompatible.\u001b[0m\u001b[31m\n",
            "\u001b[0mSuccessfully installed fasttext-wheel-0.9.2 flashtext-2.7 hazm-0.10.0 numpy-1.24.3 pybind11-2.13.5 python-crfsuite-0.9.10\n"
          ]
        },
        {
          "output_type": "display_data",
          "data": {
            "application/vnd.colab-display-data+json": {
              "pip_warning": {
                "packages": [
                  "numpy"
                ]
              },
              "id": "6dcacc48cf08444bb0468bc655d71770"
            }
          },
          "metadata": {}
        },
        {
          "output_type": "stream",
          "name": "stdout",
          "text": [
            "Requirement already satisfied: tqdm in /usr/local/lib/python3.10/dist-packages (4.66.5)\n"
          ]
        }
      ]
    },
    {
      "cell_type": "markdown",
      "source": [
        "#initial setup"
      ],
      "metadata": {
        "id": "7FPvaor2Ks2n"
      }
    },
    {
      "cell_type": "code",
      "execution_count": 2,
      "metadata": {
        "id": "u_8xtmVYhsyg",
        "colab": {
          "base_uri": "https://localhost:8080/"
        },
        "outputId": "00957a8a-9d9f-4522-e014-7448e912da23"
      },
      "outputs": [
        {
          "output_type": "stream",
          "name": "stdout",
          "text": [
            "Drive already mounted at /content/drive; to attempt to forcibly remount, call drive.mount(\"/content/drive\", force_remount=True).\n"
          ]
        }
      ],
      "source": [
        "from google.colab import drive\n",
        "drive.mount('/content/drive')"
      ]
    },
    {
      "cell_type": "code",
      "source": [
        "import numpy as np\n",
        "import pandas as pd\n",
        "import os\n",
        "from os import path\n",
        "import seaborn as sns\n",
        "from tqdm.notebook import tqdm\n",
        "import hazm\n",
        "from cleantext import clean\n",
        "import plotly.express as px\n",
        "import plotly.graph_objects as go\n",
        "from tqdm.notebook import tqdm\n",
        "from tqdm import tqdm\n",
        "import re\n",
        "import json\n",
        "import copy\n",
        "import collections\n",
        "from transformers import AutoTokenizer, AutoModelForSequenceClassification, TrainingArguments, Trainer\n",
        "from datasets import Dataset,load_dataset, DatasetDict\n",
        "from iterstrat.ml_stratifiers import MultilabelStratifiedKFold\n",
        "from sklearn.metrics import confusion_matrix, ConfusionMatrixDisplay\n",
        "import matplotlib.pyplot as plt"
      ],
      "metadata": {
        "id": "Oxb790_59rbb"
      },
      "execution_count": 3,
      "outputs": []
    },
    {
      "cell_type": "code",
      "source": [
        "from sklearn.model_selection import train_test_split,KFold\n",
        "from sklearn.metrics import classification_report,accuracy_score, f1_score\n",
        "from sklearn.metrics import precision_recall_fscore_support\n",
        "from sklearn.utils import shuffle\n",
        "from sklearn.preprocessing import LabelEncoder\n",
        "from scipy.special import expit  # This is the sigmoid function"
      ],
      "metadata": {
        "id": "RnSGjWb7MZkD"
      },
      "execution_count": 4,
      "outputs": []
    },
    {
      "cell_type": "code",
      "source": [
        "import torch\n",
        "import torch.nn as nn\n",
        "import torch.nn.functional as F\n"
      ],
      "metadata": {
        "id": "2V-NfH3EMJSi"
      },
      "execution_count": 5,
      "outputs": []
    },
    {
      "cell_type": "code",
      "source": [
        "pip show transformers accelerate"
      ],
      "metadata": {
        "id": "BfVFVBICMFuw",
        "colab": {
          "base_uri": "https://localhost:8080/"
        },
        "outputId": "f8a47e56-bf40-4b9b-bdac-40b986ef01eb"
      },
      "execution_count": 6,
      "outputs": [
        {
          "output_type": "stream",
          "name": "stdout",
          "text": [
            "Name: transformers\n",
            "Version: 4.44.2\n",
            "Summary: State-of-the-art Machine Learning for JAX, PyTorch and TensorFlow\n",
            "Home-page: https://github.com/huggingface/transformers\n",
            "Author: The Hugging Face team (past and future) with the help of all our contributors (https://github.com/huggingface/transformers/graphs/contributors)\n",
            "Author-email: transformers@huggingface.co\n",
            "License: Apache 2.0 License\n",
            "Location: /usr/local/lib/python3.10/dist-packages\n",
            "Requires: filelock, huggingface-hub, numpy, packaging, pyyaml, regex, requests, safetensors, tokenizers, tqdm\n",
            "Required-by: \n",
            "---\n",
            "Name: accelerate\n",
            "Version: 0.34.0\n",
            "Summary: Accelerate\n",
            "Home-page: https://github.com/huggingface/accelerate\n",
            "Author: The HuggingFace team\n",
            "Author-email: zach.mueller@huggingface.co\n",
            "License: Apache\n",
            "Location: /usr/local/lib/python3.10/dist-packages\n",
            "Requires: huggingface-hub, numpy, packaging, psutil, pyyaml, safetensors, torch\n",
            "Required-by: \n"
          ]
        }
      ]
    },
    {
      "cell_type": "markdown",
      "source": [
        "#Models\n",
        "\n",
        "*   List models\n",
        "\n"
      ],
      "metadata": {
        "id": "gi7SIrqscbPG"
      }
    },
    {
      "cell_type": "code",
      "source": [
        "# fasttext              facebook/fasttext-language-identification\n",
        "# HAN                   microsoft/trocr-base-handwritten\n",
        "\n",
        "# RCNN\n",
        "# RCNNVariant\n",
        "# TextAttBiRNN\n",
        "# TextBiRNN\n",
        "# TextRNN\n",
        "\n",
        "# ParsBERT              HooshvareLab/bert-fa-base-uncased         HooshvareLab/bert-base-parsbert-uncased     HooshvareLab/bert-fa-base-uncased-ner-peyma\n",
        "# XLM-Roberta-base      FacebookAI/xlm-roberta-base\n",
        "# XLM-Roberta-large     FacebookAI/xlm-roberta-large\n",
        "# XLM-EMO-T             MilaNLProc/xlm-emo-t\n",
        "\n",
        "# bert                      google-bert/bert-base-multilingual-uncased\n",
        "# distil-roberta-base       distilbert/distilroberta-base\n",
        "# distil-bert               distilbert/distilbert-base-uncased\n",
        "#distil-bert multilingual   distilbert/distilbert-base-multilingual-cased\n",
        "#DeBERTAV3                  microsoft/mdeberta-v3-base\n",
        "#DeBERTA-base               microsoft/deberta-base\n",
        "#albert-base                albert/albert-base-v2\n",
        "#xlnet-base                 xlnet/xlnet-base-cased\n",
        "#t5                         google-t5/t5-base\n"
      ],
      "metadata": {
        "id": "sccp_64tcp4S"
      },
      "execution_count": null,
      "outputs": []
    },
    {
      "cell_type": "code",
      "source": [
        "models_list=[\n",
        "            \"facebook/fasttext-language-identification\",\n",
        "             \"microsoft/trocr-base-handwritten\",\n",
        "             \"HooshvareLab/bert-fa-base-uncased\",\n",
        "             \"FacebookAI/xlm-roberta-base\",\n",
        "             \"FacebookAI/xlm-roberta-large\",\n",
        "             \"MilaNLProc/xlm-emo-t\",\n",
        "             \"google-bert/bert-base-multilingual-uncased\",\n",
        "             \"distilbert/distilroberta-base\",\n",
        "             \"distilbert/distilbert-base-uncased\",\n",
        "             \"distilbert/distilbert-base-multilingual-cased\",\n",
        "             \"distilbert/distilbert-base-multilingual-cased\",\n",
        "             \"microsoft/mdeberta-v3-base\",\n",
        "             \"microsoft/deberta-base\",\n",
        "             \"albert/albert-base-v2\",\n",
        "             \"xlnet/xlnet-base-cased\",\n",
        "             \"google-t5/t5-base\",\n",
        "             ]\n",
        "\n",
        "models_name=[\n",
        "\"fasttext\",\n",
        "\"HAN\",\n",
        "\"ParsBERT\",\n",
        "\"XLM-Roberta-base\",\n",
        "\"XLM-Roberta-large\",\n",
        "\"XLM-EMO-T\",\n",
        "\"bert\",\n",
        "\"distil-roberta-base\",\n",
        "\"distil-bert\",\n",
        "\"distil-bert multilingual\",\n",
        "\"DeBERTAV3\",\n",
        "\"DeBERTA-base\",\n",
        "\"albert-base\",\n",
        "\"xlnet-base\",\n",
        "\"t5\",\n",
        "]\n",
        "\n"
      ],
      "metadata": {
        "id": "Zf-7_pkJckjz"
      },
      "execution_count": 7,
      "outputs": []
    },
    {
      "cell_type": "markdown",
      "source": [
        "#Load Data"
      ],
      "metadata": {
        "id": "1M2-m9OYM3OY"
      }
    },
    {
      "cell_type": "code",
      "source": [
        "#fill with the dataset address\n",
        "base_data=pd.read_csv(\"/content/drive/MyDrive/chatbot dataset/final_labeled_chats.csv\")\n",
        "base_data=base_data.drop(columns={'Unnamed: 8','relative_message'})\n",
        "base_data"
      ],
      "metadata": {
        "id": "A5xQYR0yKlgC",
        "colab": {
          "base_uri": "https://localhost:8080/",
          "height": 788
        },
        "outputId": "b78dca23-c76b-4c11-d116-b961ada3cde6"
      },
      "execution_count": 8,
      "outputs": [
        {
          "output_type": "execute_result",
          "data": {
            "text/plain": [
              "     username                        created_at  \\\n",
              "0       test2  2024-08-11 10:27:42.951347+00:00   \n",
              "1       test2  2024-08-11 10:28:00.300694+00:00   \n",
              "2       test2  2024-08-11 10:28:51.753344+00:00   \n",
              "3       test2  2024-08-11 10:29:44.775521+00:00   \n",
              "4       test2  2024-08-11 10:30:43.400752+00:00   \n",
              "...       ...                               ...   \n",
              "1257      علی  2024-08-29 22:31:33.683202+00:00   \n",
              "1258      علی  2024-08-29 22:32:41.656825+00:00   \n",
              "1259      علی  2024-08-29 22:33:41.510656+00:00   \n",
              "1260      علی  2024-08-29 22:34:18.723609+00:00   \n",
              "1261      علی  2024-08-29 22:34:48.541742+00:00   \n",
              "\n",
              "                                        message  \\\n",
              "0                                          سلام   \n",
              "1                                   اسم تو چیست   \n",
              "2                          امروز کمی سردرد دارم   \n",
              "3                          امروز کمی سردرد دارم   \n",
              "4                          امروز کمی سردرد دارم   \n",
              "...                                         ...   \n",
              "1257           فکر میکنم کسی به من اهمیتی نمیده   \n",
              "1258  فکر میکنم دوستام برای من ارزشی قائل نیستن   \n",
              "1259                 چیکار کنم مادرم خوشحال کنم   \n",
              "1260                          داشتن مدیریت مالی   \n",
              "1261                                      ممنون   \n",
              "\n",
              "                                               response  \\\n",
              "0     از این که با من در میان گذاشتید خوشحالم. چطور ...   \n",
              "1     به من می‌توانید با عنوان راهنما یاد کنید. من ا...   \n",
              "2     متوجه شدم که امروز کمی سردرد دارید. گاهی اوقات...   \n",
              "3     احساس ناراحتی که شما تجربه می‌کنید می‌تواند بی...   \n",
              "4     طبق اطلاعاتی که در دست دارم، متوجه شده‌ام که م...   \n",
              "...                                                 ...   \n",
              "1257  متأسفم که این حس رو داری. می‌دونم که گاهی بیشت...   \n",
              "1258  می‌فهمم چه احساسی داری. گاهی آدم‌ها مشغله‌های ...   \n",
              "1259  می‌دونم که خوشحال کردن مادرت برات خیلی مهمه. ش...   \n",
              "1260  به نظر میاد که مدیریت مالی برات داره استرس ایج...   \n",
              "1261  برای هر چیزی که نیاز داری اینجا هستم. احساس می...   \n",
              "\n",
              "                                                emotion  \\\n",
              "0     {'OTHER': 0.01733604446053505, 'HAPPY': 0.6017...   \n",
              "1     {'OTHER': 0.022789059206843376, 'HAPPY': 0.060...   \n",
              "2     {'OTHER': 0.478849321603775, 'HAPPY': 0.054604...   \n",
              "3     {'OTHER': 0.478849321603775, 'HAPPY': 0.054604...   \n",
              "4     {'OTHER': 0.478849321603775, 'HAPPY': 0.054604...   \n",
              "...                                                 ...   \n",
              "1257  {'OTHER': 0.8344117999076843, 'HAPPY': 0.01260...   \n",
              "1258  {'OTHER': 0.8188485503196716, 'HAPPY': 0.01676...   \n",
              "1259  {'OTHER': 0.5356032252311707, 'HAPPY': 0.34640...   \n",
              "1260  {'OTHER': 0.01191758830100298, 'HAPPY': 0.0419...   \n",
              "1261  {'OTHER': 0.01413705199956894, 'HAPPY': 0.9360...   \n",
              "\n",
              "                                               disorder validation  label  \\\n",
              "0     {'Not Stressed': 0.9525769352912903, 'Stressed...         []      1   \n",
              "1     {'Not Stressed': 0.9497029185295105, 'Stressed...         []      1   \n",
              "2     {'Not Stressed': 0.10206229239702225, 'Stresse...         []      1   \n",
              "3     {'Not Stressed': 0.10206229239702225, 'Stresse...         []      1   \n",
              "4     {'Not Stressed': 0.10206229239702225, 'Stresse...         []      1   \n",
              "...                                                 ...        ...    ...   \n",
              "1257  {'Not Stressed': 0.028578927740454674, 'Stress...         []      1   \n",
              "1258  {'Not Stressed': 0.39618656039237976, 'Stresse...         []      1   \n",
              "1259  {'Not Stressed': 0.0787871852517128, 'Stressed...         []      1   \n",
              "1260  {'Not Stressed': 0.9203130006790161, 'Stressed...         []      1   \n",
              "1261  {'Not Stressed': 0.6066409349441528, 'Stressed...         []      1   \n",
              "\n",
              "      related  not-related  \n",
              "0           1            0  \n",
              "1           1            0  \n",
              "2           1            0  \n",
              "3           1            0  \n",
              "4           1            0  \n",
              "...       ...          ...  \n",
              "1257        1            0  \n",
              "1258        1            0  \n",
              "1259        1            0  \n",
              "1260        1            0  \n",
              "1261        1            0  \n",
              "\n",
              "[1262 rows x 10 columns]"
            ],
            "text/html": [
              "\n",
              "  <div id=\"df-61b3a8f4-cde5-4bf3-8121-9a947eb5c4e8\" class=\"colab-df-container\">\n",
              "    <div>\n",
              "<style scoped>\n",
              "    .dataframe tbody tr th:only-of-type {\n",
              "        vertical-align: middle;\n",
              "    }\n",
              "\n",
              "    .dataframe tbody tr th {\n",
              "        vertical-align: top;\n",
              "    }\n",
              "\n",
              "    .dataframe thead th {\n",
              "        text-align: right;\n",
              "    }\n",
              "</style>\n",
              "<table border=\"1\" class=\"dataframe\">\n",
              "  <thead>\n",
              "    <tr style=\"text-align: right;\">\n",
              "      <th></th>\n",
              "      <th>username</th>\n",
              "      <th>created_at</th>\n",
              "      <th>message</th>\n",
              "      <th>response</th>\n",
              "      <th>emotion</th>\n",
              "      <th>disorder</th>\n",
              "      <th>validation</th>\n",
              "      <th>label</th>\n",
              "      <th>related</th>\n",
              "      <th>not-related</th>\n",
              "    </tr>\n",
              "  </thead>\n",
              "  <tbody>\n",
              "    <tr>\n",
              "      <th>0</th>\n",
              "      <td>test2</td>\n",
              "      <td>2024-08-11 10:27:42.951347+00:00</td>\n",
              "      <td>سلام</td>\n",
              "      <td>از این که با من در میان گذاشتید خوشحالم. چطور ...</td>\n",
              "      <td>{'OTHER': 0.01733604446053505, 'HAPPY': 0.6017...</td>\n",
              "      <td>{'Not Stressed': 0.9525769352912903, 'Stressed...</td>\n",
              "      <td>[]</td>\n",
              "      <td>1</td>\n",
              "      <td>1</td>\n",
              "      <td>0</td>\n",
              "    </tr>\n",
              "    <tr>\n",
              "      <th>1</th>\n",
              "      <td>test2</td>\n",
              "      <td>2024-08-11 10:28:00.300694+00:00</td>\n",
              "      <td>اسم تو چیست</td>\n",
              "      <td>به من می‌توانید با عنوان راهنما یاد کنید. من ا...</td>\n",
              "      <td>{'OTHER': 0.022789059206843376, 'HAPPY': 0.060...</td>\n",
              "      <td>{'Not Stressed': 0.9497029185295105, 'Stressed...</td>\n",
              "      <td>[]</td>\n",
              "      <td>1</td>\n",
              "      <td>1</td>\n",
              "      <td>0</td>\n",
              "    </tr>\n",
              "    <tr>\n",
              "      <th>2</th>\n",
              "      <td>test2</td>\n",
              "      <td>2024-08-11 10:28:51.753344+00:00</td>\n",
              "      <td>امروز کمی سردرد دارم</td>\n",
              "      <td>متوجه شدم که امروز کمی سردرد دارید. گاهی اوقات...</td>\n",
              "      <td>{'OTHER': 0.478849321603775, 'HAPPY': 0.054604...</td>\n",
              "      <td>{'Not Stressed': 0.10206229239702225, 'Stresse...</td>\n",
              "      <td>[]</td>\n",
              "      <td>1</td>\n",
              "      <td>1</td>\n",
              "      <td>0</td>\n",
              "    </tr>\n",
              "    <tr>\n",
              "      <th>3</th>\n",
              "      <td>test2</td>\n",
              "      <td>2024-08-11 10:29:44.775521+00:00</td>\n",
              "      <td>امروز کمی سردرد دارم</td>\n",
              "      <td>احساس ناراحتی که شما تجربه می‌کنید می‌تواند بی...</td>\n",
              "      <td>{'OTHER': 0.478849321603775, 'HAPPY': 0.054604...</td>\n",
              "      <td>{'Not Stressed': 0.10206229239702225, 'Stresse...</td>\n",
              "      <td>[]</td>\n",
              "      <td>1</td>\n",
              "      <td>1</td>\n",
              "      <td>0</td>\n",
              "    </tr>\n",
              "    <tr>\n",
              "      <th>4</th>\n",
              "      <td>test2</td>\n",
              "      <td>2024-08-11 10:30:43.400752+00:00</td>\n",
              "      <td>امروز کمی سردرد دارم</td>\n",
              "      <td>طبق اطلاعاتی که در دست دارم، متوجه شده‌ام که م...</td>\n",
              "      <td>{'OTHER': 0.478849321603775, 'HAPPY': 0.054604...</td>\n",
              "      <td>{'Not Stressed': 0.10206229239702225, 'Stresse...</td>\n",
              "      <td>[]</td>\n",
              "      <td>1</td>\n",
              "      <td>1</td>\n",
              "      <td>0</td>\n",
              "    </tr>\n",
              "    <tr>\n",
              "      <th>...</th>\n",
              "      <td>...</td>\n",
              "      <td>...</td>\n",
              "      <td>...</td>\n",
              "      <td>...</td>\n",
              "      <td>...</td>\n",
              "      <td>...</td>\n",
              "      <td>...</td>\n",
              "      <td>...</td>\n",
              "      <td>...</td>\n",
              "      <td>...</td>\n",
              "    </tr>\n",
              "    <tr>\n",
              "      <th>1257</th>\n",
              "      <td>علی</td>\n",
              "      <td>2024-08-29 22:31:33.683202+00:00</td>\n",
              "      <td>فکر میکنم کسی به من اهمیتی نمیده</td>\n",
              "      <td>متأسفم که این حس رو داری. می‌دونم که گاهی بیشت...</td>\n",
              "      <td>{'OTHER': 0.8344117999076843, 'HAPPY': 0.01260...</td>\n",
              "      <td>{'Not Stressed': 0.028578927740454674, 'Stress...</td>\n",
              "      <td>[]</td>\n",
              "      <td>1</td>\n",
              "      <td>1</td>\n",
              "      <td>0</td>\n",
              "    </tr>\n",
              "    <tr>\n",
              "      <th>1258</th>\n",
              "      <td>علی</td>\n",
              "      <td>2024-08-29 22:32:41.656825+00:00</td>\n",
              "      <td>فکر میکنم دوستام برای من ارزشی قائل نیستن</td>\n",
              "      <td>می‌فهمم چه احساسی داری. گاهی آدم‌ها مشغله‌های ...</td>\n",
              "      <td>{'OTHER': 0.8188485503196716, 'HAPPY': 0.01676...</td>\n",
              "      <td>{'Not Stressed': 0.39618656039237976, 'Stresse...</td>\n",
              "      <td>[]</td>\n",
              "      <td>1</td>\n",
              "      <td>1</td>\n",
              "      <td>0</td>\n",
              "    </tr>\n",
              "    <tr>\n",
              "      <th>1259</th>\n",
              "      <td>علی</td>\n",
              "      <td>2024-08-29 22:33:41.510656+00:00</td>\n",
              "      <td>چیکار کنم مادرم خوشحال کنم</td>\n",
              "      <td>می‌دونم که خوشحال کردن مادرت برات خیلی مهمه. ش...</td>\n",
              "      <td>{'OTHER': 0.5356032252311707, 'HAPPY': 0.34640...</td>\n",
              "      <td>{'Not Stressed': 0.0787871852517128, 'Stressed...</td>\n",
              "      <td>[]</td>\n",
              "      <td>1</td>\n",
              "      <td>1</td>\n",
              "      <td>0</td>\n",
              "    </tr>\n",
              "    <tr>\n",
              "      <th>1260</th>\n",
              "      <td>علی</td>\n",
              "      <td>2024-08-29 22:34:18.723609+00:00</td>\n",
              "      <td>داشتن مدیریت مالی</td>\n",
              "      <td>به نظر میاد که مدیریت مالی برات داره استرس ایج...</td>\n",
              "      <td>{'OTHER': 0.01191758830100298, 'HAPPY': 0.0419...</td>\n",
              "      <td>{'Not Stressed': 0.9203130006790161, 'Stressed...</td>\n",
              "      <td>[]</td>\n",
              "      <td>1</td>\n",
              "      <td>1</td>\n",
              "      <td>0</td>\n",
              "    </tr>\n",
              "    <tr>\n",
              "      <th>1261</th>\n",
              "      <td>علی</td>\n",
              "      <td>2024-08-29 22:34:48.541742+00:00</td>\n",
              "      <td>ممنون</td>\n",
              "      <td>برای هر چیزی که نیاز داری اینجا هستم. احساس می...</td>\n",
              "      <td>{'OTHER': 0.01413705199956894, 'HAPPY': 0.9360...</td>\n",
              "      <td>{'Not Stressed': 0.6066409349441528, 'Stressed...</td>\n",
              "      <td>[]</td>\n",
              "      <td>1</td>\n",
              "      <td>1</td>\n",
              "      <td>0</td>\n",
              "    </tr>\n",
              "  </tbody>\n",
              "</table>\n",
              "<p>1262 rows × 10 columns</p>\n",
              "</div>\n",
              "    <div class=\"colab-df-buttons\">\n",
              "      \n",
              "  <div class=\"colab-df-container\">\n",
              "    <button class=\"colab-df-convert\" onclick=\"convertToInteractive('df-61b3a8f4-cde5-4bf3-8121-9a947eb5c4e8')\"\n",
              "            title=\"Convert this dataframe to an interactive table.\"\n",
              "            style=\"display:none;\">\n",
              "      \n",
              "  <svg xmlns=\"http://www.w3.org/2000/svg\" height=\"24px\" viewBox=\"0 -960 960 960\">\n",
              "    <path d=\"M120-120v-720h720v720H120Zm60-500h600v-160H180v160Zm220 220h160v-160H400v160Zm0 220h160v-160H400v160ZM180-400h160v-160H180v160Zm440 0h160v-160H620v160ZM180-180h160v-160H180v160Zm440 0h160v-160H620v160Z\"/>\n",
              "  </svg>\n",
              "    </button>\n",
              "    \n",
              "  <style>\n",
              "    .colab-df-container {\n",
              "      display:flex;\n",
              "      gap: 12px;\n",
              "    }\n",
              "\n",
              "    .colab-df-convert {\n",
              "      background-color: #E8F0FE;\n",
              "      border: none;\n",
              "      border-radius: 50%;\n",
              "      cursor: pointer;\n",
              "      display: none;\n",
              "      fill: #1967D2;\n",
              "      height: 32px;\n",
              "      padding: 0 0 0 0;\n",
              "      width: 32px;\n",
              "    }\n",
              "\n",
              "    .colab-df-convert:hover {\n",
              "      background-color: #E2EBFA;\n",
              "      box-shadow: 0px 1px 2px rgba(60, 64, 67, 0.3), 0px 1px 3px 1px rgba(60, 64, 67, 0.15);\n",
              "      fill: #174EA6;\n",
              "    }\n",
              "\n",
              "    .colab-df-buttons div {\n",
              "      margin-bottom: 4px;\n",
              "    }\n",
              "\n",
              "    [theme=dark] .colab-df-convert {\n",
              "      background-color: #3B4455;\n",
              "      fill: #D2E3FC;\n",
              "    }\n",
              "\n",
              "    [theme=dark] .colab-df-convert:hover {\n",
              "      background-color: #434B5C;\n",
              "      box-shadow: 0px 1px 3px 1px rgba(0, 0, 0, 0.15);\n",
              "      filter: drop-shadow(0px 1px 2px rgba(0, 0, 0, 0.3));\n",
              "      fill: #FFFFFF;\n",
              "    }\n",
              "  </style>\n",
              "\n",
              "    <script>\n",
              "      const buttonEl =\n",
              "        document.querySelector('#df-61b3a8f4-cde5-4bf3-8121-9a947eb5c4e8 button.colab-df-convert');\n",
              "      buttonEl.style.display =\n",
              "        google.colab.kernel.accessAllowed ? 'block' : 'none';\n",
              "\n",
              "      async function convertToInteractive(key) {\n",
              "        const element = document.querySelector('#df-61b3a8f4-cde5-4bf3-8121-9a947eb5c4e8');\n",
              "        const dataTable =\n",
              "          await google.colab.kernel.invokeFunction('convertToInteractive',\n",
              "                                                    [key], {});\n",
              "        if (!dataTable) return;\n",
              "\n",
              "        const docLinkHtml = 'Like what you see? Visit the ' +\n",
              "          '<a target=\"_blank\" href=https://colab.research.google.com/notebooks/data_table.ipynb>data table notebook</a>'\n",
              "          + ' to learn more about interactive tables.';\n",
              "        element.innerHTML = '';\n",
              "        dataTable['output_type'] = 'display_data';\n",
              "        await google.colab.output.renderOutput(dataTable, element);\n",
              "        const docLink = document.createElement('div');\n",
              "        docLink.innerHTML = docLinkHtml;\n",
              "        element.appendChild(docLink);\n",
              "      }\n",
              "    </script>\n",
              "  </div>\n",
              "  \n",
              "    </div>\n",
              "  </div>\n",
              "  "
            ]
          },
          "metadata": {},
          "execution_count": 8
        }
      ]
    },
    {
      "cell_type": "code",
      "source": [
        "type(base_data.iloc[0].message)"
      ],
      "metadata": {
        "id": "blzHow1UKlX6",
        "colab": {
          "base_uri": "https://localhost:8080/"
        },
        "outputId": "dea03091-161e-4035-c680-b12fd8a5c706"
      },
      "execution_count": 9,
      "outputs": [
        {
          "output_type": "execute_result",
          "data": {
            "text/plain": [
              "str"
            ]
          },
          "metadata": {},
          "execution_count": 9
        }
      ]
    },
    {
      "cell_type": "code",
      "source": [
        "base_data.info()"
      ],
      "metadata": {
        "id": "4iYZAavvKlRX",
        "colab": {
          "base_uri": "https://localhost:8080/"
        },
        "outputId": "265e3494-3a7e-4733-ba3e-a9224ac08117"
      },
      "execution_count": 10,
      "outputs": [
        {
          "output_type": "stream",
          "name": "stdout",
          "text": [
            "<class 'pandas.core.frame.DataFrame'>\n",
            "RangeIndex: 1262 entries, 0 to 1261\n",
            "Data columns (total 10 columns):\n",
            " #   Column       Non-Null Count  Dtype \n",
            "---  ------       --------------  ----- \n",
            " 0   username     1262 non-null   object\n",
            " 1   created_at   1262 non-null   object\n",
            " 2   message      1262 non-null   object\n",
            " 3   response     1262 non-null   object\n",
            " 4   emotion      1262 non-null   object\n",
            " 5   disorder     1262 non-null   object\n",
            " 6   validation   1262 non-null   object\n",
            " 7   label        1262 non-null   int64 \n",
            " 8   related      1262 non-null   int64 \n",
            " 9   not-related  1262 non-null   int64 \n",
            "dtypes: int64(3), object(7)\n",
            "memory usage: 98.7+ KB\n"
          ]
        }
      ]
    },
    {
      "cell_type": "code",
      "source": [
        "base_data.head()"
      ],
      "metadata": {
        "id": "SxTMPoYLNwP9",
        "colab": {
          "base_uri": "https://localhost:8080/",
          "height": 397
        },
        "outputId": "a03812a7-1bf4-4b7b-eca1-afe83d8fea9d"
      },
      "execution_count": 11,
      "outputs": [
        {
          "output_type": "execute_result",
          "data": {
            "text/plain": [
              "  username                        created_at               message  \\\n",
              "0    test2  2024-08-11 10:27:42.951347+00:00                  سلام   \n",
              "1    test2  2024-08-11 10:28:00.300694+00:00           اسم تو چیست   \n",
              "2    test2  2024-08-11 10:28:51.753344+00:00  امروز کمی سردرد دارم   \n",
              "3    test2  2024-08-11 10:29:44.775521+00:00  امروز کمی سردرد دارم   \n",
              "4    test2  2024-08-11 10:30:43.400752+00:00  امروز کمی سردرد دارم   \n",
              "\n",
              "                                            response  \\\n",
              "0  از این که با من در میان گذاشتید خوشحالم. چطور ...   \n",
              "1  به من می‌توانید با عنوان راهنما یاد کنید. من ا...   \n",
              "2  متوجه شدم که امروز کمی سردرد دارید. گاهی اوقات...   \n",
              "3  احساس ناراحتی که شما تجربه می‌کنید می‌تواند بی...   \n",
              "4  طبق اطلاعاتی که در دست دارم، متوجه شده‌ام که م...   \n",
              "\n",
              "                                             emotion  \\\n",
              "0  {'OTHER': 0.01733604446053505, 'HAPPY': 0.6017...   \n",
              "1  {'OTHER': 0.022789059206843376, 'HAPPY': 0.060...   \n",
              "2  {'OTHER': 0.478849321603775, 'HAPPY': 0.054604...   \n",
              "3  {'OTHER': 0.478849321603775, 'HAPPY': 0.054604...   \n",
              "4  {'OTHER': 0.478849321603775, 'HAPPY': 0.054604...   \n",
              "\n",
              "                                            disorder validation  label  \\\n",
              "0  {'Not Stressed': 0.9525769352912903, 'Stressed...         []      1   \n",
              "1  {'Not Stressed': 0.9497029185295105, 'Stressed...         []      1   \n",
              "2  {'Not Stressed': 0.10206229239702225, 'Stresse...         []      1   \n",
              "3  {'Not Stressed': 0.10206229239702225, 'Stresse...         []      1   \n",
              "4  {'Not Stressed': 0.10206229239702225, 'Stresse...         []      1   \n",
              "\n",
              "   related  not-related  \n",
              "0        1            0  \n",
              "1        1            0  \n",
              "2        1            0  \n",
              "3        1            0  \n",
              "4        1            0  "
            ],
            "text/html": [
              "\n",
              "  <div id=\"df-f91e6b3d-3397-4f32-a0f0-13983188d241\" class=\"colab-df-container\">\n",
              "    <div>\n",
              "<style scoped>\n",
              "    .dataframe tbody tr th:only-of-type {\n",
              "        vertical-align: middle;\n",
              "    }\n",
              "\n",
              "    .dataframe tbody tr th {\n",
              "        vertical-align: top;\n",
              "    }\n",
              "\n",
              "    .dataframe thead th {\n",
              "        text-align: right;\n",
              "    }\n",
              "</style>\n",
              "<table border=\"1\" class=\"dataframe\">\n",
              "  <thead>\n",
              "    <tr style=\"text-align: right;\">\n",
              "      <th></th>\n",
              "      <th>username</th>\n",
              "      <th>created_at</th>\n",
              "      <th>message</th>\n",
              "      <th>response</th>\n",
              "      <th>emotion</th>\n",
              "      <th>disorder</th>\n",
              "      <th>validation</th>\n",
              "      <th>label</th>\n",
              "      <th>related</th>\n",
              "      <th>not-related</th>\n",
              "    </tr>\n",
              "  </thead>\n",
              "  <tbody>\n",
              "    <tr>\n",
              "      <th>0</th>\n",
              "      <td>test2</td>\n",
              "      <td>2024-08-11 10:27:42.951347+00:00</td>\n",
              "      <td>سلام</td>\n",
              "      <td>از این که با من در میان گذاشتید خوشحالم. چطور ...</td>\n",
              "      <td>{'OTHER': 0.01733604446053505, 'HAPPY': 0.6017...</td>\n",
              "      <td>{'Not Stressed': 0.9525769352912903, 'Stressed...</td>\n",
              "      <td>[]</td>\n",
              "      <td>1</td>\n",
              "      <td>1</td>\n",
              "      <td>0</td>\n",
              "    </tr>\n",
              "    <tr>\n",
              "      <th>1</th>\n",
              "      <td>test2</td>\n",
              "      <td>2024-08-11 10:28:00.300694+00:00</td>\n",
              "      <td>اسم تو چیست</td>\n",
              "      <td>به من می‌توانید با عنوان راهنما یاد کنید. من ا...</td>\n",
              "      <td>{'OTHER': 0.022789059206843376, 'HAPPY': 0.060...</td>\n",
              "      <td>{'Not Stressed': 0.9497029185295105, 'Stressed...</td>\n",
              "      <td>[]</td>\n",
              "      <td>1</td>\n",
              "      <td>1</td>\n",
              "      <td>0</td>\n",
              "    </tr>\n",
              "    <tr>\n",
              "      <th>2</th>\n",
              "      <td>test2</td>\n",
              "      <td>2024-08-11 10:28:51.753344+00:00</td>\n",
              "      <td>امروز کمی سردرد دارم</td>\n",
              "      <td>متوجه شدم که امروز کمی سردرد دارید. گاهی اوقات...</td>\n",
              "      <td>{'OTHER': 0.478849321603775, 'HAPPY': 0.054604...</td>\n",
              "      <td>{'Not Stressed': 0.10206229239702225, 'Stresse...</td>\n",
              "      <td>[]</td>\n",
              "      <td>1</td>\n",
              "      <td>1</td>\n",
              "      <td>0</td>\n",
              "    </tr>\n",
              "    <tr>\n",
              "      <th>3</th>\n",
              "      <td>test2</td>\n",
              "      <td>2024-08-11 10:29:44.775521+00:00</td>\n",
              "      <td>امروز کمی سردرد دارم</td>\n",
              "      <td>احساس ناراحتی که شما تجربه می‌کنید می‌تواند بی...</td>\n",
              "      <td>{'OTHER': 0.478849321603775, 'HAPPY': 0.054604...</td>\n",
              "      <td>{'Not Stressed': 0.10206229239702225, 'Stresse...</td>\n",
              "      <td>[]</td>\n",
              "      <td>1</td>\n",
              "      <td>1</td>\n",
              "      <td>0</td>\n",
              "    </tr>\n",
              "    <tr>\n",
              "      <th>4</th>\n",
              "      <td>test2</td>\n",
              "      <td>2024-08-11 10:30:43.400752+00:00</td>\n",
              "      <td>امروز کمی سردرد دارم</td>\n",
              "      <td>طبق اطلاعاتی که در دست دارم، متوجه شده‌ام که م...</td>\n",
              "      <td>{'OTHER': 0.478849321603775, 'HAPPY': 0.054604...</td>\n",
              "      <td>{'Not Stressed': 0.10206229239702225, 'Stresse...</td>\n",
              "      <td>[]</td>\n",
              "      <td>1</td>\n",
              "      <td>1</td>\n",
              "      <td>0</td>\n",
              "    </tr>\n",
              "  </tbody>\n",
              "</table>\n",
              "</div>\n",
              "    <div class=\"colab-df-buttons\">\n",
              "      \n",
              "  <div class=\"colab-df-container\">\n",
              "    <button class=\"colab-df-convert\" onclick=\"convertToInteractive('df-f91e6b3d-3397-4f32-a0f0-13983188d241')\"\n",
              "            title=\"Convert this dataframe to an interactive table.\"\n",
              "            style=\"display:none;\">\n",
              "      \n",
              "  <svg xmlns=\"http://www.w3.org/2000/svg\" height=\"24px\" viewBox=\"0 -960 960 960\">\n",
              "    <path d=\"M120-120v-720h720v720H120Zm60-500h600v-160H180v160Zm220 220h160v-160H400v160Zm0 220h160v-160H400v160ZM180-400h160v-160H180v160Zm440 0h160v-160H620v160ZM180-180h160v-160H180v160Zm440 0h160v-160H620v160Z\"/>\n",
              "  </svg>\n",
              "    </button>\n",
              "    \n",
              "  <style>\n",
              "    .colab-df-container {\n",
              "      display:flex;\n",
              "      gap: 12px;\n",
              "    }\n",
              "\n",
              "    .colab-df-convert {\n",
              "      background-color: #E8F0FE;\n",
              "      border: none;\n",
              "      border-radius: 50%;\n",
              "      cursor: pointer;\n",
              "      display: none;\n",
              "      fill: #1967D2;\n",
              "      height: 32px;\n",
              "      padding: 0 0 0 0;\n",
              "      width: 32px;\n",
              "    }\n",
              "\n",
              "    .colab-df-convert:hover {\n",
              "      background-color: #E2EBFA;\n",
              "      box-shadow: 0px 1px 2px rgba(60, 64, 67, 0.3), 0px 1px 3px 1px rgba(60, 64, 67, 0.15);\n",
              "      fill: #174EA6;\n",
              "    }\n",
              "\n",
              "    .colab-df-buttons div {\n",
              "      margin-bottom: 4px;\n",
              "    }\n",
              "\n",
              "    [theme=dark] .colab-df-convert {\n",
              "      background-color: #3B4455;\n",
              "      fill: #D2E3FC;\n",
              "    }\n",
              "\n",
              "    [theme=dark] .colab-df-convert:hover {\n",
              "      background-color: #434B5C;\n",
              "      box-shadow: 0px 1px 3px 1px rgba(0, 0, 0, 0.15);\n",
              "      filter: drop-shadow(0px 1px 2px rgba(0, 0, 0, 0.3));\n",
              "      fill: #FFFFFF;\n",
              "    }\n",
              "  </style>\n",
              "\n",
              "    <script>\n",
              "      const buttonEl =\n",
              "        document.querySelector('#df-f91e6b3d-3397-4f32-a0f0-13983188d241 button.colab-df-convert');\n",
              "      buttonEl.style.display =\n",
              "        google.colab.kernel.accessAllowed ? 'block' : 'none';\n",
              "\n",
              "      async function convertToInteractive(key) {\n",
              "        const element = document.querySelector('#df-f91e6b3d-3397-4f32-a0f0-13983188d241');\n",
              "        const dataTable =\n",
              "          await google.colab.kernel.invokeFunction('convertToInteractive',\n",
              "                                                    [key], {});\n",
              "        if (!dataTable) return;\n",
              "\n",
              "        const docLinkHtml = 'Like what you see? Visit the ' +\n",
              "          '<a target=\"_blank\" href=https://colab.research.google.com/notebooks/data_table.ipynb>data table notebook</a>'\n",
              "          + ' to learn more about interactive tables.';\n",
              "        element.innerHTML = '';\n",
              "        dataTable['output_type'] = 'display_data';\n",
              "        await google.colab.output.renderOutput(dataTable, element);\n",
              "        const docLink = document.createElement('div');\n",
              "        docLink.innerHTML = docLinkHtml;\n",
              "        element.appendChild(docLink);\n",
              "      }\n",
              "    </script>\n",
              "  </div>\n",
              "  \n",
              "    </div>\n",
              "  </div>\n",
              "  "
            ]
          },
          "metadata": {},
          "execution_count": 11
        }
      ]
    },
    {
      "cell_type": "markdown",
      "source": [
        "#Preprocess"
      ],
      "metadata": {
        "id": "51ZinhtmODcf"
      }
    },
    {
      "cell_type": "code",
      "source": [
        "def cleanhtml(raw_html):\n",
        "    cleanr = re.compile('<.*?>')\n",
        "    cleantext = re.sub(cleanr, '', raw_html)\n",
        "    return cleantext\n",
        "\n",
        "\n",
        "def cleaning(text):\n",
        "    text = text.strip()\n",
        "\n",
        "    # regular cleaning\n",
        "    text = clean(text,\n",
        "        fix_unicode=True,\n",
        "        to_ascii=False,\n",
        "        lower=True,\n",
        "        no_line_breaks=True,\n",
        "        no_urls=True,\n",
        "        no_emails=True,\n",
        "        no_phone_numbers=True,\n",
        "        no_numbers=False,\n",
        "        no_digits=False,\n",
        "        no_currency_symbols=True,\n",
        "        no_punct=False,\n",
        "        replace_with_url=\"\",\n",
        "        replace_with_email=\"\",\n",
        "        replace_with_phone_number=\"\",\n",
        "        replace_with_number=\"\",\n",
        "        replace_with_digit=\"0\",\n",
        "        replace_with_currency_symbol=\"\",\n",
        "    )\n",
        "\n",
        "    # cleaning htmls\n",
        "    text = cleanhtml(text)\n",
        "\n",
        "    # normalizing\n",
        "    normalizer = hazm.Normalizer()\n",
        "    text = normalizer.normalize(text)\n",
        "\n",
        "    # removing wierd patterns\n",
        "    wierd_pattern = re.compile(\"[\"\n",
        "        u\"\\U0001F600-\\U0001F64F\"  # emoticons\n",
        "        u\"\\U0001F300-\\U0001F5FF\"  # symbols & pictographs\n",
        "        u\"\\U0001F680-\\U0001F6FF\"  # transport & map symbols\n",
        "        u\"\\U0001F1E0-\\U0001F1FF\"  # flags (iOS)\n",
        "        u\"\\U00002702-\\U000027B0\"\n",
        "        u\"\\U000024C2-\\U0001F251\"\n",
        "        u\"\\U0001f926-\\U0001f937\"\n",
        "        u'\\U00010000-\\U0010ffff'\n",
        "        u\"\\u200d\"\n",
        "        u\"\\u2640-\\u2642\"\n",
        "        u\"\\u2600-\\u2B55\"\n",
        "        u\"\\u23cf\"\n",
        "        u\"\\u23e9\"\n",
        "        u\"\\u231a\"\n",
        "        u\"\\u3030\"\n",
        "        u\"\\ufe0f\"\n",
        "        u\"\\u2069\"\n",
        "        u\"\\u2066\"\n",
        "        # u\"\\u200c\"\n",
        "        u\"\\u2068\"\n",
        "        u\"\\u2067\"\n",
        "        \"]+\", flags=re.UNICODE)\n",
        "\n",
        "    text = wierd_pattern.sub(r'', text)\n",
        "\n",
        "    # removing extra spaces, hashtags\n",
        "    text = re.sub(\"#\", \"\", text)\n",
        "    text = re.sub(\"\\s+\", \" \", text)\n",
        "\n",
        "    return text"
      ],
      "metadata": {
        "id": "Qh8BEPeFNwKw"
      },
      "execution_count": 12,
      "outputs": []
    },
    {
      "cell_type": "markdown",
      "source": [
        "**Normalize** and clean textS"
      ],
      "metadata": {
        "id": "ODxdtlXJLFxi"
      }
    },
    {
      "cell_type": "code",
      "source": [
        "tqdm.pandas()\n",
        "\n",
        "base_data['clean_message'] = base_data['message'].progress_apply(cleaning)\n",
        "base_data['cleaned_text_len_by_words'] = base_data['clean_message'].progress_apply(lambda t: len(hazm.word_tokenize(t)))"
      ],
      "metadata": {
        "id": "imVj5GndNwEv",
        "colab": {
          "base_uri": "https://localhost:8080/"
        },
        "outputId": "18f9ec1b-56f1-426f-e916-4b505f95f3cb"
      },
      "execution_count": null,
      "outputs": [
        {
          "output_type": "stream",
          "name": "stderr",
          "text": [
            " 83%|████████▎ | 1053/1262 [40:16<08:35,  2.47s/it]"
          ]
        }
      ]
    },
    {
      "cell_type": "code",
      "source": [
        "# base_data_fa = base_data.dropna(subset=['cleaned_farsi_text_len_by_words'])\n",
        "base_data_fa = base_data.reset_index(drop=True)"
      ],
      "metadata": {
        "id": "8Jr3mCh1Nv6w"
      },
      "execution_count": null,
      "outputs": []
    },
    {
      "cell_type": "code",
      "source": [
        "base_data_fa.head()"
      ],
      "metadata": {
        "id": "pdZLUN6-OT_f"
      },
      "execution_count": null,
      "outputs": []
    },
    {
      "cell_type": "code",
      "source": [
        "base_data_fa.to_csv(\"/content/drive/MyDrive/generalize-v2.csv\")"
      ],
      "metadata": {
        "id": "0AuDe-0PP6l7"
      },
      "execution_count": null,
      "outputs": []
    },
    {
      "cell_type": "code",
      "source": [
        "data_counts=base_data_fa['label'].value_counts()\n",
        "data_counts"
      ],
      "metadata": {
        "id": "-3_fKHWDP5mq"
      },
      "execution_count": null,
      "outputs": []
    },
    {
      "cell_type": "markdown",
      "source": [
        "Define a regex pattern that matches anything that is not a Persian letter, English letter, or space\n"
      ],
      "metadata": {
        "id": "CPO78KHMJQIZ"
      }
    },
    {
      "cell_type": "code",
      "source": [
        "temp_data=base_data_fa\n",
        "pattern = r'[^a-zA-Z\\u0600-\\u06FF\\s]'\n",
        "temp_data['clean_message_more'] = temp_data['clean_message'].str.replace(pattern, \" \")\n",
        "temp_data"
      ],
      "metadata": {
        "id": "GXExW0DZE76Q"
      },
      "execution_count": null,
      "outputs": []
    },
    {
      "cell_type": "code",
      "source": [
        "temp_data.head()"
      ],
      "metadata": {
        "id": "QsTObxxtKk82"
      },
      "execution_count": null,
      "outputs": []
    },
    {
      "cell_type": "markdown",
      "source": [
        "Tokenize texts"
      ],
      "metadata": {
        "id": "aoJStq5KJzft"
      }
    },
    {
      "cell_type": "code",
      "source": [
        "temp_data['clean_tokenize_message']=temp_data['clean_message_more'].apply(lambda message : hazm.word_tokenize(message))\n",
        "temp_data"
      ],
      "metadata": {
        "id": "lUIpA3BuJnj_"
      },
      "execution_count": null,
      "outputs": []
    },
    {
      "cell_type": "code",
      "source": [
        "temp_data.head()"
      ],
      "metadata": {
        "id": "vqnL9QZnKrij"
      },
      "execution_count": null,
      "outputs": []
    },
    {
      "cell_type": "markdown",
      "source": [
        "use Stemmer on message"
      ],
      "metadata": {
        "id": "MxLGGaXBK5oc"
      }
    },
    {
      "cell_type": "code",
      "source": [
        "stemmer=hazm.Stemmer()\n",
        "temp_data['clean_tokenize_message']=temp_data['clean_tokenize_message'].apply(lambda message : stemmer(message))\n",
        "temp_data"
      ],
      "metadata": {
        "id": "Eef1iZzDLpmU"
      },
      "execution_count": null,
      "outputs": []
    },
    {
      "cell_type": "code",
      "source": [
        "temp_data.head()"
      ],
      "metadata": {
        "id": "xm9Vx0iGLpVg"
      },
      "execution_count": null,
      "outputs": []
    },
    {
      "cell_type": "markdown",
      "source": [
        "now attach tokens together again"
      ],
      "metadata": {
        "id": "1k71FVRvMMlS"
      }
    },
    {
      "cell_type": "code",
      "source": [
        "temp_data['clean_tokenize_message']=temp_data['clean_tokenize_message'].apply(lambda words_t : ' '.join([word for word in words_t]))\n",
        "temp_data"
      ],
      "metadata": {
        "id": "RXLTw0qEMQrS"
      },
      "execution_count": null,
      "outputs": []
    },
    {
      "cell_type": "code",
      "source": [
        "temp_data.head()"
      ],
      "metadata": {
        "id": "ByLc58PRM_u7"
      },
      "execution_count": null,
      "outputs": []
    },
    {
      "cell_type": "markdown",
      "source": [
        "#process dataset"
      ],
      "metadata": {
        "id": "ru_FxqEJSyh6"
      }
    },
    {
      "cell_type": "code",
      "source": [
        "base_data_fa['num_words']=base_data_fa['message'].str.len()\n",
        "fig=plt.figure(figsize=(8,8))\n",
        "sns.set_style('dark')  # Options: 'white', 'dark', 'whitegrid', 'darkgrid', 'ticks'\n",
        "\n",
        "sns.displot(base_data_fa['num_words'], color='dodgerblue')\n",
        "plt.title('number of words(token) in each message')\n",
        "\n",
        "plt.grid(True, linestyle='--', alpha=0.7)\n",
        "plt.show()"
      ],
      "metadata": {
        "colab": {
          "base_uri": "https://localhost:8080/",
          "height": 546
        },
        "id": "J3_hKDpNS36v",
        "outputId": "12145ea3-d191-41d2-e163-31226e0e9bb9"
      },
      "execution_count": 18,
      "outputs": [
        {
          "output_type": "display_data",
          "data": {
            "text/plain": [
              "<Figure size 800x800 with 0 Axes>"
            ]
          },
          "metadata": {}
        },
        {
          "output_type": "display_data",
          "data": {
            "text/plain": [
              "<Figure size 500x500 with 1 Axes>"
            ],
            "image/png": "[encoded data removed]"
          },
          "metadata": {}
        }
      ]
    },
    {
      "cell_type": "code",
      "source": [
        "big_len=base_data_fa['message'].where(base_data_fa['message'].str.len()>350)\n",
        "big_len"
      ],
      "metadata": {
        "colab": {
          "base_uri": "https://localhost:8080/",
          "height": 458
        },
        "id": "xr3WyBCPZ5e9",
        "outputId": "dd4af191-26d9-4e97-a2d8-43f167315432"
      },
      "execution_count": 21,
      "outputs": [
        {
          "output_type": "execute_result",
          "data": {
            "text/plain": [
              "0       False\n",
              "1       False\n",
              "2       False\n",
              "3       False\n",
              "4       False\n",
              "        ...  \n",
              "1257    False\n",
              "1258    False\n",
              "1259    False\n",
              "1260    False\n",
              "1261    False\n",
              "Name: message, Length: 1262, dtype: bool"
            ],
            "text/html": [
              "<div>\n",
              "<style scoped>\n",
              "    .dataframe tbody tr th:only-of-type {\n",
              "        vertical-align: middle;\n",
              "    }\n",
              "\n",
              "    .dataframe tbody tr th {\n",
              "        vertical-align: top;\n",
              "    }\n",
              "\n",
              "    .dataframe thead th {\n",
              "        text-align: right;\n",
              "    }\n",
              "</style>\n",
              "<table border=\"1\" class=\"dataframe\">\n",
              "  <thead>\n",
              "    <tr style=\"text-align: right;\">\n",
              "      <th></th>\n",
              "      <th>message</th>\n",
              "    </tr>\n",
              "  </thead>\n",
              "  <tbody>\n",
              "    <tr>\n",
              "      <th>0</th>\n",
              "      <td>False</td>\n",
              "    </tr>\n",
              "    <tr>\n",
              "      <th>1</th>\n",
              "      <td>False</td>\n",
              "    </tr>\n",
              "    <tr>\n",
              "      <th>2</th>\n",
              "      <td>False</td>\n",
              "    </tr>\n",
              "    <tr>\n",
              "      <th>3</th>\n",
              "      <td>False</td>\n",
              "    </tr>\n",
              "    <tr>\n",
              "      <th>4</th>\n",
              "      <td>False</td>\n",
              "    </tr>\n",
              "    <tr>\n",
              "      <th>...</th>\n",
              "      <td>...</td>\n",
              "    </tr>\n",
              "    <tr>\n",
              "      <th>1257</th>\n",
              "      <td>False</td>\n",
              "    </tr>\n",
              "    <tr>\n",
              "      <th>1258</th>\n",
              "      <td>False</td>\n",
              "    </tr>\n",
              "    <tr>\n",
              "      <th>1259</th>\n",
              "      <td>False</td>\n",
              "    </tr>\n",
              "    <tr>\n",
              "      <th>1260</th>\n",
              "      <td>False</td>\n",
              "    </tr>\n",
              "    <tr>\n",
              "      <th>1261</th>\n",
              "      <td>False</td>\n",
              "    </tr>\n",
              "  </tbody>\n",
              "</table>\n",
              "<p>1262 rows × 1 columns</p>\n",
              "</div><br><label><b>dtype:</b> bool</label>"
            ]
          },
          "metadata": {},
          "execution_count": 21
        }
      ]
    },
    {
      "cell_type": "markdown",
      "source": [
        "#Train Model"
      ],
      "metadata": {
        "id": "qqbDDo-mQYmN"
      }
    },
    {
      "cell_type": "code",
      "source": [
        "#update label column name\n",
        "label_columns = ['related', 'not-related']\n",
        "\n",
        "y = base_data_fa[label_columns].values\n",
        "\n",
        "mskf = MultilabelStratifiedKFold(n_splits=5, shuffle=True, random_state=1)\n",
        "train_indices, valid_indices = next(mskf.split(base_data_fa, y))\n",
        "\n",
        "train = base_data_fa.iloc[train_indices].reset_index(drop=True)\n",
        "valid = base_data_fa.iloc[valid_indices].reset_index(drop=True)\n",
        "\n",
        "x_train, y_train = train['clean_text'].values.tolist(), train[label_columns].values.tolist()\n",
        "x_valid, y_valid = valid['clean_text'].values.tolist(), valid[label_columns].values.tolist()\n",
        "\n",
        "y_train_df = pd.DataFrame(y_train, columns=label_columns)\n",
        "\n",
        "label_distribution = y_train_df.apply(pd.Series.value_counts).T.fillna(0).astype(int)\n",
        "label_distribution.columns = ['count_0', 'count_1']\n",
        "print(label_distribution)"
      ],
      "metadata": {
        "id": "fH5OQp7fQX2-"
      },
      "execution_count": null,
      "outputs": []
    },
    {
      "cell_type": "code",
      "source": [
        "y_valid_df = pd.DataFrame(y_valid, columns=label_columns)\n",
        "label_distribution_valid = y_valid_df.apply(pd.Series.value_counts).T.fillna(0).astype(int)\n",
        "label_distribution_valid.columns = ['count_0', 'count_1']\n",
        "\n",
        "print(label_distribution_valid)"
      ],
      "metadata": {
        "id": "HNi1LVLfUnSo"
      },
      "execution_count": null,
      "outputs": []
    },
    {
      "cell_type": "code",
      "source": [
        "len(x_train)"
      ],
      "metadata": {
        "id": "Cp6BK0OkUts6"
      },
      "execution_count": null,
      "outputs": []
    },
    {
      "cell_type": "code",
      "source": [
        "class Dataset(torch.utils.data.Dataset):\n",
        "    def __init__(self, encodings, labels):\n",
        "        self.encodings = encodings\n",
        "        self.labels = labels\n",
        "\n",
        "    def __getitem__(self, idx):\n",
        "        item = {key: torch.tensor(val[idx]) for key, val in self.encodings.items()}\n",
        "        item['labels'] = torch.tensor(self.labels[idx], dtype=torch.float)  # Ensure labels are float tensors\n",
        "        return item\n",
        "\n",
        "    def __len__(self):\n",
        "        return len(self.labels)"
      ],
      "metadata": {
        "id": "vlGl4XNlVpXk"
      },
      "execution_count": null,
      "outputs": []
    },
    {
      "cell_type": "code",
      "source": [
        "def build_dataset(x_train,y_train,x_valid,y_valid,MAX_LENGTH):\n",
        "  train_encodings = tokenizer(x_train, truncation=True, padding=\"max_length\", max_length=MAX_LENGTH)\n",
        "  valid_encodings = tokenizer(x_valid, truncation=True, padding=\"max_length\", max_length=MAX_LENGTH)\n",
        "  train_dataset = Dataset(train_encodings, y_train)\n",
        "  valid_dataset = Dataset(valid_encodings, y_valid)\n",
        "  return train_dataset,valid_dataset\n",
        "\n",
        "def train_arg():\n",
        "    training_args = TrainingArguments(\n",
        "    output_dir=\"./output/best-model-v1\",\n",
        "    report_to=None,\n",
        "    num_train_epochs=3,\n",
        "    per_device_train_batch_size=8,\n",
        "    per_device_eval_batch_size=16,\n",
        "    learning_rate=2e-5,\n",
        "    weight_decay=0.01,\n",
        "    evaluation_strategy=\"steps\",\n",
        "    save_total_limit=1,\n",
        "    logging_strategy=\"epoch\",\n",
        "    load_best_model_at_end=True,\n",
        "  )\n",
        "    return training_args"
      ],
      "metadata": {
        "id": "mbevyom6dHXX"
      },
      "execution_count": null,
      "outputs": []
    },
    {
      "cell_type": "code",
      "source": [
        "def evaluate_func(trainer):\n",
        "  trainer.evaluate()\n",
        "  # Get predictions from the model\n",
        "  predictions = trainer.predict(valid_dataset)\n",
        "  predicted_logits = predictions.predictions\n",
        "  # Apply sigmoid to get probabilities\n",
        "  predicted_probabilities = expit(predicted_logits)  # Apply sigmoid to the logits\n",
        "  # Apply threshold to get binary predictions\n",
        "  threshold = 0.5\n",
        "  predicted_classes = (predicted_probabilities >= threshold).astype(int)\n",
        "  precision, recall, f1, _ = precision_recall_fscore_support(y_valid, predicted_classes, average=None)\n",
        "  accuracy = accuracy_score(y_valid, predicted_classes)\n",
        "  return precision, recall, f1,accuracy"
      ],
      "metadata": {
        "id": "RM72jlbufAuP"
      },
      "execution_count": null,
      "outputs": []
    },
    {
      "cell_type": "code",
      "source": [
        "MAX_LENGTH = 256\n",
        "\n",
        "metrics_df = pd.DataFrame(columns=[\"Models_name\", \"Precision\", \"Recall\", \"F1_score\", \"Accuracy\"])\n",
        "\n",
        "confusion_matrices = []"
      ],
      "metadata": {
        "id": "ZgGjLz5eh1ce"
      },
      "execution_count": null,
      "outputs": []
    },
    {
      "cell_type": "code",
      "source": [
        "\n",
        "for i in range(models_list):\n",
        "  tokenizer = AutoTokenizer.from_pretrained(i)\n",
        "  model = AutoModelForSequenceClassification.from_pretrained(i, num_labels=2, ignore_mismatched_sizes=True)\n",
        "  training_args = train_arg()\n",
        "  train_dataset,valid_dataset=build_dataset(x_train,y_train,x_valid,y_valid,MAX_LENGTH)\n",
        "  trainer = Trainer(\n",
        "      model=model,\n",
        "      args=training_args,\n",
        "      train_dataset=train_dataset,\n",
        "      eval_dataset=valid_dataset,\n",
        "  )\n",
        "  trainer.train()\n",
        "  precision, recall, f1,accuracy=evaluate_func(trainer)\n",
        "  new_data = pd.DataFrame\n",
        "   ({\n",
        "    \"Models_name\": [models_name[i]],\n",
        "    \"Precision\": [precision],\n",
        "    \"Recall\": [recall],\n",
        "    \"F1_score\": [f1],\n",
        "    \"Accuracy\": [accuracy]\n",
        "  })\n",
        "\n",
        "  metrics_df = pd.concat([metrics_df, new_data], ignore_index=True)\n",
        "\n",
        "  model_confusion_matrices = []\n",
        "  predicted_classes = trainer.predict(valid_dataset).predictions\n",
        "  predicted_classes = (expit(predicted_classes) >= 0.5).astype(int)\n",
        "  for j in range(len(label_columns)):\n",
        "      cm = confusion_matrix(y_valid[:, j], predicted_classes[:, j])\n",
        "      model_confusion_matrices.append(cm)\n",
        "\n",
        "  confusion_matrices.append(model_confusion_matrices)\n",
        "\n",
        "\n",
        "  print(f\"{models_name[i]} evaluates:\")\n",
        "  for i, label in enumerate(label_columns):\n",
        "    print(f\"Class '{label}': Precision: {precision[i]:.4f}, Recall: {recall[i]:.4f}, F1: {f1[i]:.4f}\")\n",
        "  print(f\"Overall accuracy: {accuracy:.4f}\")\n",
        "  print(\"-------------------------------------------------------------------------\\n\")"
      ],
      "metadata": {
        "id": "Oe_B85L7WdS6"
      },
      "execution_count": null,
      "outputs": []
    },
    {
      "cell_type": "markdown",
      "source": [
        "#Show confusion matrix"
      ],
      "metadata": {
        "id": "hvlSH3KTo2rh"
      }
    },
    {
      "cell_type": "code",
      "source": [
        "for model_idx, model_cms in enumerate(confusion_matrices):\n",
        "    for label_idx, cm in enumerate(model_cms):\n",
        "        plt.figure(figsize=(8, 6))\n",
        "        sns.heatmap(cm, annot=True, fmt='d', cmap='Blues', xticklabels=['0', '1'], yticklabels=['0', '1'])\n",
        "        plt.title(f'Confusion Matrix for Model {models_name[model_idx]} - Class {label_columns[label_idx]}')\n",
        "        plt.xlabel('Predicted Labels')\n",
        "        plt.ylabel('True Labels')\n",
        "        plt.show()"
      ],
      "metadata": {
        "id": "jqx3nfJQo13F"
      },
      "execution_count": null,
      "outputs": []
    }
  ]
}